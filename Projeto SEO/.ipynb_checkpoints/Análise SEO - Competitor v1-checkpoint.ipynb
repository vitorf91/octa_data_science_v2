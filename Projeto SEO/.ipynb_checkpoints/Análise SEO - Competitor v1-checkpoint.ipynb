{
 "cells": [
  {
   "cell_type": "markdown",
   "metadata": {},
   "source": [
    "# O dataset"
   ]
  },
  {
   "cell_type": "markdown",
   "metadata": {},
   "source": [
    "O projeto consiste em analisar as keywords dos concorrentes afim de encontrar um gap entre posicionamento e performance. Assim, podemos traçar uma estratégia que envolve preenchimento de buracos e posicionamento nas keywords que façam sentido para Octadesk e que não há uma concorrência forte.\n",
    "\n",
    "A ideia inicial é dividir os datasets em:\n",
    "\n",
    "- Posição 1-3 (desejável)\n",
    "- Posição 4-10 (primeira página)\n",
    "- Posição < 10 (ruim)\n",
    "\n",
    "Dessa maneira, é possível criarmos 2 modelos onde temos a possibilidade de entender qual o número de backlinks, links internos e outras variáveis que acreditamos ser importante para rankear de acordo com a estratégia.\n",
    "\n",
    "De início, será desenvolvido um modelo preditivo para rankeamento **desejável** e assim, focar nas palavras que já trabalhamos e nas palavras que os concorrentes estão no nível 3 (posicionamento ruim).\n",
    "\n",
    "Última atualização: 19/12/2017"
   ]
  },
  {
   "cell_type": "markdown",
   "metadata": {},
   "source": [
    "## Importando as libs"
   ]
  },
  {
   "cell_type": "code",
   "execution_count": 1,
   "metadata": {
    "collapsed": true
   },
   "outputs": [],
   "source": [
    "import pandas as pd\n",
    "import numpy as np\n",
    "import re\n",
    "import tldextract\n",
    "import matplotlib as mpl\n",
    "import matplotlib.pyplot as plt\n",
    "import seaborn as sns\n",
    "from sklearn.preprocessing import StandardScaler\n",
    "%matplotlib inline"
   ]
  },
  {
   "cell_type": "markdown",
   "metadata": {},
   "source": [
    "### Processamento dos dados\n",
    "\n",
    "Vamos utilizar os seguintes concorrentes:\n",
    "\n",
    "- Zendesk\n",
    "- Freshdesk\n",
    "- Acelerato\n",
    "- Tomticket\n",
    "- Neoassist\n",
    "\n",
    "Caso haja necessidade, iremos mapear outros concorrentes para aumento da base e ter um estudo mais assertivo."
   ]
  },
  {
   "cell_type": "markdown",
   "metadata": {},
   "source": [
    "### Acelerato"
   ]
  },
  {
   "cell_type": "code",
   "execution_count": 2,
   "metadata": {
    "collapsed": true
   },
   "outputs": [],
   "source": [
    "##### Keyword dataset\n",
    "\n",
    "kw_acelerato = pd.read_csv('data/acelerato/acelerato.com-organic_kw.csv', sep=',')\n",
    "\n",
    "kw_acelerato = kw_acelerato.drop(['Previous Position', 'Traffic (%)', 'Traffic Cost (%)', \\\n",
    "                                  'Number of Results', 'Trends', 'Timestamp'], axis=1)\n",
    "\n",
    "kw_acelerato = kw_acelerato.rename(index=str, columns={'Search Volume':'volume', \\\n",
    "                                                        'Keyword Difficulty Index': 'difficulty',\\\n",
    "                                                          'Keyword':'keyword'})"
   ]
  },
  {
   "cell_type": "code",
   "execution_count": 3,
   "metadata": {
    "collapsed": true
   },
   "outputs": [],
   "source": [
    "##### backlinks dataset\n",
    "\n",
    "backlinks_acelerato = pd.read_csv('data/acelerato/acelerato.com-backlinks.csv', sep=',')\n",
    "\n",
    "backlinks_acelerato = backlinks_acelerato.drop(['First seen', 'Last seen', 'New link', \\\n",
    "                                                'Lost link', 'External links', \\\n",
    "                                                'Internal links'], axis=1)\n",
    "\n",
    "backlinks_acelerato = backlinks_acelerato.rename(index=str, columns={'Target url': 'Url', \\\n",
    "                                                                     'Source url': 'url_backlink',\\\n",
    "                                                                     'Source title': 'backlink_title', \\\n",
    "                                                                    'Page score': 'url_score', \\\n",
    "                                                                    'Page trust score': 'url_trust'})\n",
    "\n",
    "backlinks_acelerato['Nofollow'] = np.where(backlinks_acelerato['Nofollow'] == False, 0, 1)\n",
    "backlinks_acelerato['Text'] = np.where(backlinks_acelerato['Text'] == False, 0, 1)\n",
    "backlinks_acelerato['Frame'] = np.where(backlinks_acelerato['Frame'] == False, 0, 1)\n",
    "backlinks_acelerato['Form'] = np.where(backlinks_acelerato['Form'] == False, 0, 1)\n",
    "backlinks_acelerato['Image'] = np.where(backlinks_acelerato['Image'] == False, 0, 1)\n",
    "backlinks_acelerato['Sitewide'] = np.where(backlinks_acelerato['Sitewide'] == False, 0, 1)\n",
    "\n",
    "backlinks_acelerato['backlink_domain'] = backlinks_acelerato['url_backlink'].str.split('www.').str[1]\n",
    "backlinks_acelerato['backlink_domain'] = backlinks_acelerato['backlink_domain'].str.split('/').str[0]"
   ]
  },
  {
   "cell_type": "code",
   "execution_count": 4,
   "metadata": {
    "collapsed": true
   },
   "outputs": [],
   "source": [
    "##### backlink_pages dataset\n",
    "\n",
    "bl_pages_acelerato = pd.read_csv('data/acelerato/acelerato.com-backlinks_pages.csv', sep=',')\n",
    "\n",
    "bl_pages_acelerato = bl_pages_acelerato.drop(['Response code', 'Last seen', 'External links','Internal links'], axis=1)\n",
    "\n",
    "bl_pages_acelerato = bl_pages_acelerato.rename(index=str, columns={'Source url':'Url', 'Source title': 'title', \\\n",
    "                                                                  })"
   ]
  },
  {
   "cell_type": "code",
   "execution_count": 5,
   "metadata": {
    "collapsed": true
   },
   "outputs": [],
   "source": [
    "##### ref dataset\n",
    "\n",
    "ref_acelerato = pd.read_csv('data/acelerato/acelerato.com-backlinks_refdomains.csv', sep=',')\n",
    "\n",
    "ref_acelerato = ref_acelerato.drop(['IP Address', 'Last seen', 'First seen', 'Backlinks'], axis=1)\n",
    "\n",
    "ref_acelerato = ref_acelerato.rename(index=str, columns={'Domain score':'backlink_score', \\\n",
    "                                                         'Domain trust score': 'backlink_trust', \\\n",
    "                                                         'Domain': 'backlink_domain', \\\n",
    "                                                         'Country': 'country'})"
   ]
  },
  {
   "cell_type": "code",
   "execution_count": 6,
   "metadata": {
    "collapsed": true
   },
   "outputs": [],
   "source": [
    "##### Screaming frog dataset\n",
    "\n",
    "frog_acelerato = pd.read_csv('data/acelerato/acelerato.com-frog.csv', sep=',', skiprows=1)\n",
    "\n",
    "frog_acelerato = frog_acelerato.drop(['Status Code', 'Status', \\\n",
    "                                      'Title 1 Pixel Width', 'Meta Description 1 Pixel Width',\\\n",
    "                                      'Meta Keyword 1', 'Meta Keywords 1 Length',\\\n",
    "                                      'H2-1', 'H2-1 length', 'H2-2', 'H2-2 length', \\\n",
    "                                      'Meta Robots 1', 'Meta Refresh 1', 'Canonical Link Element 1',\\\n",
    "                                      'Crawl Depth', 'Unique Inlinks', '% of Total',\\\n",
    "                                      'Unique Outlinks',\\\n",
    "                                      'Unique External Outlinks', 'Hash', \\\n",
    "                                      'Response Time', 'Last Modified',\n",
    "                                      'Redirect URI', 'Redirect Type', \\\n",
    "                                      'URL Encoded Address', 'Content', 'Title 1', 'Meta Description 1', 'H1-1'], axis=1)\n",
    "\n",
    "frog_acelerato = frog_acelerato.rename(index=str, columns={'Address':'Url', \\\n",
    "                                                        'Title 1 Length': 'length_title', \\\n",
    "                                                        'Meta Description 1 Length': 'length_description',\\\n",
    "                                                        'H1-1 length': 'length_headline', \\\n",
    "                                                        'Word Count': 'word_count', \\\n",
    "                                                        'Text Ratio': 'text_ratio', \\\n",
    "                                                        'External Outlinks': 'external_outlinks'})"
   ]
  },
  {
   "cell_type": "code",
   "execution_count": 7,
   "metadata": {
    "collapsed": true
   },
   "outputs": [],
   "source": [
    "##### final dataset\n",
    "\n",
    "acelerato = kw_acelerato\n",
    "\n",
    "acelerato2 = acelerato.merge(bl_pages_acelerato, on='Url', how='left')\n",
    "\n",
    "acelerato3 = acelerato2.merge(frog_acelerato, on=\"Url\", how='left')\n",
    "\n",
    "backlinks_acelerato_final = backlinks_acelerato.merge(ref_acelerato, on='backlink_domain', how='left')\n",
    "\n",
    "backlinks_acelerato_final['avg_backlink_score'] = backlinks_acelerato_final.groupby('Url')['backlink_score'].transform('mean')\n",
    "backlinks_acelerato_final['avg_backlink_trust'] = backlinks_acelerato_final.groupby('Url')['backlink_trust'].transform('mean')\n",
    "\n",
    "backlinks_acelerato_final2 = backlinks_acelerato_final.copy()\n",
    "\n",
    "backlinks_acelerato_final2 = backlinks_acelerato_final2.drop(['backlink_title', 'url_backlink', 'Anchor', 'backlink_domain', 'country', 'backlink_score', 'backlink_trust'], axis=1)\n",
    "\n",
    "acelerato_final = acelerato3.merge(backlinks_acelerato_final2, on='Url', how='left')\n",
    "\n",
    "acelerato_final = acelerato_final.drop_duplicates(['keyword', 'Url'])"
   ]
  },
  {
   "cell_type": "code",
   "execution_count": 8,
   "metadata": {
    "collapsed": true
   },
   "outputs": [],
   "source": [
    "acelerato_final['competitor'] = 'acelerato'"
   ]
  },
  {
   "cell_type": "code",
   "execution_count": 9,
   "metadata": {},
   "outputs": [
    {
     "data": {
      "text/plain": [
       "(2069, 30)"
      ]
     },
     "execution_count": 9,
     "metadata": {},
     "output_type": "execute_result"
    }
   ],
   "source": [
    "acelerato_final.shape"
   ]
  },
  {
   "cell_type": "markdown",
   "metadata": {},
   "source": [
    "### Zendesk"
   ]
  },
  {
   "cell_type": "code",
   "execution_count": 10,
   "metadata": {},
   "outputs": [
    {
     "data": {
      "text/plain": [
       "(2934, 7)"
      ]
     },
     "execution_count": 10,
     "metadata": {},
     "output_type": "execute_result"
    }
   ],
   "source": [
    "##### Keyword dataset\n",
    "\n",
    "kw_zendesk = pd.read_csv('data/zendesk/zendesk.com.br-organic_kw.csv', sep=',')\n",
    "\n",
    "kw_zendesk = kw_zendesk.drop(['Previous Position', 'Traffic (%)', 'Traffic Cost (%)', \\\n",
    "                                  'Number of Results', 'Trends', 'Timestamp'], axis=1)\n",
    "\n",
    "kw_zendesk = kw_zendesk.rename(index=str, columns={'Search Volume':'volume', \\\n",
    "                                                        'Keyword Difficulty Index': 'difficulty',\\\n",
    "                                                         'Keyword':'keyword'})\n",
    "kw_zendesk.shape"
   ]
  },
  {
   "cell_type": "code",
   "execution_count": 11,
   "metadata": {
    "collapsed": true
   },
   "outputs": [],
   "source": [
    "##### backlinks dataset\n",
    "\n",
    "backlinks_zendesk = pd.read_csv('data/zendesk/zendesk.com.br-backlinks.csv', sep=',')\n",
    "\n",
    "backlinks_zendesk = backlinks_zendesk.drop(['First seen', 'Last seen', 'New link', \\\n",
    "                                                'Lost link', 'External links', \\\n",
    "                                                'Internal links'], axis=1)\n",
    "\n",
    "backlinks_zendesk = backlinks_zendesk.rename(index=str, columns={'Target url': 'Url', \\\n",
    "                                                                     'Source url': 'url_backlink',\\\n",
    "                                                                     'Source title': 'backlink_title', \\\n",
    "                                                                    'Page score': 'url_score', \\\n",
    "                                                                    'Page trust score': 'url_trust'})\n",
    "\n",
    "backlinks_zendesk['Nofollow'] = np.where(backlinks_zendesk['Nofollow'] == False, 0, 1)\n",
    "backlinks_zendesk['Text'] = np.where(backlinks_zendesk['Text'] == False, 0, 1)\n",
    "backlinks_zendesk['Frame'] = np.where(backlinks_zendesk['Frame'] == False, 0, 1)\n",
    "backlinks_zendesk['Form'] = np.where(backlinks_zendesk['Form'] == False, 0, 1)\n",
    "backlinks_zendesk['Image'] = np.where(backlinks_zendesk['Image'] == False, 0, 1)\n",
    "backlinks_zendesk['Sitewide'] = np.where(backlinks_zendesk['Sitewide'] == False, 0, 1)\n",
    "\n",
    "backlinks_zendesk['backlink_domain'] = backlinks_zendesk['url_backlink'].str.split('www.').str[1]\n",
    "backlinks_zendesk['backlink_domain'] = backlinks_zendesk['backlink_domain'].str.split('/').str[0]"
   ]
  },
  {
   "cell_type": "code",
   "execution_count": 12,
   "metadata": {
    "collapsed": true
   },
   "outputs": [],
   "source": [
    "##### backlink_pages dataset\n",
    "\n",
    "bl_pages_zendesk = pd.read_csv('data/zendesk/zendesk.com.br-backlinks_pages.csv', sep=',')\n",
    "\n",
    "bl_pages_zendesk = bl_pages_zendesk.drop(['Response code', 'Last seen', 'External links', 'Internal links'], axis=1)\n",
    "\n",
    "bl_pages_zendesk = bl_pages_zendesk.rename(index=str, columns={'Source url':'Url', 'Source title': 'title'})"
   ]
  },
  {
   "cell_type": "code",
   "execution_count": 13,
   "metadata": {
    "collapsed": true
   },
   "outputs": [],
   "source": [
    "##### ref dataset\n",
    "\n",
    "ref_zendesk = pd.read_csv('data/zendesk/zendesk.com.br-backlinks_refdomains.csv', sep=',')\n",
    "\n",
    "ref_zendesk = ref_zendesk.drop(['IP Address', 'Last seen', 'First seen', 'Backlinks'], axis=1)\n",
    "\n",
    "ref_zendesk = ref_zendesk.rename(index=str, columns={'Domain score':'backlink_score', \\\n",
    "                                                         'Domain trust score': 'backlink_trust', \\\n",
    "                                                         'Domain': 'backlink_domain', \\\n",
    "                                                         'Country': 'country'})"
   ]
  },
  {
   "cell_type": "code",
   "execution_count": 14,
   "metadata": {
    "collapsed": true
   },
   "outputs": [],
   "source": [
    "##### Screaming frog dataset\n",
    "\n",
    "frog_zendesk = pd.read_csv('data/zendesk/zendesk.com.br-frog.csv', sep=',', skiprows=1)\n",
    "\n",
    "frog_zendesk = frog_zendesk.drop(['Status Code', 'Status', \\\n",
    "                                      'Title 1 Pixel Width', 'Meta Description 1 Pixel Width',\\\n",
    "                                      'Meta Keyword 1', 'Meta Keywords 1 Length',\\\n",
    "                                      'H2-1', 'H2-1 length', 'H2-2', 'H2-2 length', \\\n",
    "                                      'Meta Robots 1', 'Meta Refresh 1', 'Canonical Link Element 1',\\\n",
    "                                      'Crawl Depth', 'Unique Inlinks', '% of Total',\\\n",
    "                                      'Unique Outlinks',\\\n",
    "                                      'Unique External Outlinks', 'Hash', \\\n",
    "                                      'Response Time', 'Last Modified',\n",
    "                                      'Redirect URI', 'Redirect Type', \\\n",
    "                                      'URL Encoded Address', 'Content', 'Title 1', 'Meta Description 1', 'H1-1', 'H1-2', 'H1-2 length'], axis=1)\n",
    "\n",
    "frog_zendesk = frog_zendesk.rename(index=str, columns={'Address':'Url', \\\n",
    "                                                        'Title 1 Length': 'length_title', \\\n",
    "                                                        'Meta Description 1 Length': 'length_description',\\\n",
    "                                                        'H1-1 length': 'length_headline', \\\n",
    "                                                        'Word Count': 'word_count', \\\n",
    "                                                        'Text Ratio': 'text_ratio',\n",
    "                                                        'External Outlinks': 'external_outlinks'})"
   ]
  },
  {
   "cell_type": "code",
   "execution_count": 15,
   "metadata": {
    "collapsed": true
   },
   "outputs": [],
   "source": [
    "##### final dataset\n",
    "\n",
    "zendesk = kw_zendesk.copy()\n",
    "\n",
    "zendesk2 = zendesk.merge(bl_pages_zendesk, on='Url', how='left')\n",
    "\n",
    "zendesk3 = zendesk2.merge(frog_zendesk, on=\"Url\", how='left')\n",
    "\n",
    "backlinks_zendesk_final = backlinks_zendesk.merge(ref_zendesk, on='backlink_domain', how='left')\n",
    "\n",
    "backlinks_zendesk_final['avg_backlink_score'] = backlinks_zendesk_final.groupby('Url')['backlink_score'].transform('mean')\n",
    "backlinks_zendesk_final['avg_backlink_trust'] = backlinks_zendesk_final.groupby('Url')['backlink_trust'].transform('mean')\n",
    "\n",
    "backlinks_zendesk_final2 = backlinks_zendesk_final.copy()\n",
    "\n",
    "backlinks_zendesk_final2 = backlinks_zendesk_final2.drop(['backlink_title', 'url_backlink', \\\n",
    "                                                          'Anchor', 'backlink_domain', 'country', \\\n",
    "                                                          'backlink_score', 'backlink_trust'], axis=1)\n",
    "\n",
    "zendesk_final = zendesk3.merge(backlinks_zendesk_final2, on='Url', how='left')\n"
   ]
  },
  {
   "cell_type": "code",
   "execution_count": 16,
   "metadata": {
    "collapsed": true
   },
   "outputs": [],
   "source": [
    "zendesk_final = zendesk_final.drop_duplicates(['keyword', 'Url'])"
   ]
  },
  {
   "cell_type": "code",
   "execution_count": 17,
   "metadata": {
    "collapsed": true
   },
   "outputs": [],
   "source": [
    "zendesk_final['competitor'] = 'zendesk'"
   ]
  },
  {
   "cell_type": "code",
   "execution_count": 18,
   "metadata": {},
   "outputs": [
    {
     "data": {
      "text/plain": [
       "(2934, 30)"
      ]
     },
     "execution_count": 18,
     "metadata": {},
     "output_type": "execute_result"
    }
   ],
   "source": [
    "zendesk_final.shape"
   ]
  },
  {
   "cell_type": "markdown",
   "metadata": {},
   "source": [
    "### Neoassist\n"
   ]
  },
  {
   "cell_type": "code",
   "execution_count": 19,
   "metadata": {},
   "outputs": [
    {
     "data": {
      "text/plain": [
       "(2697, 7)"
      ]
     },
     "execution_count": 19,
     "metadata": {},
     "output_type": "execute_result"
    }
   ],
   "source": [
    "##### Keyword dataset\n",
    "\n",
    "kw_neoassist = pd.read_csv('data/neoassist/neoassist.com-organic_kw.csv', sep=',')\n",
    "\n",
    "kw_neoassist = kw_neoassist.drop(['Previous Position', 'Traffic (%)', 'Traffic Cost (%)', \\\n",
    "                                  'Number of Results', 'Trends', 'Timestamp'], axis=1)\n",
    "\n",
    "kw_neoassist = kw_neoassist.rename(index=str, columns={'Search Volume':'volume', \\\n",
    "                                                        'Keyword Difficulty Index': 'difficulty',\\\n",
    "                                                         'Keyword':'keyword'})\n",
    "kw_neoassist.shape"
   ]
  },
  {
   "cell_type": "code",
   "execution_count": 20,
   "metadata": {
    "collapsed": true
   },
   "outputs": [],
   "source": [
    "##### backlinks dataset\n",
    "\n",
    "backlinks_neoassist = pd.read_csv('data/neoassist/neoassist.com-backlinks.csv', sep=',')\n",
    "\n",
    "backlinks_neoassist = backlinks_neoassist.drop(['First seen', 'Last seen', 'New link', \\\n",
    "                                                'Lost link', 'External links', \\\n",
    "                                                'Internal links'], axis=1)\n",
    "\n",
    "backlinks_neoassist = backlinks_neoassist.rename(index=str, columns={'Target url': 'Url', \\\n",
    "                                                                     'Source url': 'url_backlink',\\\n",
    "                                                                     'Source title': 'backlink_title', \\\n",
    "                                                                    'Page score': 'url_score', \\\n",
    "                                                                    'Page trust score': 'url_trust'})\n",
    "\n",
    "backlinks_neoassist['Nofollow'] = np.where(backlinks_neoassist['Nofollow'] == False, 0, 1)\n",
    "backlinks_neoassist['Text'] = np.where(backlinks_neoassist['Text'] == False, 0, 1)\n",
    "backlinks_neoassist['Frame'] = np.where(backlinks_neoassist['Frame'] == False, 0, 1)\n",
    "backlinks_neoassist['Form'] = np.where(backlinks_neoassist['Form'] == False, 0, 1)\n",
    "backlinks_neoassist['Image'] = np.where(backlinks_neoassist['Image'] == False, 0, 1)\n",
    "backlinks_neoassist['Sitewide'] = np.where(backlinks_neoassist['Sitewide'] == False, 0, 1)\n",
    "\n",
    "backlinks_neoassist['backlink_domain'] = backlinks_neoassist['url_backlink'].str.split('www.').str[1]\n",
    "backlinks_neoassist['backlink_domain'] = backlinks_neoassist['backlink_domain'].str.split('/').str[0]"
   ]
  },
  {
   "cell_type": "code",
   "execution_count": 21,
   "metadata": {
    "collapsed": true
   },
   "outputs": [],
   "source": [
    "##### backlink_pages dataset\n",
    "\n",
    "bl_pages_neoassist = pd.read_csv('data/neoassist/neoassist.com-backlinks_pages.csv', sep=',')\n",
    "\n",
    "bl_pages_neoassist = bl_pages_neoassist.drop(['Response code', 'Last seen', 'External links','Internal links'], axis=1)\n",
    "\n",
    "bl_pages_neoassist = bl_pages_neoassist.rename(index=str, columns={'Source url':'Url', 'Source title': 'title'})"
   ]
  },
  {
   "cell_type": "code",
   "execution_count": 22,
   "metadata": {
    "collapsed": true
   },
   "outputs": [],
   "source": [
    "##### ref dataset\n",
    "\n",
    "ref_neoassist = pd.read_csv('data/neoassist/neoassist.com-backlinks_refdomains.csv', sep=',')\n",
    "\n",
    "ref_neoassist = ref_neoassist.drop(['IP Address', 'Last seen', 'First seen', 'Backlinks'], axis=1)\n",
    "\n",
    "ref_neoassist = ref_neoassist.rename(index=str, columns={'Domain score':'backlink_score', \\\n",
    "                                                         'Domain trust score': 'backlink_trust', \\\n",
    "                                                         'Domain': 'backlink_domain', \\\n",
    "                                                         'Country': 'country'})"
   ]
  },
  {
   "cell_type": "code",
   "execution_count": 23,
   "metadata": {
    "collapsed": true
   },
   "outputs": [],
   "source": [
    "##### Screaming frog dataset\n",
    "\n",
    "frog_neoassist = pd.read_csv('data/neoassist/neoassist.com-frog.csv', sep=',', skiprows=1)\n",
    "\n",
    "frog_neoassist = frog_neoassist.drop(['Status Code', 'Status', \\\n",
    "                                      'Title 1 Pixel Width', 'Meta Description 1 Pixel Width',\\\n",
    "                                      'Meta Keyword 1', 'Meta Keywords 1 Length',\\\n",
    "                                      'H2-1', 'H2-1 length', 'H2-2', 'H2-2 length', \\\n",
    "                                      'Meta Robots 1', 'Meta Refresh 1', 'Canonical Link Element 1',\\\n",
    "                                      'Crawl Depth', 'Unique Inlinks', '% of Total',\\\n",
    "                                      'Unique Outlinks',\\\n",
    "                                      'Unique External Outlinks', 'Hash', \\\n",
    "                                      'Response Time', 'Last Modified',\n",
    "                                      'Redirect URI', 'Redirect Type', \\\n",
    "                                      'URL Encoded Address', 'Content', 'Title 1', 'Meta Description 1', 'H1-1', 'H1-2', 'H1-2 length'], axis=1)\n",
    "\n",
    "frog_neoassist = frog_neoassist.rename(index=str, columns={'Address':'Url', \\\n",
    "                                                        'Title 1 Length': 'length_title', \\\n",
    "                                                        'Meta Description 1 Length': 'length_description',\\\n",
    "                                                        'H1-1 length': 'length_headline', \\\n",
    "                                                        'Word Count': 'word_count', \\\n",
    "                                                        'Text Ratio': 'text_ratio',\n",
    "                                                        'External Outlinks': 'external_outlinks'})"
   ]
  },
  {
   "cell_type": "code",
   "execution_count": 24,
   "metadata": {
    "collapsed": true
   },
   "outputs": [],
   "source": [
    "##### final dataset\n",
    "\n",
    "neoassist = kw_neoassist.copy()\n",
    "\n",
    "neoassist2 = neoassist.merge(bl_pages_neoassist, on='Url', how='left')\n",
    "\n",
    "neoassist3 = neoassist2.merge(frog_neoassist, on=\"Url\", how='left')\n",
    "\n",
    "backlinks_neoassist_final = backlinks_neoassist.merge(ref_neoassist, on='backlink_domain', how='left')\n",
    "\n",
    "backlinks_neoassist_final['avg_backlink_score'] = backlinks_neoassist_final.groupby('Url')['backlink_score'].transform('mean')\n",
    "backlinks_neoassist_final['avg_backlink_trust'] = backlinks_neoassist_final.groupby('Url')['backlink_trust'].transform('mean')\n",
    "\n",
    "backlinks_neoassist_final2 = backlinks_neoassist_final.copy()\n",
    "\n",
    "backlinks_neoassist_final2 = backlinks_neoassist_final2.drop(['backlink_title', 'url_backlink', \\\n",
    "                                                          'Anchor', 'backlink_domain', 'country', \\\n",
    "                                                          'backlink_score', 'backlink_trust'], axis=1)\n",
    "\n",
    "neoassist_final = neoassist3.merge(backlinks_neoassist_final2, on='Url', how='left')\n"
   ]
  },
  {
   "cell_type": "code",
   "execution_count": 25,
   "metadata": {
    "collapsed": true
   },
   "outputs": [],
   "source": [
    "neoassist_final = neoassist_final.drop_duplicates(['keyword', 'Url'])"
   ]
  },
  {
   "cell_type": "code",
   "execution_count": 26,
   "metadata": {
    "collapsed": true
   },
   "outputs": [],
   "source": [
    "neoassist_final['competitor'] = 'neoassist'"
   ]
  },
  {
   "cell_type": "code",
   "execution_count": 27,
   "metadata": {},
   "outputs": [
    {
     "data": {
      "text/plain": [
       "(2697, 30)"
      ]
     },
     "execution_count": 27,
     "metadata": {},
     "output_type": "execute_result"
    }
   ],
   "source": [
    "neoassist_final.shape"
   ]
  },
  {
   "cell_type": "markdown",
   "metadata": {},
   "source": [
    "#### Freshdesk"
   ]
  },
  {
   "cell_type": "code",
   "execution_count": 28,
   "metadata": {},
   "outputs": [
    {
     "data": {
      "text/plain": [
       "(579, 7)"
      ]
     },
     "execution_count": 28,
     "metadata": {},
     "output_type": "execute_result"
    }
   ],
   "source": [
    "##### Keyword dataset\n",
    "\n",
    "kw_freshdesk = pd.read_csv('data/freshdesk/freshdesk.com.br-organic_kw.csv', sep=',')\n",
    "\n",
    "kw_freshdesk = kw_freshdesk.drop(['Previous Position', 'Traffic (%)', 'Traffic Cost (%)', \\\n",
    "                                  'Number of Results', 'Trends', 'Timestamp'], axis=1)\n",
    "\n",
    "kw_freshdesk = kw_freshdesk.rename(index=str, columns={'Search Volume':'volume', \\\n",
    "                                                        'Keyword Difficulty Index': 'difficulty',\\\n",
    "                                                         'Keyword':'keyword'})\n",
    "kw_freshdesk.shape"
   ]
  },
  {
   "cell_type": "code",
   "execution_count": 29,
   "metadata": {
    "collapsed": true
   },
   "outputs": [],
   "source": [
    "##### backlinks dataset\n",
    "\n",
    "backlinks_freshdesk = pd.read_csv('data/freshdesk/freshdesk.com.br-backlinks.csv', sep=',')\n",
    "\n",
    "backlinks_freshdesk = backlinks_freshdesk.drop(['First seen', 'Last seen', 'New link', \\\n",
    "                                                'Lost link', 'External links', \\\n",
    "                                                'Internal links'], axis=1)\n",
    "\n",
    "backlinks_freshdesk = backlinks_freshdesk.rename(index=str, columns={'Target url': 'Url', \\\n",
    "                                                                     'Source url': 'url_backlink',\\\n",
    "                                                                     'Source title': 'backlink_title', \\\n",
    "                                                                    'Page score': 'url_score', \\\n",
    "                                                                    'Page trust score': 'url_trust'})\n",
    "\n",
    "backlinks_freshdesk['Nofollow'] = np.where(backlinks_freshdesk['Nofollow'] == False, 0, 1)\n",
    "backlinks_freshdesk['Text'] = np.where(backlinks_freshdesk['Text'] == False, 0, 1)\n",
    "backlinks_freshdesk['Frame'] = np.where(backlinks_freshdesk['Frame'] == False, 0, 1)\n",
    "backlinks_freshdesk['Form'] = np.where(backlinks_freshdesk['Form'] == False, 0, 1)\n",
    "backlinks_freshdesk['Image'] = np.where(backlinks_freshdesk['Image'] == False, 0, 1)\n",
    "backlinks_freshdesk['Sitewide'] = np.where(backlinks_freshdesk['Sitewide'] == False, 0, 1)\n",
    "\n",
    "backlinks_freshdesk['backlink_domain'] = backlinks_freshdesk['url_backlink'].str.split('www.').str[1]\n",
    "backlinks_freshdesk['backlink_domain'] = backlinks_freshdesk['backlink_domain'].str.split('/').str[0]"
   ]
  },
  {
   "cell_type": "code",
   "execution_count": 30,
   "metadata": {
    "collapsed": true
   },
   "outputs": [],
   "source": [
    "##### backlink_pages dataset\n",
    "\n",
    "bl_pages_freshdesk = pd.read_csv('data/freshdesk/freshdesk.com.br-backlinks_pages.csv', sep=',')\n",
    "\n",
    "bl_pages_freshdesk = bl_pages_freshdesk.drop(['Response code', 'Last seen', 'External links', 'Internal links'], axis=1)\n",
    "\n",
    "bl_pages_freshdesk = bl_pages_freshdesk.rename(index=str, columns={'Source url':'Url', 'Source title': 'title'})"
   ]
  },
  {
   "cell_type": "code",
   "execution_count": 31,
   "metadata": {
    "collapsed": true
   },
   "outputs": [],
   "source": [
    "##### ref dataset\n",
    "\n",
    "ref_freshdesk = pd.read_csv('data/freshdesk/freshdesk.com.br-backlinks_refdomains.csv', sep=',')\n",
    "\n",
    "ref_freshdesk = ref_freshdesk.drop(['IP Address', 'Last seen', 'First seen', 'Backlinks'], axis=1)\n",
    "\n",
    "ref_freshdesk = ref_freshdesk.rename(index=str, columns={'Domain score':'backlink_score', \\\n",
    "                                                         'Domain trust score': 'backlink_trust', \\\n",
    "                                                         'Domain': 'backlink_domain', \\\n",
    "                                                         'Country': 'country'})"
   ]
  },
  {
   "cell_type": "code",
   "execution_count": 32,
   "metadata": {
    "collapsed": true
   },
   "outputs": [],
   "source": [
    "##### Screaming frog dataset\n",
    "\n",
    "frog_freshdesk = pd.read_csv('data/freshdesk/freshdesk.com.br-frog.csv', sep=',', skiprows=1)\n",
    "\n",
    "frog_freshdesk = frog_freshdesk.drop(['Status Code', 'Status', \\\n",
    "                                      'Title 1 Pixel Width', 'Meta Description 1 Pixel Width',\\\n",
    "                                      'Meta Keyword 1', 'Meta Keywords 1 Length',\\\n",
    "                                      'H2-1', 'H2-1 length', 'H2-2', 'H2-2 length', \\\n",
    "                                      'Meta Robots 1', 'Meta Refresh 1', 'Canonical Link Element 1',\\\n",
    "                                      'Crawl Depth', 'Unique Inlinks', '% of Total',\\\n",
    "                                      'Unique Outlinks',\\\n",
    "                                      'Unique External Outlinks', 'Hash', \\\n",
    "                                      'Response Time', 'Last Modified',\n",
    "                                      'Redirect URI', 'Redirect Type', \\\n",
    "                                      'URL Encoded Address', 'Content', 'Title 1', 'Meta Description 1', 'H1-1', 'H1-2', 'H1-2 length'], axis=1)\n",
    "\n",
    "frog_freshdesk = frog_freshdesk.rename(index=str, columns={'Address':'Url', \\\n",
    "                                                        'Title 1 Length': 'length_title', \\\n",
    "                                                        'Meta Description 1 Length': 'length_description',\\\n",
    "                                                        'H1-1 length': 'length_headline', \\\n",
    "                                                        'Word Count': 'word_count', \\\n",
    "                                                        'Text Ratio': 'text_ratio',\n",
    "                                                          'External Outlinks':'external_outlinks'})"
   ]
  },
  {
   "cell_type": "code",
   "execution_count": 33,
   "metadata": {
    "collapsed": true
   },
   "outputs": [],
   "source": [
    "##### final dataset\n",
    "\n",
    "freshdesk = kw_freshdesk.copy()\n",
    "\n",
    "freshdesk2 = freshdesk.merge(bl_pages_freshdesk, on='Url', how='left')\n",
    "\n",
    "freshdesk3 = freshdesk2.merge(frog_freshdesk, on=\"Url\", how='left')\n",
    "\n",
    "backlinks_freshdesk_final = backlinks_freshdesk.merge(ref_freshdesk, on='backlink_domain', how='left')\n",
    "\n",
    "backlinks_freshdesk_final['avg_backlink_score'] = backlinks_freshdesk_final.groupby('Url')['backlink_score'].transform('mean')\n",
    "backlinks_freshdesk_final['avg_backlink_trust'] = backlinks_freshdesk_final.groupby('Url')['backlink_trust'].transform('mean')\n",
    "\n",
    "backlinks_freshdesk_final2 = backlinks_freshdesk_final.copy()\n",
    "\n",
    "backlinks_freshdesk_final2 = backlinks_freshdesk_final2.drop(['backlink_title', 'url_backlink', \\\n",
    "                                                          'Anchor', 'backlink_domain', 'country', \\\n",
    "                                                          'backlink_score', 'backlink_trust'], axis=1)\n",
    "\n",
    "freshdesk_final = freshdesk3.merge(backlinks_freshdesk_final2, on='Url', how='left')\n"
   ]
  },
  {
   "cell_type": "code",
   "execution_count": 34,
   "metadata": {
    "collapsed": true
   },
   "outputs": [],
   "source": [
    "freshdesk_final = freshdesk_final.drop_duplicates(['keyword', 'Url'])"
   ]
  },
  {
   "cell_type": "code",
   "execution_count": 35,
   "metadata": {
    "collapsed": true
   },
   "outputs": [],
   "source": [
    "freshdesk_final['competitor'] = 'freshdesk'"
   ]
  },
  {
   "cell_type": "code",
   "execution_count": 36,
   "metadata": {},
   "outputs": [
    {
     "data": {
      "text/plain": [
       "(579, 30)"
      ]
     },
     "execution_count": 36,
     "metadata": {},
     "output_type": "execute_result"
    }
   ],
   "source": [
    "freshdesk_final.shape"
   ]
  },
  {
   "cell_type": "markdown",
   "metadata": {},
   "source": [
    "### Tomticket"
   ]
  },
  {
   "cell_type": "code",
   "execution_count": 37,
   "metadata": {},
   "outputs": [
    {
     "data": {
      "text/plain": [
       "(623, 7)"
      ]
     },
     "execution_count": 37,
     "metadata": {},
     "output_type": "execute_result"
    }
   ],
   "source": [
    "##### Keyword dataset\n",
    "\n",
    "kw_tomticket = pd.read_csv('data/tomticket/tomticket.com-organic_kw.csv', sep=',')\n",
    "\n",
    "kw_tomticket = kw_tomticket.drop(['Previous Position', 'Traffic (%)', 'Traffic Cost (%)', \\\n",
    "                                  'Number of Results', 'Trends', 'Timestamp'], axis=1)\n",
    "\n",
    "kw_tomticket = kw_tomticket.rename(index=str, columns={'Search Volume':'volume', \\\n",
    "                                                        'Keyword Difficulty Index': 'difficulty',\\\n",
    "                                                         'Keyword':'keyword'})\n",
    "kw_tomticket.shape"
   ]
  },
  {
   "cell_type": "code",
   "execution_count": 38,
   "metadata": {
    "collapsed": true
   },
   "outputs": [],
   "source": [
    "##### backlinks dataset\n",
    "\n",
    "backlinks_tomticket = pd.read_csv('data/tomticket/tomticket.com-backlinks.csv', sep=',')\n",
    "\n",
    "backlinks_tomticket = backlinks_tomticket.drop(['First seen', 'Last seen', 'New link', \\\n",
    "                                                'Lost link', 'External links', \\\n",
    "                                                'Internal links'], axis=1)\n",
    "\n",
    "backlinks_tomticket = backlinks_tomticket.rename(index=str, columns={'Target url': 'Url', \\\n",
    "                                                                     'Source url': 'url_backlink',\\\n",
    "                                                                     'Source title': 'backlink_title', \\\n",
    "                                                                    'Page score': 'url_score', \\\n",
    "                                                                    'Page trust score': 'url_trust'})\n",
    "\n",
    "backlinks_tomticket['Nofollow'] = np.where(backlinks_tomticket['Nofollow'] == False, 0, 1)\n",
    "backlinks_tomticket['Text'] = np.where(backlinks_tomticket['Text'] == False, 0, 1)\n",
    "backlinks_tomticket['Frame'] = np.where(backlinks_tomticket['Frame'] == False, 0, 1)\n",
    "backlinks_tomticket['Form'] = np.where(backlinks_tomticket['Form'] == False, 0, 1)\n",
    "backlinks_tomticket['Image'] = np.where(backlinks_tomticket['Image'] == False, 0, 1)\n",
    "backlinks_tomticket['Sitewide'] = np.where(backlinks_tomticket['Sitewide'] == False, 0, 1)\n",
    "\n",
    "backlinks_tomticket['backlink_domain'] = backlinks_tomticket['url_backlink'].str.split('www.').str[1]\n",
    "backlinks_tomticket['backlink_domain'] = backlinks_tomticket['backlink_domain'].str.split('/').str[0]"
   ]
  },
  {
   "cell_type": "code",
   "execution_count": 39,
   "metadata": {
    "collapsed": true
   },
   "outputs": [],
   "source": [
    "##### backlink_pages dataset\n",
    "\n",
    "bl_pages_tomticket = pd.read_csv('data/tomticket/tomticket.com-backlinks_pages.csv', sep=',')\n",
    "\n",
    "bl_pages_tomticket = bl_pages_tomticket.drop(['Response code', 'Last seen', 'External links','Internal links' ], axis=1)\n",
    "\n",
    "bl_pages_tomticket = bl_pages_tomticket.rename(index=str, columns={'Source url':'Url', 'Source title': 'title'})"
   ]
  },
  {
   "cell_type": "code",
   "execution_count": 40,
   "metadata": {
    "collapsed": true
   },
   "outputs": [],
   "source": [
    "##### ref dataset\n",
    "\n",
    "ref_tomticket = pd.read_csv('data/tomticket/tomticket.com-backlinks_refdomains.csv', sep=',')\n",
    "\n",
    "ref_tomticket = ref_tomticket.drop(['IP Address', 'Last seen', 'First seen', 'Backlinks'], axis=1)\n",
    "\n",
    "ref_tomticket = ref_tomticket.rename(index=str, columns={'Domain score':'backlink_score', \\\n",
    "                                                         'Domain trust score': 'backlink_trust', \\\n",
    "                                                         'Domain': 'backlink_domain', \\\n",
    "                                                         'Country': 'country'})"
   ]
  },
  {
   "cell_type": "code",
   "execution_count": 41,
   "metadata": {
    "collapsed": true
   },
   "outputs": [],
   "source": [
    "##### Screaming frog dataset\n",
    "\n",
    "frog_tomticket = pd.read_csv('data/tomticket/tomticket.com-frog.csv', sep=',', skiprows=1)\n",
    "\n",
    "frog_tomticket = frog_tomticket.drop(['Status Code', 'Status', \\\n",
    "                                      'Title 1 Pixel Width', 'Meta Description 1 Pixel Width',\\\n",
    "                                      'Meta Keyword 1', 'Meta Keywords 1 Length',\\\n",
    "                                      'H2-1', 'H2-1 length', 'H2-2', 'H2-2 length', \\\n",
    "                                      'Meta Robots 1', 'Meta Refresh 1', 'Canonical Link Element 1',\\\n",
    "                                      'Crawl Depth','Unique Inlinks', '% of Total',\\\n",
    "                                      'Unique Outlinks',\\\n",
    "                                      'Unique External Outlinks', 'Hash', \\\n",
    "                                      'Response Time', 'Last Modified',\n",
    "                                      'Redirect URI', 'Redirect Type', \\\n",
    "                                      'URL Encoded Address', 'Content', 'Title 1', 'Meta Description 1', 'H1-1'], axis=1)\n",
    "\n",
    "frog_tomticket = frog_tomticket.rename(index=str, columns={'Address':'Url', \\\n",
    "                                                        'Title 1 Length': 'length_title', \\\n",
    "                                                        'Meta Description 1 Length': 'length_description',\\\n",
    "                                                        'H1-1 length': 'length_headline', \\\n",
    "                                                        'Word Count': 'word_count', \\\n",
    "                                                        'Text Ratio': 'text_ratio',\n",
    "                                                          'External Outlinks': 'external_outlinks'})"
   ]
  },
  {
   "cell_type": "code",
   "execution_count": 42,
   "metadata": {
    "collapsed": true
   },
   "outputs": [],
   "source": [
    "##### final dataset\n",
    "\n",
    "tomticket = kw_tomticket.copy()\n",
    "\n",
    "tomticket2 = tomticket.merge(bl_pages_tomticket, on='Url', how='left')\n",
    "\n",
    "tomticket3 = tomticket2.merge(frog_tomticket, on=\"Url\", how='left')\n",
    "\n",
    "backlinks_tomticket_final = backlinks_tomticket.merge(ref_tomticket, on='backlink_domain', how='left')\n",
    "\n",
    "backlinks_tomticket_final['avg_backlink_score'] = backlinks_tomticket_final.groupby('Url')['backlink_score'].transform('mean')\n",
    "backlinks_tomticket_final['avg_backlink_trust'] = backlinks_tomticket_final.groupby('Url')['backlink_trust'].transform('mean')\n",
    "\n",
    "backlinks_tomticket_final2 = backlinks_tomticket_final.copy()\n",
    "\n",
    "backlinks_tomticket_final2 = backlinks_tomticket_final2.drop(['backlink_title', 'url_backlink', \\\n",
    "                                                          'Anchor', 'backlink_domain', 'country', \\\n",
    "                                                          'backlink_score', 'backlink_trust'], axis=1)\n",
    "\n",
    "tomticket_final = tomticket3.merge(backlinks_tomticket_final2, on='Url', how='left')\n"
   ]
  },
  {
   "cell_type": "code",
   "execution_count": 43,
   "metadata": {
    "collapsed": true
   },
   "outputs": [],
   "source": [
    "tomticket_final = tomticket_final.drop_duplicates(['keyword', 'Url'])"
   ]
  },
  {
   "cell_type": "code",
   "execution_count": 44,
   "metadata": {
    "collapsed": true
   },
   "outputs": [],
   "source": [
    "tomticket_final['competitor'] = 'tomticket'"
   ]
  },
  {
   "cell_type": "code",
   "execution_count": 45,
   "metadata": {},
   "outputs": [
    {
     "data": {
      "text/plain": [
       "(623, 30)"
      ]
     },
     "execution_count": 45,
     "metadata": {},
     "output_type": "execute_result"
    }
   ],
   "source": [
    "tomticket_final.shape"
   ]
  },
  {
   "cell_type": "markdown",
   "metadata": {},
   "source": [
    "## Dataset Final"
   ]
  },
  {
   "cell_type": "code",
   "execution_count": 46,
   "metadata": {
    "collapsed": true
   },
   "outputs": [],
   "source": [
    "final = pd.concat([tomticket_final, zendesk_final, freshdesk_final, acelerato_final, neoassist_final])"
   ]
  },
  {
   "cell_type": "code",
   "execution_count": 47,
   "metadata": {
    "collapsed": true
   },
   "outputs": [],
   "source": [
    "final = final.drop(['Nofollow','Text', \"Frame\",\"Form\",\"Image\",\"Sitewide\"], axis=1)"
   ]
  },
  {
   "cell_type": "code",
   "execution_count": 48,
   "metadata": {
    "collapsed": true
   },
   "outputs": [],
   "source": [
    "final.reset_index(drop=True, inplace=True)"
   ]
  },
  {
   "cell_type": "code",
   "execution_count": 49,
   "metadata": {
    "collapsed": true
   },
   "outputs": [],
   "source": [
    "final['type'] = np.where(final['Position'] <= 3,'top_ranking', 'first_page')"
   ]
  },
  {
   "cell_type": "code",
   "execution_count": 50,
   "metadata": {
    "collapsed": true
   },
   "outputs": [],
   "source": [
    "mask1 = final['type'] == 'top_ranking'"
   ]
  },
  {
   "cell_type": "code",
   "execution_count": 51,
   "metadata": {
    "collapsed": true,
    "scrolled": true
   },
   "outputs": [],
   "source": [
    "top_ranking = final[mask1]"
   ]
  },
  {
   "cell_type": "code",
   "execution_count": 52,
   "metadata": {
    "collapsed": true
   },
   "outputs": [],
   "source": [
    "mask2 = final['type'] == 'first_page'"
   ]
  },
  {
   "cell_type": "code",
   "execution_count": 53,
   "metadata": {
    "collapsed": true
   },
   "outputs": [],
   "source": [
    "first_page_sub = final[mask2]"
   ]
  },
  {
   "cell_type": "code",
   "execution_count": 54,
   "metadata": {
    "scrolled": true
   },
   "outputs": [
    {
     "name": "stderr",
     "output_type": "stream",
     "text": [
      "C:\\Users\\Vitor.Souza\\Documents\\anaconda3\\lib\\site-packages\\ipykernel_launcher.py:1: SettingWithCopyWarning: \n",
      "A value is trying to be set on a copy of a slice from a DataFrame.\n",
      "Try using .loc[row_indexer,col_indexer] = value instead\n",
      "\n",
      "See the caveats in the documentation: http://pandas.pydata.org/pandas-docs/stable/indexing.html#indexing-view-versus-copy\n",
      "  \"\"\"Entry point for launching an IPython kernel.\n"
     ]
    }
   ],
   "source": [
    "first_page_sub['type'] = np.where(first_page_sub['Position'] > 10,'second_page', 'first_page')"
   ]
  },
  {
   "cell_type": "code",
   "execution_count": 55,
   "metadata": {
    "collapsed": true
   },
   "outputs": [],
   "source": [
    "mask3 = first_page_sub['type'] == 'first_page'\n",
    "mask4 = first_page_sub['type'] == 'second_page'"
   ]
  },
  {
   "cell_type": "code",
   "execution_count": 56,
   "metadata": {
    "collapsed": true
   },
   "outputs": [],
   "source": [
    "first_page = first_page_sub[mask3]\n",
    "second_page = first_page_sub[mask4]"
   ]
  },
  {
   "cell_type": "code",
   "execution_count": 57,
   "metadata": {},
   "outputs": [
    {
     "name": "stdout",
     "output_type": "stream",
     "text": [
      "(545, 25)\n",
      "(696, 25)\n",
      "(7661, 25)\n"
     ]
    }
   ],
   "source": [
    "print(top_ranking.shape)\n",
    "print(first_page.shape)\n",
    "print(second_page.shape)"
   ]
  },
  {
   "cell_type": "markdown",
   "metadata": {},
   "source": [
    "### Tratando valores Null"
   ]
  },
  {
   "cell_type": "markdown",
   "metadata": {},
   "source": [
    "#### Top_ranking"
   ]
  },
  {
   "cell_type": "code",
   "execution_count": 58,
   "metadata": {},
   "outputs": [
    {
     "data": {
      "text/plain": [
       "Index(['keyword', 'Position', 'volume', 'difficulty', 'CPC', 'Url',\n",
       "       'Competition', 'title', 'Backlinks', 'Domains', 'length_title',\n",
       "       'length_description', 'length_headline', 'Size', 'word_count',\n",
       "       'text_ratio', 'Inlinks', 'Outlinks', 'external_outlinks', 'url_score',\n",
       "       'url_trust', 'avg_backlink_score', 'avg_backlink_trust', 'competitor',\n",
       "       'type'],\n",
       "      dtype='object')"
      ]
     },
     "execution_count": 58,
     "metadata": {},
     "output_type": "execute_result"
    }
   ],
   "source": [
    "top_ranking.columns"
   ]
  },
  {
   "cell_type": "code",
   "execution_count": 59,
   "metadata": {},
   "outputs": [
    {
     "name": "stderr",
     "output_type": "stream",
     "text": [
      "C:\\Users\\Vitor.Souza\\Documents\\anaconda3\\lib\\site-packages\\ipykernel_launcher.py:1: SettingWithCopyWarning: \n",
      "A value is trying to be set on a copy of a slice from a DataFrame.\n",
      "Try using .loc[row_indexer,col_indexer] = value instead\n",
      "\n",
      "See the caveats in the documentation: http://pandas.pydata.org/pandas-docs/stable/indexing.html#indexing-view-versus-copy\n",
      "  \"\"\"Entry point for launching an IPython kernel.\n",
      "C:\\Users\\Vitor.Souza\\Documents\\anaconda3\\lib\\site-packages\\ipykernel_launcher.py:2: SettingWithCopyWarning: \n",
      "A value is trying to be set on a copy of a slice from a DataFrame.\n",
      "Try using .loc[row_indexer,col_indexer] = value instead\n",
      "\n",
      "See the caveats in the documentation: http://pandas.pydata.org/pandas-docs/stable/indexing.html#indexing-view-versus-copy\n",
      "  \n",
      "C:\\Users\\Vitor.Souza\\Documents\\anaconda3\\lib\\site-packages\\ipykernel_launcher.py:3: SettingWithCopyWarning: \n",
      "A value is trying to be set on a copy of a slice from a DataFrame.\n",
      "Try using .loc[row_indexer,col_indexer] = value instead\n",
      "\n",
      "See the caveats in the documentation: http://pandas.pydata.org/pandas-docs/stable/indexing.html#indexing-view-versus-copy\n",
      "  This is separate from the ipykernel package so we can avoid doing imports until\n",
      "C:\\Users\\Vitor.Souza\\Documents\\anaconda3\\lib\\site-packages\\ipykernel_launcher.py:4: SettingWithCopyWarning: \n",
      "A value is trying to be set on a copy of a slice from a DataFrame.\n",
      "Try using .loc[row_indexer,col_indexer] = value instead\n",
      "\n",
      "See the caveats in the documentation: http://pandas.pydata.org/pandas-docs/stable/indexing.html#indexing-view-versus-copy\n",
      "  after removing the cwd from sys.path.\n",
      "C:\\Users\\Vitor.Souza\\Documents\\anaconda3\\lib\\site-packages\\ipykernel_launcher.py:5: SettingWithCopyWarning: \n",
      "A value is trying to be set on a copy of a slice from a DataFrame.\n",
      "Try using .loc[row_indexer,col_indexer] = value instead\n",
      "\n",
      "See the caveats in the documentation: http://pandas.pydata.org/pandas-docs/stable/indexing.html#indexing-view-versus-copy\n",
      "  \"\"\"\n",
      "C:\\Users\\Vitor.Souza\\Documents\\anaconda3\\lib\\site-packages\\ipykernel_launcher.py:6: SettingWithCopyWarning: \n",
      "A value is trying to be set on a copy of a slice from a DataFrame.\n",
      "Try using .loc[row_indexer,col_indexer] = value instead\n",
      "\n",
      "See the caveats in the documentation: http://pandas.pydata.org/pandas-docs/stable/indexing.html#indexing-view-versus-copy\n",
      "  \n",
      "C:\\Users\\Vitor.Souza\\Documents\\anaconda3\\lib\\site-packages\\ipykernel_launcher.py:7: SettingWithCopyWarning: \n",
      "A value is trying to be set on a copy of a slice from a DataFrame.\n",
      "Try using .loc[row_indexer,col_indexer] = value instead\n",
      "\n",
      "See the caveats in the documentation: http://pandas.pydata.org/pandas-docs/stable/indexing.html#indexing-view-versus-copy\n",
      "  import sys\n",
      "C:\\Users\\Vitor.Souza\\Documents\\anaconda3\\lib\\site-packages\\ipykernel_launcher.py:8: SettingWithCopyWarning: \n",
      "A value is trying to be set on a copy of a slice from a DataFrame.\n",
      "Try using .loc[row_indexer,col_indexer] = value instead\n",
      "\n",
      "See the caveats in the documentation: http://pandas.pydata.org/pandas-docs/stable/indexing.html#indexing-view-versus-copy\n",
      "  \n",
      "C:\\Users\\Vitor.Souza\\Documents\\anaconda3\\lib\\site-packages\\ipykernel_launcher.py:9: SettingWithCopyWarning: \n",
      "A value is trying to be set on a copy of a slice from a DataFrame.\n",
      "Try using .loc[row_indexer,col_indexer] = value instead\n",
      "\n",
      "See the caveats in the documentation: http://pandas.pydata.org/pandas-docs/stable/indexing.html#indexing-view-versus-copy\n",
      "  if __name__ == '__main__':\n",
      "C:\\Users\\Vitor.Souza\\Documents\\anaconda3\\lib\\site-packages\\ipykernel_launcher.py:10: SettingWithCopyWarning: \n",
      "A value is trying to be set on a copy of a slice from a DataFrame.\n",
      "Try using .loc[row_indexer,col_indexer] = value instead\n",
      "\n",
      "See the caveats in the documentation: http://pandas.pydata.org/pandas-docs/stable/indexing.html#indexing-view-versus-copy\n",
      "  # Remove the CWD from sys.path while we load stuff.\n",
      "C:\\Users\\Vitor.Souza\\Documents\\anaconda3\\lib\\site-packages\\ipykernel_launcher.py:11: SettingWithCopyWarning: \n",
      "A value is trying to be set on a copy of a slice from a DataFrame.\n",
      "Try using .loc[row_indexer,col_indexer] = value instead\n",
      "\n",
      "See the caveats in the documentation: http://pandas.pydata.org/pandas-docs/stable/indexing.html#indexing-view-versus-copy\n",
      "  # This is added back by InteractiveShellApp.init_path()\n",
      "C:\\Users\\Vitor.Souza\\Documents\\anaconda3\\lib\\site-packages\\ipykernel_launcher.py:12: SettingWithCopyWarning: \n",
      "A value is trying to be set on a copy of a slice from a DataFrame.\n",
      "Try using .loc[row_indexer,col_indexer] = value instead\n",
      "\n",
      "See the caveats in the documentation: http://pandas.pydata.org/pandas-docs/stable/indexing.html#indexing-view-versus-copy\n",
      "  if sys.path[0] == '':\n",
      "C:\\Users\\Vitor.Souza\\Documents\\anaconda3\\lib\\site-packages\\ipykernel_launcher.py:13: SettingWithCopyWarning: \n",
      "A value is trying to be set on a copy of a slice from a DataFrame.\n",
      "Try using .loc[row_indexer,col_indexer] = value instead\n",
      "\n",
      "See the caveats in the documentation: http://pandas.pydata.org/pandas-docs/stable/indexing.html#indexing-view-versus-copy\n",
      "  del sys.path[0]\n",
      "C:\\Users\\Vitor.Souza\\Documents\\anaconda3\\lib\\site-packages\\ipykernel_launcher.py:14: SettingWithCopyWarning: \n",
      "A value is trying to be set on a copy of a slice from a DataFrame.\n",
      "Try using .loc[row_indexer,col_indexer] = value instead\n",
      "\n",
      "See the caveats in the documentation: http://pandas.pydata.org/pandas-docs/stable/indexing.html#indexing-view-versus-copy\n",
      "  \n",
      "C:\\Users\\Vitor.Souza\\Documents\\anaconda3\\lib\\site-packages\\ipykernel_launcher.py:15: SettingWithCopyWarning: \n",
      "A value is trying to be set on a copy of a slice from a DataFrame.\n",
      "Try using .loc[row_indexer,col_indexer] = value instead\n",
      "\n",
      "See the caveats in the documentation: http://pandas.pydata.org/pandas-docs/stable/indexing.html#indexing-view-versus-copy\n",
      "  from ipykernel import kernelapp as app\n",
      "C:\\Users\\Vitor.Souza\\Documents\\anaconda3\\lib\\site-packages\\ipykernel_launcher.py:16: SettingWithCopyWarning: \n",
      "A value is trying to be set on a copy of a slice from a DataFrame.\n",
      "Try using .loc[row_indexer,col_indexer] = value instead\n",
      "\n",
      "See the caveats in the documentation: http://pandas.pydata.org/pandas-docs/stable/indexing.html#indexing-view-versus-copy\n",
      "  app.launch_new_instance()\n"
     ]
    }
   ],
   "source": [
    "top_ranking['Backlinks'] = top_ranking['Backlinks'].fillna(top_ranking['Backlinks'].mean())\n",
    "top_ranking['Domains'] = top_ranking['Domains'].fillna(top_ranking['Domains'].mean())\n",
    "top_ranking['length_title'] = top_ranking['length_title'].fillna(top_ranking['title'].str.len())\n",
    "top_ranking['length_title'] = top_ranking['length_title'].fillna(top_ranking['length_title'].mean())\n",
    "top_ranking['length_description'] = top_ranking['length_description'].fillna(top_ranking['length_description'].mean())\n",
    "top_ranking['length_headline'] = top_ranking['length_headline'].fillna(top_ranking['length_headline'].mean())\n",
    "top_ranking['Size'] = top_ranking['Size'].fillna(top_ranking['Size'].mean())\n",
    "top_ranking['word_count'] = top_ranking['word_count'].fillna(top_ranking['word_count'].mean())\n",
    "top_ranking['text_ratio'] = top_ranking['text_ratio'].fillna(top_ranking['text_ratio'].mean())\n",
    "top_ranking['url_score'] = top_ranking['url_score'].fillna(top_ranking['url_score'].mean())\n",
    "top_ranking['url_trust'] = top_ranking['url_trust'].fillna(top_ranking['url_trust'].mean())\n",
    "top_ranking['avg_backlink_score'] = top_ranking['avg_backlink_score'].fillna(top_ranking['avg_backlink_score'].mean())\n",
    "top_ranking['avg_backlink_trust'] = top_ranking['avg_backlink_trust'].fillna(top_ranking['avg_backlink_trust'].mean())\n",
    "top_ranking['Inlinks'] = top_ranking['Inlinks'].fillna(top_ranking['Inlinks'].mean())\n",
    "top_ranking['Outlinks'] = top_ranking['Outlinks'].fillna(top_ranking['Outlinks'].mean())\n",
    "top_ranking['external_outlinks'] = top_ranking['external_outlinks'].fillna(top_ranking['external_outlinks'].mean())"
   ]
  },
  {
   "cell_type": "code",
   "execution_count": 60,
   "metadata": {},
   "outputs": [
    {
     "data": {
      "text/plain": [
       "keyword                 0\n",
       "Position                0\n",
       "volume                  0\n",
       "difficulty              0\n",
       "CPC                     0\n",
       "Url                     0\n",
       "Competition             0\n",
       "title                 321\n",
       "Backlinks               0\n",
       "Domains                 0\n",
       "length_title            0\n",
       "length_description      0\n",
       "length_headline         0\n",
       "Size                    0\n",
       "word_count              0\n",
       "text_ratio              0\n",
       "Inlinks                 0\n",
       "Outlinks                0\n",
       "external_outlinks       0\n",
       "url_score               0\n",
       "url_trust               0\n",
       "avg_backlink_score      0\n",
       "avg_backlink_trust      0\n",
       "competitor              0\n",
       "type                    0\n",
       "dtype: int64"
      ]
     },
     "execution_count": 60,
     "metadata": {},
     "output_type": "execute_result"
    }
   ],
   "source": [
    "top_ranking.isnull().sum()"
   ]
  },
  {
   "cell_type": "markdown",
   "metadata": {},
   "source": [
    "#### first_page"
   ]
  },
  {
   "cell_type": "code",
   "execution_count": 61,
   "metadata": {},
   "outputs": [
    {
     "name": "stderr",
     "output_type": "stream",
     "text": [
      "C:\\Users\\Vitor.Souza\\Documents\\anaconda3\\lib\\site-packages\\ipykernel_launcher.py:1: SettingWithCopyWarning: \n",
      "A value is trying to be set on a copy of a slice from a DataFrame.\n",
      "Try using .loc[row_indexer,col_indexer] = value instead\n",
      "\n",
      "See the caveats in the documentation: http://pandas.pydata.org/pandas-docs/stable/indexing.html#indexing-view-versus-copy\n",
      "  \"\"\"Entry point for launching an IPython kernel.\n",
      "C:\\Users\\Vitor.Souza\\Documents\\anaconda3\\lib\\site-packages\\ipykernel_launcher.py:2: SettingWithCopyWarning: \n",
      "A value is trying to be set on a copy of a slice from a DataFrame.\n",
      "Try using .loc[row_indexer,col_indexer] = value instead\n",
      "\n",
      "See the caveats in the documentation: http://pandas.pydata.org/pandas-docs/stable/indexing.html#indexing-view-versus-copy\n",
      "  \n",
      "C:\\Users\\Vitor.Souza\\Documents\\anaconda3\\lib\\site-packages\\ipykernel_launcher.py:3: SettingWithCopyWarning: \n",
      "A value is trying to be set on a copy of a slice from a DataFrame.\n",
      "Try using .loc[row_indexer,col_indexer] = value instead\n",
      "\n",
      "See the caveats in the documentation: http://pandas.pydata.org/pandas-docs/stable/indexing.html#indexing-view-versus-copy\n",
      "  This is separate from the ipykernel package so we can avoid doing imports until\n",
      "C:\\Users\\Vitor.Souza\\Documents\\anaconda3\\lib\\site-packages\\ipykernel_launcher.py:4: SettingWithCopyWarning: \n",
      "A value is trying to be set on a copy of a slice from a DataFrame.\n",
      "Try using .loc[row_indexer,col_indexer] = value instead\n",
      "\n",
      "See the caveats in the documentation: http://pandas.pydata.org/pandas-docs/stable/indexing.html#indexing-view-versus-copy\n",
      "  after removing the cwd from sys.path.\n",
      "C:\\Users\\Vitor.Souza\\Documents\\anaconda3\\lib\\site-packages\\ipykernel_launcher.py:5: SettingWithCopyWarning: \n",
      "A value is trying to be set on a copy of a slice from a DataFrame.\n",
      "Try using .loc[row_indexer,col_indexer] = value instead\n",
      "\n",
      "See the caveats in the documentation: http://pandas.pydata.org/pandas-docs/stable/indexing.html#indexing-view-versus-copy\n",
      "  \"\"\"\n",
      "C:\\Users\\Vitor.Souza\\Documents\\anaconda3\\lib\\site-packages\\ipykernel_launcher.py:6: SettingWithCopyWarning: \n",
      "A value is trying to be set on a copy of a slice from a DataFrame.\n",
      "Try using .loc[row_indexer,col_indexer] = value instead\n",
      "\n",
      "See the caveats in the documentation: http://pandas.pydata.org/pandas-docs/stable/indexing.html#indexing-view-versus-copy\n",
      "  \n",
      "C:\\Users\\Vitor.Souza\\Documents\\anaconda3\\lib\\site-packages\\ipykernel_launcher.py:7: SettingWithCopyWarning: \n",
      "A value is trying to be set on a copy of a slice from a DataFrame.\n",
      "Try using .loc[row_indexer,col_indexer] = value instead\n",
      "\n",
      "See the caveats in the documentation: http://pandas.pydata.org/pandas-docs/stable/indexing.html#indexing-view-versus-copy\n",
      "  import sys\n",
      "C:\\Users\\Vitor.Souza\\Documents\\anaconda3\\lib\\site-packages\\ipykernel_launcher.py:8: SettingWithCopyWarning: \n",
      "A value is trying to be set on a copy of a slice from a DataFrame.\n",
      "Try using .loc[row_indexer,col_indexer] = value instead\n",
      "\n",
      "See the caveats in the documentation: http://pandas.pydata.org/pandas-docs/stable/indexing.html#indexing-view-versus-copy\n",
      "  \n",
      "C:\\Users\\Vitor.Souza\\Documents\\anaconda3\\lib\\site-packages\\ipykernel_launcher.py:9: SettingWithCopyWarning: \n",
      "A value is trying to be set on a copy of a slice from a DataFrame.\n",
      "Try using .loc[row_indexer,col_indexer] = value instead\n",
      "\n",
      "See the caveats in the documentation: http://pandas.pydata.org/pandas-docs/stable/indexing.html#indexing-view-versus-copy\n",
      "  if __name__ == '__main__':\n",
      "C:\\Users\\Vitor.Souza\\Documents\\anaconda3\\lib\\site-packages\\ipykernel_launcher.py:10: SettingWithCopyWarning: \n",
      "A value is trying to be set on a copy of a slice from a DataFrame.\n",
      "Try using .loc[row_indexer,col_indexer] = value instead\n",
      "\n",
      "See the caveats in the documentation: http://pandas.pydata.org/pandas-docs/stable/indexing.html#indexing-view-versus-copy\n",
      "  # Remove the CWD from sys.path while we load stuff.\n",
      "C:\\Users\\Vitor.Souza\\Documents\\anaconda3\\lib\\site-packages\\ipykernel_launcher.py:11: SettingWithCopyWarning: \n",
      "A value is trying to be set on a copy of a slice from a DataFrame.\n",
      "Try using .loc[row_indexer,col_indexer] = value instead\n",
      "\n",
      "See the caveats in the documentation: http://pandas.pydata.org/pandas-docs/stable/indexing.html#indexing-view-versus-copy\n",
      "  # This is added back by InteractiveShellApp.init_path()\n",
      "C:\\Users\\Vitor.Souza\\Documents\\anaconda3\\lib\\site-packages\\ipykernel_launcher.py:12: SettingWithCopyWarning: \n",
      "A value is trying to be set on a copy of a slice from a DataFrame.\n",
      "Try using .loc[row_indexer,col_indexer] = value instead\n",
      "\n",
      "See the caveats in the documentation: http://pandas.pydata.org/pandas-docs/stable/indexing.html#indexing-view-versus-copy\n",
      "  if sys.path[0] == '':\n",
      "C:\\Users\\Vitor.Souza\\Documents\\anaconda3\\lib\\site-packages\\ipykernel_launcher.py:13: SettingWithCopyWarning: \n",
      "A value is trying to be set on a copy of a slice from a DataFrame.\n",
      "Try using .loc[row_indexer,col_indexer] = value instead\n",
      "\n",
      "See the caveats in the documentation: http://pandas.pydata.org/pandas-docs/stable/indexing.html#indexing-view-versus-copy\n",
      "  del sys.path[0]\n",
      "C:\\Users\\Vitor.Souza\\Documents\\anaconda3\\lib\\site-packages\\ipykernel_launcher.py:14: SettingWithCopyWarning: \n",
      "A value is trying to be set on a copy of a slice from a DataFrame.\n",
      "Try using .loc[row_indexer,col_indexer] = value instead\n",
      "\n",
      "See the caveats in the documentation: http://pandas.pydata.org/pandas-docs/stable/indexing.html#indexing-view-versus-copy\n",
      "  \n",
      "C:\\Users\\Vitor.Souza\\Documents\\anaconda3\\lib\\site-packages\\ipykernel_launcher.py:15: SettingWithCopyWarning: \n",
      "A value is trying to be set on a copy of a slice from a DataFrame.\n",
      "Try using .loc[row_indexer,col_indexer] = value instead\n",
      "\n",
      "See the caveats in the documentation: http://pandas.pydata.org/pandas-docs/stable/indexing.html#indexing-view-versus-copy\n",
      "  from ipykernel import kernelapp as app\n",
      "C:\\Users\\Vitor.Souza\\Documents\\anaconda3\\lib\\site-packages\\ipykernel_launcher.py:16: SettingWithCopyWarning: \n",
      "A value is trying to be set on a copy of a slice from a DataFrame.\n",
      "Try using .loc[row_indexer,col_indexer] = value instead\n",
      "\n",
      "See the caveats in the documentation: http://pandas.pydata.org/pandas-docs/stable/indexing.html#indexing-view-versus-copy\n",
      "  app.launch_new_instance()\n"
     ]
    }
   ],
   "source": [
    "first_page['Backlinks'] = first_page['Backlinks'].fillna(first_page['Backlinks'].mean())\n",
    "first_page['Domains'] = first_page['Domains'].fillna(first_page['Domains'].mean())\n",
    "first_page['length_title'] = first_page['length_title'].fillna(first_page['title'].str.len())\n",
    "first_page['length_title'] = first_page['length_title'].fillna(first_page['length_title'].mean())\n",
    "first_page['length_description'] = first_page['length_description'].fillna(first_page['length_description'].mean())\n",
    "first_page['length_headline'] = first_page['length_headline'].fillna(first_page['length_headline'].mean())\n",
    "first_page['Size'] = first_page['Size'].fillna(first_page['Size'].mean())\n",
    "first_page['word_count'] = first_page['word_count'].fillna(first_page['word_count'].mean())\n",
    "first_page['text_ratio'] = first_page['text_ratio'].fillna(first_page['text_ratio'].mean())\n",
    "first_page['url_score'] = first_page['url_score'].fillna(first_page['url_score'].mean())\n",
    "first_page['url_trust'] = first_page['url_trust'].fillna(first_page['url_trust'].mean())\n",
    "first_page['avg_backlink_score'] = first_page['avg_backlink_score'].fillna(first_page['avg_backlink_score'].mean())\n",
    "first_page['avg_backlink_trust'] = first_page['avg_backlink_trust'].fillna(first_page['avg_backlink_trust'].mean())\n",
    "first_page['Inlinks'] = first_page['Inlinks'].fillna(first_page['Inlinks'].mean())\n",
    "first_page['Outlinks'] = first_page['Outlinks'].fillna(first_page['Outlinks'].mean())\n",
    "first_page['external_outlinks'] = first_page['external_outlinks'].fillna(first_page['external_outlinks'].mean())"
   ]
  },
  {
   "cell_type": "code",
   "execution_count": 62,
   "metadata": {},
   "outputs": [
    {
     "data": {
      "text/plain": [
       "keyword                 0\n",
       "Position                0\n",
       "volume                  0\n",
       "difficulty              0\n",
       "CPC                     0\n",
       "Url                     0\n",
       "Competition             0\n",
       "title                 364\n",
       "Backlinks               0\n",
       "Domains                 0\n",
       "length_title            0\n",
       "length_description      0\n",
       "length_headline         0\n",
       "Size                    0\n",
       "word_count              0\n",
       "text_ratio              0\n",
       "Inlinks                 0\n",
       "Outlinks                0\n",
       "external_outlinks       0\n",
       "url_score               0\n",
       "url_trust               0\n",
       "avg_backlink_score      0\n",
       "avg_backlink_trust      0\n",
       "competitor              0\n",
       "type                    0\n",
       "dtype: int64"
      ]
     },
     "execution_count": 62,
     "metadata": {},
     "output_type": "execute_result"
    }
   ],
   "source": [
    "first_page.isnull().sum()"
   ]
  },
  {
   "cell_type": "markdown",
   "metadata": {},
   "source": [
    "#### second_page"
   ]
  },
  {
   "cell_type": "code",
   "execution_count": 63,
   "metadata": {},
   "outputs": [
    {
     "name": "stderr",
     "output_type": "stream",
     "text": [
      "C:\\Users\\Vitor.Souza\\Documents\\anaconda3\\lib\\site-packages\\ipykernel_launcher.py:1: SettingWithCopyWarning: \n",
      "A value is trying to be set on a copy of a slice from a DataFrame.\n",
      "Try using .loc[row_indexer,col_indexer] = value instead\n",
      "\n",
      "See the caveats in the documentation: http://pandas.pydata.org/pandas-docs/stable/indexing.html#indexing-view-versus-copy\n",
      "  \"\"\"Entry point for launching an IPython kernel.\n",
      "C:\\Users\\Vitor.Souza\\Documents\\anaconda3\\lib\\site-packages\\ipykernel_launcher.py:2: SettingWithCopyWarning: \n",
      "A value is trying to be set on a copy of a slice from a DataFrame.\n",
      "Try using .loc[row_indexer,col_indexer] = value instead\n",
      "\n",
      "See the caveats in the documentation: http://pandas.pydata.org/pandas-docs/stable/indexing.html#indexing-view-versus-copy\n",
      "  \n",
      "C:\\Users\\Vitor.Souza\\Documents\\anaconda3\\lib\\site-packages\\ipykernel_launcher.py:3: SettingWithCopyWarning: \n",
      "A value is trying to be set on a copy of a slice from a DataFrame.\n",
      "Try using .loc[row_indexer,col_indexer] = value instead\n",
      "\n",
      "See the caveats in the documentation: http://pandas.pydata.org/pandas-docs/stable/indexing.html#indexing-view-versus-copy\n",
      "  This is separate from the ipykernel package so we can avoid doing imports until\n",
      "C:\\Users\\Vitor.Souza\\Documents\\anaconda3\\lib\\site-packages\\ipykernel_launcher.py:4: SettingWithCopyWarning: \n",
      "A value is trying to be set on a copy of a slice from a DataFrame.\n",
      "Try using .loc[row_indexer,col_indexer] = value instead\n",
      "\n",
      "See the caveats in the documentation: http://pandas.pydata.org/pandas-docs/stable/indexing.html#indexing-view-versus-copy\n",
      "  after removing the cwd from sys.path.\n",
      "C:\\Users\\Vitor.Souza\\Documents\\anaconda3\\lib\\site-packages\\ipykernel_launcher.py:5: SettingWithCopyWarning: \n",
      "A value is trying to be set on a copy of a slice from a DataFrame.\n",
      "Try using .loc[row_indexer,col_indexer] = value instead\n",
      "\n",
      "See the caveats in the documentation: http://pandas.pydata.org/pandas-docs/stable/indexing.html#indexing-view-versus-copy\n",
      "  \"\"\"\n",
      "C:\\Users\\Vitor.Souza\\Documents\\anaconda3\\lib\\site-packages\\ipykernel_launcher.py:6: SettingWithCopyWarning: \n",
      "A value is trying to be set on a copy of a slice from a DataFrame.\n",
      "Try using .loc[row_indexer,col_indexer] = value instead\n",
      "\n",
      "See the caveats in the documentation: http://pandas.pydata.org/pandas-docs/stable/indexing.html#indexing-view-versus-copy\n",
      "  \n",
      "C:\\Users\\Vitor.Souza\\Documents\\anaconda3\\lib\\site-packages\\ipykernel_launcher.py:7: SettingWithCopyWarning: \n",
      "A value is trying to be set on a copy of a slice from a DataFrame.\n",
      "Try using .loc[row_indexer,col_indexer] = value instead\n",
      "\n",
      "See the caveats in the documentation: http://pandas.pydata.org/pandas-docs/stable/indexing.html#indexing-view-versus-copy\n",
      "  import sys\n",
      "C:\\Users\\Vitor.Souza\\Documents\\anaconda3\\lib\\site-packages\\ipykernel_launcher.py:8: SettingWithCopyWarning: \n",
      "A value is trying to be set on a copy of a slice from a DataFrame.\n",
      "Try using .loc[row_indexer,col_indexer] = value instead\n",
      "\n",
      "See the caveats in the documentation: http://pandas.pydata.org/pandas-docs/stable/indexing.html#indexing-view-versus-copy\n",
      "  \n",
      "C:\\Users\\Vitor.Souza\\Documents\\anaconda3\\lib\\site-packages\\ipykernel_launcher.py:9: SettingWithCopyWarning: \n",
      "A value is trying to be set on a copy of a slice from a DataFrame.\n",
      "Try using .loc[row_indexer,col_indexer] = value instead\n",
      "\n",
      "See the caveats in the documentation: http://pandas.pydata.org/pandas-docs/stable/indexing.html#indexing-view-versus-copy\n",
      "  if __name__ == '__main__':\n",
      "C:\\Users\\Vitor.Souza\\Documents\\anaconda3\\lib\\site-packages\\ipykernel_launcher.py:10: SettingWithCopyWarning: \n",
      "A value is trying to be set on a copy of a slice from a DataFrame.\n",
      "Try using .loc[row_indexer,col_indexer] = value instead\n",
      "\n",
      "See the caveats in the documentation: http://pandas.pydata.org/pandas-docs/stable/indexing.html#indexing-view-versus-copy\n",
      "  # Remove the CWD from sys.path while we load stuff.\n",
      "C:\\Users\\Vitor.Souza\\Documents\\anaconda3\\lib\\site-packages\\ipykernel_launcher.py:11: SettingWithCopyWarning: \n",
      "A value is trying to be set on a copy of a slice from a DataFrame.\n",
      "Try using .loc[row_indexer,col_indexer] = value instead\n",
      "\n",
      "See the caveats in the documentation: http://pandas.pydata.org/pandas-docs/stable/indexing.html#indexing-view-versus-copy\n",
      "  # This is added back by InteractiveShellApp.init_path()\n",
      "C:\\Users\\Vitor.Souza\\Documents\\anaconda3\\lib\\site-packages\\ipykernel_launcher.py:12: SettingWithCopyWarning: \n",
      "A value is trying to be set on a copy of a slice from a DataFrame.\n",
      "Try using .loc[row_indexer,col_indexer] = value instead\n",
      "\n",
      "See the caveats in the documentation: http://pandas.pydata.org/pandas-docs/stable/indexing.html#indexing-view-versus-copy\n",
      "  if sys.path[0] == '':\n",
      "C:\\Users\\Vitor.Souza\\Documents\\anaconda3\\lib\\site-packages\\ipykernel_launcher.py:13: SettingWithCopyWarning: \n",
      "A value is trying to be set on a copy of a slice from a DataFrame.\n",
      "Try using .loc[row_indexer,col_indexer] = value instead\n",
      "\n",
      "See the caveats in the documentation: http://pandas.pydata.org/pandas-docs/stable/indexing.html#indexing-view-versus-copy\n",
      "  del sys.path[0]\n",
      "C:\\Users\\Vitor.Souza\\Documents\\anaconda3\\lib\\site-packages\\ipykernel_launcher.py:14: SettingWithCopyWarning: \n",
      "A value is trying to be set on a copy of a slice from a DataFrame.\n",
      "Try using .loc[row_indexer,col_indexer] = value instead\n",
      "\n",
      "See the caveats in the documentation: http://pandas.pydata.org/pandas-docs/stable/indexing.html#indexing-view-versus-copy\n",
      "  \n",
      "C:\\Users\\Vitor.Souza\\Documents\\anaconda3\\lib\\site-packages\\ipykernel_launcher.py:15: SettingWithCopyWarning: \n",
      "A value is trying to be set on a copy of a slice from a DataFrame.\n",
      "Try using .loc[row_indexer,col_indexer] = value instead\n",
      "\n",
      "See the caveats in the documentation: http://pandas.pydata.org/pandas-docs/stable/indexing.html#indexing-view-versus-copy\n",
      "  from ipykernel import kernelapp as app\n",
      "C:\\Users\\Vitor.Souza\\Documents\\anaconda3\\lib\\site-packages\\ipykernel_launcher.py:16: SettingWithCopyWarning: \n",
      "A value is trying to be set on a copy of a slice from a DataFrame.\n",
      "Try using .loc[row_indexer,col_indexer] = value instead\n",
      "\n",
      "See the caveats in the documentation: http://pandas.pydata.org/pandas-docs/stable/indexing.html#indexing-view-versus-copy\n",
      "  app.launch_new_instance()\n"
     ]
    }
   ],
   "source": [
    "second_page['Backlinks'] = second_page['Backlinks'].fillna(second_page['Backlinks'].mean())\n",
    "second_page['Domains'] = second_page['Domains'].fillna(second_page['Domains'].mean())\n",
    "second_page['length_title'] = second_page['length_title'].fillna(second_page['title'].str.len())\n",
    "second_page['length_title'] = second_page['length_title'].fillna(second_page['length_title'].mean())\n",
    "second_page['length_description'] = second_page['length_description'].fillna(second_page['length_description'].mean())\n",
    "second_page['length_headline'] = second_page['length_headline'].fillna(second_page['length_headline'].mean())\n",
    "second_page['Size'] = second_page['Size'].fillna(second_page['Size'].mean())\n",
    "second_page['word_count'] = second_page['word_count'].fillna(second_page['word_count'].mean())\n",
    "second_page['text_ratio'] = second_page['text_ratio'].fillna(second_page['text_ratio'].mean())\n",
    "second_page['url_score'] = second_page['url_score'].fillna(second_page['url_score'].mean())\n",
    "second_page['url_trust'] = second_page['url_trust'].fillna(second_page['url_trust'].mean())\n",
    "second_page['avg_backlink_score'] = second_page['avg_backlink_score'].fillna(second_page['avg_backlink_score'].mean())\n",
    "second_page['avg_backlink_trust'] = second_page['avg_backlink_trust'].fillna(second_page['avg_backlink_trust'].mean())\n",
    "second_page['Inlinks'] = second_page['Inlinks'].fillna(second_page['Inlinks'].mean())\n",
    "second_page['Outlinks'] = second_page['Outlinks'].fillna(second_page['Outlinks'].mean())\n",
    "second_page['external_outlinks'] = second_page['external_outlinks'].fillna(second_page['external_outlinks'].mean())"
   ]
  },
  {
   "cell_type": "code",
   "execution_count": 64,
   "metadata": {},
   "outputs": [
    {
     "data": {
      "text/plain": [
       "keyword                  0\n",
       "Position                 0\n",
       "volume                   0\n",
       "difficulty               0\n",
       "CPC                      0\n",
       "Url                      0\n",
       "Competition              0\n",
       "title                 3052\n",
       "Backlinks                0\n",
       "Domains                  0\n",
       "length_title             0\n",
       "length_description       0\n",
       "length_headline          0\n",
       "Size                     0\n",
       "word_count               0\n",
       "text_ratio               0\n",
       "Inlinks                  0\n",
       "Outlinks                 0\n",
       "external_outlinks        0\n",
       "url_score                0\n",
       "url_trust                0\n",
       "avg_backlink_score       0\n",
       "avg_backlink_trust       0\n",
       "competitor               0\n",
       "type                     0\n",
       "dtype: int64"
      ]
     },
     "execution_count": 64,
     "metadata": {},
     "output_type": "execute_result"
    }
   ],
   "source": [
    "second_page.isnull().sum()"
   ]
  },
  {
   "cell_type": "code",
   "execution_count": 65,
   "metadata": {
    "collapsed": true
   },
   "outputs": [],
   "source": [
    "competitor_seo = pd.concat([top_ranking, first_page, second_page])"
   ]
  },
  {
   "cell_type": "code",
   "execution_count": 66,
   "metadata": {},
   "outputs": [
    {
     "data": {
      "text/html": [
       "<div>\n",
       "<style>\n",
       "    .dataframe thead tr:only-child th {\n",
       "        text-align: right;\n",
       "    }\n",
       "\n",
       "    .dataframe thead th {\n",
       "        text-align: left;\n",
       "    }\n",
       "\n",
       "    .dataframe tbody tr th {\n",
       "        vertical-align: top;\n",
       "    }\n",
       "</style>\n",
       "<table border=\"1\" class=\"dataframe\">\n",
       "  <thead>\n",
       "    <tr style=\"text-align: right;\">\n",
       "      <th></th>\n",
       "      <th>keyword</th>\n",
       "      <th>Position</th>\n",
       "      <th>volume</th>\n",
       "      <th>difficulty</th>\n",
       "      <th>CPC</th>\n",
       "      <th>Url</th>\n",
       "      <th>Competition</th>\n",
       "      <th>title</th>\n",
       "      <th>Backlinks</th>\n",
       "      <th>Domains</th>\n",
       "      <th>...</th>\n",
       "      <th>text_ratio</th>\n",
       "      <th>Inlinks</th>\n",
       "      <th>Outlinks</th>\n",
       "      <th>external_outlinks</th>\n",
       "      <th>url_score</th>\n",
       "      <th>url_trust</th>\n",
       "      <th>avg_backlink_score</th>\n",
       "      <th>avg_backlink_trust</th>\n",
       "      <th>competitor</th>\n",
       "      <th>type</th>\n",
       "    </tr>\n",
       "  </thead>\n",
       "  <tbody>\n",
       "    <tr>\n",
       "      <th>2</th>\n",
       "      <td>sistema de chamados free</td>\n",
       "      <td>2</td>\n",
       "      <td>480</td>\n",
       "      <td>58.38</td>\n",
       "      <td>56.83</td>\n",
       "      <td>https://www.tomticket.com/</td>\n",
       "      <td>0.88</td>\n",
       "      <td>TomTicket - Sistema de Help Desk e Atendimento...</td>\n",
       "      <td>21.0</td>\n",
       "      <td>17.0</td>\n",
       "      <td>...</td>\n",
       "      <td>15.185576</td>\n",
       "      <td>131.0</td>\n",
       "      <td>33.0</td>\n",
       "      <td>22.0</td>\n",
       "      <td>3.0</td>\n",
       "      <td>0.0</td>\n",
       "      <td>7.0</td>\n",
       "      <td>6.0</td>\n",
       "      <td>tomticket</td>\n",
       "      <td>top_ranking</td>\n",
       "    </tr>\n",
       "    <tr>\n",
       "      <th>4</th>\n",
       "      <td>sistema para abertura de chamados</td>\n",
       "      <td>1</td>\n",
       "      <td>90</td>\n",
       "      <td>53.00</td>\n",
       "      <td>2.41</td>\n",
       "      <td>https://www.tomticket.com/</td>\n",
       "      <td>0.79</td>\n",
       "      <td>TomTicket - Sistema de Help Desk e Atendimento...</td>\n",
       "      <td>21.0</td>\n",
       "      <td>17.0</td>\n",
       "      <td>...</td>\n",
       "      <td>15.185576</td>\n",
       "      <td>131.0</td>\n",
       "      <td>33.0</td>\n",
       "      <td>22.0</td>\n",
       "      <td>3.0</td>\n",
       "      <td>0.0</td>\n",
       "      <td>7.0</td>\n",
       "      <td>6.0</td>\n",
       "      <td>tomticket</td>\n",
       "      <td>top_ranking</td>\n",
       "    </tr>\n",
       "  </tbody>\n",
       "</table>\n",
       "<p>2 rows × 25 columns</p>\n",
       "</div>"
      ],
      "text/plain": [
       "                             keyword  Position  volume  difficulty    CPC  \\\n",
       "2           sistema de chamados free         2     480       58.38  56.83   \n",
       "4  sistema para abertura de chamados         1      90       53.00   2.41   \n",
       "\n",
       "                          Url  Competition  \\\n",
       "2  https://www.tomticket.com/         0.88   \n",
       "4  https://www.tomticket.com/         0.79   \n",
       "\n",
       "                                               title  Backlinks  Domains  \\\n",
       "2  TomTicket - Sistema de Help Desk e Atendimento...       21.0     17.0   \n",
       "4  TomTicket - Sistema de Help Desk e Atendimento...       21.0     17.0   \n",
       "\n",
       "      ...       text_ratio  Inlinks  Outlinks  external_outlinks  url_score  \\\n",
       "2     ...        15.185576    131.0      33.0               22.0        3.0   \n",
       "4     ...        15.185576    131.0      33.0               22.0        3.0   \n",
       "\n",
       "   url_trust  avg_backlink_score  avg_backlink_trust  competitor         type  \n",
       "2        0.0                 7.0                 6.0   tomticket  top_ranking  \n",
       "4        0.0                 7.0                 6.0   tomticket  top_ranking  \n",
       "\n",
       "[2 rows x 25 columns]"
      ]
     },
     "execution_count": 66,
     "metadata": {},
     "output_type": "execute_result"
    }
   ],
   "source": [
    "competitor_seo.head(2)"
   ]
  },
  {
   "cell_type": "markdown",
   "metadata": {},
   "source": [
    "# Análise da distribuição dos dados"
   ]
  },
  {
   "cell_type": "markdown",
   "metadata": {},
   "source": [
    "### Criar dummys para variáveis de classificação"
   ]
  },
  {
   "cell_type": "code",
   "execution_count": 67,
   "metadata": {},
   "outputs": [
    {
     "name": "stdout",
     "output_type": "stream",
     "text": [
      "keyword 7732\n",
      "Url 1142\n",
      "title 548\n",
      "competitor 5\n",
      "type 3\n"
     ]
    }
   ],
   "source": [
    "#list of columns with dtype: object\n",
    "#axes[1] coluna\n",
    "#axes[0] linha\n",
    "categorical_features = competitor_seo.select_dtypes(include=['object']).axes[1] # retorna as vars que são do tipo objeto\n",
    "\n",
    "# unique: retorna os valores únicos\n",
    "# nunique: retorna o número de valores únicos\n",
    "for col in categorical_features:\n",
    "    print (col, competitor_seo[col].nunique()) # retorna as vars que são do tipo objeto e a quantidade de categorias em cada uma delas"
   ]
  },
  {
   "cell_type": "code",
   "execution_count": 68,
   "metadata": {
    "collapsed": true
   },
   "outputs": [],
   "source": [
    "competitor_seo = competitor_seo.drop(['Url', 'title'], axis=1)"
   ]
  },
  {
   "cell_type": "markdown",
   "metadata": {},
   "source": [
    "### Análise de correlação entre as variáveis"
   ]
  },
  {
   "cell_type": "code",
   "execution_count": 69,
   "metadata": {},
   "outputs": [
    {
     "data": {
      "image/png": "[encoded data removed]",
      "text/plain": [
       "<matplotlib.figure.Figure at 0xd360ac8>"
      ]
     },
     "metadata": {},
     "output_type": "display_data"
    }
   ],
   "source": [
    "sns.heatmap(competitor_seo.corr(), square=True, cmap='RdYlGn')\n",
    "plt.show()"
   ]
  },
  {
   "cell_type": "code",
   "execution_count": 70,
   "metadata": {},
   "outputs": [
    {
     "data": {
      "text/plain": [
       "Index(['keyword', 'Position', 'volume', 'difficulty', 'CPC', 'Competition',\n",
       "       'Backlinks', 'Domains', 'length_title', 'length_description',\n",
       "       'length_headline', 'Size', 'word_count', 'text_ratio', 'Inlinks',\n",
       "       'Outlinks', 'external_outlinks', 'url_score', 'url_trust',\n",
       "       'avg_backlink_score', 'avg_backlink_trust', 'competitor', 'type'],\n",
       "      dtype='object')"
      ]
     },
     "execution_count": 70,
     "metadata": {},
     "output_type": "execute_result"
    }
   ],
   "source": [
    "competitor_seo.columns"
   ]
  },
  {
   "cell_type": "code",
   "execution_count": 71,
   "metadata": {},
   "outputs": [
    {
     "name": "stdout",
     "output_type": "stream",
     "text": [
      "Histograma Posição\n"
     ]
    },
    {
     "data": {
      "image/png": "[encoded data removed]",
      "text/plain": [
       "<matplotlib.figure.Figure at 0xe70c400>"
      ]
     },
     "metadata": {},
     "output_type": "display_data"
    },
    {
     "name": "stdout",
     "output_type": "stream",
     "text": [
      "Histograma Volume\n"
     ]
    },
    {
     "data": {
      "image/png": "[encoded data removed]",
      "text/plain": [
       "<matplotlib.figure.Figure at 0xe9abcc0>"
      ]
     },
     "metadata": {},
     "output_type": "display_data"
    },
    {
     "name": "stdout",
     "output_type": "stream",
     "text": [
      "Histograma difficulty\n"
     ]
    },
    {
     "data": {
      "image/png": "[encoded data removed]",
      "text/plain": [
       "<matplotlib.figure.Figure at 0xe69c358>"
      ]
     },
     "metadata": {},
     "output_type": "display_data"
    },
    {
     "name": "stdout",
     "output_type": "stream",
     "text": [
      "Histograma CPC\n"
     ]
    },
    {
     "data": {
      "image/png": "[encoded data removed]",
      "text/plain": [
       "<matplotlib.figure.Figure at 0xe9cd550>"
      ]
     },
     "metadata": {},
     "output_type": "display_data"
    },
    {
     "name": "stdout",
     "output_type": "stream",
     "text": [
      "Histograma Competition\n"
     ]
    },
    {
     "data": {
      "image/png": "[encoded data removed]",
      "text/plain": [
       "<matplotlib.figure.Figure at 0xf04b7f0>"
      ]
     },
     "metadata": {},
     "output_type": "display_data"
    },
    {
     "name": "stdout",
     "output_type": "stream",
     "text": [
      "Histograma Backlinks\n"
     ]
    },
    {
     "data": {
      "image/png": "[encoded data removed]",
      "text/plain": [
       "<matplotlib.figure.Figure at 0xf4a2a90>"
      ]
     },
     "metadata": {},
     "output_type": "display_data"
    },
    {
     "name": "stdout",
     "output_type": "stream",
     "text": [
      "Histograma Domains\n"
     ]
    },
    {
     "data": {
      "image/png": "[encoded data removed]",
      "text/plain": [
       "<matplotlib.figure.Figure at 0xf42a320>"
      ]
     },
     "metadata": {},
     "output_type": "display_data"
    },
    {
     "name": "stdout",
     "output_type": "stream",
     "text": [
      "Histograma External_links\n"
     ]
    },
    {
     "data": {
      "image/png": "[encoded data removed]",
      "text/plain": [
       "<matplotlib.figure.Figure at 0xf07c668>"
      ]
     },
     "metadata": {},
     "output_type": "display_data"
    },
    {
     "name": "stdout",
     "output_type": "stream",
     "text": [
      "Histograma Internal_links\n"
     ]
    },
    {
     "data": {
      "image/png": "[encoded data removed]",
      "text/plain": [
       "<matplotlib.figure.Figure at 0xf4540b8>"
      ]
     },
     "metadata": {},
     "output_type": "display_data"
    },
    {
     "name": "stdout",
     "output_type": "stream",
     "text": [
      "Histograma Internal_links\n"
     ]
    },
    {
     "data": {
      "image/png": "[encoded data removed]",
      "text/plain": [
       "<matplotlib.figure.Figure at 0xd3aa2e8>"
      ]
     },
     "metadata": {},
     "output_type": "display_data"
    },
    {
     "name": "stdout",
     "output_type": "stream",
     "text": [
      "Histograma length_title\n"
     ]
    },
    {
     "data": {
      "image/png": "[encoded data removed]",
      "text/plain": [
       "<matplotlib.figure.Figure at 0xf8b2be0>"
      ]
     },
     "metadata": {},
     "output_type": "display_data"
    },
    {
     "name": "stdout",
     "output_type": "stream",
     "text": [
      "Histograma length_description\n"
     ]
    },
    {
     "data": {
      "image/png": "[encoded data removed]",
      "text/plain": [
       "<matplotlib.figure.Figure at 0xe6707f0>"
      ]
     },
     "metadata": {},
     "output_type": "display_data"
    },
    {
     "name": "stdout",
     "output_type": "stream",
     "text": [
      "Histograma length_headline\n"
     ]
    },
    {
     "data": {
      "image/png": "[encoded data removed]",
      "text/plain": [
       "<matplotlib.figure.Figure at 0xf4335c0>"
      ]
     },
     "metadata": {},
     "output_type": "display_data"
    },
    {
     "name": "stdout",
     "output_type": "stream",
     "text": [
      "Histograma Size\n"
     ]
    },
    {
     "data": {
      "image/png": "[encoded data removed]",
      "text/plain": [
       "<matplotlib.figure.Figure at 0xd173c50>"
      ]
     },
     "metadata": {},
     "output_type": "display_data"
    },
    {
     "name": "stdout",
     "output_type": "stream",
     "text": [
      "Histograma word_count\n"
     ]
    },
    {
     "data": {
      "image/png": "[encoded data removed]",
      "text/plain": [
       "<matplotlib.figure.Figure at 0xe652470>"
      ]
     },
     "metadata": {},
     "output_type": "display_data"
    },
    {
     "name": "stdout",
     "output_type": "stream",
     "text": [
      "Histograma text_ratio\n"
     ]
    },
    {
     "data": {
      "image/png": "[encoded data removed]",
      "text/plain": [
       "<matplotlib.figure.Figure at 0xee995f8>"
      ]
     },
     "metadata": {},
     "output_type": "display_data"
    },
    {
     "name": "stdout",
     "output_type": "stream",
     "text": [
      "Histograma url_score\n"
     ]
    },
    {
     "data": {
      "image/png": "[encoded data removed]",
      "text/plain": [
       "<matplotlib.figure.Figure at 0xd13a2e8>"
      ]
     },
     "metadata": {},
     "output_type": "display_data"
    },
    {
     "name": "stdout",
     "output_type": "stream",
     "text": [
      "Histograma url_trust\n"
     ]
    },
    {
     "data": {
      "image/png": "[encoded data removed]",
      "text/plain": [
       "<matplotlib.figure.Figure at 0xe68b7f0>"
      ]
     },
     "metadata": {},
     "output_type": "display_data"
    },
    {
     "name": "stdout",
     "output_type": "stream",
     "text": [
      "Histograma avg_backlink_score\n"
     ]
    },
    {
     "data": {
      "image/png": "[encoded data removed]",
      "text/plain": [
       "<matplotlib.figure.Figure at 0xf879748>"
      ]
     },
     "metadata": {},
     "output_type": "display_data"
    },
    {
     "name": "stdout",
     "output_type": "stream",
     "text": [
      "Histograma avg_backlink_trust\n"
     ]
    },
    {
     "data": {
      "image/png": "[encoded data removed]",
      "text/plain": [
       "<matplotlib.figure.Figure at 0xd386780>"
      ]
     },
     "metadata": {},
     "output_type": "display_data"
    }
   ],
   "source": [
    "# analisando visualmente as variáveis da base de dados\n",
    "# position\n",
    "print(\"Histograma Posição\" )\n",
    "plt.hist(competitor_seo['Position']);\n",
    "plt.show()\n",
    "\n",
    "#volume\n",
    "print(\"Histograma Volume\" )\n",
    "plt.hist(competitor_seo['volume']);\n",
    "plt.show()\n",
    "\n",
    "#difficulty\n",
    "print(\"Histograma difficulty\" )\n",
    "plt.hist(competitor_seo['difficulty']);\n",
    "plt.show()\n",
    "\n",
    "#CPC\n",
    "print(\"Histograma CPC\" )\n",
    "plt.hist(competitor_seo['CPC']);\n",
    "plt.show()\n",
    "\n",
    "#Competition\n",
    "print(\"Histograma Competition\" )\n",
    "plt.hist(competitor_seo['Competition']);\n",
    "plt.show()\n",
    "\n",
    "#Backlinks\n",
    "print(\"Histograma Backlinks\" )\n",
    "plt.hist(competitor_seo['Backlinks']);\n",
    "plt.show()\n",
    "\n",
    "#Domains\n",
    "print(\"Histograma Domains\" )\n",
    "plt.hist(competitor_seo['Domains']);\n",
    "plt.show()\n",
    "\n",
    "#external_links\n",
    "print(\"Histograma External_links\" )\n",
    "plt.hist(competitor_seo['Inlinks']);\n",
    "plt.show()\n",
    "\n",
    "#internal_links\n",
    "print(\"Histograma Internal_links\" )\n",
    "plt.hist(competitor_seo['Outlinks']);\n",
    "plt.show()\n",
    "\n",
    "print(\"Histograma Internal_links\" )\n",
    "plt.hist(competitor_seo['external_outlinks']);\n",
    "plt.show()\n",
    "\n",
    "#length_title\n",
    "print(\"Histograma length_title\" )\n",
    "plt.hist(competitor_seo['length_title']);\n",
    "plt.show()\n",
    "\n",
    "#length_description\n",
    "print(\"Histograma length_description\" )\n",
    "plt.hist(competitor_seo['length_description']);\n",
    "plt.show()\n",
    "\n",
    "#length_headline\n",
    "print(\"Histograma length_headline\" )\n",
    "plt.hist(competitor_seo['length_headline']);\n",
    "plt.show()\n",
    "\n",
    "#Size\n",
    "print(\"Histograma Size\" )\n",
    "plt.hist(competitor_seo['Size']);\n",
    "plt.show()\n",
    "\n",
    "#word_count\n",
    "print(\"Histograma word_count\" )\n",
    "plt.hist(competitor_seo['word_count']);\n",
    "plt.show()\n",
    "\n",
    "#text_ratio\n",
    "print(\"Histograma text_ratio\" )\n",
    "plt.hist(competitor_seo['text_ratio']);\n",
    "plt.show()\n",
    "\n",
    "#url_score\n",
    "print(\"Histograma url_score\" )\n",
    "plt.hist(competitor_seo['url_score']);\n",
    "plt.show()\n",
    "\n",
    "#url_trust\n",
    "print(\"Histograma url_trust\" )\n",
    "plt.hist(competitor_seo['url_trust']);\n",
    "plt.show()\n",
    "\n",
    "#avg_backlink_score\n",
    "print(\"Histograma avg_backlink_score\" )\n",
    "plt.hist(competitor_seo['avg_backlink_score']);\n",
    "plt.show()\n",
    "\n",
    "#avg_backlink_trust\n",
    "print(\"Histograma avg_backlink_trust\" )\n",
    "plt.hist(competitor_seo['avg_backlink_trust']);\n",
    "plt.show()"
   ]
  },
  {
   "cell_type": "markdown",
   "metadata": {},
   "source": [
    "### Normalizar os DataFrames"
   ]
  },
  {
   "cell_type": "code",
   "execution_count": 72,
   "metadata": {
    "collapsed": true
   },
   "outputs": [],
   "source": [
    "#from sklearn import preprocessing"
   ]
  },
  {
   "cell_type": "code",
   "execution_count": 73,
   "metadata": {
    "collapsed": true
   },
   "outputs": [],
   "source": [
    "#competitor_seo_normalized = competitor_seo.copy()"
   ]
  },
  {
   "cell_type": "code",
   "execution_count": 74,
   "metadata": {
    "collapsed": true
   },
   "outputs": [],
   "source": [
    "#competitor_seo_normalized.columns"
   ]
  },
  {
   "cell_type": "code",
   "execution_count": 75,
   "metadata": {
    "collapsed": true
   },
   "outputs": [],
   "source": [
    "#competitor_seo_normalized['volume']=(competitor_seo_normalized['volume']-competitor_seo_normalized['volume'].mean())/competitor_seo_normalized['volume'].std()\n",
    "#competitor_seo_normalized['CPC']=(competitor_seo_normalized['CPC']-competitor_seo_normalized['CPC'].mean())/competitor_seo_normalized['CPC'].std()\n",
    "#competitor_seo_normalized['Competition']=(competitor_seo_normalized['Competition']-competitor_seo_normalized['Competition'].mean())/competitor_seo_normalized['Competition'].std()\n",
    "#competitor_seo_normalized['Backlinks']=(competitor_seo_normalized['Backlinks']-competitor_seo_normalized['Backlinks'].mean())/competitor_seo_normalized['Backlinks'].std()\n",
    "#competitor_seo_normalized['Domains']=(competitor_seo_normalized['Domains']-competitor_seo_normalized['Domains'].mean())/competitor_seo_normalized['Domains'].std()\n",
    "#competitor_seo_normalized['external_links']=(competitor_seo_normalized['external_links']-competitor_seo_normalized['external_links'].mean())/competitor_seo_normalized['external_links'].std()\n",
    "#competitor_seo_normalized['internal_links']=(competitor_seo_normalized['internal_links']-competitor_seo_normalized['internal_links'].mean())/competitor_seo_normalized['internal_links'].std()\n",
    "#competitor_seo_normalized['length_title']=(competitor_seo_normalized['length_title']-competitor_seo_normalized['length_title'].mean())/competitor_seo_normalized['length_title'].std()\n",
    "#competitor_seo_normalized['length_description']=(competitor_seo_normalized['length_description']-competitor_seo_normalized['length_description'].mean())/competitor_seo_normalized['length_description'].std()\n",
    "#competitor_seo_normalized['length_headline']=(competitor_seo_normalized['length_headline']-competitor_seo_normalized['length_headline'].mean())/competitor_seo_normalized['length_headline'].std()\n",
    "#competitor_seo_normalized['Size']=(competitor_seo_normalized['Size']-competitor_seo_normalized['Size'].mean())/competitor_seo_normalized['Size'].std()\n",
    "#competitor_seo_normalized['word_count']=(competitor_seo_normalized['word_count']-competitor_seo_normalized['word_count'].mean())/competitor_seo_normalized['word_count'].std()\n",
    "#competitor_seo_normalized['text_ratio']=(competitor_seo_normalized['text_ratio']-competitor_seo_normalized['text_ratio'].mean())/competitor_seo_normalized['text_ratio'].std()\n",
    "#competitor_seo_normalized['url_score']=(competitor_seo_normalized['url_score']-competitor_seo_normalized['url_score'].mean())/competitor_seo_normalized['url_score'].std()\n",
    "#competitor_seo_normalized['url_trust']=(competitor_seo_normalized['url_trust']-competitor_seo_normalized['url_trust'].mean())/competitor_seo_normalized['url_trust'].std()\n",
    "#competitor_seo_normalized['avg_backlink_score']=(competitor_seo_normalized['avg_backlink_score']-competitor_seo_normalized['avg_backlink_score'].mean())/competitor_seo_normalized['avg_backlink_score'].std()\n",
    "#competitor_seo_normalized['avg_backlink_trust']=(competitor_seo_normalized['avg_backlink_trust']-competitor_seo_normalized['avg_backlink_trust'].mean())/competitor_seo_normalized['avg_backlink_trust'].std()"
   ]
  },
  {
   "cell_type": "code",
   "execution_count": 76,
   "metadata": {
    "collapsed": true
   },
   "outputs": [],
   "source": [
    "#competitor_seo_normalized.head()"
   ]
  },
  {
   "cell_type": "code",
   "execution_count": 77,
   "metadata": {
    "collapsed": true
   },
   "outputs": [],
   "source": [
    "#sns.heatmap(competitor_seo_normalized.corr(), square=True, cmap='RdYlGn')\n",
    "#plt.show()"
   ]
  },
  {
   "cell_type": "code",
   "execution_count": 78,
   "metadata": {
    "collapsed": true,
    "scrolled": false
   },
   "outputs": [],
   "source": [
    "## analisando visualmente as variáveis da base de dados\n",
    "## position\n",
    "#print(\"Histograma Posição\" )\n",
    "#plt.hist(competitor_seo_normalized['Position']);\n",
    "#plt.show()\n",
    "#\n",
    "##volume\n",
    "#print(\"Histograma Volume\" )\n",
    "#plt.hist(competitor_seo_normalized['volume']);\n",
    "#plt.show()\n",
    "#\n",
    "##difficulty\n",
    "#print(\"Histograma difficulty\" )\n",
    "#plt.hist(competitor_seo_normalized['difficulty']);\n",
    "#plt.show()\n",
    "#\n",
    "##CPC\n",
    "#print(\"Histograma CPC\" )\n",
    "#plt.hist(competitor_seo_normalized['CPC']);\n",
    "#plt.show()\n",
    "#\n",
    "##Competition\n",
    "#print(\"Histograma Competition\" )\n",
    "#plt.hist(competitor_seo_normalized['Competition']);\n",
    "#plt.show()\n",
    "#\n",
    "##Backlinks\n",
    "#print(\"Histograma Backlinks\" )\n",
    "#plt.hist(competitor_seo_normalized['Backlinks']);\n",
    "#plt.show()\n",
    "#\n",
    "##Domains\n",
    "#print(\"Histograma Domains\" )\n",
    "#plt.hist(competitor_seo_normalized['Domains']);\n",
    "#plt.show()\n",
    "#\n",
    "##external_links\n",
    "#print(\"Histograma External_links\" )\n",
    "#plt.hist(competitor_seo_normalized['external_links']);\n",
    "#plt.show()\n",
    "#\n",
    "##internal_links\n",
    "#print(\"Histograma Internal_links\" )\n",
    "#plt.hist(competitor_seo_normalized['internal_links']);\n",
    "#plt.show()\n",
    "#\n",
    "##length_title\n",
    "#print(\"Histograma length_title\" )\n",
    "#plt.hist(competitor_seo_normalized['length_title']);\n",
    "#plt.show()\n",
    "#\n",
    "##length_description\n",
    "#print(\"Histograma length_description\" )\n",
    "#plt.hist(competitor_seo_normalized['length_description']);\n",
    "#plt.show()\n",
    "#\n",
    "##length_headline\n",
    "#print(\"Histograma length_headline\" )\n",
    "#plt.hist(competitor_seo_normalized['length_headline']);\n",
    "#plt.show()\n",
    "\n",
    "##Size\n",
    "#print(\"Histograma Size\" )\n",
    "#plt.hist(competitor_seo_normalized['Size']);\n",
    "#plt.show()\n",
    "#\n",
    "##word_count\n",
    "#print(\"Histograma word_count\" )\n",
    "#plt.hist(competitor_seo_normalized['word_count']);\n",
    "#plt.show()\n",
    "#\n",
    "##text_ratio\n",
    "#print(\"Histograma text_ratio\" )\n",
    "#plt.hist(competitor_seo_normalized['text_ratio']);\n",
    "#plt.show()\n",
    "#\n",
    "##url_score\n",
    "#print(\"Histograma url_score\" )\n",
    "#plt.hist(competitor_seo_normalized['url_score']);\n",
    "#plt.show()\n",
    "#\n",
    "##url_trust\n",
    "#print(\"Histograma url_trust\" )\n",
    "#plt.hist(competitor_seo_normalized['url_trust']);\n",
    "#plt.show()\n",
    "\n",
    "##avg_backlink_score\n",
    "#print(\"Histograma avg_backlink_score\" )\n",
    "#plt.hist(competitor_seo_normalized['avg_backlink_score']);\n",
    "#plt.show()\n",
    "#\n",
    "##avg_backlink_trust\n",
    "#print(\"Histograma avg_backlink_trust\" )\n",
    "#plt.hist(competitor_seo_normalized['avg_backlink_trust']);\n",
    "#plt.show()"
   ]
  },
  {
   "cell_type": "markdown",
   "metadata": {},
   "source": [
    "### Insights"
   ]
  },
  {
   "cell_type": "markdown",
   "metadata": {},
   "source": [
    "#### Média das variáveis para as três categorias"
   ]
  },
  {
   "cell_type": "code",
   "execution_count": 79,
   "metadata": {
    "collapsed": true
   },
   "outputs": [],
   "source": [
    "mask_top = competitor_seo['type'] == 'top_ranking'\n",
    "mask_first = competitor_seo['type'] == 'first_page'\n",
    "mask_second = competitor_seo['type'] == 'second_page'"
   ]
  },
  {
   "cell_type": "code",
   "execution_count": 80,
   "metadata": {},
   "outputs": [
    {
     "data": {
      "text/html": [
       "<div>\n",
       "<style>\n",
       "    .dataframe thead tr:only-child th {\n",
       "        text-align: right;\n",
       "    }\n",
       "\n",
       "    .dataframe thead th {\n",
       "        text-align: left;\n",
       "    }\n",
       "\n",
       "    .dataframe tbody tr th {\n",
       "        vertical-align: top;\n",
       "    }\n",
       "</style>\n",
       "<table border=\"1\" class=\"dataframe\">\n",
       "  <thead>\n",
       "    <tr style=\"text-align: right;\">\n",
       "      <th></th>\n",
       "      <th>keyword</th>\n",
       "      <th>Position</th>\n",
       "      <th>volume</th>\n",
       "      <th>difficulty</th>\n",
       "      <th>CPC</th>\n",
       "      <th>Competition</th>\n",
       "      <th>Backlinks</th>\n",
       "      <th>Domains</th>\n",
       "      <th>length_title</th>\n",
       "      <th>length_description</th>\n",
       "      <th>...</th>\n",
       "      <th>text_ratio</th>\n",
       "      <th>Inlinks</th>\n",
       "      <th>Outlinks</th>\n",
       "      <th>external_outlinks</th>\n",
       "      <th>url_score</th>\n",
       "      <th>url_trust</th>\n",
       "      <th>avg_backlink_score</th>\n",
       "      <th>avg_backlink_trust</th>\n",
       "      <th>competitor</th>\n",
       "      <th>type</th>\n",
       "    </tr>\n",
       "  </thead>\n",
       "  <tbody>\n",
       "    <tr>\n",
       "      <th>2</th>\n",
       "      <td>sistema de chamados free</td>\n",
       "      <td>2</td>\n",
       "      <td>480</td>\n",
       "      <td>58.38</td>\n",
       "      <td>56.83</td>\n",
       "      <td>0.88</td>\n",
       "      <td>21.0</td>\n",
       "      <td>17.0</td>\n",
       "      <td>62.0</td>\n",
       "      <td>157.0</td>\n",
       "      <td>...</td>\n",
       "      <td>15.185576</td>\n",
       "      <td>131.0</td>\n",
       "      <td>33.0</td>\n",
       "      <td>22.0</td>\n",
       "      <td>3.0</td>\n",
       "      <td>0.0</td>\n",
       "      <td>7.0</td>\n",
       "      <td>6.0</td>\n",
       "      <td>tomticket</td>\n",
       "      <td>top_ranking</td>\n",
       "    </tr>\n",
       "    <tr>\n",
       "      <th>4</th>\n",
       "      <td>sistema para abertura de chamados</td>\n",
       "      <td>1</td>\n",
       "      <td>90</td>\n",
       "      <td>53.00</td>\n",
       "      <td>2.41</td>\n",
       "      <td>0.79</td>\n",
       "      <td>21.0</td>\n",
       "      <td>17.0</td>\n",
       "      <td>62.0</td>\n",
       "      <td>157.0</td>\n",
       "      <td>...</td>\n",
       "      <td>15.185576</td>\n",
       "      <td>131.0</td>\n",
       "      <td>33.0</td>\n",
       "      <td>22.0</td>\n",
       "      <td>3.0</td>\n",
       "      <td>0.0</td>\n",
       "      <td>7.0</td>\n",
       "      <td>6.0</td>\n",
       "      <td>tomticket</td>\n",
       "      <td>top_ranking</td>\n",
       "    </tr>\n",
       "    <tr>\n",
       "      <th>5</th>\n",
       "      <td>controle de chamados free</td>\n",
       "      <td>1</td>\n",
       "      <td>90</td>\n",
       "      <td>57.77</td>\n",
       "      <td>21.08</td>\n",
       "      <td>0.82</td>\n",
       "      <td>21.0</td>\n",
       "      <td>17.0</td>\n",
       "      <td>62.0</td>\n",
       "      <td>157.0</td>\n",
       "      <td>...</td>\n",
       "      <td>15.185576</td>\n",
       "      <td>131.0</td>\n",
       "      <td>33.0</td>\n",
       "      <td>22.0</td>\n",
       "      <td>3.0</td>\n",
       "      <td>0.0</td>\n",
       "      <td>7.0</td>\n",
       "      <td>6.0</td>\n",
       "      <td>tomticket</td>\n",
       "      <td>top_ranking</td>\n",
       "    </tr>\n",
       "    <tr>\n",
       "      <th>6</th>\n",
       "      <td>sistema de chamados</td>\n",
       "      <td>2</td>\n",
       "      <td>260</td>\n",
       "      <td>60.67</td>\n",
       "      <td>20.23</td>\n",
       "      <td>0.82</td>\n",
       "      <td>21.0</td>\n",
       "      <td>17.0</td>\n",
       "      <td>62.0</td>\n",
       "      <td>157.0</td>\n",
       "      <td>...</td>\n",
       "      <td>15.185576</td>\n",
       "      <td>131.0</td>\n",
       "      <td>33.0</td>\n",
       "      <td>22.0</td>\n",
       "      <td>3.0</td>\n",
       "      <td>0.0</td>\n",
       "      <td>7.0</td>\n",
       "      <td>6.0</td>\n",
       "      <td>tomticket</td>\n",
       "      <td>top_ranking</td>\n",
       "    </tr>\n",
       "    <tr>\n",
       "      <th>7</th>\n",
       "      <td>ticket tom</td>\n",
       "      <td>1</td>\n",
       "      <td>70</td>\n",
       "      <td>53.07</td>\n",
       "      <td>0.00</td>\n",
       "      <td>0.00</td>\n",
       "      <td>21.0</td>\n",
       "      <td>17.0</td>\n",
       "      <td>62.0</td>\n",
       "      <td>157.0</td>\n",
       "      <td>...</td>\n",
       "      <td>15.185576</td>\n",
       "      <td>131.0</td>\n",
       "      <td>33.0</td>\n",
       "      <td>22.0</td>\n",
       "      <td>3.0</td>\n",
       "      <td>0.0</td>\n",
       "      <td>7.0</td>\n",
       "      <td>6.0</td>\n",
       "      <td>tomticket</td>\n",
       "      <td>top_ranking</td>\n",
       "    </tr>\n",
       "  </tbody>\n",
       "</table>\n",
       "<p>5 rows × 23 columns</p>\n",
       "</div>"
      ],
      "text/plain": [
       "                             keyword  Position  volume  difficulty    CPC  \\\n",
       "2           sistema de chamados free         2     480       58.38  56.83   \n",
       "4  sistema para abertura de chamados         1      90       53.00   2.41   \n",
       "5          controle de chamados free         1      90       57.77  21.08   \n",
       "6                sistema de chamados         2     260       60.67  20.23   \n",
       "7                         ticket tom         1      70       53.07   0.00   \n",
       "\n",
       "   Competition  Backlinks  Domains  length_title  length_description  \\\n",
       "2         0.88       21.0     17.0          62.0               157.0   \n",
       "4         0.79       21.0     17.0          62.0               157.0   \n",
       "5         0.82       21.0     17.0          62.0               157.0   \n",
       "6         0.82       21.0     17.0          62.0               157.0   \n",
       "7         0.00       21.0     17.0          62.0               157.0   \n",
       "\n",
       "      ...       text_ratio  Inlinks  Outlinks  external_outlinks  url_score  \\\n",
       "2     ...        15.185576    131.0      33.0               22.0        3.0   \n",
       "4     ...        15.185576    131.0      33.0               22.0        3.0   \n",
       "5     ...        15.185576    131.0      33.0               22.0        3.0   \n",
       "6     ...        15.185576    131.0      33.0               22.0        3.0   \n",
       "7     ...        15.185576    131.0      33.0               22.0        3.0   \n",
       "\n",
       "   url_trust  avg_backlink_score  avg_backlink_trust  competitor         type  \n",
       "2        0.0                 7.0                 6.0   tomticket  top_ranking  \n",
       "4        0.0                 7.0                 6.0   tomticket  top_ranking  \n",
       "5        0.0                 7.0                 6.0   tomticket  top_ranking  \n",
       "6        0.0                 7.0                 6.0   tomticket  top_ranking  \n",
       "7        0.0                 7.0                 6.0   tomticket  top_ranking  \n",
       "\n",
       "[5 rows x 23 columns]"
      ]
     },
     "execution_count": 80,
     "metadata": {},
     "output_type": "execute_result"
    }
   ],
   "source": [
    "competitor_seo[mask_top].head()"
   ]
  },
  {
   "cell_type": "code",
   "execution_count": 81,
   "metadata": {},
   "outputs": [
    {
     "data": {
      "text/plain": [
       "Position                  6.872126\n",
       "volume                  250.014368\n",
       "difficulty               60.420560\n",
       "CPC                       8.312945\n",
       "Competition               0.346954\n",
       "Backlinks              1992.783133\n",
       "Domains                   9.430723\n",
       "length_title             55.157738\n",
       "length_description      178.168750\n",
       "length_headline          36.431250\n",
       "Size                  41618.137500\n",
       "word_count             1036.743750\n",
       "text_ratio               15.318247\n",
       "Inlinks                 184.418750\n",
       "Outlinks                 80.906250\n",
       "external_outlinks        25.106250\n",
       "url_score                10.307692\n",
       "url_trust                11.260355\n",
       "avg_backlink_score       53.334429\n",
       "avg_backlink_trust       54.655970\n",
       "dtype: float64"
      ]
     },
     "execution_count": 81,
     "metadata": {},
     "output_type": "execute_result"
    }
   ],
   "source": [
    "competitor_seo[mask_first].mean()"
   ]
  },
  {
   "cell_type": "code",
   "execution_count": 82,
   "metadata": {},
   "outputs": [
    {
     "data": {
      "text/plain": [
       "Position                 55.995170\n",
       "volume                 1209.185485\n",
       "difficulty               70.757136\n",
       "CPC                       2.014595\n",
       "Competition               0.214323\n",
       "Backlinks              1161.331525\n",
       "Domains                   5.076806\n",
       "length_title             60.160563\n",
       "length_description      158.865636\n",
       "length_headline          25.570155\n",
       "Size                  36233.074316\n",
       "word_count              920.316885\n",
       "text_ratio               15.881413\n",
       "Inlinks                 183.609394\n",
       "Outlinks                 62.994649\n",
       "external_outlinks        23.439358\n",
       "url_score                11.908854\n",
       "url_trust                13.176432\n",
       "avg_backlink_score       60.721377\n",
       "avg_backlink_trust       62.164153\n",
       "dtype: float64"
      ]
     },
     "execution_count": 82,
     "metadata": {},
     "output_type": "execute_result"
    }
   ],
   "source": [
    "competitor_seo[mask_second].mean()"
   ]
  },
  {
   "cell_type": "markdown",
   "metadata": {},
   "source": [
    "### Analisando sem preenchimento dos NaNs"
   ]
  },
  {
   "cell_type": "code",
   "execution_count": 83,
   "metadata": {
    "collapsed": true
   },
   "outputs": [],
   "source": [
    "final2 = final.copy()"
   ]
  },
  {
   "cell_type": "code",
   "execution_count": 84,
   "metadata": {},
   "outputs": [
    {
     "data": {
      "text/plain": [
       "(8902, 25)"
      ]
     },
     "execution_count": 84,
     "metadata": {},
     "output_type": "execute_result"
    }
   ],
   "source": [
    "final2.shape"
   ]
  },
  {
   "cell_type": "code",
   "execution_count": 85,
   "metadata": {
    "collapsed": true
   },
   "outputs": [],
   "source": [
    "final2 = final2.dropna(how='any')"
   ]
  },
  {
   "cell_type": "code",
   "execution_count": 86,
   "metadata": {},
   "outputs": [
    {
     "data": {
      "text/plain": [
       "(822, 25)"
      ]
     },
     "execution_count": 86,
     "metadata": {},
     "output_type": "execute_result"
    }
   ],
   "source": [
    "final2.shape"
   ]
  },
  {
   "cell_type": "code",
   "execution_count": 87,
   "metadata": {},
   "outputs": [
    {
     "data": {
      "text/plain": [
       "first_page     721\n",
       "top_ranking    101\n",
       "Name: type, dtype: int64"
      ]
     },
     "execution_count": 87,
     "metadata": {},
     "output_type": "execute_result"
    }
   ],
   "source": [
    "final2.type.value_counts()"
   ]
  },
  {
   "cell_type": "code",
   "execution_count": 88,
   "metadata": {
    "collapsed": true
   },
   "outputs": [],
   "source": [
    "mask_final2 = final2['type'] == 'first_page'\n",
    "mask_final3 = final2['type'] == 'top_ranking'"
   ]
  },
  {
   "cell_type": "code",
   "execution_count": 89,
   "metadata": {
    "collapsed": true
   },
   "outputs": [],
   "source": [
    "final3 = final2[mask_final2]"
   ]
  },
  {
   "cell_type": "code",
   "execution_count": 90,
   "metadata": {},
   "outputs": [
    {
     "name": "stderr",
     "output_type": "stream",
     "text": [
      "C:\\Users\\Vitor.Souza\\Documents\\anaconda3\\lib\\site-packages\\ipykernel_launcher.py:1: SettingWithCopyWarning: \n",
      "A value is trying to be set on a copy of a slice from a DataFrame.\n",
      "Try using .loc[row_indexer,col_indexer] = value instead\n",
      "\n",
      "See the caveats in the documentation: http://pandas.pydata.org/pandas-docs/stable/indexing.html#indexing-view-versus-copy\n",
      "  \"\"\"Entry point for launching an IPython kernel.\n"
     ]
    }
   ],
   "source": [
    "final3['type'] = np.where(final3['Position'] > 10, 'second_page', 'first_page')"
   ]
  },
  {
   "cell_type": "code",
   "execution_count": 91,
   "metadata": {
    "collapsed": true
   },
   "outputs": [],
   "source": [
    "final4= final2[mask_final3]"
   ]
  },
  {
   "cell_type": "code",
   "execution_count": 92,
   "metadata": {
    "collapsed": true
   },
   "outputs": [],
   "source": [
    "competitor_seo_without_nans = pd.concat([final3, final4])"
   ]
  },
  {
   "cell_type": "code",
   "execution_count": 93,
   "metadata": {},
   "outputs": [
    {
     "data": {
      "text/plain": [
       "second_page    632\n",
       "top_ranking    101\n",
       "first_page      89\n",
       "Name: type, dtype: int64"
      ]
     },
     "execution_count": 93,
     "metadata": {},
     "output_type": "execute_result"
    }
   ],
   "source": [
    "competitor_seo_without_nans['type'].value_counts()"
   ]
  },
  {
   "cell_type": "code",
   "execution_count": 94,
   "metadata": {},
   "outputs": [
    {
     "data": {
      "text/html": [
       "<div>\n",
       "<style>\n",
       "    .dataframe thead tr:only-child th {\n",
       "        text-align: right;\n",
       "    }\n",
       "\n",
       "    .dataframe thead th {\n",
       "        text-align: left;\n",
       "    }\n",
       "\n",
       "    .dataframe tbody tr th {\n",
       "        vertical-align: top;\n",
       "    }\n",
       "</style>\n",
       "<table border=\"1\" class=\"dataframe\">\n",
       "  <thead>\n",
       "    <tr style=\"text-align: right;\">\n",
       "      <th></th>\n",
       "      <th>keyword</th>\n",
       "      <th>Position</th>\n",
       "      <th>volume</th>\n",
       "      <th>difficulty</th>\n",
       "      <th>CPC</th>\n",
       "      <th>Url</th>\n",
       "      <th>Competition</th>\n",
       "      <th>title</th>\n",
       "      <th>Backlinks</th>\n",
       "      <th>Domains</th>\n",
       "      <th>...</th>\n",
       "      <th>text_ratio</th>\n",
       "      <th>Inlinks</th>\n",
       "      <th>Outlinks</th>\n",
       "      <th>external_outlinks</th>\n",
       "      <th>url_score</th>\n",
       "      <th>url_trust</th>\n",
       "      <th>avg_backlink_score</th>\n",
       "      <th>avg_backlink_trust</th>\n",
       "      <th>competitor</th>\n",
       "      <th>type</th>\n",
       "    </tr>\n",
       "  </thead>\n",
       "  <tbody>\n",
       "    <tr>\n",
       "      <th>2</th>\n",
       "      <td>sistema de chamados free</td>\n",
       "      <td>2</td>\n",
       "      <td>480</td>\n",
       "      <td>58.38</td>\n",
       "      <td>56.83</td>\n",
       "      <td>https://www.tomticket.com/</td>\n",
       "      <td>0.88</td>\n",
       "      <td>TomTicket - Sistema de Help Desk e Atendimento...</td>\n",
       "      <td>21.0</td>\n",
       "      <td>17.0</td>\n",
       "      <td>...</td>\n",
       "      <td>15.185576</td>\n",
       "      <td>131.0</td>\n",
       "      <td>33.0</td>\n",
       "      <td>22.0</td>\n",
       "      <td>3.0</td>\n",
       "      <td>0.0</td>\n",
       "      <td>7.0</td>\n",
       "      <td>6.0</td>\n",
       "      <td>tomticket</td>\n",
       "      <td>top_ranking</td>\n",
       "    </tr>\n",
       "    <tr>\n",
       "      <th>4</th>\n",
       "      <td>sistema para abertura de chamados</td>\n",
       "      <td>1</td>\n",
       "      <td>90</td>\n",
       "      <td>53.00</td>\n",
       "      <td>2.41</td>\n",
       "      <td>https://www.tomticket.com/</td>\n",
       "      <td>0.79</td>\n",
       "      <td>TomTicket - Sistema de Help Desk e Atendimento...</td>\n",
       "      <td>21.0</td>\n",
       "      <td>17.0</td>\n",
       "      <td>...</td>\n",
       "      <td>15.185576</td>\n",
       "      <td>131.0</td>\n",
       "      <td>33.0</td>\n",
       "      <td>22.0</td>\n",
       "      <td>3.0</td>\n",
       "      <td>0.0</td>\n",
       "      <td>7.0</td>\n",
       "      <td>6.0</td>\n",
       "      <td>tomticket</td>\n",
       "      <td>top_ranking</td>\n",
       "    </tr>\n",
       "    <tr>\n",
       "      <th>5</th>\n",
       "      <td>controle de chamados free</td>\n",
       "      <td>1</td>\n",
       "      <td>90</td>\n",
       "      <td>57.77</td>\n",
       "      <td>21.08</td>\n",
       "      <td>https://www.tomticket.com/</td>\n",
       "      <td>0.82</td>\n",
       "      <td>TomTicket - Sistema de Help Desk e Atendimento...</td>\n",
       "      <td>21.0</td>\n",
       "      <td>17.0</td>\n",
       "      <td>...</td>\n",
       "      <td>15.185576</td>\n",
       "      <td>131.0</td>\n",
       "      <td>33.0</td>\n",
       "      <td>22.0</td>\n",
       "      <td>3.0</td>\n",
       "      <td>0.0</td>\n",
       "      <td>7.0</td>\n",
       "      <td>6.0</td>\n",
       "      <td>tomticket</td>\n",
       "      <td>top_ranking</td>\n",
       "    </tr>\n",
       "    <tr>\n",
       "      <th>6</th>\n",
       "      <td>sistema de chamados</td>\n",
       "      <td>2</td>\n",
       "      <td>260</td>\n",
       "      <td>60.67</td>\n",
       "      <td>20.23</td>\n",
       "      <td>https://www.tomticket.com/</td>\n",
       "      <td>0.82</td>\n",
       "      <td>TomTicket - Sistema de Help Desk e Atendimento...</td>\n",
       "      <td>21.0</td>\n",
       "      <td>17.0</td>\n",
       "      <td>...</td>\n",
       "      <td>15.185576</td>\n",
       "      <td>131.0</td>\n",
       "      <td>33.0</td>\n",
       "      <td>22.0</td>\n",
       "      <td>3.0</td>\n",
       "      <td>0.0</td>\n",
       "      <td>7.0</td>\n",
       "      <td>6.0</td>\n",
       "      <td>tomticket</td>\n",
       "      <td>top_ranking</td>\n",
       "    </tr>\n",
       "    <tr>\n",
       "      <th>7</th>\n",
       "      <td>ticket tom</td>\n",
       "      <td>1</td>\n",
       "      <td>70</td>\n",
       "      <td>53.07</td>\n",
       "      <td>0.00</td>\n",
       "      <td>https://www.tomticket.com/</td>\n",
       "      <td>0.00</td>\n",
       "      <td>TomTicket - Sistema de Help Desk e Atendimento...</td>\n",
       "      <td>21.0</td>\n",
       "      <td>17.0</td>\n",
       "      <td>...</td>\n",
       "      <td>15.185576</td>\n",
       "      <td>131.0</td>\n",
       "      <td>33.0</td>\n",
       "      <td>22.0</td>\n",
       "      <td>3.0</td>\n",
       "      <td>0.0</td>\n",
       "      <td>7.0</td>\n",
       "      <td>6.0</td>\n",
       "      <td>tomticket</td>\n",
       "      <td>top_ranking</td>\n",
       "    </tr>\n",
       "  </tbody>\n",
       "</table>\n",
       "<p>5 rows × 25 columns</p>\n",
       "</div>"
      ],
      "text/plain": [
       "                             keyword  Position  volume  difficulty    CPC  \\\n",
       "2           sistema de chamados free         2     480       58.38  56.83   \n",
       "4  sistema para abertura de chamados         1      90       53.00   2.41   \n",
       "5          controle de chamados free         1      90       57.77  21.08   \n",
       "6                sistema de chamados         2     260       60.67  20.23   \n",
       "7                         ticket tom         1      70       53.07   0.00   \n",
       "\n",
       "                          Url  Competition  \\\n",
       "2  https://www.tomticket.com/         0.88   \n",
       "4  https://www.tomticket.com/         0.79   \n",
       "5  https://www.tomticket.com/         0.82   \n",
       "6  https://www.tomticket.com/         0.82   \n",
       "7  https://www.tomticket.com/         0.00   \n",
       "\n",
       "                                               title  Backlinks  Domains  \\\n",
       "2  TomTicket - Sistema de Help Desk e Atendimento...       21.0     17.0   \n",
       "4  TomTicket - Sistema de Help Desk e Atendimento...       21.0     17.0   \n",
       "5  TomTicket - Sistema de Help Desk e Atendimento...       21.0     17.0   \n",
       "6  TomTicket - Sistema de Help Desk e Atendimento...       21.0     17.0   \n",
       "7  TomTicket - Sistema de Help Desk e Atendimento...       21.0     17.0   \n",
       "\n",
       "      ...       text_ratio  Inlinks  Outlinks  external_outlinks  url_score  \\\n",
       "2     ...        15.185576    131.0      33.0               22.0        3.0   \n",
       "4     ...        15.185576    131.0      33.0               22.0        3.0   \n",
       "5     ...        15.185576    131.0      33.0               22.0        3.0   \n",
       "6     ...        15.185576    131.0      33.0               22.0        3.0   \n",
       "7     ...        15.185576    131.0      33.0               22.0        3.0   \n",
       "\n",
       "   url_trust  avg_backlink_score  avg_backlink_trust  competitor         type  \n",
       "2        0.0                 7.0                 6.0   tomticket  top_ranking  \n",
       "4        0.0                 7.0                 6.0   tomticket  top_ranking  \n",
       "5        0.0                 7.0                 6.0   tomticket  top_ranking  \n",
       "6        0.0                 7.0                 6.0   tomticket  top_ranking  \n",
       "7        0.0                 7.0                 6.0   tomticket  top_ranking  \n",
       "\n",
       "[5 rows x 25 columns]"
      ]
     },
     "execution_count": 94,
     "metadata": {},
     "output_type": "execute_result"
    }
   ],
   "source": [
    "competitor_seo_without_nans[competitor_seo_without_nans['type'] == 'top_ranking'].head()"
   ]
  },
  {
   "cell_type": "code",
   "execution_count": 95,
   "metadata": {
    "scrolled": true
   },
   "outputs": [
    {
     "data": {
      "text/plain": [
       "Position                  6.528090\n",
       "volume                  297.752809\n",
       "difficulty               53.083146\n",
       "CPC                      25.673820\n",
       "Competition               0.660225\n",
       "Backlinks              7432.258427\n",
       "Domains                  34.033708\n",
       "length_title             62.089888\n",
       "length_description      179.123596\n",
       "length_headline          29.516854\n",
       "Size                  45703.617978\n",
       "word_count             1074.112360\n",
       "text_ratio               14.364992\n",
       "Inlinks                 231.146067\n",
       "Outlinks                 82.078652\n",
       "external_outlinks        26.674157\n",
       "url_score                18.033708\n",
       "url_trust                18.078652\n",
       "avg_backlink_score       34.354067\n",
       "avg_backlink_trust       35.650821\n",
       "dtype: float64"
      ]
     },
     "execution_count": 95,
     "metadata": {},
     "output_type": "execute_result"
    }
   ],
   "source": [
    "competitor_seo_without_nans[competitor_seo_without_nans['type'] == 'first_page'].mean()"
   ]
  },
  {
   "cell_type": "code",
   "execution_count": 96,
   "metadata": {},
   "outputs": [
    {
     "data": {
      "text/plain": [
       "Position                 57.283228\n",
       "volume                 1344.572785\n",
       "difficulty               66.573513\n",
       "CPC                       5.021424\n",
       "Competition               0.371582\n",
       "Backlinks              8466.569620\n",
       "Domains                  35.183544\n",
       "length_title             58.185127\n",
       "length_description      171.493671\n",
       "length_headline          24.509494\n",
       "Size                  45213.895570\n",
       "word_count              976.811709\n",
       "text_ratio               13.346426\n",
       "Inlinks                 288.846519\n",
       "Outlinks                 84.962025\n",
       "external_outlinks        28.678797\n",
       "url_score                24.087025\n",
       "url_trust                25.047468\n",
       "avg_backlink_score       54.395115\n",
       "avg_backlink_trust       56.337153\n",
       "dtype: float64"
      ]
     },
     "execution_count": 96,
     "metadata": {},
     "output_type": "execute_result"
    }
   ],
   "source": [
    "competitor_seo_without_nans[competitor_seo_without_nans['type'] == 'second_page'].mean()"
   ]
  },
  {
   "cell_type": "markdown",
   "metadata": {},
   "source": [
    "### Subindo a base do Octadesk para comparação"
   ]
  },
  {
   "cell_type": "code",
   "execution_count": 97,
   "metadata": {
    "collapsed": true
   },
   "outputs": [],
   "source": [
    "##### Keyword dataset\n",
    "\n",
    "kw_octadesk = pd.read_csv('data/octadesk/octadesk.com-organic_kw.csv', sep=',')\n",
    "\n",
    "kw_octadesk = kw_octadesk.drop(['Previous Position', 'Traffic (%)', 'Traffic Cost (%)', \\\n",
    "                                  'Number of Results', 'Trends', 'Timestamp'], axis=1)\n",
    "\n",
    "kw_octadesk = kw_octadesk.rename(index=str, columns={'Search Volume':'volume', \\\n",
    "                                                        'Keyword Difficulty Index': 'difficulty',\\\n",
    "                                                          'Keyword':'keyword'})"
   ]
  },
  {
   "cell_type": "code",
   "execution_count": 98,
   "metadata": {
    "collapsed": true
   },
   "outputs": [],
   "source": [
    "##### backlinks dataset\n",
    "\n",
    "backlinks_octadesk = pd.read_csv('data/octadesk/octadesk.com-backlinks.csv', sep=',')\n",
    "\n",
    "backlinks_octadesk = backlinks_octadesk.drop(['First seen', 'Last seen', 'New link', \\\n",
    "                                                'Lost link', 'External links', \\\n",
    "                                                'Internal links'], axis=1)\n",
    "\n",
    "backlinks_octadesk = backlinks_octadesk.rename(index=str, columns={'Target url': 'Url', \\\n",
    "                                                                     'Source url': 'url_backlink',\\\n",
    "                                                                     'Source title': 'backlink_title', \\\n",
    "                                                                    'Page score': 'url_score', \\\n",
    "                                                                    'Page trust score': 'url_trust'})\n",
    "\n",
    "backlinks_octadesk['Nofollow'] = np.where(backlinks_octadesk['Nofollow'] == False, 0, 1)\n",
    "backlinks_octadesk['Text'] = np.where(backlinks_octadesk['Text'] == False, 0, 1)\n",
    "backlinks_octadesk['Frame'] = np.where(backlinks_octadesk['Frame'] == False, 0, 1)\n",
    "backlinks_octadesk['Form'] = np.where(backlinks_octadesk['Form'] == False, 0, 1)\n",
    "backlinks_octadesk['Image'] = np.where(backlinks_octadesk['Image'] == False, 0, 1)\n",
    "backlinks_octadesk['Sitewide'] = np.where(backlinks_octadesk['Sitewide'] == False, 0, 1)\n",
    "\n",
    "backlinks_octadesk['backlink_domain'] = backlinks_octadesk['url_backlink'].str.split('www.').str[1]\n",
    "backlinks_octadesk['backlink_domain'] = backlinks_octadesk['backlink_domain'].str.split('/').str[0]"
   ]
  },
  {
   "cell_type": "code",
   "execution_count": 99,
   "metadata": {
    "collapsed": true
   },
   "outputs": [],
   "source": [
    "##### backlink_pages dataset\n",
    "\n",
    "bl_pages_octadesk = pd.read_csv('data/octadesk/octadesk.com-backlinks_pages.csv', sep=',')\n",
    "\n",
    "bl_pages_octadesk = bl_pages_octadesk.drop(['Response code', 'Last seen','External links','Internal links'], axis=1)\n",
    "\n",
    "bl_pages_octadesk = bl_pages_octadesk.rename(index=str, columns={'Source url':'Url', 'Source title': 'title'})"
   ]
  },
  {
   "cell_type": "code",
   "execution_count": 100,
   "metadata": {
    "collapsed": true
   },
   "outputs": [],
   "source": [
    "##### ref dataset\n",
    "\n",
    "ref_octadesk = pd.read_csv('data/octadesk/octadesk.com-backlinks_refdomains.csv', sep=',')\n",
    "\n",
    "ref_octadesk = ref_octadesk.drop(['IP Address', 'Last seen', 'First seen', 'Backlinks'], axis=1)\n",
    "\n",
    "ref_octadesk = ref_octadesk.rename(index=str, columns={'Domain score':'backlink_score', \\\n",
    "                                                         'Domain trust score': 'backlink_trust', \\\n",
    "                                                         'Domain': 'backlink_domain', \\\n",
    "                                                         'Country': 'country'})"
   ]
  },
  {
   "cell_type": "code",
   "execution_count": 101,
   "metadata": {
    "collapsed": true
   },
   "outputs": [],
   "source": [
    "##### Screaming frog dataset\n",
    "\n",
    "frog_octadesk = pd.read_csv('data/octadesk/octadesk.com-frog.csv', sep=',', skiprows=1)\n",
    "\n",
    "frog_octadesk = frog_octadesk.drop(['Status Code', 'Status', \\\n",
    "                                      'Title 1 Pixel Width', 'Meta Description 1 Pixel Width',\\\n",
    "                                      'Meta Keyword 1', 'Meta Keywords 1 Length',\\\n",
    "                                      'H2-1', 'H2-1 length', 'H2-2', 'H2-2 length', \\\n",
    "                                      'Meta Robots 1', 'Meta Refresh 1', 'Canonical Link Element 1',\\\n",
    "                                      'Crawl Depth','Unique Inlinks', '% of Total',\\\n",
    "                                      'Unique Outlinks',\\\n",
    "                                      'Unique External Outlinks', 'Hash', \\\n",
    "                                      'Response Time', 'Last Modified',\n",
    "                                      'Redirect URI', 'Redirect Type', \\\n",
    "                                      'URL Encoded Address', 'Content', 'Title 1', 'Meta Description 1', 'H1-1'], axis=1)\n",
    "\n",
    "frog_octadesk = frog_octadesk.rename(index=str, columns={'Address':'Url', \\\n",
    "                                                        'Title 1 Length': 'length_title', \\\n",
    "                                                        'Meta Description 1 Length': 'length_description',\\\n",
    "                                                        'H1-1 length': 'length_headline', \\\n",
    "                                                        'Word Count': 'word_count', \\\n",
    "                                                        'Text Ratio': 'text_ratio',\n",
    "                                                        'External Outlinks':'external_outlinks'})"
   ]
  },
  {
   "cell_type": "code",
   "execution_count": 102,
   "metadata": {
    "collapsed": true
   },
   "outputs": [],
   "source": [
    "##### final dataset\n",
    "\n",
    "octadesk = kw_octadesk\n",
    "\n",
    "octadesk2 = octadesk.merge(bl_pages_octadesk, on='Url', how='left')\n",
    "\n",
    "octadesk3 = octadesk2.merge(frog_octadesk, on=\"Url\", how='left')\n",
    "\n",
    "backlinks_octadesk_final = backlinks_octadesk.merge(ref_octadesk, on='backlink_domain', how='left')\n",
    "\n",
    "backlinks_octadesk_final['avg_backlink_score'] = backlinks_octadesk_final.groupby('Url')['backlink_score'].transform('mean')\n",
    "backlinks_octadesk_final['avg_backlink_trust'] = backlinks_octadesk_final.groupby('Url')['backlink_trust'].transform('mean')\n",
    "\n",
    "backlinks_octadesk_final2 = backlinks_octadesk_final.copy()\n",
    "\n",
    "backlinks_octadesk_final2 = backlinks_octadesk_final2.drop(['backlink_title', 'url_backlink', 'Anchor', 'backlink_domain', 'country', 'backlink_score', 'backlink_trust'], axis=1)\n",
    "\n",
    "octadesk_final = octadesk3.merge(backlinks_octadesk_final2, on='Url', how='left')\n",
    "\n",
    "octadesk_final = octadesk_final.drop_duplicates(['keyword', 'Url'])"
   ]
  },
  {
   "cell_type": "code",
   "execution_count": 103,
   "metadata": {
    "collapsed": true
   },
   "outputs": [],
   "source": [
    "octadesk_final['competitor'] = 'octadesk'"
   ]
  },
  {
   "cell_type": "code",
   "execution_count": 104,
   "metadata": {},
   "outputs": [
    {
     "data": {
      "text/plain": [
       "Index(['keyword', 'Position', 'volume', 'difficulty', 'CPC', 'Url',\n",
       "       'Competition', 'title', 'Backlinks', 'Domains', 'length_title',\n",
       "       'length_description', 'length_headline', 'H1-2', 'H1-2 length', 'Size',\n",
       "       'word_count', 'text_ratio', 'Inlinks', 'Outlinks', 'external_outlinks',\n",
       "       'url_score', 'url_trust', 'Nofollow', 'Text', 'Frame', 'Form', 'Image',\n",
       "       'Sitewide', 'avg_backlink_score', 'avg_backlink_trust', 'competitor'],\n",
       "      dtype='object')"
      ]
     },
     "execution_count": 104,
     "metadata": {},
     "output_type": "execute_result"
    }
   ],
   "source": [
    "octadesk_final.columns"
   ]
  },
  {
   "cell_type": "code",
   "execution_count": 105,
   "metadata": {
    "collapsed": true
   },
   "outputs": [],
   "source": [
    "octadesk_final = octadesk_final.drop(['H1-2', 'H1-2 length', 'Nofollow', 'Text', 'Frame', 'Form', 'Image', 'Sitewide'], axis=1)"
   ]
  },
  {
   "cell_type": "code",
   "execution_count": 106,
   "metadata": {
    "collapsed": true
   },
   "outputs": [],
   "source": [
    "octadesk_final['type'] = np.where(octadesk_final['Position'] <= 3, 'top_ranking', 'first_page')"
   ]
  },
  {
   "cell_type": "code",
   "execution_count": 107,
   "metadata": {
    "collapsed": true
   },
   "outputs": [],
   "source": [
    "mask_octadesk_1 = octadesk_final['type'] == 'first_page'\n",
    "mask_octadesk_2 = octadesk_final['type'] == 'top_ranking'"
   ]
  },
  {
   "cell_type": "code",
   "execution_count": 108,
   "metadata": {
    "collapsed": true
   },
   "outputs": [],
   "source": [
    "octadesk_final2= octadesk_final[mask_octadesk_1]\n",
    "octadesk_final3 = octadesk_final[mask_octadesk_2]"
   ]
  },
  {
   "cell_type": "code",
   "execution_count": 109,
   "metadata": {},
   "outputs": [
    {
     "name": "stderr",
     "output_type": "stream",
     "text": [
      "C:\\Users\\Vitor.Souza\\Documents\\anaconda3\\lib\\site-packages\\ipykernel_launcher.py:1: SettingWithCopyWarning: \n",
      "A value is trying to be set on a copy of a slice from a DataFrame.\n",
      "Try using .loc[row_indexer,col_indexer] = value instead\n",
      "\n",
      "See the caveats in the documentation: http://pandas.pydata.org/pandas-docs/stable/indexing.html#indexing-view-versus-copy\n",
      "  \"\"\"Entry point for launching an IPython kernel.\n"
     ]
    }
   ],
   "source": [
    "octadesk_final2['type'] = np.where(octadesk_final2['Position'] > 10, 'second_page', 'first_page')"
   ]
  },
  {
   "cell_type": "code",
   "execution_count": 110,
   "metadata": {
    "collapsed": true
   },
   "outputs": [],
   "source": [
    "octadesk_final4 = pd.concat([octadesk_final2, octadesk_final3])"
   ]
  },
  {
   "cell_type": "code",
   "execution_count": 111,
   "metadata": {
    "collapsed": true
   },
   "outputs": [],
   "source": [
    "octadesk_seo = octadesk_final4.copy()"
   ]
  },
  {
   "cell_type": "code",
   "execution_count": 112,
   "metadata": {
    "collapsed": true
   },
   "outputs": [],
   "source": [
    "octadesk_without_nan = octadesk_seo.dropna(how='any')"
   ]
  },
  {
   "cell_type": "code",
   "execution_count": 113,
   "metadata": {},
   "outputs": [
    {
     "data": {
      "text/plain": [
       "(57, 25)"
      ]
     },
     "execution_count": 113,
     "metadata": {},
     "output_type": "execute_result"
    }
   ],
   "source": [
    "octadesk_without_nan.shape"
   ]
  },
  {
   "cell_type": "code",
   "execution_count": 114,
   "metadata": {
    "collapsed": true
   },
   "outputs": [],
   "source": [
    "octadesk_with_nan = octadesk_final4.copy()"
   ]
  },
  {
   "cell_type": "code",
   "execution_count": 115,
   "metadata": {
    "collapsed": true
   },
   "outputs": [],
   "source": [
    "octadesk_with_nan['Backlinks'] = octadesk_with_nan['Backlinks'].fillna(octadesk_with_nan['Backlinks'].mean())\n",
    "octadesk_with_nan['Domains'] = octadesk_with_nan['Domains'].fillna(octadesk_with_nan['Domains'].mean())\n",
    "octadesk_with_nan['length_title'] = octadesk_with_nan['length_title'].fillna(octadesk_with_nan['title'].str.len())\n",
    "octadesk_with_nan['length_title'] = octadesk_with_nan['length_title'].fillna(octadesk_with_nan['length_title'].mean())\n",
    "octadesk_with_nan['length_description'] = octadesk_with_nan['length_description'].fillna(octadesk_with_nan['length_description'].mean())\n",
    "octadesk_with_nan['length_headline'] = octadesk_with_nan['length_headline'].fillna(octadesk_with_nan['length_headline'].mean())\n",
    "octadesk_with_nan['Size'] = octadesk_with_nan['Size'].fillna(octadesk_with_nan['Size'].mean())\n",
    "octadesk_with_nan['word_count'] = octadesk_with_nan['word_count'].fillna(octadesk_with_nan['word_count'].mean())\n",
    "octadesk_with_nan['text_ratio'] = octadesk_with_nan['text_ratio'].fillna(octadesk_with_nan['text_ratio'].mean())\n",
    "octadesk_with_nan['url_score'] = octadesk_with_nan['url_score'].fillna(octadesk_with_nan['url_score'].mean())\n",
    "octadesk_with_nan['url_trust'] = octadesk_with_nan['url_trust'].fillna(octadesk_with_nan['url_trust'].mean())\n",
    "octadesk_with_nan['avg_backlink_score'] = octadesk_with_nan['avg_backlink_score'].fillna(octadesk_with_nan['avg_backlink_score'].mean())\n",
    "octadesk_with_nan['avg_backlink_trust'] = octadesk_with_nan['avg_backlink_trust'].fillna(octadesk_with_nan['avg_backlink_trust'].mean())\n",
    "octadesk_with_nan['Inlinks'] = octadesk_with_nan['Inlinks'].fillna(octadesk_with_nan['Inlinks'].mean())\n",
    "octadesk_with_nan['Outlinks'] = octadesk_with_nan['Outlinks'].fillna(octadesk_with_nan['Outlinks'].mean())\n",
    "octadesk_with_nan['external_outlinks'] = octadesk_with_nan['external_outlinks'].fillna(octadesk_with_nan['external_outlinks'].mean())"
   ]
  },
  {
   "cell_type": "code",
   "execution_count": 116,
   "metadata": {},
   "outputs": [
    {
     "data": {
      "text/plain": [
       "Index(['keyword', 'Position', 'volume', 'difficulty', 'CPC', 'Url',\n",
       "       'Competition', 'title', 'Backlinks', 'Domains', 'length_title',\n",
       "       'length_description', 'length_headline', 'Size', 'word_count',\n",
       "       'text_ratio', 'Inlinks', 'Outlinks', 'external_outlinks', 'url_score',\n",
       "       'url_trust', 'avg_backlink_score', 'avg_backlink_trust', 'competitor',\n",
       "       'type'],\n",
       "      dtype='object')"
      ]
     },
     "execution_count": 116,
     "metadata": {},
     "output_type": "execute_result"
    }
   ],
   "source": [
    "octadesk_with_nan.columns"
   ]
  },
  {
   "cell_type": "code",
   "execution_count": 117,
   "metadata": {},
   "outputs": [
    {
     "data": {
      "text/plain": [
       "second_page    715\n",
       "first_page      83\n",
       "top_ranking     24\n",
       "Name: type, dtype: int64"
      ]
     },
     "execution_count": 117,
     "metadata": {},
     "output_type": "execute_result"
    }
   ],
   "source": [
    "octadesk_with_nan['type'].value_counts()"
   ]
  },
  {
   "cell_type": "markdown",
   "metadata": {},
   "source": [
    "### Análise without NaNs"
   ]
  },
  {
   "cell_type": "code",
   "execution_count": 118,
   "metadata": {},
   "outputs": [
    {
     "name": "stdout",
     "output_type": "stream",
     "text": [
      "Octadesk - First Page \n",
      "\n",
      "Position                  2.333333\n",
      "volume                  150.000000\n",
      "difficulty               55.103333\n",
      "CPC                      11.711667\n",
      "Competition               0.408333\n",
      "Backlinks                20.000000\n",
      "Domains                  13.000000\n",
      "length_title             65.437500\n",
      "length_description      136.312500\n",
      "length_headline          27.437500\n",
      "Size                  60354.937500\n",
      "word_count             1451.875000\n",
      "text_ratio               14.728018\n",
      "Inlinks                  81.500000\n",
      "Outlinks                 44.375000\n",
      "external_outlinks         5.000000\n",
      "url_score                10.000000\n",
      "url_trust                10.000000\n",
      "avg_backlink_score       24.545455\n",
      "avg_backlink_trust       34.181818\n",
      "dtype: float64\n",
      "\n",
      "Competitor - First Page \n",
      "\n",
      "Position                  1.683168\n",
      "volume                  139.504950\n",
      "difficulty               50.268416\n",
      "CPC                      29.408119\n",
      "Competition               0.689703\n",
      "Backlinks              4623.386139\n",
      "Domains                  25.900990\n",
      "length_title             59.544554\n",
      "length_description      169.009901\n",
      "length_headline          30.346535\n",
      "Size                  41176.732673\n",
      "word_count              956.920792\n",
      "text_ratio               14.580549\n",
      "Inlinks                 205.049505\n",
      "Outlinks                 72.970297\n",
      "external_outlinks        22.247525\n",
      "url_score                15.752475\n",
      "url_trust                15.752475\n",
      "avg_backlink_score       23.584241\n",
      "avg_backlink_trust       24.374219\n",
      "dtype: float64\n"
     ]
    }
   ],
   "source": [
    "print('Octadesk - First Page \\n')\n",
    "print(octadesk_seo[octadesk_seo['type'] == 'top_ranking'].mean())\n",
    "print('\\nCompetitor - First Page \\n')\n",
    "print(competitor_seo_without_nans[competitor_seo_without_nans['type'] == 'top_ranking'].mean())"
   ]
  },
  {
   "cell_type": "code",
   "execution_count": 119,
   "metadata": {},
   "outputs": [
    {
     "name": "stdout",
     "output_type": "stream",
     "text": [
      "Octadesk - First Page \n",
      "\n",
      "Position                  7.265060\n",
      "volume                  235.180723\n",
      "difficulty               53.595663\n",
      "CPC                      14.496265\n",
      "Competition               0.399036\n",
      "Backlinks                18.750000\n",
      "Domains                  12.187500\n",
      "length_title             64.296875\n",
      "length_description      138.609375\n",
      "length_headline          35.046875\n",
      "Size                  63477.218750\n",
      "word_count             2035.468750\n",
      "text_ratio               18.056069\n",
      "Inlinks                 121.906250\n",
      "Outlinks                 41.296875\n",
      "external_outlinks         5.296875\n",
      "url_score                10.000000\n",
      "url_trust                10.000000\n",
      "avg_backlink_score       24.545455\n",
      "avg_backlink_trust       34.181818\n",
      "dtype: float64\n",
      "\n",
      "Competitor - First Page \n",
      "\n",
      "Position                  6.528090\n",
      "volume                  297.752809\n",
      "difficulty               53.083146\n",
      "CPC                      25.673820\n",
      "Competition               0.660225\n",
      "Backlinks              7432.258427\n",
      "Domains                  34.033708\n",
      "length_title             62.089888\n",
      "length_description      179.123596\n",
      "length_headline          29.516854\n",
      "Size                  45703.617978\n",
      "word_count             1074.112360\n",
      "text_ratio               14.364992\n",
      "Inlinks                 231.146067\n",
      "Outlinks                 82.078652\n",
      "external_outlinks        26.674157\n",
      "url_score                18.033708\n",
      "url_trust                18.078652\n",
      "avg_backlink_score       34.354067\n",
      "avg_backlink_trust       35.650821\n",
      "dtype: float64\n"
     ]
    }
   ],
   "source": [
    "print('Octadesk - First Page \\n')\n",
    "print(octadesk_seo[octadesk_seo['type'] == 'first_page'].mean())\n",
    "print('\\nCompetitor - First Page \\n')\n",
    "print(competitor_seo_without_nans[competitor_seo_without_nans['type'] == 'first_page'].mean())"
   ]
  },
  {
   "cell_type": "code",
   "execution_count": 120,
   "metadata": {},
   "outputs": [
    {
     "name": "stdout",
     "output_type": "stream",
     "text": [
      "Octadesk - First Page \n",
      "\n",
      "Position                 52.169231\n",
      "volume                  240.083916\n",
      "difficulty               68.147888\n",
      "CPC                       3.307203\n",
      "Competition               0.233650\n",
      "Backlinks                19.047619\n",
      "Domains                  12.380952\n",
      "length_title             61.770781\n",
      "length_description      137.816121\n",
      "length_headline          21.622166\n",
      "Size                  65134.841310\n",
      "word_count             1733.488665\n",
      "text_ratio               15.780553\n",
      "Inlinks                  75.284635\n",
      "Outlinks                 49.732997\n",
      "external_outlinks         6.138539\n",
      "url_score                 9.372093\n",
      "url_trust                 9.511628\n",
      "avg_backlink_score       24.507761\n",
      "avg_backlink_trust       34.128603\n",
      "dtype: float64\n",
      "\n",
      "Competitor - First Page \n",
      "\n",
      "Position                 57.283228\n",
      "volume                 1344.572785\n",
      "difficulty               66.573513\n",
      "CPC                       5.021424\n",
      "Competition               0.371582\n",
      "Backlinks              8466.569620\n",
      "Domains                  35.183544\n",
      "length_title             58.185127\n",
      "length_description      171.493671\n",
      "length_headline          24.509494\n",
      "Size                  45213.895570\n",
      "word_count              976.811709\n",
      "text_ratio               13.346426\n",
      "Inlinks                 288.846519\n",
      "Outlinks                 84.962025\n",
      "external_outlinks        28.678797\n",
      "url_score                24.087025\n",
      "url_trust                25.047468\n",
      "avg_backlink_score       54.395115\n",
      "avg_backlink_trust       56.337153\n",
      "dtype: float64\n"
     ]
    }
   ],
   "source": [
    "print('Octadesk - First Page \\n')\n",
    "print(octadesk_seo[octadesk_seo['type'] == 'second_page'].mean())\n",
    "print('\\nCompetitor - First Page \\n')\n",
    "print(competitor_seo_without_nans[competitor_seo_without_nans['type'] == 'second_page'].mean())"
   ]
  },
  {
   "cell_type": "code",
   "execution_count": 121,
   "metadata": {
    "collapsed": true
   },
   "outputs": [],
   "source": [
    "without_nan = pd.DataFrame([octadesk_seo[octadesk_seo['type'] == 'second_page'].mean(),\\\n",
    "                  competitor_seo_without_nans[competitor_seo_without_nans['type'] == 'second_page'].mean(), \\\n",
    "                  octadesk_seo[octadesk_seo['type'] == 'first_page'].mean(),\\\n",
    "                  competitor_seo_without_nans[competitor_seo_without_nans['type'] == 'first_page'].mean(), \\\n",
    "                  octadesk_seo[octadesk_seo['type'] == 'top_ranking'].mean(), \\\n",
    "                  competitor_seo_without_nans[competitor_seo_without_nans['type'] == 'top_ranking'].mean()])"
   ]
  },
  {
   "cell_type": "code",
   "execution_count": 122,
   "metadata": {},
   "outputs": [
    {
     "data": {
      "text/html": [
       "<div>\n",
       "<style>\n",
       "    .dataframe thead tr:only-child th {\n",
       "        text-align: right;\n",
       "    }\n",
       "\n",
       "    .dataframe thead th {\n",
       "        text-align: left;\n",
       "    }\n",
       "\n",
       "    .dataframe tbody tr th {\n",
       "        vertical-align: top;\n",
       "    }\n",
       "</style>\n",
       "<table border=\"1\" class=\"dataframe\">\n",
       "  <thead>\n",
       "    <tr style=\"text-align: right;\">\n",
       "      <th></th>\n",
       "      <th>octa_second-page</th>\n",
       "      <th>competitor_second-page</th>\n",
       "      <th>octa_first-page</th>\n",
       "      <th>competitor_first-page</th>\n",
       "      <th>octa_top-ranking</th>\n",
       "      <th>competitor_top-ranking</th>\n",
       "    </tr>\n",
       "  </thead>\n",
       "  <tbody>\n",
       "    <tr>\n",
       "      <th>Position</th>\n",
       "      <td>52.169231</td>\n",
       "      <td>57.283228</td>\n",
       "      <td>7.265060</td>\n",
       "      <td>6.528090</td>\n",
       "      <td>2.333333</td>\n",
       "      <td>1.683168</td>\n",
       "    </tr>\n",
       "    <tr>\n",
       "      <th>volume</th>\n",
       "      <td>240.083916</td>\n",
       "      <td>1344.572785</td>\n",
       "      <td>235.180723</td>\n",
       "      <td>297.752809</td>\n",
       "      <td>150.000000</td>\n",
       "      <td>139.504950</td>\n",
       "    </tr>\n",
       "    <tr>\n",
       "      <th>difficulty</th>\n",
       "      <td>68.147888</td>\n",
       "      <td>66.573513</td>\n",
       "      <td>53.595663</td>\n",
       "      <td>53.083146</td>\n",
       "      <td>55.103333</td>\n",
       "      <td>50.268416</td>\n",
       "    </tr>\n",
       "    <tr>\n",
       "      <th>CPC</th>\n",
       "      <td>3.307203</td>\n",
       "      <td>5.021424</td>\n",
       "      <td>14.496265</td>\n",
       "      <td>25.673820</td>\n",
       "      <td>11.711667</td>\n",
       "      <td>29.408119</td>\n",
       "    </tr>\n",
       "    <tr>\n",
       "      <th>Competition</th>\n",
       "      <td>0.233650</td>\n",
       "      <td>0.371582</td>\n",
       "      <td>0.399036</td>\n",
       "      <td>0.660225</td>\n",
       "      <td>0.408333</td>\n",
       "      <td>0.689703</td>\n",
       "    </tr>\n",
       "    <tr>\n",
       "      <th>Backlinks</th>\n",
       "      <td>19.047619</td>\n",
       "      <td>8466.569620</td>\n",
       "      <td>18.750000</td>\n",
       "      <td>7432.258427</td>\n",
       "      <td>20.000000</td>\n",
       "      <td>4623.386139</td>\n",
       "    </tr>\n",
       "    <tr>\n",
       "      <th>Domains</th>\n",
       "      <td>12.380952</td>\n",
       "      <td>35.183544</td>\n",
       "      <td>12.187500</td>\n",
       "      <td>34.033708</td>\n",
       "      <td>13.000000</td>\n",
       "      <td>25.900990</td>\n",
       "    </tr>\n",
       "    <tr>\n",
       "      <th>length_title</th>\n",
       "      <td>61.770781</td>\n",
       "      <td>58.185127</td>\n",
       "      <td>64.296875</td>\n",
       "      <td>62.089888</td>\n",
       "      <td>65.437500</td>\n",
       "      <td>59.544554</td>\n",
       "    </tr>\n",
       "    <tr>\n",
       "      <th>length_description</th>\n",
       "      <td>137.816121</td>\n",
       "      <td>171.493671</td>\n",
       "      <td>138.609375</td>\n",
       "      <td>179.123596</td>\n",
       "      <td>136.312500</td>\n",
       "      <td>169.009901</td>\n",
       "    </tr>\n",
       "    <tr>\n",
       "      <th>length_headline</th>\n",
       "      <td>21.622166</td>\n",
       "      <td>24.509494</td>\n",
       "      <td>35.046875</td>\n",
       "      <td>29.516854</td>\n",
       "      <td>27.437500</td>\n",
       "      <td>30.346535</td>\n",
       "    </tr>\n",
       "    <tr>\n",
       "      <th>Size</th>\n",
       "      <td>65134.841310</td>\n",
       "      <td>45213.895570</td>\n",
       "      <td>63477.218750</td>\n",
       "      <td>45703.617978</td>\n",
       "      <td>60354.937500</td>\n",
       "      <td>41176.732673</td>\n",
       "    </tr>\n",
       "    <tr>\n",
       "      <th>word_count</th>\n",
       "      <td>1733.488665</td>\n",
       "      <td>976.811709</td>\n",
       "      <td>2035.468750</td>\n",
       "      <td>1074.112360</td>\n",
       "      <td>1451.875000</td>\n",
       "      <td>956.920792</td>\n",
       "    </tr>\n",
       "    <tr>\n",
       "      <th>text_ratio</th>\n",
       "      <td>15.780553</td>\n",
       "      <td>13.346426</td>\n",
       "      <td>18.056069</td>\n",
       "      <td>14.364992</td>\n",
       "      <td>14.728018</td>\n",
       "      <td>14.580549</td>\n",
       "    </tr>\n",
       "    <tr>\n",
       "      <th>Inlinks</th>\n",
       "      <td>75.284635</td>\n",
       "      <td>288.846519</td>\n",
       "      <td>121.906250</td>\n",
       "      <td>231.146067</td>\n",
       "      <td>81.500000</td>\n",
       "      <td>205.049505</td>\n",
       "    </tr>\n",
       "    <tr>\n",
       "      <th>Outlinks</th>\n",
       "      <td>49.732997</td>\n",
       "      <td>84.962025</td>\n",
       "      <td>41.296875</td>\n",
       "      <td>82.078652</td>\n",
       "      <td>44.375000</td>\n",
       "      <td>72.970297</td>\n",
       "    </tr>\n",
       "    <tr>\n",
       "      <th>external_outlinks</th>\n",
       "      <td>6.138539</td>\n",
       "      <td>28.678797</td>\n",
       "      <td>5.296875</td>\n",
       "      <td>26.674157</td>\n",
       "      <td>5.000000</td>\n",
       "      <td>22.247525</td>\n",
       "    </tr>\n",
       "    <tr>\n",
       "      <th>url_score</th>\n",
       "      <td>9.372093</td>\n",
       "      <td>24.087025</td>\n",
       "      <td>10.000000</td>\n",
       "      <td>18.033708</td>\n",
       "      <td>10.000000</td>\n",
       "      <td>15.752475</td>\n",
       "    </tr>\n",
       "    <tr>\n",
       "      <th>url_trust</th>\n",
       "      <td>9.511628</td>\n",
       "      <td>25.047468</td>\n",
       "      <td>10.000000</td>\n",
       "      <td>18.078652</td>\n",
       "      <td>10.000000</td>\n",
       "      <td>15.752475</td>\n",
       "    </tr>\n",
       "    <tr>\n",
       "      <th>avg_backlink_score</th>\n",
       "      <td>24.507761</td>\n",
       "      <td>54.395115</td>\n",
       "      <td>24.545455</td>\n",
       "      <td>34.354067</td>\n",
       "      <td>24.545455</td>\n",
       "      <td>23.584241</td>\n",
       "    </tr>\n",
       "    <tr>\n",
       "      <th>avg_backlink_trust</th>\n",
       "      <td>34.128603</td>\n",
       "      <td>56.337153</td>\n",
       "      <td>34.181818</td>\n",
       "      <td>35.650821</td>\n",
       "      <td>34.181818</td>\n",
       "      <td>24.374219</td>\n",
       "    </tr>\n",
       "  </tbody>\n",
       "</table>\n",
       "</div>"
      ],
      "text/plain": [
       "                    octa_second-page  competitor_second-page  octa_first-page  \\\n",
       "Position                   52.169231               57.283228         7.265060   \n",
       "volume                    240.083916             1344.572785       235.180723   \n",
       "difficulty                 68.147888               66.573513        53.595663   \n",
       "CPC                         3.307203                5.021424        14.496265   \n",
       "Competition                 0.233650                0.371582         0.399036   \n",
       "Backlinks                  19.047619             8466.569620        18.750000   \n",
       "Domains                    12.380952               35.183544        12.187500   \n",
       "length_title               61.770781               58.185127        64.296875   \n",
       "length_description        137.816121              171.493671       138.609375   \n",
       "length_headline            21.622166               24.509494        35.046875   \n",
       "Size                    65134.841310            45213.895570     63477.218750   \n",
       "word_count               1733.488665              976.811709      2035.468750   \n",
       "text_ratio                 15.780553               13.346426        18.056069   \n",
       "Inlinks                    75.284635              288.846519       121.906250   \n",
       "Outlinks                   49.732997               84.962025        41.296875   \n",
       "external_outlinks           6.138539               28.678797         5.296875   \n",
       "url_score                   9.372093               24.087025        10.000000   \n",
       "url_trust                   9.511628               25.047468        10.000000   \n",
       "avg_backlink_score         24.507761               54.395115        24.545455   \n",
       "avg_backlink_trust         34.128603               56.337153        34.181818   \n",
       "\n",
       "                    competitor_first-page  octa_top-ranking  \\\n",
       "Position                         6.528090          2.333333   \n",
       "volume                         297.752809        150.000000   \n",
       "difficulty                      53.083146         55.103333   \n",
       "CPC                             25.673820         11.711667   \n",
       "Competition                      0.660225          0.408333   \n",
       "Backlinks                     7432.258427         20.000000   \n",
       "Domains                         34.033708         13.000000   \n",
       "length_title                    62.089888         65.437500   \n",
       "length_description             179.123596        136.312500   \n",
       "length_headline                 29.516854         27.437500   \n",
       "Size                         45703.617978      60354.937500   \n",
       "word_count                    1074.112360       1451.875000   \n",
       "text_ratio                      14.364992         14.728018   \n",
       "Inlinks                        231.146067         81.500000   \n",
       "Outlinks                        82.078652         44.375000   \n",
       "external_outlinks               26.674157          5.000000   \n",
       "url_score                       18.033708         10.000000   \n",
       "url_trust                       18.078652         10.000000   \n",
       "avg_backlink_score              34.354067         24.545455   \n",
       "avg_backlink_trust              35.650821         34.181818   \n",
       "\n",
       "                    competitor_top-ranking  \n",
       "Position                          1.683168  \n",
       "volume                          139.504950  \n",
       "difficulty                       50.268416  \n",
       "CPC                              29.408119  \n",
       "Competition                       0.689703  \n",
       "Backlinks                      4623.386139  \n",
       "Domains                          25.900990  \n",
       "length_title                     59.544554  \n",
       "length_description              169.009901  \n",
       "length_headline                  30.346535  \n",
       "Size                          41176.732673  \n",
       "word_count                      956.920792  \n",
       "text_ratio                       14.580549  \n",
       "Inlinks                         205.049505  \n",
       "Outlinks                         72.970297  \n",
       "external_outlinks                22.247525  \n",
       "url_score                        15.752475  \n",
       "url_trust                        15.752475  \n",
       "avg_backlink_score               23.584241  \n",
       "avg_backlink_trust               24.374219  "
      ]
     },
     "execution_count": 122,
     "metadata": {},
     "output_type": "execute_result"
    }
   ],
   "source": [
    "without_nan = without_nan.T\n",
    "without_nan.rename(index=str, columns={0:'octa_second-page', \\\n",
    "                             1:'competitor_second-page', \\\n",
    "                             2:'octa_first-page', \\\n",
    "                             3:'competitor_first-page', \\\n",
    "                             4:'octa_top-ranking', \\\n",
    "                             5:'competitor_top-ranking'})"
   ]
  },
  {
   "cell_type": "markdown",
   "metadata": {},
   "source": [
    "### with NaNs"
   ]
  },
  {
   "cell_type": "code",
   "execution_count": 123,
   "metadata": {},
   "outputs": [
    {
     "name": "stdout",
     "output_type": "stream",
     "text": [
      "Octadesk - First Page \n",
      "\n",
      "Position                  2.333333\n",
      "volume                  150.000000\n",
      "difficulty               55.103333\n",
      "CPC                      11.711667\n",
      "Competition               0.408333\n",
      "Backlinks                19.083333\n",
      "Domains                  12.404167\n",
      "length_title             64.369235\n",
      "length_description      136.832372\n",
      "length_headline          26.164483\n",
      "Size                  61820.659242\n",
      "word_count             1556.103249\n",
      "text_ratio               15.168865\n",
      "Inlinks                  81.582809\n",
      "Outlinks                 45.723795\n",
      "external_outlinks         5.329140\n",
      "url_score                 9.587500\n",
      "url_trust                 9.679167\n",
      "avg_backlink_score       24.521029\n",
      "avg_backlink_trust       34.147335\n",
      "dtype: float64\n",
      "\n",
      "Competitor - First Page \n",
      "\n",
      "Position                  1.877064\n",
      "volume                  202.311927\n",
      "difficulty               56.696661\n",
      "CPC                      10.151835\n",
      "Competition               0.364477\n",
      "Backlinks              2085.254464\n",
      "Domains                  12.008929\n",
      "length_title             58.389381\n",
      "length_description      162.006536\n",
      "length_headline          35.006536\n",
      "Size                  39013.647059\n",
      "word_count              943.875817\n",
      "text_ratio               15.331439\n",
      "Inlinks                 171.960784\n",
      "Outlinks                 75.333333\n",
      "external_outlinks        22.496732\n",
      "url_score                11.790210\n",
      "url_trust                12.321678\n",
      "avg_backlink_score       31.272120\n",
      "avg_backlink_trust       32.013207\n",
      "dtype: float64\n"
     ]
    }
   ],
   "source": [
    "print('Octadesk - First Page \\n')\n",
    "print(octadesk_with_nan[octadesk_with_nan['type'] == 'top_ranking'].mean())\n",
    "print('\\nCompetitor - First Page \\n')\n",
    "print(competitor_seo[competitor_seo['type'] == 'top_ranking'].mean())"
   ]
  },
  {
   "cell_type": "code",
   "execution_count": 124,
   "metadata": {},
   "outputs": [
    {
     "name": "stdout",
     "output_type": "stream",
     "text": [
      "Octadesk - First Page \n",
      "\n",
      "Position                  7.265060\n",
      "volume                  235.180723\n",
      "difficulty               53.595663\n",
      "CPC                      14.496265\n",
      "Competition               0.399036\n",
      "Backlinks                18.951807\n",
      "Domains                  12.318675\n",
      "length_title             63.824354\n",
      "length_description      138.440605\n",
      "length_headline          32.430729\n",
      "Size                  63769.059660\n",
      "word_count             1973.453436\n",
      "text_ratio               17.596976\n",
      "Inlinks                 112.713495\n",
      "Outlinks                 42.927787\n",
      "external_outlinks         5.454952\n",
      "url_score                 9.631325\n",
      "url_trust                 9.713253\n",
      "avg_backlink_score       24.523624\n",
      "avg_backlink_trust       34.150999\n",
      "dtype: float64\n",
      "\n",
      "Competitor - First Page \n",
      "\n",
      "Position                  6.872126\n",
      "volume                  250.014368\n",
      "difficulty               60.420560\n",
      "CPC                       8.312945\n",
      "Competition               0.346954\n",
      "Backlinks              1992.783133\n",
      "Domains                   9.430723\n",
      "length_title             55.157738\n",
      "length_description      178.168750\n",
      "length_headline          36.431250\n",
      "Size                  41618.137500\n",
      "word_count             1036.743750\n",
      "text_ratio               15.318247\n",
      "Inlinks                 184.418750\n",
      "Outlinks                 80.906250\n",
      "external_outlinks        25.106250\n",
      "url_score                10.307692\n",
      "url_trust                11.260355\n",
      "avg_backlink_score       53.334429\n",
      "avg_backlink_trust       54.655970\n",
      "dtype: float64\n"
     ]
    }
   ],
   "source": [
    "print('Octadesk - First Page \\n')\n",
    "print(octadesk_with_nan[octadesk_with_nan['type'] == 'first_page'].mean())\n",
    "print('\\nCompetitor - First Page \\n')\n",
    "print(competitor_seo[competitor_seo['type'] == 'first_page'].mean())"
   ]
  },
  {
   "cell_type": "code",
   "execution_count": 125,
   "metadata": {},
   "outputs": [
    {
     "name": "stdout",
     "output_type": "stream",
     "text": [
      "Octadesk - First Page \n",
      "\n",
      "Position                 52.169231\n",
      "volume                  240.083916\n",
      "difficulty               68.147888\n",
      "CPC                       3.307203\n",
      "Competition               0.233650\n",
      "Backlinks                19.002797\n",
      "Domains                  12.351818\n",
      "length_title             61.976224\n",
      "length_description      137.841026\n",
      "length_headline          22.510023\n",
      "Size                  64964.616317\n",
      "word_count             1747.307692\n",
      "text_ratio               15.900640\n",
      "Inlinks                  78.159441\n",
      "Outlinks                 49.149650\n",
      "external_outlinks         6.071329\n",
      "url_score                 9.539301\n",
      "url_trust                 9.641678\n",
      "avg_backlink_score       24.518175\n",
      "avg_backlink_trust       34.143306\n",
      "dtype: float64\n",
      "\n",
      "Competitor - First Page \n",
      "\n",
      "Position                 55.995170\n",
      "volume                 1209.185485\n",
      "difficulty               70.757136\n",
      "CPC                       2.014595\n",
      "Competition               0.214323\n",
      "Backlinks              1161.331525\n",
      "Domains                   5.076806\n",
      "length_title             60.160563\n",
      "length_description      158.865636\n",
      "length_headline          25.570155\n",
      "Size                  36233.074316\n",
      "word_count              920.316885\n",
      "text_ratio               15.881413\n",
      "Inlinks                 183.609394\n",
      "Outlinks                 62.994649\n",
      "external_outlinks        23.439358\n",
      "url_score                11.908854\n",
      "url_trust                13.176432\n",
      "avg_backlink_score       60.721377\n",
      "avg_backlink_trust       62.164153\n",
      "dtype: float64\n"
     ]
    }
   ],
   "source": [
    "print('Octadesk - First Page \\n')\n",
    "print(octadesk_with_nan[octadesk_with_nan['type'] == 'second_page'].mean())\n",
    "print('\\nCompetitor - First Page \\n')\n",
    "print(competitor_seo[competitor_seo['type'] == 'second_page'].mean())"
   ]
  },
  {
   "cell_type": "code",
   "execution_count": 126,
   "metadata": {
    "collapsed": true
   },
   "outputs": [],
   "source": [
    "with_nan = pd.DataFrame([octadesk_with_nan[octadesk_with_nan['type'] == 'second_page'].mean(),\\\n",
    "                  competitor_seo[competitor_seo['type'] == 'second_page'].mean(), \\\n",
    "                  octadesk_with_nan[octadesk_with_nan['type'] == 'first_page'].mean(),\\\n",
    "                  competitor_seo[competitor_seo['type'] == 'first_page'].mean(), \\\n",
    "                  octadesk_with_nan[octadesk_with_nan['type'] == 'top_ranking'].mean(), \\\n",
    "                  competitor_seo[competitor_seo['type'] == 'top_ranking'].mean()])"
   ]
  },
  {
   "cell_type": "code",
   "execution_count": 127,
   "metadata": {},
   "outputs": [
    {
     "data": {
      "text/html": [
       "<div>\n",
       "<style>\n",
       "    .dataframe thead tr:only-child th {\n",
       "        text-align: right;\n",
       "    }\n",
       "\n",
       "    .dataframe thead th {\n",
       "        text-align: left;\n",
       "    }\n",
       "\n",
       "    .dataframe tbody tr th {\n",
       "        vertical-align: top;\n",
       "    }\n",
       "</style>\n",
       "<table border=\"1\" class=\"dataframe\">\n",
       "  <thead>\n",
       "    <tr style=\"text-align: right;\">\n",
       "      <th></th>\n",
       "      <th>octa_second-page</th>\n",
       "      <th>competitor_second-page</th>\n",
       "      <th>octa_first-page</th>\n",
       "      <th>competitor_first-page</th>\n",
       "      <th>octa_top-ranking</th>\n",
       "      <th>competitor_top-ranking</th>\n",
       "    </tr>\n",
       "  </thead>\n",
       "  <tbody>\n",
       "    <tr>\n",
       "      <th>Position</th>\n",
       "      <td>52.169231</td>\n",
       "      <td>55.995170</td>\n",
       "      <td>7.265060</td>\n",
       "      <td>6.872126</td>\n",
       "      <td>2.333333</td>\n",
       "      <td>1.877064</td>\n",
       "    </tr>\n",
       "    <tr>\n",
       "      <th>volume</th>\n",
       "      <td>240.083916</td>\n",
       "      <td>1209.185485</td>\n",
       "      <td>235.180723</td>\n",
       "      <td>250.014368</td>\n",
       "      <td>150.000000</td>\n",
       "      <td>202.311927</td>\n",
       "    </tr>\n",
       "    <tr>\n",
       "      <th>difficulty</th>\n",
       "      <td>68.147888</td>\n",
       "      <td>70.757136</td>\n",
       "      <td>53.595663</td>\n",
       "      <td>60.420560</td>\n",
       "      <td>55.103333</td>\n",
       "      <td>56.696661</td>\n",
       "    </tr>\n",
       "    <tr>\n",
       "      <th>CPC</th>\n",
       "      <td>3.307203</td>\n",
       "      <td>2.014595</td>\n",
       "      <td>14.496265</td>\n",
       "      <td>8.312945</td>\n",
       "      <td>11.711667</td>\n",
       "      <td>10.151835</td>\n",
       "    </tr>\n",
       "    <tr>\n",
       "      <th>Competition</th>\n",
       "      <td>0.233650</td>\n",
       "      <td>0.214323</td>\n",
       "      <td>0.399036</td>\n",
       "      <td>0.346954</td>\n",
       "      <td>0.408333</td>\n",
       "      <td>0.364477</td>\n",
       "    </tr>\n",
       "    <tr>\n",
       "      <th>Backlinks</th>\n",
       "      <td>19.002797</td>\n",
       "      <td>1161.331525</td>\n",
       "      <td>18.951807</td>\n",
       "      <td>1992.783133</td>\n",
       "      <td>19.083333</td>\n",
       "      <td>2085.254464</td>\n",
       "    </tr>\n",
       "    <tr>\n",
       "      <th>Domains</th>\n",
       "      <td>12.351818</td>\n",
       "      <td>5.076806</td>\n",
       "      <td>12.318675</td>\n",
       "      <td>9.430723</td>\n",
       "      <td>12.404167</td>\n",
       "      <td>12.008929</td>\n",
       "    </tr>\n",
       "    <tr>\n",
       "      <th>length_title</th>\n",
       "      <td>61.976224</td>\n",
       "      <td>60.160563</td>\n",
       "      <td>63.824354</td>\n",
       "      <td>55.157738</td>\n",
       "      <td>64.369235</td>\n",
       "      <td>58.389381</td>\n",
       "    </tr>\n",
       "    <tr>\n",
       "      <th>length_description</th>\n",
       "      <td>137.841026</td>\n",
       "      <td>158.865636</td>\n",
       "      <td>138.440605</td>\n",
       "      <td>178.168750</td>\n",
       "      <td>136.832372</td>\n",
       "      <td>162.006536</td>\n",
       "    </tr>\n",
       "    <tr>\n",
       "      <th>length_headline</th>\n",
       "      <td>22.510023</td>\n",
       "      <td>25.570155</td>\n",
       "      <td>32.430729</td>\n",
       "      <td>36.431250</td>\n",
       "      <td>26.164483</td>\n",
       "      <td>35.006536</td>\n",
       "    </tr>\n",
       "    <tr>\n",
       "      <th>Size</th>\n",
       "      <td>64964.616317</td>\n",
       "      <td>36233.074316</td>\n",
       "      <td>63769.059660</td>\n",
       "      <td>41618.137500</td>\n",
       "      <td>61820.659242</td>\n",
       "      <td>39013.647059</td>\n",
       "    </tr>\n",
       "    <tr>\n",
       "      <th>word_count</th>\n",
       "      <td>1747.307692</td>\n",
       "      <td>920.316885</td>\n",
       "      <td>1973.453436</td>\n",
       "      <td>1036.743750</td>\n",
       "      <td>1556.103249</td>\n",
       "      <td>943.875817</td>\n",
       "    </tr>\n",
       "    <tr>\n",
       "      <th>text_ratio</th>\n",
       "      <td>15.900640</td>\n",
       "      <td>15.881413</td>\n",
       "      <td>17.596976</td>\n",
       "      <td>15.318247</td>\n",
       "      <td>15.168865</td>\n",
       "      <td>15.331439</td>\n",
       "    </tr>\n",
       "    <tr>\n",
       "      <th>Inlinks</th>\n",
       "      <td>78.159441</td>\n",
       "      <td>183.609394</td>\n",
       "      <td>112.713495</td>\n",
       "      <td>184.418750</td>\n",
       "      <td>81.582809</td>\n",
       "      <td>171.960784</td>\n",
       "    </tr>\n",
       "    <tr>\n",
       "      <th>Outlinks</th>\n",
       "      <td>49.149650</td>\n",
       "      <td>62.994649</td>\n",
       "      <td>42.927787</td>\n",
       "      <td>80.906250</td>\n",
       "      <td>45.723795</td>\n",
       "      <td>75.333333</td>\n",
       "    </tr>\n",
       "    <tr>\n",
       "      <th>external_outlinks</th>\n",
       "      <td>6.071329</td>\n",
       "      <td>23.439358</td>\n",
       "      <td>5.454952</td>\n",
       "      <td>25.106250</td>\n",
       "      <td>5.329140</td>\n",
       "      <td>22.496732</td>\n",
       "    </tr>\n",
       "    <tr>\n",
       "      <th>url_score</th>\n",
       "      <td>9.539301</td>\n",
       "      <td>11.908854</td>\n",
       "      <td>9.631325</td>\n",
       "      <td>10.307692</td>\n",
       "      <td>9.587500</td>\n",
       "      <td>11.790210</td>\n",
       "    </tr>\n",
       "    <tr>\n",
       "      <th>url_trust</th>\n",
       "      <td>9.641678</td>\n",
       "      <td>13.176432</td>\n",
       "      <td>9.713253</td>\n",
       "      <td>11.260355</td>\n",
       "      <td>9.679167</td>\n",
       "      <td>12.321678</td>\n",
       "    </tr>\n",
       "    <tr>\n",
       "      <th>avg_backlink_score</th>\n",
       "      <td>24.518175</td>\n",
       "      <td>60.721377</td>\n",
       "      <td>24.523624</td>\n",
       "      <td>53.334429</td>\n",
       "      <td>24.521029</td>\n",
       "      <td>31.272120</td>\n",
       "    </tr>\n",
       "    <tr>\n",
       "      <th>avg_backlink_trust</th>\n",
       "      <td>34.143306</td>\n",
       "      <td>62.164153</td>\n",
       "      <td>34.150999</td>\n",
       "      <td>54.655970</td>\n",
       "      <td>34.147335</td>\n",
       "      <td>32.013207</td>\n",
       "    </tr>\n",
       "  </tbody>\n",
       "</table>\n",
       "</div>"
      ],
      "text/plain": [
       "                    octa_second-page  competitor_second-page  octa_first-page  \\\n",
       "Position                   52.169231               55.995170         7.265060   \n",
       "volume                    240.083916             1209.185485       235.180723   \n",
       "difficulty                 68.147888               70.757136        53.595663   \n",
       "CPC                         3.307203                2.014595        14.496265   \n",
       "Competition                 0.233650                0.214323         0.399036   \n",
       "Backlinks                  19.002797             1161.331525        18.951807   \n",
       "Domains                    12.351818                5.076806        12.318675   \n",
       "length_title               61.976224               60.160563        63.824354   \n",
       "length_description        137.841026              158.865636       138.440605   \n",
       "length_headline            22.510023               25.570155        32.430729   \n",
       "Size                    64964.616317            36233.074316     63769.059660   \n",
       "word_count               1747.307692              920.316885      1973.453436   \n",
       "text_ratio                 15.900640               15.881413        17.596976   \n",
       "Inlinks                    78.159441              183.609394       112.713495   \n",
       "Outlinks                   49.149650               62.994649        42.927787   \n",
       "external_outlinks           6.071329               23.439358         5.454952   \n",
       "url_score                   9.539301               11.908854         9.631325   \n",
       "url_trust                   9.641678               13.176432         9.713253   \n",
       "avg_backlink_score         24.518175               60.721377        24.523624   \n",
       "avg_backlink_trust         34.143306               62.164153        34.150999   \n",
       "\n",
       "                    competitor_first-page  octa_top-ranking  \\\n",
       "Position                         6.872126          2.333333   \n",
       "volume                         250.014368        150.000000   \n",
       "difficulty                      60.420560         55.103333   \n",
       "CPC                              8.312945         11.711667   \n",
       "Competition                      0.346954          0.408333   \n",
       "Backlinks                     1992.783133         19.083333   \n",
       "Domains                          9.430723         12.404167   \n",
       "length_title                    55.157738         64.369235   \n",
       "length_description             178.168750        136.832372   \n",
       "length_headline                 36.431250         26.164483   \n",
       "Size                         41618.137500      61820.659242   \n",
       "word_count                    1036.743750       1556.103249   \n",
       "text_ratio                      15.318247         15.168865   \n",
       "Inlinks                        184.418750         81.582809   \n",
       "Outlinks                        80.906250         45.723795   \n",
       "external_outlinks               25.106250          5.329140   \n",
       "url_score                       10.307692          9.587500   \n",
       "url_trust                       11.260355          9.679167   \n",
       "avg_backlink_score              53.334429         24.521029   \n",
       "avg_backlink_trust              54.655970         34.147335   \n",
       "\n",
       "                    competitor_top-ranking  \n",
       "Position                          1.877064  \n",
       "volume                          202.311927  \n",
       "difficulty                       56.696661  \n",
       "CPC                              10.151835  \n",
       "Competition                       0.364477  \n",
       "Backlinks                      2085.254464  \n",
       "Domains                          12.008929  \n",
       "length_title                     58.389381  \n",
       "length_description              162.006536  \n",
       "length_headline                  35.006536  \n",
       "Size                          39013.647059  \n",
       "word_count                      943.875817  \n",
       "text_ratio                       15.331439  \n",
       "Inlinks                         171.960784  \n",
       "Outlinks                         75.333333  \n",
       "external_outlinks                22.496732  \n",
       "url_score                        11.790210  \n",
       "url_trust                        12.321678  \n",
       "avg_backlink_score               31.272120  \n",
       "avg_backlink_trust               32.013207  "
      ]
     },
     "execution_count": 127,
     "metadata": {},
     "output_type": "execute_result"
    }
   ],
   "source": [
    "with_nan = with_nan.T\n",
    "with_nan.rename(index=str, columns={0:'octa_second-page', \\\n",
    "                             1:'competitor_second-page', \\\n",
    "                             2:'octa_first-page', \\\n",
    "                             3:'competitor_first-page', \\\n",
    "                             4:'octa_top-ranking', \\\n",
    "                             5:'competitor_top-ranking'})"
   ]
  },
  {
   "cell_type": "markdown",
   "metadata": {},
   "source": [
    "# Conclusão"
   ]
  },
  {
   "cell_type": "markdown",
   "metadata": {},
   "source": [
    "### Palavras para investir\n",
    "\n",
    "Comparar palavras que o octa não tem e que os outros tem para atacar."
   ]
  },
  {
   "cell_type": "code",
   "execution_count": 128,
   "metadata": {
    "collapsed": true
   },
   "outputs": [],
   "source": [
    "palavras_octa = kw_octadesk.copy()"
   ]
  },
  {
   "cell_type": "code",
   "execution_count": 129,
   "metadata": {},
   "outputs": [],
   "source": [
    "palavras_octa = palavras_octa.drop(['Position', 'CPC', 'Url', 'Competition'], axis=1)"
   ]
  },
  {
   "cell_type": "code",
   "execution_count": 130,
   "metadata": {
    "collapsed": true
   },
   "outputs": [],
   "source": [
    "palavras_octa['tem_octadesk'] = 1"
   ]
  },
  {
   "cell_type": "code",
   "execution_count": 131,
   "metadata": {
    "collapsed": true
   },
   "outputs": [],
   "source": [
    "comparison = competitor_seo_without_nans.merge(palavras_octa, how='left')"
   ]
  },
  {
   "cell_type": "code",
   "execution_count": 132,
   "metadata": {
    "collapsed": true
   },
   "outputs": [],
   "source": [
    "comparison['tem_octadesk'] = comparison['tem_octadesk'].fillna(0)"
   ]
  },
  {
   "cell_type": "code",
   "execution_count": 133,
   "metadata": {
    "collapsed": true
   },
   "outputs": [],
   "source": [
    "filter_1 = comparison['tem_octadesk'] == 0"
   ]
  },
  {
   "cell_type": "code",
   "execution_count": 134,
   "metadata": {
    "collapsed": true
   },
   "outputs": [],
   "source": [
    "comparison_1 = comparison[filter_1]"
   ]
  },
  {
   "cell_type": "markdown",
   "metadata": {},
   "source": [
    "Pensando que palavras que estão com rankeamento entre 1-3 possuem uma dificuldade estratégia maior, optaremos atingir as palavras de primeira e segunda página, usando as mesmas métricas de base dos top_rankings"
   ]
  },
  {
   "cell_type": "code",
   "execution_count": 135,
   "metadata": {
    "collapsed": true
   },
   "outputs": [],
   "source": [
    "filter_1_1 = comparison_1['type'] == 'first_page'"
   ]
  },
  {
   "cell_type": "code",
   "execution_count": 136,
   "metadata": {
    "collapsed": true
   },
   "outputs": [],
   "source": [
    "comparison_1_1 = comparison_1[filter_1_1]"
   ]
  },
  {
   "cell_type": "markdown",
   "metadata": {},
   "source": [
    "Iremos focar nas palavras que possuem mais volume de busca"
   ]
  },
  {
   "cell_type": "code",
   "execution_count": 137,
   "metadata": {
    "collapsed": true
   },
   "outputs": [],
   "source": [
    "comparison_1_1 = comparison_1_1.sort_values(by='volume', ascending=False)"
   ]
  },
  {
   "cell_type": "code",
   "execution_count": 138,
   "metadata": {
    "collapsed": true
   },
   "outputs": [],
   "source": [
    "filter_1_2 = comparison_1['type'] == 'second_page'"
   ]
  },
  {
   "cell_type": "code",
   "execution_count": 139,
   "metadata": {
    "collapsed": true
   },
   "outputs": [],
   "source": [
    "comparison_1_2 = comparison_1[filter_1_2]"
   ]
  },
  {
   "cell_type": "code",
   "execution_count": 140,
   "metadata": {
    "collapsed": true
   },
   "outputs": [],
   "source": [
    "comparison_1_2 = comparison_1_2.sort_values(by='volume', ascending=False)"
   ]
  },
  {
   "cell_type": "markdown",
   "metadata": {},
   "source": [
    "Vamos extrair as palavras chaves com as respectivas posições e volume."
   ]
  },
  {
   "cell_type": "code",
   "execution_count": 141,
   "metadata": {},
   "outputs": [
    {
     "data": {
      "text/html": [
       "<div>\n",
       "<style>\n",
       "    .dataframe thead tr:only-child th {\n",
       "        text-align: right;\n",
       "    }\n",
       "\n",
       "    .dataframe thead th {\n",
       "        text-align: left;\n",
       "    }\n",
       "\n",
       "    .dataframe tbody tr th {\n",
       "        vertical-align: top;\n",
       "    }\n",
       "</style>\n",
       "<table border=\"1\" class=\"dataframe\">\n",
       "  <thead>\n",
       "    <tr style=\"text-align: right;\">\n",
       "      <th></th>\n",
       "      <th>keyword</th>\n",
       "      <th>Position</th>\n",
       "      <th>volume</th>\n",
       "      <th>difficulty</th>\n",
       "      <th>CPC</th>\n",
       "      <th>Url</th>\n",
       "      <th>Competition</th>\n",
       "      <th>title</th>\n",
       "      <th>Backlinks</th>\n",
       "      <th>Domains</th>\n",
       "      <th>...</th>\n",
       "      <th>Inlinks</th>\n",
       "      <th>Outlinks</th>\n",
       "      <th>external_outlinks</th>\n",
       "      <th>url_score</th>\n",
       "      <th>url_trust</th>\n",
       "      <th>avg_backlink_score</th>\n",
       "      <th>avg_backlink_trust</th>\n",
       "      <th>competitor</th>\n",
       "      <th>type</th>\n",
       "      <th>tem_octadesk</th>\n",
       "    </tr>\n",
       "  </thead>\n",
       "  <tbody>\n",
       "    <tr>\n",
       "      <th>135</th>\n",
       "      <td>demo</td>\n",
       "      <td>10</td>\n",
       "      <td>5400</td>\n",
       "      <td>57.30</td>\n",
       "      <td>0.00</td>\n",
       "      <td>https://www.zendesk.com.br/demo/</td>\n",
       "      <td>0.00</td>\n",
       "      <td>Demonstração do Zendesk | Assista a uma breve ...</td>\n",
       "      <td>2.0</td>\n",
       "      <td>2.0</td>\n",
       "      <td>...</td>\n",
       "      <td>386.0</td>\n",
       "      <td>82.0</td>\n",
       "      <td>32.0</td>\n",
       "      <td>14.0</td>\n",
       "      <td>16.0</td>\n",
       "      <td>85.0</td>\n",
       "      <td>86.0</td>\n",
       "      <td>zendesk</td>\n",
       "      <td>first_page</td>\n",
       "      <td>0.0</td>\n",
       "    </tr>\n",
       "    <tr>\n",
       "      <th>1</th>\n",
       "      <td>helpdesk</td>\n",
       "      <td>4</td>\n",
       "      <td>3600</td>\n",
       "      <td>53.98</td>\n",
       "      <td>103.89</td>\n",
       "      <td>https://www.tomticket.com/</td>\n",
       "      <td>0.84</td>\n",
       "      <td>TomTicket - Sistema de Help Desk e Atendimento...</td>\n",
       "      <td>21.0</td>\n",
       "      <td>17.0</td>\n",
       "      <td>...</td>\n",
       "      <td>131.0</td>\n",
       "      <td>33.0</td>\n",
       "      <td>22.0</td>\n",
       "      <td>3.0</td>\n",
       "      <td>0.0</td>\n",
       "      <td>7.0</td>\n",
       "      <td>6.0</td>\n",
       "      <td>tomticket</td>\n",
       "      <td>first_page</td>\n",
       "      <td>0.0</td>\n",
       "    </tr>\n",
       "    <tr>\n",
       "      <th>145</th>\n",
       "      <td>wharton</td>\n",
       "      <td>9</td>\n",
       "      <td>1300</td>\n",
       "      <td>60.15</td>\n",
       "      <td>4.92</td>\n",
       "      <td>https://www.zendesk.com.br/customer/wharton/</td>\n",
       "      <td>0.12</td>\n",
       "      <td>The Wharton School Customer Service Story | Ze...</td>\n",
       "      <td>1.0</td>\n",
       "      <td>1.0</td>\n",
       "      <td>...</td>\n",
       "      <td>7.0</td>\n",
       "      <td>113.0</td>\n",
       "      <td>32.0</td>\n",
       "      <td>1.0</td>\n",
       "      <td>3.0</td>\n",
       "      <td>85.0</td>\n",
       "      <td>86.0</td>\n",
       "      <td>zendesk</td>\n",
       "      <td>first_page</td>\n",
       "      <td>0.0</td>\n",
       "    </tr>\n",
       "    <tr>\n",
       "      <th>138</th>\n",
       "      <td>base de conhecimento</td>\n",
       "      <td>5</td>\n",
       "      <td>390</td>\n",
       "      <td>62.11</td>\n",
       "      <td>3.65</td>\n",
       "      <td>https://www.zendesk.com.br/guide/features/know...</td>\n",
       "      <td>0.12</td>\n",
       "      <td>Líder em software de base de conhecimento | Ze...</td>\n",
       "      <td>1.0</td>\n",
       "      <td>1.0</td>\n",
       "      <td>...</td>\n",
       "      <td>42.0</td>\n",
       "      <td>93.0</td>\n",
       "      <td>28.0</td>\n",
       "      <td>12.0</td>\n",
       "      <td>8.0</td>\n",
       "      <td>85.0</td>\n",
       "      <td>86.0</td>\n",
       "      <td>zendesk</td>\n",
       "      <td>first_page</td>\n",
       "      <td>0.0</td>\n",
       "    </tr>\n",
       "    <tr>\n",
       "      <th>140</th>\n",
       "      <td>ver preços</td>\n",
       "      <td>8</td>\n",
       "      <td>320</td>\n",
       "      <td>80.11</td>\n",
       "      <td>0.65</td>\n",
       "      <td>https://www.zendesk.com.br/product/pricing/</td>\n",
       "      <td>0.34</td>\n",
       "      <td>Preços do Zendesk | Planos a partir de somente...</td>\n",
       "      <td>1.0</td>\n",
       "      <td>1.0</td>\n",
       "      <td>...</td>\n",
       "      <td>191.0</td>\n",
       "      <td>137.0</td>\n",
       "      <td>29.0</td>\n",
       "      <td>17.0</td>\n",
       "      <td>18.0</td>\n",
       "      <td>85.0</td>\n",
       "      <td>86.0</td>\n",
       "      <td>zendesk</td>\n",
       "      <td>first_page</td>\n",
       "      <td>0.0</td>\n",
       "    </tr>\n",
       "  </tbody>\n",
       "</table>\n",
       "<p>5 rows × 26 columns</p>\n",
       "</div>"
      ],
      "text/plain": [
       "                  keyword  Position  volume  difficulty     CPC  \\\n",
       "135                  demo        10    5400       57.30    0.00   \n",
       "1                helpdesk         4    3600       53.98  103.89   \n",
       "145               wharton         9    1300       60.15    4.92   \n",
       "138  base de conhecimento         5     390       62.11    3.65   \n",
       "140            ver preços         8     320       80.11    0.65   \n",
       "\n",
       "                                                   Url  Competition  \\\n",
       "135                   https://www.zendesk.com.br/demo/         0.00   \n",
       "1                           https://www.tomticket.com/         0.84   \n",
       "145       https://www.zendesk.com.br/customer/wharton/         0.12   \n",
       "138  https://www.zendesk.com.br/guide/features/know...         0.12   \n",
       "140        https://www.zendesk.com.br/product/pricing/         0.34   \n",
       "\n",
       "                                                 title  Backlinks  Domains  \\\n",
       "135  Demonstração do Zendesk | Assista a uma breve ...        2.0      2.0   \n",
       "1    TomTicket - Sistema de Help Desk e Atendimento...       21.0     17.0   \n",
       "145  The Wharton School Customer Service Story | Ze...        1.0      1.0   \n",
       "138  Líder em software de base de conhecimento | Ze...        1.0      1.0   \n",
       "140  Preços do Zendesk | Planos a partir de somente...        1.0      1.0   \n",
       "\n",
       "         ...       Inlinks  Outlinks  external_outlinks  url_score  url_trust  \\\n",
       "135      ...         386.0      82.0               32.0       14.0       16.0   \n",
       "1        ...         131.0      33.0               22.0        3.0        0.0   \n",
       "145      ...           7.0     113.0               32.0        1.0        3.0   \n",
       "138      ...          42.0      93.0               28.0       12.0        8.0   \n",
       "140      ...         191.0     137.0               29.0       17.0       18.0   \n",
       "\n",
       "     avg_backlink_score  avg_backlink_trust  competitor        type  \\\n",
       "135                85.0                86.0     zendesk  first_page   \n",
       "1                   7.0                 6.0   tomticket  first_page   \n",
       "145                85.0                86.0     zendesk  first_page   \n",
       "138                85.0                86.0     zendesk  first_page   \n",
       "140                85.0                86.0     zendesk  first_page   \n",
       "\n",
       "     tem_octadesk  \n",
       "135           0.0  \n",
       "1             0.0  \n",
       "145           0.0  \n",
       "138           0.0  \n",
       "140           0.0  \n",
       "\n",
       "[5 rows x 26 columns]"
      ]
     },
     "execution_count": 141,
     "metadata": {},
     "output_type": "execute_result"
    }
   ],
   "source": [
    "comparison_1_1.head()"
   ]
  },
  {
   "cell_type": "code",
   "execution_count": 142,
   "metadata": {
    "collapsed": true
   },
   "outputs": [],
   "source": [
    "palavras_1 = comparison_1_1.iloc[:,[0,1,2,3]]"
   ]
  },
  {
   "cell_type": "code",
   "execution_count": 143,
   "metadata": {
    "collapsed": true
   },
   "outputs": [],
   "source": [
    "palavras_2 = comparison_1_2.iloc[:,[0,1,2,3]]"
   ]
  },
  {
   "cell_type": "code",
   "execution_count": 144,
   "metadata": {
    "collapsed": true
   },
   "outputs": [],
   "source": [
    "palavras = pd.concat([palavras_1, palavras_2])"
   ]
  },
  {
   "cell_type": "code",
   "execution_count": 145,
   "metadata": {
    "collapsed": true
   },
   "outputs": [],
   "source": [
    "palavras = palavras.sort_values(by='volume', ascending=False)"
   ]
  },
  {
   "cell_type": "code",
   "execution_count": 146,
   "metadata": {
    "collapsed": true
   },
   "outputs": [],
   "source": [
    "palavras.to_csv('extract/csv/keywords_to_work.csv')"
   ]
  },
  {
   "cell_type": "markdown",
   "metadata": {},
   "source": [
    "### Urls para melhorias\n",
    "\n",
    "Separar as urls que precisam ser otimizadas. Vamos trabalhar palavras que estão na primeira e segunda página."
   ]
  },
  {
   "cell_type": "code",
   "execution_count": 147,
   "metadata": {
    "collapsed": true
   },
   "outputs": [],
   "source": [
    "octadesk_filter_1 = octadesk_seo['type'] == 'first_page'"
   ]
  },
  {
   "cell_type": "code",
   "execution_count": 148,
   "metadata": {
    "collapsed": true
   },
   "outputs": [],
   "source": [
    "octadesk_filter_2 = octadesk_seo['type'] == 'second_page'"
   ]
  },
  {
   "cell_type": "code",
   "execution_count": 149,
   "metadata": {
    "collapsed": true
   },
   "outputs": [],
   "source": [
    "octadesk_first_page = octadesk_seo[octadesk_filter_1]"
   ]
  },
  {
   "cell_type": "code",
   "execution_count": 150,
   "metadata": {
    "collapsed": true
   },
   "outputs": [],
   "source": [
    "octadesk_second_page = octadesk_seo[octadesk_filter_2]"
   ]
  },
  {
   "cell_type": "markdown",
   "metadata": {},
   "source": [
    "Usando como base os dados dos competidores que estão entre 3 e 10 nas suas posições, iremos nos basear nas métricas de sucesso destes. As variáveis que vamos analisar são:\n",
    "\n",
    "- Número de backlinks\n",
    "- Número de domains\n",
    "- Número de links (inlinks, outlinks, external outlinks)\n",
    "- Words\n",
    "- Text ratio\n",
    "- avg_backlink_score\n",
    "- avg_backlink_trust\n",
    "\n",
    "Algumas definições:\n",
    "\n",
    "- Outlinks – Number of internal outlinks from the URI. ‘Internal outlinks’ are links from a given URI to another URI on the same subdomain that is being crawled\n",
    "\n",
    "- Inlinks – Number of internal hyperlinks to the URI. ‘Internal inlinks’ are links pointing to a given URI from the same subdomain that is being crawled\n",
    "\n",
    "- External Outlinks – Number of external outlinks from the URI. ‘External outlinks’ are links from a given URI to another subdomain.\n",
    "\n",
    "- Word Count – This is all ‘words’ inside the body tag. This does not include HTML markup. Our figures may not be exactly what doing this manually would find, as the parser performs certain fix-ups on invalid html. Your rendering settings also affect what HTML is considered. Our definition of a word is taking the text and splitting it by spaces. \n",
    "\n",
    "- Text Ratio – Number of characters in the <body> of the page / total characters in the page.\n",
    "\n",
    "Os valores teto que iremos usar são:\n",
    "\n",
    "- backlinks: 49\n",
    "- domains: 9.98\n",
    "- inlinks: 161\n",
    "- outlinks: 94.675\n",
    "- external outlinks: 25.079\n",
    "- Words: 994.5682\n",
    "- Text ratio:14.17\n",
    "- avg_backlink_score:34.35\n",
    "- avg_backlink_trust:35.65"
   ]
  },
  {
   "cell_type": "code",
   "execution_count": 151,
   "metadata": {
    "collapsed": true
   },
   "outputs": [],
   "source": [
    "filter_c_1 = (competitor_seo_without_nans['Position'] <= 10) & (competitor_seo_without_nans['Position'] > 3)"
   ]
  },
  {
   "cell_type": "code",
   "execution_count": 152,
   "metadata": {
    "collapsed": true
   },
   "outputs": [],
   "source": [
    "df = competitor_seo_without_nans[filter_c_1]"
   ]
  },
  {
   "cell_type": "code",
   "execution_count": 153,
   "metadata": {},
   "outputs": [
    {
     "data": {
      "text/plain": [
       "Index(['keyword', 'Position', 'volume', 'difficulty', 'CPC', 'Url',\n",
       "       'Competition', 'title', 'Backlinks', 'Domains', 'length_title',\n",
       "       'length_description', 'length_headline', 'Size', 'word_count',\n",
       "       'text_ratio', 'Inlinks', 'Outlinks', 'external_outlinks', 'url_score',\n",
       "       'url_trust', 'avg_backlink_score', 'avg_backlink_trust', 'competitor',\n",
       "       'type'],\n",
       "      dtype='object')"
      ]
     },
     "execution_count": 153,
     "metadata": {},
     "output_type": "execute_result"
    }
   ],
   "source": [
    "df.columns"
   ]
  },
  {
   "cell_type": "code",
   "execution_count": 154,
   "metadata": {},
   "outputs": [
    {
     "name": "stdout",
     "output_type": "stream",
     "text": [
      "49.14492753623188\n"
     ]
    }
   ],
   "source": [
    "x_1 = df[np.abs(df.Backlinks-df.Backlinks.mean())<=(df.Backlinks.std())] \n",
    "\n",
    "y_1 = pd.DataFrame()\n",
    "y_1['Backlinks_count'] = x_1.Backlinks.value_counts()\n",
    "y_1.reset_index(inplace=True)\n",
    "\n",
    "y_1 = y_1.rename(index=str, columns={'index':'Backlinks'})\n",
    "y_1['backlinks_x_count'] = y_1.Backlinks * y_1.Backlinks_count \n",
    "\n",
    "media_ponderada_backlinks = y_1.backlinks_x_count.sum() / y_1.Backlinks_count.sum()\n",
    "print(media_ponderada_backlinks)"
   ]
  },
  {
   "cell_type": "code",
   "execution_count": 155,
   "metadata": {},
   "outputs": [
    {
     "name": "stdout",
     "output_type": "stream",
     "text": [
      "9.985507246376812\n"
     ]
    }
   ],
   "source": [
    "x_2 = df[np.abs(df.Domains-df.Domains.mean())<=(df.Domains.std())] \n",
    "\n",
    "y_2 = pd.DataFrame()\n",
    "y_2['Domains_count'] = x_2.Domains.value_counts()\n",
    "\n",
    "y_2.reset_index(inplace=True)\n",
    "\n",
    "y_2 = y_2.rename(index=str, columns={'index':'Domains'})\n",
    "y_2['Domains_x_count'] = y_2.Domains * y_2.Domains_count \n",
    "\n",
    "media_ponderada_Domains = y_2.Domains_x_count.sum() / y_2.Domains_count.sum()\n",
    "print(media_ponderada_Domains)"
   ]
  },
  {
   "cell_type": "code",
   "execution_count": 156,
   "metadata": {},
   "outputs": [
    {
     "name": "stdout",
     "output_type": "stream",
     "text": [
      "161.22413793103448\n"
     ]
    }
   ],
   "source": [
    "x_3 = df[np.abs(df.Inlinks-df.Inlinks.mean())<=(df.Inlinks.std())] \n",
    "\n",
    "y_3 = pd.DataFrame()\n",
    "y_3['Inlinks_count'] = x_3.Inlinks.value_counts()\n",
    "\n",
    "y_3.reset_index(inplace=True)\n",
    "\n",
    "y_3 = y_3.rename(index=str, columns={'index':'Inlinks'})\n",
    "y_3['Inlinks_x_count'] = y_3.Inlinks * y_3.Inlinks_count \n",
    "\n",
    "media_ponderada_Inlinks = y_3.Inlinks_x_count.sum() / y_3.Inlinks_count.sum()\n",
    "print(media_ponderada_Inlinks)"
   ]
  },
  {
   "cell_type": "code",
   "execution_count": 157,
   "metadata": {
    "scrolled": true
   },
   "outputs": [
    {
     "name": "stdout",
     "output_type": "stream",
     "text": [
      "94.675\n"
     ]
    }
   ],
   "source": [
    "x_4 = df[np.abs(df.Outlinks-df.Outlinks.mean())<=(df.Outlinks.std())] \n",
    "\n",
    "y_4 = pd.DataFrame()\n",
    "y_4['Outlinks_count'] = x_4.Outlinks.value_counts()\n",
    "\n",
    "y_4.reset_index(inplace=True)\n",
    "\n",
    "y_4 = y_4.rename(index=str, columns={'index':'Outlinks'})\n",
    "y_4['Outlinks_x_count'] = y_4.Outlinks * y_4.Outlinks_count \n",
    "\n",
    "media_ponderada_Outlinks = y_4.Outlinks_x_count.sum() / y_4.Outlinks_count.sum()\n",
    "print(media_ponderada_Outlinks)"
   ]
  },
  {
   "cell_type": "code",
   "execution_count": 158,
   "metadata": {},
   "outputs": [
    {
     "name": "stdout",
     "output_type": "stream",
     "text": [
      "25.079545454545453\n"
     ]
    }
   ],
   "source": [
    "x_5 = df[np.abs(df.external_outlinks-df.external_outlinks.mean())<=(df.external_outlinks.std())] \n",
    "\n",
    "y_5 = pd.DataFrame()\n",
    "y_5['external_outlinks_count'] = x_5.external_outlinks.value_counts()\n",
    "\n",
    "y_5.reset_index(inplace=True)\n",
    "\n",
    "y_5 = y_5.rename(index=str, columns={'index':'external_outlinks'})\n",
    "y_5['external_outlinks_x_count'] = y_5.external_outlinks * y_5.external_outlinks_count \n",
    "\n",
    "media_ponderada_external_outlinks = y_5.external_outlinks_x_count.sum() / y_5.external_outlinks_count.sum()\n",
    "print(media_ponderada_external_outlinks)"
   ]
  },
  {
   "cell_type": "code",
   "execution_count": 159,
   "metadata": {},
   "outputs": [
    {
     "name": "stdout",
     "output_type": "stream",
     "text": [
      "994.5681818181819\n"
     ]
    }
   ],
   "source": [
    "x_6 = df[np.abs(df.word_count-df.word_count.mean())<=(3*df.word_count.std())] \n",
    "x_6.head()\n",
    "\n",
    "y_6 = pd.DataFrame()\n",
    "y_6['word_count_count'] = x_6.word_count.value_counts()\n",
    "\n",
    "y_6.reset_index(inplace=True)\n",
    "\n",
    "y_6 = y_6.rename(index=str, columns={'index':'word_count'})\n",
    "y_6['word_count_x_count'] = y_6.word_count * y_6.word_count_count \n",
    "\n",
    "media_ponderada_word_count = y_6.word_count_x_count.sum() / y_6.word_count_count.sum()\n",
    "print(media_ponderada_word_count)"
   ]
  },
  {
   "cell_type": "code",
   "execution_count": 160,
   "metadata": {},
   "outputs": [
    {
     "name": "stdout",
     "output_type": "stream",
     "text": [
      "14.169549539772726\n"
     ]
    }
   ],
   "source": [
    "x_7 = df[np.abs(df.text_ratio-df.text_ratio.mean())<=(3*df.text_ratio.std())] \n",
    "x_7.head()\n",
    "\n",
    "y_7 = pd.DataFrame()\n",
    "y_7['text_ratio_count'] = x_7.text_ratio.value_counts()\n",
    "\n",
    "y_7.reset_index(inplace=True)\n",
    "\n",
    "y_7 = y_7.rename(index=str, columns={'index':'text_ratio'})\n",
    "y_7['text_ratio_x_count'] = y_7.text_ratio * y_7.text_ratio_count \n",
    "\n",
    "media_ponderada_text_ratio = y_7.text_ratio_x_count.sum() / y_7.text_ratio_count.sum()\n",
    "print(media_ponderada_text_ratio)"
   ]
  },
  {
   "cell_type": "code",
   "execution_count": 161,
   "metadata": {},
   "outputs": [
    {
     "name": "stdout",
     "output_type": "stream",
     "text": [
      "34.35406714996309\n"
     ]
    }
   ],
   "source": [
    "x_8 = df[np.abs(df.avg_backlink_score-df.avg_backlink_score.mean())<=(3*df.avg_backlink_score.std())] \n",
    "x_8.head()\n",
    "\n",
    "y_8 = pd.DataFrame()\n",
    "y_8['avg_backlink_score_count'] = x_8.avg_backlink_score.value_counts()\n",
    "\n",
    "y_8.reset_index(inplace=True)\n",
    "\n",
    "y_8 = y_8.rename(index=str, columns={'index':'avg_backlink_score'})\n",
    "y_8['avg_backlink_score_x_count'] = y_8.avg_backlink_score * y_8.avg_backlink_score_count \n",
    "\n",
    "media_ponderada_avg_backlink_score = y_8.avg_backlink_score_x_count.sum() / y_8.avg_backlink_score_count.sum()\n",
    "print(media_ponderada_avg_backlink_score)"
   ]
  },
  {
   "cell_type": "code",
   "execution_count": 162,
   "metadata": {},
   "outputs": [
    {
     "name": "stdout",
     "output_type": "stream",
     "text": [
      "35.650820668505546\n"
     ]
    }
   ],
   "source": [
    "x_9 = df[np.abs(df.avg_backlink_trust-df.avg_backlink_trust.mean())<=(3*df.avg_backlink_trust.std())] \n",
    "x_9.head()\n",
    "\n",
    "y_9 = pd.DataFrame()\n",
    "y_9['avg_backlink_trust_count'] = x_9.avg_backlink_trust.value_counts()\n",
    "\n",
    "y_9.reset_index(inplace=True)\n",
    "\n",
    "y_9 = y_9.rename(index=str, columns={'index':'avg_backlink_trust'})\n",
    "y_9['avg_backlink_trust_x_count'] = y_9.avg_backlink_trust * y_9.avg_backlink_trust_count \n",
    "\n",
    "media_ponderada_avg_backlink_trust = y_9.avg_backlink_trust_x_count.sum() / y_9.avg_backlink_trust_count.sum()\n",
    "print(media_ponderada_avg_backlink_trust)"
   ]
  },
  {
   "cell_type": "markdown",
   "metadata": {},
   "source": [
    "Aplicando o filtro na base do octa para separar as urls que precisam ser otimizadas para cada variável."
   ]
  },
  {
   "cell_type": "code",
   "execution_count": 163,
   "metadata": {
    "collapsed": true
   },
   "outputs": [],
   "source": [
    "mask_backlink = octadesk_seo['Backlinks'] < 49\n",
    "mask_domains = octadesk_seo['Domains'] < 9.98\n",
    "mask_inlinks = octadesk_seo['Inlinks'] < 161\n",
    "mask_outlinks = octadesk_seo['Outlinks'] < 94.675\n",
    "mask_external_outlinks = octadesk_seo['external_outlinks'] < 25.079\n",
    "mask_words = octadesk_seo['word_count'] < 994.5682\n",
    "mask_text_ratio = octadesk_seo['text_ratio'] < 14.17\n",
    "mask_avg_backlink_score = octadesk_seo['text_ratio'] < 34.35\n",
    "mask_avg_backlink_trust = octadesk_seo['text_ratio'] < 35.65"
   ]
  },
  {
   "cell_type": "code",
   "execution_count": 164,
   "metadata": {
    "collapsed": true
   },
   "outputs": [],
   "source": [
    "optimize_backlink = octadesk_seo[mask_backlink]\n",
    "optimize_domains = octadesk_seo[mask_domains]\n",
    "optimize_inlinks = octadesk_seo[mask_inlinks]\n",
    "optimize_outlinks = octadesk_seo[mask_outlinks]\n",
    "optimize_external_outlinks = octadesk_seo[mask_external_outlinks]\n",
    "optimize_words = octadesk_seo[mask_words]\n",
    "optimize_text_ratio = octadesk_seo[mask_text_ratio]\n",
    "optimize_avg_backlink_score = octadesk_seo[mask_avg_backlink_score]\n",
    "optimize_avg_backlink_trust = octadesk_seo[mask_avg_backlink_trust]"
   ]
  },
  {
   "cell_type": "code",
   "execution_count": 165,
   "metadata": {},
   "outputs": [
    {
     "data": {
      "text/html": [
       "<div>\n",
       "<style>\n",
       "    .dataframe thead tr:only-child th {\n",
       "        text-align: right;\n",
       "    }\n",
       "\n",
       "    .dataframe thead th {\n",
       "        text-align: left;\n",
       "    }\n",
       "\n",
       "    .dataframe tbody tr th {\n",
       "        vertical-align: top;\n",
       "    }\n",
       "</style>\n",
       "<table border=\"1\" class=\"dataframe\">\n",
       "  <thead>\n",
       "    <tr style=\"text-align: right;\">\n",
       "      <th></th>\n",
       "      <th>keyword</th>\n",
       "      <th>Position</th>\n",
       "      <th>volume</th>\n",
       "      <th>difficulty</th>\n",
       "      <th>CPC</th>\n",
       "      <th>Url</th>\n",
       "      <th>Competition</th>\n",
       "      <th>title</th>\n",
       "      <th>Backlinks</th>\n",
       "      <th>Domains</th>\n",
       "      <th>...</th>\n",
       "      <th>text_ratio</th>\n",
       "      <th>Inlinks</th>\n",
       "      <th>Outlinks</th>\n",
       "      <th>external_outlinks</th>\n",
       "      <th>url_score</th>\n",
       "      <th>url_trust</th>\n",
       "      <th>avg_backlink_score</th>\n",
       "      <th>avg_backlink_trust</th>\n",
       "      <th>competitor</th>\n",
       "      <th>type</th>\n",
       "    </tr>\n",
       "  </thead>\n",
       "  <tbody>\n",
       "    <tr>\n",
       "      <th>11</th>\n",
       "      <td>helpdesk</td>\n",
       "      <td>14</td>\n",
       "      <td>3600</td>\n",
       "      <td>53.54</td>\n",
       "      <td>103.89</td>\n",
       "      <td>https://www.octadesk.com/</td>\n",
       "      <td>0.84</td>\n",
       "      <td>Help Desk e sistema de atendimento ao cliente ...</td>\n",
       "      <td>20.0</td>\n",
       "      <td>13.0</td>\n",
       "      <td>...</td>\n",
       "      <td>9.428656</td>\n",
       "      <td>393.0</td>\n",
       "      <td>2.0</td>\n",
       "      <td>5.0</td>\n",
       "      <td>10.0</td>\n",
       "      <td>10.0</td>\n",
       "      <td>24.545455</td>\n",
       "      <td>34.181818</td>\n",
       "      <td>octadesk</td>\n",
       "      <td>second_page</td>\n",
       "    </tr>\n",
       "    <tr>\n",
       "      <th>408</th>\n",
       "      <td>service desk logo</td>\n",
       "      <td>6</td>\n",
       "      <td>90</td>\n",
       "      <td>39.86</td>\n",
       "      <td>0.00</td>\n",
       "      <td>https://www.octadesk.com/</td>\n",
       "      <td>0.17</td>\n",
       "      <td>Help Desk e sistema de atendimento ao cliente ...</td>\n",
       "      <td>20.0</td>\n",
       "      <td>13.0</td>\n",
       "      <td>...</td>\n",
       "      <td>9.428656</td>\n",
       "      <td>393.0</td>\n",
       "      <td>2.0</td>\n",
       "      <td>5.0</td>\n",
       "      <td>10.0</td>\n",
       "      <td>10.0</td>\n",
       "      <td>24.545455</td>\n",
       "      <td>34.181818</td>\n",
       "      <td>octadesk</td>\n",
       "      <td>first_page</td>\n",
       "    </tr>\n",
       "    <tr>\n",
       "      <th>438</th>\n",
       "      <td>sistem helpdesk</td>\n",
       "      <td>4</td>\n",
       "      <td>70</td>\n",
       "      <td>41.35</td>\n",
       "      <td>0.00</td>\n",
       "      <td>https://www.octadesk.com/</td>\n",
       "      <td>0.00</td>\n",
       "      <td>Help Desk e sistema de atendimento ao cliente ...</td>\n",
       "      <td>20.0</td>\n",
       "      <td>13.0</td>\n",
       "      <td>...</td>\n",
       "      <td>9.428656</td>\n",
       "      <td>393.0</td>\n",
       "      <td>2.0</td>\n",
       "      <td>5.0</td>\n",
       "      <td>10.0</td>\n",
       "      <td>10.0</td>\n",
       "      <td>24.545455</td>\n",
       "      <td>34.181818</td>\n",
       "      <td>octadesk</td>\n",
       "      <td>first_page</td>\n",
       "    </tr>\n",
       "    <tr>\n",
       "      <th>465</th>\n",
       "      <td>sistema de help desk</td>\n",
       "      <td>7</td>\n",
       "      <td>110</td>\n",
       "      <td>28.81</td>\n",
       "      <td>139.54</td>\n",
       "      <td>https://www.octadesk.com/</td>\n",
       "      <td>0.99</td>\n",
       "      <td>Help Desk e sistema de atendimento ao cliente ...</td>\n",
       "      <td>20.0</td>\n",
       "      <td>13.0</td>\n",
       "      <td>...</td>\n",
       "      <td>9.428656</td>\n",
       "      <td>393.0</td>\n",
       "      <td>2.0</td>\n",
       "      <td>5.0</td>\n",
       "      <td>10.0</td>\n",
       "      <td>10.0</td>\n",
       "      <td>24.545455</td>\n",
       "      <td>34.181818</td>\n",
       "      <td>octadesk</td>\n",
       "      <td>first_page</td>\n",
       "    </tr>\n",
       "    <tr>\n",
       "      <th>494</th>\n",
       "      <td>sistema help desk</td>\n",
       "      <td>8</td>\n",
       "      <td>110</td>\n",
       "      <td>37.47</td>\n",
       "      <td>69.48</td>\n",
       "      <td>https://www.octadesk.com/</td>\n",
       "      <td>0.99</td>\n",
       "      <td>Help Desk e sistema de atendimento ao cliente ...</td>\n",
       "      <td>20.0</td>\n",
       "      <td>13.0</td>\n",
       "      <td>...</td>\n",
       "      <td>9.428656</td>\n",
       "      <td>393.0</td>\n",
       "      <td>2.0</td>\n",
       "      <td>5.0</td>\n",
       "      <td>10.0</td>\n",
       "      <td>10.0</td>\n",
       "      <td>24.545455</td>\n",
       "      <td>34.181818</td>\n",
       "      <td>octadesk</td>\n",
       "      <td>first_page</td>\n",
       "    </tr>\n",
       "  </tbody>\n",
       "</table>\n",
       "<p>5 rows × 25 columns</p>\n",
       "</div>"
      ],
      "text/plain": [
       "                  keyword  Position  volume  difficulty     CPC  \\\n",
       "11               helpdesk        14    3600       53.54  103.89   \n",
       "408     service desk logo         6      90       39.86    0.00   \n",
       "438       sistem helpdesk         4      70       41.35    0.00   \n",
       "465  sistema de help desk         7     110       28.81  139.54   \n",
       "494     sistema help desk         8     110       37.47   69.48   \n",
       "\n",
       "                           Url  Competition  \\\n",
       "11   https://www.octadesk.com/         0.84   \n",
       "408  https://www.octadesk.com/         0.17   \n",
       "438  https://www.octadesk.com/         0.00   \n",
       "465  https://www.octadesk.com/         0.99   \n",
       "494  https://www.octadesk.com/         0.99   \n",
       "\n",
       "                                                 title  Backlinks  Domains  \\\n",
       "11   Help Desk e sistema de atendimento ao cliente ...       20.0     13.0   \n",
       "408  Help Desk e sistema de atendimento ao cliente ...       20.0     13.0   \n",
       "438  Help Desk e sistema de atendimento ao cliente ...       20.0     13.0   \n",
       "465  Help Desk e sistema de atendimento ao cliente ...       20.0     13.0   \n",
       "494  Help Desk e sistema de atendimento ao cliente ...       20.0     13.0   \n",
       "\n",
       "        ...       text_ratio  Inlinks  Outlinks  external_outlinks  url_score  \\\n",
       "11      ...         9.428656    393.0       2.0                5.0       10.0   \n",
       "408     ...         9.428656    393.0       2.0                5.0       10.0   \n",
       "438     ...         9.428656    393.0       2.0                5.0       10.0   \n",
       "465     ...         9.428656    393.0       2.0                5.0       10.0   \n",
       "494     ...         9.428656    393.0       2.0                5.0       10.0   \n",
       "\n",
       "     url_trust  avg_backlink_score  avg_backlink_trust  competitor  \\\n",
       "11        10.0           24.545455           34.181818    octadesk   \n",
       "408       10.0           24.545455           34.181818    octadesk   \n",
       "438       10.0           24.545455           34.181818    octadesk   \n",
       "465       10.0           24.545455           34.181818    octadesk   \n",
       "494       10.0           24.545455           34.181818    octadesk   \n",
       "\n",
       "            type  \n",
       "11   second_page  \n",
       "408   first_page  \n",
       "438   first_page  \n",
       "465   first_page  \n",
       "494   first_page  \n",
       "\n",
       "[5 rows x 25 columns]"
      ]
     },
     "execution_count": 165,
     "metadata": {},
     "output_type": "execute_result"
    }
   ],
   "source": [
    "optimize_backlink.head()"
   ]
  },
  {
   "cell_type": "code",
   "execution_count": 166,
   "metadata": {},
   "outputs": [],
   "source": [
    "optimize_backlink = optimize_backlink.iloc[:,[0,1,2,6,5,8]].drop_duplicates(['Url', 'keyword'])\n",
    "optimize_backlink = optimize_backlink.dropna(how='any')\n",
    "optimize_domains = optimize_domains.iloc[:,[0,1,2,6,5,9]].drop_duplicates(['Url', 'keyword'])\n",
    "optimize_domains = optimize_domains.dropna(how='any')\n",
    "optimize_inlinks = optimize_inlinks.iloc[:,[0,1,2,6,5,16]].drop_duplicates(['Url', 'keyword'])\n",
    "optimize_inlinks = optimize_inlinks.dropna(how='any')\n",
    "optimize_outlinks = optimize_outlinks.iloc[:,[0,1,2,6,5,17]].drop_duplicates(['Url', 'keyword'])\n",
    "optimize_outlinks = optimize_outlinks.dropna(how='any')\n",
    "optimize_external_outlinks = optimize_external_outlinks.iloc[:,[0,1,2,6,5,18]].drop_duplicates(['Url', 'keyword'])\n",
    "optimize_external_outlinks = optimize_external_outlinks.dropna(how='any')\n",
    "optimize_words = optimize_words.iloc[:,[0,1,2,6,5,14]].drop_duplicates(['Url', 'keyword'])\n",
    "optimize_words = optimize_words.dropna(how='any')\n",
    "optimize_text_ratio = optimize_text_ratio.iloc[:,[0,1,2,6,5,15]].drop_duplicates(['Url', 'keyword'])\n",
    "optimize_text_ratio = optimize_text_ratio.dropna(how='any')\n",
    "optimize_avg_backlink_score = optimize_avg_backlink_score.iloc[:,[0,1,2,6,5,21]].drop_duplicates(['Url', 'keyword'])\n",
    "optimize_avg_backlink_score = optimize_avg_backlink_score.dropna(how='any')\n",
    "optimize_avg_backlink_trust = optimize_avg_backlink_trust.iloc[:,[0,1,2,6,5,22]].drop_duplicates(['Url', 'keyword'])\n",
    "optimize_avg_backlink_trust = optimize_avg_backlink_trust.dropna(how='any')"
   ]
  },
  {
   "cell_type": "code",
   "execution_count": 167,
   "metadata": {},
   "outputs": [
    {
     "data": {
      "text/html": [
       "<div>\n",
       "<style>\n",
       "    .dataframe thead tr:only-child th {\n",
       "        text-align: right;\n",
       "    }\n",
       "\n",
       "    .dataframe thead th {\n",
       "        text-align: left;\n",
       "    }\n",
       "\n",
       "    .dataframe tbody tr th {\n",
       "        vertical-align: top;\n",
       "    }\n",
       "</style>\n",
       "<table border=\"1\" class=\"dataframe\">\n",
       "  <thead>\n",
       "    <tr style=\"text-align: right;\">\n",
       "      <th></th>\n",
       "      <th>keyword</th>\n",
       "      <th>Position</th>\n",
       "      <th>volume</th>\n",
       "      <th>Competition</th>\n",
       "      <th>Url</th>\n",
       "      <th>avg_backlink_trust</th>\n",
       "    </tr>\n",
       "  </thead>\n",
       "  <tbody>\n",
       "    <tr>\n",
       "      <th>11</th>\n",
       "      <td>helpdesk</td>\n",
       "      <td>14</td>\n",
       "      <td>3600</td>\n",
       "      <td>0.84</td>\n",
       "      <td>https://www.octadesk.com/</td>\n",
       "      <td>34.181818</td>\n",
       "    </tr>\n",
       "    <tr>\n",
       "      <th>408</th>\n",
       "      <td>service desk logo</td>\n",
       "      <td>6</td>\n",
       "      <td>90</td>\n",
       "      <td>0.17</td>\n",
       "      <td>https://www.octadesk.com/</td>\n",
       "      <td>34.181818</td>\n",
       "    </tr>\n",
       "    <tr>\n",
       "      <th>438</th>\n",
       "      <td>sistem helpdesk</td>\n",
       "      <td>4</td>\n",
       "      <td>70</td>\n",
       "      <td>0.00</td>\n",
       "      <td>https://www.octadesk.com/</td>\n",
       "      <td>34.181818</td>\n",
       "    </tr>\n",
       "    <tr>\n",
       "      <th>465</th>\n",
       "      <td>sistema de help desk</td>\n",
       "      <td>7</td>\n",
       "      <td>110</td>\n",
       "      <td>0.99</td>\n",
       "      <td>https://www.octadesk.com/</td>\n",
       "      <td>34.181818</td>\n",
       "    </tr>\n",
       "    <tr>\n",
       "      <th>494</th>\n",
       "      <td>sistema help desk</td>\n",
       "      <td>8</td>\n",
       "      <td>110</td>\n",
       "      <td>0.99</td>\n",
       "      <td>https://www.octadesk.com/</td>\n",
       "      <td>34.181818</td>\n",
       "    </tr>\n",
       "  </tbody>\n",
       "</table>\n",
       "</div>"
      ],
      "text/plain": [
       "                  keyword  Position  volume  Competition  \\\n",
       "11               helpdesk        14    3600         0.84   \n",
       "408     service desk logo         6      90         0.17   \n",
       "438       sistem helpdesk         4      70         0.00   \n",
       "465  sistema de help desk         7     110         0.99   \n",
       "494     sistema help desk         8     110         0.99   \n",
       "\n",
       "                           Url  avg_backlink_trust  \n",
       "11   https://www.octadesk.com/           34.181818  \n",
       "408  https://www.octadesk.com/           34.181818  \n",
       "438  https://www.octadesk.com/           34.181818  \n",
       "465  https://www.octadesk.com/           34.181818  \n",
       "494  https://www.octadesk.com/           34.181818  "
      ]
     },
     "execution_count": 167,
     "metadata": {},
     "output_type": "execute_result"
    }
   ],
   "source": [
    "optimize_avg_backlink_trust.head()"
   ]
  },
  {
   "cell_type": "markdown",
   "metadata": {},
   "source": [
    "Vamos extrair os csv's"
   ]
  },
  {
   "cell_type": "code",
   "execution_count": 168,
   "metadata": {
    "collapsed": true
   },
   "outputs": [],
   "source": [
    "optimize_backlink.to_csv('extract/csv/optimize_backlink.csv', sep='\\t')\n",
    "optimize_domains.to_csv('extract/csv/optimize_domains.csv', sep='\\t')\n",
    "optimize_inlinks.to_csv('extract/csv/optimize_inlinks.csv', sep='\\t')\n",
    "optimize_outlinks.to_csv('extract/csv/optimize_outlinks.csv', sep='\\t')\n",
    "optimize_external_outlinks.to_csv('extract/csv/optimize_external_outlinks.csv', sep='\\t')\n",
    "optimize_words.to_csv('extract/csv/optimize_words.csv', sep='\\t')\n",
    "optimize_text_ratio.to_csv('extract/csv/optimize_text_ratio.csv', sep='\\t')\n",
    "optimize_avg_backlink_score.to_csv('extract/csv/optimize_avg_backlink_score.csv', sep='\\t')\n",
    "optimize_avg_backlink_trust.to_csv('extract/csv/optimize_avg_backlink_trust.csv', sep='\\t')"
   ]
  },
  {
   "cell_type": "markdown",
   "metadata": {},
   "source": [
    "# Próximos passos"
   ]
  },
  {
   "cell_type": "markdown",
   "metadata": {},
   "source": [
    "Para montar um modelo preditivo, é necessário ter uma base maior e com menos gaps de informação.\n",
    "\n",
    "A hipótese de melhoria é que, a partir da API do SEMRush, Google Analytics, Adwords e Google Search console é possível puxar informações mais relevantes e não haverá necessidade de cruzar bases em csv, fator que possibilita a perda de dados.\n",
    "\n",
    "Desse modo, é interessante desenhar o Canvas Hekima para entender afundo qual o problema desejado à ser resolvido para então, assim, estruturar a base com a target resposta adequada."
   ]
  }
 ],
 "metadata": {
  "kernelspec": {
   "display_name": "Python 3",
   "language": "python",
   "name": "python3"
  },
  "language_info": {
   "codemirror_mode": {
    "name": "ipython",
    "version": 3
   },
   "file_extension": ".py",
   "mimetype": "text/x-python",
   "name": "python",
   "nbconvert_exporter": "python",
   "pygments_lexer": "ipython3",
   "version": "3.6.2"
  }
 },
 "nbformat": 4,
 "nbformat_minor": 2
}
