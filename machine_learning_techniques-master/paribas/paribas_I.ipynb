{
 "cells": [
  {
   "cell_type": "code",
   "execution_count": 1,
   "metadata": {
    "collapsed": false
   },
   "outputs": [
    {
     "name": "stdout",
     "output_type": "stream",
     "text": [
      "(114321, 133)\n"
     ]
    }
   ],
   "source": [
    "#data from this kaggle comp.: https://www.kaggle.com/c/bnp-paribas-cardif-claims-management\n",
    "import numpy as np\n",
    "import pandas as pd\n",
    "import matplotlib.pyplot as plt\n",
    "%matplotlib inline\n",
    "pd.set_option('display.mpl_style', 'default') # Make the graphs a bit prettier\n",
    "##check out tutorial here:\n",
    "##http://nbviewer.ipython.org/github/jvns/pandas-cookbook/blob/v0.1/cookbook/Chapter%201%20-%20Reading%20from%20a%20CSV.ipynb\n",
    "df_train = pd.read_csv('train.csv')\n",
    "#print(np.shape(df_train))\n",
    "df_train.head()\n",
    "print np.shape(df_train)"
   ]
  },
  {
   "cell_type": "code",
   "execution_count": 2,
   "metadata": {
    "collapsed": false
   },
   "outputs": [
    {
     "data": {
      "text/html": [
       "<div>\n",
       "<table border=\"1\" class=\"dataframe\">\n",
       "  <thead>\n",
       "    <tr style=\"text-align: right;\">\n",
       "      <th></th>\n",
       "      <th>ID</th>\n",
       "      <th>target</th>\n",
       "      <th>v1</th>\n",
       "      <th>v2</th>\n",
       "      <th>v3</th>\n",
       "      <th>v4</th>\n",
       "      <th>v5</th>\n",
       "      <th>v6</th>\n",
       "      <th>v7</th>\n",
       "      <th>v8</th>\n",
       "      <th>...</th>\n",
       "      <th>v122</th>\n",
       "      <th>v123</th>\n",
       "      <th>v124</th>\n",
       "      <th>v125</th>\n",
       "      <th>v126</th>\n",
       "      <th>v127</th>\n",
       "      <th>v128</th>\n",
       "      <th>v129</th>\n",
       "      <th>v130</th>\n",
       "      <th>v131</th>\n",
       "    </tr>\n",
       "  </thead>\n",
       "  <tbody>\n",
       "    <tr>\n",
       "      <th>0</th>\n",
       "      <td>3</td>\n",
       "      <td>1</td>\n",
       "      <td>1.335739</td>\n",
       "      <td>8.727474</td>\n",
       "      <td>C</td>\n",
       "      <td>3.921026</td>\n",
       "      <td>7.915266</td>\n",
       "      <td>2.599278</td>\n",
       "      <td>3.176895</td>\n",
       "      <td>0.012941</td>\n",
       "      <td>...</td>\n",
       "      <td>8.000000</td>\n",
       "      <td>1.989780</td>\n",
       "      <td>0.035754</td>\n",
       "      <td>AU</td>\n",
       "      <td>1.804126</td>\n",
       "      <td>3.113719</td>\n",
       "      <td>2.024285</td>\n",
       "      <td>0</td>\n",
       "      <td>0.636365</td>\n",
       "      <td>2.857144</td>\n",
       "    </tr>\n",
       "    <tr>\n",
       "      <th>1</th>\n",
       "      <td>4</td>\n",
       "      <td>1</td>\n",
       "      <td>NaN</td>\n",
       "      <td>NaN</td>\n",
       "      <td>C</td>\n",
       "      <td>NaN</td>\n",
       "      <td>9.191265</td>\n",
       "      <td>NaN</td>\n",
       "      <td>NaN</td>\n",
       "      <td>2.301630</td>\n",
       "      <td>...</td>\n",
       "      <td>NaN</td>\n",
       "      <td>NaN</td>\n",
       "      <td>0.598896</td>\n",
       "      <td>AF</td>\n",
       "      <td>NaN</td>\n",
       "      <td>NaN</td>\n",
       "      <td>1.957825</td>\n",
       "      <td>0</td>\n",
       "      <td>NaN</td>\n",
       "      <td>NaN</td>\n",
       "    </tr>\n",
       "    <tr>\n",
       "      <th>2</th>\n",
       "      <td>5</td>\n",
       "      <td>1</td>\n",
       "      <td>0.943877</td>\n",
       "      <td>5.310079</td>\n",
       "      <td>C</td>\n",
       "      <td>4.410969</td>\n",
       "      <td>5.326159</td>\n",
       "      <td>3.979592</td>\n",
       "      <td>3.928571</td>\n",
       "      <td>0.019645</td>\n",
       "      <td>...</td>\n",
       "      <td>9.333333</td>\n",
       "      <td>2.477596</td>\n",
       "      <td>0.013452</td>\n",
       "      <td>AE</td>\n",
       "      <td>1.773709</td>\n",
       "      <td>3.922193</td>\n",
       "      <td>1.120468</td>\n",
       "      <td>2</td>\n",
       "      <td>0.883118</td>\n",
       "      <td>1.176472</td>\n",
       "    </tr>\n",
       "    <tr>\n",
       "      <th>3</th>\n",
       "      <td>6</td>\n",
       "      <td>1</td>\n",
       "      <td>0.797415</td>\n",
       "      <td>8.304757</td>\n",
       "      <td>C</td>\n",
       "      <td>4.225930</td>\n",
       "      <td>11.627438</td>\n",
       "      <td>2.097700</td>\n",
       "      <td>1.987549</td>\n",
       "      <td>0.171947</td>\n",
       "      <td>...</td>\n",
       "      <td>7.018256</td>\n",
       "      <td>1.812795</td>\n",
       "      <td>0.002267</td>\n",
       "      <td>CJ</td>\n",
       "      <td>1.415230</td>\n",
       "      <td>2.954381</td>\n",
       "      <td>1.990847</td>\n",
       "      <td>1</td>\n",
       "      <td>1.677108</td>\n",
       "      <td>1.034483</td>\n",
       "    </tr>\n",
       "    <tr>\n",
       "      <th>4</th>\n",
       "      <td>8</td>\n",
       "      <td>1</td>\n",
       "      <td>NaN</td>\n",
       "      <td>NaN</td>\n",
       "      <td>C</td>\n",
       "      <td>NaN</td>\n",
       "      <td>NaN</td>\n",
       "      <td>NaN</td>\n",
       "      <td>NaN</td>\n",
       "      <td>NaN</td>\n",
       "      <td>...</td>\n",
       "      <td>NaN</td>\n",
       "      <td>NaN</td>\n",
       "      <td>NaN</td>\n",
       "      <td>Z</td>\n",
       "      <td>NaN</td>\n",
       "      <td>NaN</td>\n",
       "      <td>NaN</td>\n",
       "      <td>0</td>\n",
       "      <td>NaN</td>\n",
       "      <td>NaN</td>\n",
       "    </tr>\n",
       "  </tbody>\n",
       "</table>\n",
       "<p>5 rows × 133 columns</p>\n",
       "</div>"
      ],
      "text/plain": [
       "   ID  target        v1        v2 v3        v4         v5        v6        v7  \\\n",
       "0   3       1  1.335739  8.727474  C  3.921026   7.915266  2.599278  3.176895   \n",
       "1   4       1       NaN       NaN  C       NaN   9.191265       NaN       NaN   \n",
       "2   5       1  0.943877  5.310079  C  4.410969   5.326159  3.979592  3.928571   \n",
       "3   6       1  0.797415  8.304757  C  4.225930  11.627438  2.097700  1.987549   \n",
       "4   8       1       NaN       NaN  C       NaN        NaN       NaN       NaN   \n",
       "\n",
       "         v8    ...         v122      v123      v124  v125      v126      v127  \\\n",
       "0  0.012941    ...     8.000000  1.989780  0.035754    AU  1.804126  3.113719   \n",
       "1  2.301630    ...          NaN       NaN  0.598896    AF       NaN       NaN   \n",
       "2  0.019645    ...     9.333333  2.477596  0.013452    AE  1.773709  3.922193   \n",
       "3  0.171947    ...     7.018256  1.812795  0.002267    CJ  1.415230  2.954381   \n",
       "4       NaN    ...          NaN       NaN       NaN     Z       NaN       NaN   \n",
       "\n",
       "       v128  v129      v130      v131  \n",
       "0  2.024285     0  0.636365  2.857144  \n",
       "1  1.957825     0       NaN       NaN  \n",
       "2  1.120468     2  0.883118  1.176472  \n",
       "3  1.990847     1  1.677108  1.034483  \n",
       "4       NaN     0       NaN       NaN  \n",
       "\n",
       "[5 rows x 133 columns]"
      ]
     },
     "execution_count": 2,
     "metadata": {},
     "output_type": "execute_result"
    }
   ],
   "source": [
    "##CHOOSE A SUBSET TO WORK WITH INITIALLY\n",
    "df_train = df_train[0:500]\n",
    "df_train.head()"
   ]
  },
  {
   "cell_type": "code",
   "execution_count": 3,
   "metadata": {
    "collapsed": false
   },
   "outputs": [
    {
     "name": "stdout",
     "output_type": "stream",
     "text": [
      "(114393, 132)\n",
      "(1000, 132)\n"
     ]
    }
   ],
   "source": [
    "X_test = pd.read_csv('test.csv')\n",
    "# X_test = X_test[0:5000]\n",
    "X_test.head()\n",
    "print(np.shape(X_test))\n",
    "X_test = X_test[0:1000]\n",
    "print(np.shape(X_test))"
   ]
  },
  {
   "cell_type": "markdown",
   "metadata": {
    "collapsed": true
   },
   "source": [
    "# WE FIRST DEAL WITH MISSING VALUES"
   ]
  },
  {
   "cell_type": "code",
   "execution_count": 4,
   "metadata": {
    "collapsed": false
   },
   "outputs": [
    {
     "data": {
      "text/plain": [
       "(1500, 1559)"
      ]
     },
     "execution_count": 4,
     "metadata": {},
     "output_type": "execute_result"
    }
   ],
   "source": [
    "# from sklearn.decomposition import PCA #import principal component analysis\n",
    "from sklearn.preprocessing import Imputer\n",
    "from sklearn.preprocessing import scale\n",
    "from sklearn.decomposition import PCA #import principal component analysis\n",
    "from sklearn.preprocessing import Imputer\n",
    "from sklearn.preprocessing import scale\n",
    "df_train_nt = df_train.drop('target', 1)\n",
    "frames = [df_train_nt , X_test]\n",
    "X = pd.concat( frames )\n",
    "X_hot = pd.get_dummies( X )\n",
    "imp = Imputer(missing_values='NaN', strategy='mean', axis=0)\n",
    "imp.fit( X_hot )\n",
    "X_hot_imp = imp.transform( X_hot )\n",
    "df_all = scale(X_hot_imp) #scaled data\n",
    "np.shape(df_all)"
   ]
  },
  {
   "cell_type": "markdown",
   "metadata": {},
   "source": [
    "# WE NOW DO SOME PCA!"
   ]
  },
  {
   "cell_type": "code",
   "execution_count": 6,
   "metadata": {
    "collapsed": false
   },
   "outputs": [
    {
     "name": "stderr",
     "output_type": "stream",
     "text": [
      "/Users/hugobowne-anderson/anaconda/lib/python2.7/site-packages/matplotlib/axes/_axes.py:475: UserWarning: No labelled objects found. Use label='...' kwarg on individual plots.\n",
      "  warnings.warn(\"No labelled objects found. \"\n",
      "/Users/hugobowne-anderson/anaconda/lib/python2.7/site-packages/matplotlib/collections.py:590: FutureWarning: elementwise comparison failed; returning scalar instead, but in the future will perform elementwise comparison\n",
      "  if self._edgecolors == str('face'):\n"
     ]
    },
    {
     "name": "stdout",
     "output_type": "stream",
     "text": [
      "(500, 2)\n"
     ]
    },
    {
     "data": {
      "image/png": "[encoded data removed]",
      "text/plain": [
       "<matplotlib.figure.Figure at 0x10b143090>"
      ]
     },
     "metadata": {},
     "output_type": "display_data"
    },
    {
     "name": "stdout",
     "output_type": "stream",
     "text": [
      "The amount of variance explained by the 1st & 2nd principal components are 0.019 & 0.012 respectively.\n"
     ]
    }
   ],
   "source": [
    "from sklearn.decomposition import PCA #import principal component analysis\n",
    "pca = PCA(n_components=2) #Instantiate the model & set parameters\n",
    "df2 = pd.DataFrame( df_all[0:500,:] ) \n",
    "# df2.head()\n",
    "pca.fit(df2); #Fit the model\n",
    "df_pca = pca.transform(df2)#Apply the model. For embeddings / decompositions, this is transform.\n",
    "print(df_pca.shape)\n",
    "fig, ax = plt.subplots();\n",
    "ax.scatter(df_pca[:, 0], df_pca[:, 1] , c = df_train['target'] , s = 50 , alpha=0.2);\n",
    "ax.legend(numpoints=1 , loc='upper left');\n",
    "plt.show();\n",
    "print(\"The amount of variance explained by the 1st & 2nd principal components are %s & %s respectively.\" \n",
    "      % (round(pca.explained_variance_ratio_[0],3) , round(pca.explained_variance_ratio_[1],3)))\n",
    "#print(\"Thus the 1st 2 components explain >99% of the variance in the data: moreover, looking \" +\n",
    "     # \"at the plot, there seems to be some distinction between target classes. All this is to say\" +\n",
    "     # \" that there is hope for us still!\")"
   ]
  },
  {
   "cell_type": "code",
   "execution_count": 9,
   "metadata": {
    "collapsed": false
   },
   "outputs": [
    {
     "data": {
      "text/plain": [
       "[<matplotlib.lines.Line2D at 0x109ebcd50>]"
      ]
     },
     "execution_count": 9,
     "metadata": {},
     "output_type": "execute_result"
    },
    {
     "data": {
      "image/png": "[encoded data removed]",
      "text/plain": [
       "<matplotlib.figure.Figure at 0x110584250>"
      ]
     },
     "metadata": {},
     "output_type": "display_data"
    }
   ],
   "source": [
    "from sklearn.decomposition import PCA #import principal component analysis\n",
    "ncomp = 1100\n",
    "pca = PCA(n_components=ncomp) #Instantiate the model & set parameters\n",
    "df2 = pd.DataFrame( df_all[0:10000,:] ) \n",
    "# df2.head()\n",
    "pca.fit(df2); #Fit the model\n",
    "plt.plot(range(1,ncomp+1) , np.cumsum(pca.explained_variance_ratio_))\n",
    "# print pca.explained_variance_ratio_"
   ]
  },
  {
   "cell_type": "code",
   "execution_count": 17,
   "metadata": {
    "collapsed": false
   },
   "outputs": [
    {
     "name": "stdout",
     "output_type": "stream",
     "text": [
      "(1500, 1559)\n",
      "(500, 1100)\n"
     ]
    }
   ],
   "source": [
    "print np.shape(df2)\n",
    "df_red= pca.fit_transform(df2)\n",
    "df_red = df_red[0:500]\n",
    "print np.shape(df_red)"
   ]
  },
  {
   "cell_type": "markdown",
   "metadata": {
    "collapsed": true
   },
   "source": [
    "# BEFORE MACHINE LEARNING, WE KEEP A HOLD-OUT SET TO TEST OUR MODELS ON THE VERY END:"
   ]
  },
  {
   "cell_type": "code",
   "execution_count": 16,
   "metadata": {
    "collapsed": false
   },
   "outputs": [
    {
     "data": {
      "text/plain": [
       "(1500, 1100)"
      ]
     },
     "execution_count": 16,
     "metadata": {},
     "output_type": "execute_result"
    }
   ],
   "source": [
    "np.shape(df_train)"
   ]
  },
  {
   "cell_type": "code",
   "execution_count": 18,
   "metadata": {
    "collapsed": false
   },
   "outputs": [
    {
     "name": "stdout",
     "output_type": "stream",
     "text": [
      "X_train shape: (400, 1100)\n",
      "y_train shape: (400,)\n",
      "X_test shape: (100, 1100)\n",
      "y_test shape: (100,)\n"
     ]
    }
   ],
   "source": [
    "#SPLIT DATA INTO TRAINING & TESTING HERE\n",
    "from sklearn.cross_validation import train_test_split\n",
    "X_train, X_test, y_train, y_test = train_test_split(df_red, df_train['target'], test_size = 0.2, \n",
    "                                                    random_state=0)\n",
    "print(\"X_train shape: %s\" % repr(X_train.shape))\n",
    "print(\"y_train shape: %s\" % repr(y_train.shape))\n",
    "print(\"X_test shape: %s\" % repr(X_test.shape))\n",
    "print(\"y_test shape: %s\" % repr(y_test.shape))"
   ]
  },
  {
   "cell_type": "markdown",
   "metadata": {},
   "source": [
    "# NOW TO MACHINE LEARN! FIRST, LET'S TRY A LOGISTIC REGRESSION WITH K-FOLD CROSS VALIDATION"
   ]
  },
  {
   "cell_type": "code",
   "execution_count": 19,
   "metadata": {
    "collapsed": false
   },
   "outputs": [
    {
     "name": "stderr",
     "output_type": "stream",
     "text": [
      "/Users/hugobowne-anderson/repos/scikit-learn/sklearn/grid_search.py:43: DeprecationWarning: This module has been deprecated in favor of the model_selection module into which all the refactored classes and functions are moved. This module will be removed in 0.20.\n",
      "  DeprecationWarning)\n",
      "[Parallel(n_jobs=1)]: Done  49 tasks       | elapsed:    1.2s\n"
     ]
    },
    {
     "name": "stdout",
     "output_type": "stream",
     "text": [
      "Fitting 5 folds for each of 15 candidates, totalling 75 fits\n",
      "{'C': 0.001}\n",
      "-0.66090975752\n",
      "5.08205103874\n"
     ]
    },
    {
     "name": "stderr",
     "output_type": "stream",
     "text": [
      "[Parallel(n_jobs=1)]: Done  75 out of  75 | elapsed:    5.0s finished\n"
     ]
    },
    {
     "data": {
      "image/png": "[encoded data removed]",
      "text/plain": [
       "<matplotlib.figure.Figure at 0x11052e1d0>"
      ]
     },
     "metadata": {},
     "output_type": "display_data"
    }
   ],
   "source": [
    "import time\n",
    "from sklearn.grid_search import GridSearchCV\n",
    "t0 = time.time()\n",
    "from sklearn import linear_model\n",
    "logistic = linear_model.LogisticRegression() # Instantiate the model.\n",
    "tuned_parameters = {'C':10.**np.arange(-10,5)}\n",
    "grid_search = GridSearchCV( logistic , param_grid = tuned_parameters , scoring= 'log_loss', cv = 5 ,verbose = 1 )\n",
    "#number of folds must be < than the size of the least populated class\n",
    "grid_search.fit(X_train, y_train);\n",
    "print(grid_search.best_params_)\n",
    "print(grid_search.best_score_)\n",
    "##see here about the scoring:\n",
    "##http://scikit-learn.org/stable/modules/model_evaluation.html#scoring-parameter\n",
    "##E.g. gives \"accuracy\" for SVMs:\n",
    "##http://scikit-learn.org/stable/modules/generated/sklearn.svm.LinearSVC.html\n",
    "plt.plot([c.mean_validation_score for c in grid_search.grid_scores_], label=\"validation error\")\n",
    "plt.xticks(np.arange(len(tuned_parameters['C'])), tuned_parameters['C']); plt.xlabel(\"C\"); plt.ylabel(\"log loss score\");plt.legend(loc='best');\n",
    "#see this thread concerning mean_training_score:\n",
    "#http://stackoverflow.com/questions/23389334/how-to-calculate-the-mean-training-score-using-gridsearchcv-in-scikit-learns\n",
    "t1 = time.time()\n",
    "total_time = t1 - t0\n",
    "print total_time"
   ]
  },
  {
   "cell_type": "markdown",
   "metadata": {},
   "source": [
    "# NOW WE'LL IMPLEMENT A MULTILAYER PERCEPTRON (NEURAL NETWORK)"
   ]
  },
  {
   "cell_type": "code",
   "execution_count": 20,
   "metadata": {
    "collapsed": true
   },
   "outputs": [],
   "source": [
    "from sklearn.neural_network import MLPClassifier"
   ]
  },
  {
   "cell_type": "code",
   "execution_count": 38,
   "metadata": {
    "collapsed": false
   },
   "outputs": [
    {
     "name": "stderr",
     "output_type": "stream",
     "text": [
      "[Parallel(n_jobs=1)]: Done  49 tasks       | elapsed:   11.8s\n",
      "[Parallel(n_jobs=1)]: Done  60 out of  60 | elapsed:   12.9s finished\n"
     ]
    },
    {
     "name": "stdout",
     "output_type": "stream",
     "text": [
      "Fitting 5 folds for each of 12 candidates, totalling 60 fits\n",
      "{'alpha': 100.0}\n",
      "-0.541389036142\n",
      "818.379495144\n"
     ]
    },
    {
     "data": {
      "image/png": "[encoded data removed]",
      "text/plain": [
       "<matplotlib.figure.Figure at 0x11064d250>"
      ]
     },
     "metadata": {},
     "output_type": "display_data"
    }
   ],
   "source": [
    "clf = MLPClassifier(algorithm='l-bfgs', hidden_layer_sizes=(10, ), random_state=1)\n",
    "tuned_parameters = {'alpha':10.**np.arange(-7,5)}\n",
    "grid_search = GridSearchCV( clf , param_grid = tuned_parameters , scoring= 'log_loss', cv = 5 ,verbose = 1 )\n",
    "#number of folds must be < than the size of the least populated class\n",
    "grid_search.fit(X_train, y_train);\n",
    "print(grid_search.best_params_)\n",
    "print(grid_search.best_score_)\n",
    "##see here about the scoring:\n",
    "##http://scikit-learn.org/stable/modules/model_evaluation.html#scoring-parameter\n",
    "##E.g. gives \"accuracy\" for SVMs:\n",
    "##http://scikit-learn.org/stable/modules/generated/sklearn.svm.LinearSVC.html\n",
    "plt.plot([c.mean_validation_score for c in grid_search.grid_scores_], label=\"validation error\")\n",
    "plt.xticks(np.arange(len(tuned_parameters['alpha'])), tuned_parameters['alpha']); plt.xlabel(\"C\"); plt.ylabel(\"log loss score\");\n",
    "plt.legend(loc='best');\n",
    "#see this thread concerning mean_training_score:\n",
    "#http://stackoverflow.com/questions/23389334/how-to-calculate-the-mean-training-score-using-gridsearchcv-in-scikit-learns\n",
    "t1 = time.time()\n",
    "total_time = t1 - t0\n",
    "print total_time"
   ]
  },
  {
   "cell_type": "code",
   "execution_count": 65,
   "metadata": {
    "collapsed": false
   },
   "outputs": [
    {
     "name": "stderr",
     "output_type": "stream",
     "text": [
      "[Parallel(n_jobs=1)]: Done  49 tasks       | elapsed:   27.7s\n",
      "[Parallel(n_jobs=1)]: Done  75 out of  75 | elapsed:   56.7s finished\n"
     ]
    },
    {
     "name": "stdout",
     "output_type": "stream",
     "text": [
      "Fitting 5 folds for each of 15 candidates, totalling 75 fits\n",
      "{'hidden_layer_sizes': 27}\n",
      "-0.540023429144\n",
      "1724.68266511\n"
     ]
    },
    {
     "data": {
      "image/png": "[encoded data removed]",
      "text/plain": [
       "<matplotlib.figure.Figure at 0x108905dd0>"
      ]
     },
     "metadata": {},
     "output_type": "display_data"
    }
   ],
   "source": [
    "clf = MLPClassifier(algorithm='l-bfgs', alpha = 100 , random_state=1)\n",
    "tuned_parameters = {'hidden_layer_sizes':np.arange(1,31,2)}\n",
    "grid_search = GridSearchCV( clf , param_grid = tuned_parameters , scoring= 'log_loss', cv = 5 ,verbose = 1 )\n",
    "#number of folds must be < than the size of the least populated class\n",
    "grid_search.fit(X_train, y_train);\n",
    "print(grid_search.best_params_)\n",
    "print(grid_search.best_score_)\n",
    "##see here about the scoring:\n",
    "##http://scikit-learn.org/stable/modules/model_evaluation.html#scoring-parameter\n",
    "##E.g. gives \"accuracy\" for SVMs:\n",
    "##http://scikit-learn.org/stable/modules/generated/sklearn.svm.LinearSVC.html\n",
    "plt.plot([c.mean_validation_score for c in grid_search.grid_scores_], label=\"validation error\")\n",
    "plt.xticks(np.arange(len(tuned_parameters['hidden_layer_sizes'])), tuned_parameters['hidden_layer_sizes']); \n",
    "plt.xlabel(\"C\"); \n",
    "plt.ylabel(\"log loss score\");\n",
    "plt.legend(loc='best');\n",
    "#see this thread concerning mean_training_score:\n",
    "#http://stackoverflow.com/questions/23389334/how-to-calculate-the-mean-training-score-using-gridsearchcv-in-scikit-learns\n",
    "t1 = time.time()\n",
    "total_time = t1 - t0\n",
    "print total_time"
   ]
  }
 ],
 "metadata": {
  "kernelspec": {
   "display_name": "Python 2",
   "language": "python",
   "name": "python2"
  },
  "language_info": {
   "codemirror_mode": {
    "name": "ipython",
    "version": 2
   },
   "file_extension": ".py",
   "mimetype": "text/x-python",
   "name": "python",
   "nbconvert_exporter": "python",
   "pygments_lexer": "ipython2",
   "version": "2.7.11"
  }
 },
 "nbformat": 4,
 "nbformat_minor": 0
}
