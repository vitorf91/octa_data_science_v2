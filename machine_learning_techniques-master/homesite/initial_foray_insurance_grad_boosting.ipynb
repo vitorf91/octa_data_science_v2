{
 "cells": [
  {
   "cell_type": "markdown",
   "metadata": {},
   "source": [
    "# INITIAL FORAY INTO INSURANCE DATA"
   ]
  },
  {
   "cell_type": "code",
   "execution_count": 1,
   "metadata": {
    "collapsed": false
   },
   "outputs": [
    {
     "name": "stdout",
     "output_type": "stream",
     "text": [
      "(260753, 299)\n"
     ]
    },
    {
     "data": {
      "text/html": [
       "<div>\n",
       "<table border=\"1\" class=\"dataframe\">\n",
       "  <thead>\n",
       "    <tr style=\"text-align: right;\">\n",
       "      <th></th>\n",
       "      <th>QuoteNumber</th>\n",
       "      <th>Original_Quote_Date</th>\n",
       "      <th>QuoteConversion_Flag</th>\n",
       "      <th>Field6</th>\n",
       "      <th>Field7</th>\n",
       "      <th>Field8</th>\n",
       "      <th>Field9</th>\n",
       "      <th>Field10</th>\n",
       "      <th>Field11</th>\n",
       "      <th>Field12</th>\n",
       "      <th>...</th>\n",
       "      <th>GeographicField59A</th>\n",
       "      <th>GeographicField59B</th>\n",
       "      <th>GeographicField60A</th>\n",
       "      <th>GeographicField60B</th>\n",
       "      <th>GeographicField61A</th>\n",
       "      <th>GeographicField61B</th>\n",
       "      <th>GeographicField62A</th>\n",
       "      <th>GeographicField62B</th>\n",
       "      <th>GeographicField63</th>\n",
       "      <th>GeographicField64</th>\n",
       "    </tr>\n",
       "  </thead>\n",
       "  <tbody>\n",
       "    <tr>\n",
       "      <th>0</th>\n",
       "      <td>1</td>\n",
       "      <td>2013-08-16</td>\n",
       "      <td>0</td>\n",
       "      <td>B</td>\n",
       "      <td>23</td>\n",
       "      <td>0.9403</td>\n",
       "      <td>0.0006</td>\n",
       "      <td>965</td>\n",
       "      <td>1.0200</td>\n",
       "      <td>N</td>\n",
       "      <td>...</td>\n",
       "      <td>9</td>\n",
       "      <td>9</td>\n",
       "      <td>-1</td>\n",
       "      <td>8</td>\n",
       "      <td>-1</td>\n",
       "      <td>18</td>\n",
       "      <td>-1</td>\n",
       "      <td>10</td>\n",
       "      <td>N</td>\n",
       "      <td>CA</td>\n",
       "    </tr>\n",
       "    <tr>\n",
       "      <th>1</th>\n",
       "      <td>2</td>\n",
       "      <td>2014-04-22</td>\n",
       "      <td>0</td>\n",
       "      <td>F</td>\n",
       "      <td>7</td>\n",
       "      <td>1.0006</td>\n",
       "      <td>0.0040</td>\n",
       "      <td>548</td>\n",
       "      <td>1.2433</td>\n",
       "      <td>N</td>\n",
       "      <td>...</td>\n",
       "      <td>10</td>\n",
       "      <td>10</td>\n",
       "      <td>-1</td>\n",
       "      <td>11</td>\n",
       "      <td>-1</td>\n",
       "      <td>17</td>\n",
       "      <td>-1</td>\n",
       "      <td>20</td>\n",
       "      <td>N</td>\n",
       "      <td>NJ</td>\n",
       "    </tr>\n",
       "    <tr>\n",
       "      <th>2</th>\n",
       "      <td>4</td>\n",
       "      <td>2014-08-25</td>\n",
       "      <td>0</td>\n",
       "      <td>F</td>\n",
       "      <td>7</td>\n",
       "      <td>1.0006</td>\n",
       "      <td>0.0040</td>\n",
       "      <td>548</td>\n",
       "      <td>1.2433</td>\n",
       "      <td>N</td>\n",
       "      <td>...</td>\n",
       "      <td>15</td>\n",
       "      <td>18</td>\n",
       "      <td>-1</td>\n",
       "      <td>21</td>\n",
       "      <td>-1</td>\n",
       "      <td>11</td>\n",
       "      <td>-1</td>\n",
       "      <td>8</td>\n",
       "      <td>N</td>\n",
       "      <td>NJ</td>\n",
       "    </tr>\n",
       "    <tr>\n",
       "      <th>3</th>\n",
       "      <td>6</td>\n",
       "      <td>2013-04-15</td>\n",
       "      <td>0</td>\n",
       "      <td>J</td>\n",
       "      <td>10</td>\n",
       "      <td>0.9769</td>\n",
       "      <td>0.0004</td>\n",
       "      <td>1,165</td>\n",
       "      <td>1.2665</td>\n",
       "      <td>N</td>\n",
       "      <td>...</td>\n",
       "      <td>6</td>\n",
       "      <td>5</td>\n",
       "      <td>-1</td>\n",
       "      <td>10</td>\n",
       "      <td>-1</td>\n",
       "      <td>9</td>\n",
       "      <td>-1</td>\n",
       "      <td>21</td>\n",
       "      <td>N</td>\n",
       "      <td>TX</td>\n",
       "    </tr>\n",
       "    <tr>\n",
       "      <th>4</th>\n",
       "      <td>8</td>\n",
       "      <td>2014-01-25</td>\n",
       "      <td>0</td>\n",
       "      <td>E</td>\n",
       "      <td>23</td>\n",
       "      <td>0.9472</td>\n",
       "      <td>0.0006</td>\n",
       "      <td>1,487</td>\n",
       "      <td>1.3045</td>\n",
       "      <td>N</td>\n",
       "      <td>...</td>\n",
       "      <td>18</td>\n",
       "      <td>22</td>\n",
       "      <td>-1</td>\n",
       "      <td>10</td>\n",
       "      <td>-1</td>\n",
       "      <td>11</td>\n",
       "      <td>-1</td>\n",
       "      <td>12</td>\n",
       "      <td>N</td>\n",
       "      <td>IL</td>\n",
       "    </tr>\n",
       "  </tbody>\n",
       "</table>\n",
       "<p>5 rows × 299 columns</p>\n",
       "</div>"
      ],
      "text/plain": [
       "   QuoteNumber Original_Quote_Date  QuoteConversion_Flag Field6  Field7  \\\n",
       "0            1          2013-08-16                     0      B      23   \n",
       "1            2          2014-04-22                     0      F       7   \n",
       "2            4          2014-08-25                     0      F       7   \n",
       "3            6          2013-04-15                     0      J      10   \n",
       "4            8          2014-01-25                     0      E      23   \n",
       "\n",
       "   Field8  Field9 Field10  Field11 Field12        ...          \\\n",
       "0  0.9403  0.0006     965   1.0200       N        ...           \n",
       "1  1.0006  0.0040     548   1.2433       N        ...           \n",
       "2  1.0006  0.0040     548   1.2433       N        ...           \n",
       "3  0.9769  0.0004   1,165   1.2665       N        ...           \n",
       "4  0.9472  0.0006   1,487   1.3045       N        ...           \n",
       "\n",
       "   GeographicField59A  GeographicField59B  GeographicField60A  \\\n",
       "0                   9                   9                  -1   \n",
       "1                  10                  10                  -1   \n",
       "2                  15                  18                  -1   \n",
       "3                   6                   5                  -1   \n",
       "4                  18                  22                  -1   \n",
       "\n",
       "   GeographicField60B  GeographicField61A  GeographicField61B  \\\n",
       "0                   8                  -1                  18   \n",
       "1                  11                  -1                  17   \n",
       "2                  21                  -1                  11   \n",
       "3                  10                  -1                   9   \n",
       "4                  10                  -1                  11   \n",
       "\n",
       "   GeographicField62A  GeographicField62B  GeographicField63  \\\n",
       "0                  -1                  10                  N   \n",
       "1                  -1                  20                  N   \n",
       "2                  -1                   8                  N   \n",
       "3                  -1                  21                  N   \n",
       "4                  -1                  12                  N   \n",
       "\n",
       "   GeographicField64  \n",
       "0                 CA  \n",
       "1                 NJ  \n",
       "2                 NJ  \n",
       "3                 TX  \n",
       "4                 IL  \n",
       "\n",
       "[5 rows x 299 columns]"
      ]
     },
     "execution_count": 1,
     "metadata": {},
     "output_type": "execute_result"
    }
   ],
   "source": [
    "#data from this kaggle comp.: https://www.kaggle.com/c/homesite-quote-conversion\n",
    "#I NEED TO ADD MORE COMMENTS, I KNOW!\n",
    "import numpy as np\n",
    "import pandas as pd\n",
    "import matplotlib.pyplot as plt\n",
    "%matplotlib inline\n",
    "pd.set_option('display.mpl_style', 'default') # Make the graphs a bit prettier\n",
    "##check out tutorial here:\n",
    "##http://nbviewer.ipython.org/github/jvns/pandas-cookbook/blob/v0.1/cookbook/Chapter%201%20-%20Reading%20from%20a%20CSV.ipynb\n",
    "df_train = pd.read_csv('train.csv')\n",
    "print np.shape(df_train)\n",
    "df_train.head()"
   ]
  },
  {
   "cell_type": "code",
   "execution_count": null,
   "metadata": {
    "collapsed": false
   },
   "outputs": [],
   "source": [
    "##CHOOSE A SUBSET TO WORK WITH INITIALLY\n",
    "# df_train = df_train[0:10000]\n",
    "df_train.head()"
   ]
  },
  {
   "cell_type": "code",
   "execution_count": 2,
   "metadata": {
    "collapsed": false
   },
   "outputs": [
    {
     "data": {
      "text/html": [
       "<div>\n",
       "<table border=\"1\" class=\"dataframe\">\n",
       "  <thead>\n",
       "    <tr style=\"text-align: right;\">\n",
       "      <th></th>\n",
       "      <th>QuoteNumber</th>\n",
       "      <th>Original_Quote_Date</th>\n",
       "      <th>Field6</th>\n",
       "      <th>Field7</th>\n",
       "      <th>Field8</th>\n",
       "      <th>Field9</th>\n",
       "      <th>Field10</th>\n",
       "      <th>Field11</th>\n",
       "      <th>Field12</th>\n",
       "      <th>CoverageField1A</th>\n",
       "      <th>...</th>\n",
       "      <th>GeographicField59A</th>\n",
       "      <th>GeographicField59B</th>\n",
       "      <th>GeographicField60A</th>\n",
       "      <th>GeographicField60B</th>\n",
       "      <th>GeographicField61A</th>\n",
       "      <th>GeographicField61B</th>\n",
       "      <th>GeographicField62A</th>\n",
       "      <th>GeographicField62B</th>\n",
       "      <th>GeographicField63</th>\n",
       "      <th>GeographicField64</th>\n",
       "    </tr>\n",
       "  </thead>\n",
       "  <tbody>\n",
       "    <tr>\n",
       "      <th>0</th>\n",
       "      <td>3</td>\n",
       "      <td>2014-08-12</td>\n",
       "      <td>E</td>\n",
       "      <td>16</td>\n",
       "      <td>0.9364</td>\n",
       "      <td>0.0006</td>\n",
       "      <td>1,487</td>\n",
       "      <td>1.3045</td>\n",
       "      <td>N</td>\n",
       "      <td>4</td>\n",
       "      <td>...</td>\n",
       "      <td>1</td>\n",
       "      <td>1</td>\n",
       "      <td>-1</td>\n",
       "      <td>1</td>\n",
       "      <td>-1</td>\n",
       "      <td>20</td>\n",
       "      <td>-1</td>\n",
       "      <td>25</td>\n",
       "      <td>Y</td>\n",
       "      <td>IL</td>\n",
       "    </tr>\n",
       "    <tr>\n",
       "      <th>1</th>\n",
       "      <td>5</td>\n",
       "      <td>2013-09-07</td>\n",
       "      <td>F</td>\n",
       "      <td>11</td>\n",
       "      <td>0.9919</td>\n",
       "      <td>0.0038</td>\n",
       "      <td>564</td>\n",
       "      <td>1.1886</td>\n",
       "      <td>N</td>\n",
       "      <td>8</td>\n",
       "      <td>...</td>\n",
       "      <td>10</td>\n",
       "      <td>10</td>\n",
       "      <td>-1</td>\n",
       "      <td>5</td>\n",
       "      <td>-1</td>\n",
       "      <td>5</td>\n",
       "      <td>-1</td>\n",
       "      <td>21</td>\n",
       "      <td>N</td>\n",
       "      <td>NJ</td>\n",
       "    </tr>\n",
       "    <tr>\n",
       "      <th>2</th>\n",
       "      <td>7</td>\n",
       "      <td>2013-03-29</td>\n",
       "      <td>F</td>\n",
       "      <td>15</td>\n",
       "      <td>0.8945</td>\n",
       "      <td>0.0038</td>\n",
       "      <td>564</td>\n",
       "      <td>1.0670</td>\n",
       "      <td>N</td>\n",
       "      <td>11</td>\n",
       "      <td>...</td>\n",
       "      <td>10</td>\n",
       "      <td>11</td>\n",
       "      <td>-1</td>\n",
       "      <td>20</td>\n",
       "      <td>-1</td>\n",
       "      <td>22</td>\n",
       "      <td>-1</td>\n",
       "      <td>11</td>\n",
       "      <td>N</td>\n",
       "      <td>NJ</td>\n",
       "    </tr>\n",
       "    <tr>\n",
       "      <th>3</th>\n",
       "      <td>9</td>\n",
       "      <td>2015-03-21</td>\n",
       "      <td>K</td>\n",
       "      <td>21</td>\n",
       "      <td>0.8870</td>\n",
       "      <td>0.0004</td>\n",
       "      <td>1,113</td>\n",
       "      <td>1.2665</td>\n",
       "      <td>Y</td>\n",
       "      <td>14</td>\n",
       "      <td>...</td>\n",
       "      <td>8</td>\n",
       "      <td>8</td>\n",
       "      <td>-1</td>\n",
       "      <td>13</td>\n",
       "      <td>-1</td>\n",
       "      <td>8</td>\n",
       "      <td>-1</td>\n",
       "      <td>21</td>\n",
       "      <td>N</td>\n",
       "      <td>TX</td>\n",
       "    </tr>\n",
       "    <tr>\n",
       "      <th>4</th>\n",
       "      <td>10</td>\n",
       "      <td>2014-12-10</td>\n",
       "      <td>B</td>\n",
       "      <td>25</td>\n",
       "      <td>0.9153</td>\n",
       "      <td>0.0007</td>\n",
       "      <td>935</td>\n",
       "      <td>1.0200</td>\n",
       "      <td>N</td>\n",
       "      <td>4</td>\n",
       "      <td>...</td>\n",
       "      <td>7</td>\n",
       "      <td>7</td>\n",
       "      <td>-1</td>\n",
       "      <td>3</td>\n",
       "      <td>-1</td>\n",
       "      <td>22</td>\n",
       "      <td>-1</td>\n",
       "      <td>21</td>\n",
       "      <td>N</td>\n",
       "      <td>CA</td>\n",
       "    </tr>\n",
       "  </tbody>\n",
       "</table>\n",
       "<p>5 rows × 298 columns</p>\n",
       "</div>"
      ],
      "text/plain": [
       "   QuoteNumber Original_Quote_Date Field6  Field7  Field8  Field9 Field10  \\\n",
       "0            3          2014-08-12      E      16  0.9364  0.0006   1,487   \n",
       "1            5          2013-09-07      F      11  0.9919  0.0038     564   \n",
       "2            7          2013-03-29      F      15  0.8945  0.0038     564   \n",
       "3            9          2015-03-21      K      21  0.8870  0.0004   1,113   \n",
       "4           10          2014-12-10      B      25  0.9153  0.0007     935   \n",
       "\n",
       "   Field11 Field12  CoverageField1A        ...          GeographicField59A  \\\n",
       "0   1.3045       N                4        ...                           1   \n",
       "1   1.1886       N                8        ...                          10   \n",
       "2   1.0670       N               11        ...                          10   \n",
       "3   1.2665       Y               14        ...                           8   \n",
       "4   1.0200       N                4        ...                           7   \n",
       "\n",
       "   GeographicField59B  GeographicField60A  GeographicField60B  \\\n",
       "0                   1                  -1                   1   \n",
       "1                  10                  -1                   5   \n",
       "2                  11                  -1                  20   \n",
       "3                   8                  -1                  13   \n",
       "4                   7                  -1                   3   \n",
       "\n",
       "   GeographicField61A  GeographicField61B  GeographicField62A  \\\n",
       "0                  -1                  20                  -1   \n",
       "1                  -1                   5                  -1   \n",
       "2                  -1                  22                  -1   \n",
       "3                  -1                   8                  -1   \n",
       "4                  -1                  22                  -1   \n",
       "\n",
       "   GeographicField62B  GeographicField63  GeographicField64  \n",
       "0                  25                  Y                 IL  \n",
       "1                  21                  N                 NJ  \n",
       "2                  11                  N                 NJ  \n",
       "3                  21                  N                 TX  \n",
       "4                  21                  N                 CA  \n",
       "\n",
       "[5 rows x 298 columns]"
      ]
     },
     "execution_count": 2,
     "metadata": {},
     "output_type": "execute_result"
    }
   ],
   "source": [
    "X_test = pd.read_csv('test.csv')\n",
    "# X_test = X_test[0:5000]\n",
    "X_test.head()"
   ]
  },
  {
   "cell_type": "markdown",
   "metadata": {},
   "source": [
    "<h2>WE FIRST DEAL WITH MISSING VALUES</h2>"
   ]
  },
  {
   "cell_type": "code",
   "execution_count": 3,
   "metadata": {
    "collapsed": false
   },
   "outputs": [
    {
     "data": {
      "text/plain": [
       "(434589, 1489)"
      ]
     },
     "execution_count": 3,
     "metadata": {},
     "output_type": "execute_result"
    }
   ],
   "source": [
    "from sklearn.decomposition import PCA #import principal component analysis\n",
    "from sklearn.preprocessing import Imputer\n",
    "from sklearn.preprocessing import scale\n",
    "df_train_nt = df_train.drop('QuoteConversion_Flag', 1)\n",
    "from sklearn.decomposition import PCA #import principal component analysis\n",
    "from sklearn.preprocessing import Imputer\n",
    "from sklearn.preprocessing import scale\n",
    "# df_train_nt = df_train.drop('QuoteConversion_Flag', 1)\n",
    "frames = [df_train_nt , X_test]\n",
    "X = pd.concat( frames )\n",
    "X_hot = pd.get_dummies( X )\n",
    "imp = Imputer(missing_values='NaN', strategy='mean', axis=0)\n",
    "imp.fit( X_hot )\n",
    "X_hot_imp = imp.transform( X_hot )\n",
    "df_all = scale(X_hot_imp) #scaled data\n",
    "np.shape(df_all)"
   ]
  },
  {
   "cell_type": "code",
   "execution_count": 31,
   "metadata": {
    "collapsed": false
   },
   "outputs": [
    {
     "name": "stdout",
     "output_type": "stream",
     "text": [
      "(260753,)\n"
     ]
    }
   ],
   "source": [
    "# # X_train = df_all[0:10000]\n",
    "# X_train = df_all[0:260753]\n",
    "# # X_test = df_all[10000:]\n",
    "X_test = df_all[260753:]\n",
    "# print np.shape(X_train)\n",
    "# print np.shape(X_test)\n",
    "# # y_train = df_train['QuoteConversion_Flag'][0:10000]\n",
    "# y_train = df_train['QuoteConversion_Flag'][0:260753]\n",
    "X_train = df_all[0:260753]\n",
    "y_train = df_train['QuoteConversion_Flag'][0:260753]\n",
    "print np.shape(y_train)"
   ]
  },
  {
   "cell_type": "markdown",
   "metadata": {
    "collapsed": true
   },
   "source": [
    "# LET'S TRY SOME GRADIENT BOOSTING!"
   ]
  },
  {
   "cell_type": "code",
   "execution_count": null,
   "metadata": {
    "collapsed": false
   },
   "outputs": [],
   "source": [
    "# import xgboost as xgb\n",
    "\n",
    "# #also see here: https://github.com/dmlc/xgboost/blob/master/doc/parameter.md\n",
    "# # hacking this: https://github.com/dmlc/xgboost/blob/master/demo/guide-python/cross_validation.py\n",
    "# dtrain = xgb.DMatrix(np.array(X_train), label=np.array(y_train))\n",
    "# param = {'max_depth':2, 'eta':1, 'silent':1, 'objective':'reg:logistic'}\n",
    "# num_round = 2\n",
    "# print ('running cross validation')\n",
    "# bst_cv = xgb.cv(param, dtrain, num_round, nfold=5,\n",
    "#        metrics={'error'}, seed = 0)\n",
    "\n",
    "# print 'done'\n",
    "\n",
    "#you actually wasnt to use GridSearchCV, I think:\n",
    "#https://github.com/dmlc/xgboost/blob/master/demo/guide-python/sklearn_examples.py"
   ]
  },
  {
   "cell_type": "code",
   "execution_count": null,
   "metadata": {
    "collapsed": false
   },
   "outputs": [],
   "source": [
    "# type(bst_cv)\n",
    "# print bst_cv\n",
    "# # predictions = bst_cv.predict(xgb.DMatrix(X_test))"
   ]
  },
  {
   "cell_type": "code",
   "execution_count": 38,
   "metadata": {
    "collapsed": false
   },
   "outputs": [],
   "source": [
    "#Gradient boosting a la BL\n",
    "import xgboost as xgb\n",
    "model_xgb = xgb.DMatrix(np.array(X_train), label=np.array(y_train))\n",
    "bst = xgb.train({'max_depth':10 , 'n_estimators': 50 , 'objective':'reg:logistic'},dtrain=model_xgb)\n",
    "predictions = bst.predict(xgb.DMatrix(X_test))"
   ]
  },
  {
   "cell_type": "code",
   "execution_count": 33,
   "metadata": {
    "collapsed": false
   },
   "outputs": [
    {
     "name": "stdout",
     "output_type": "stream",
     "text": [
      "(173836,)\n",
      "[ 0.04766377  0.1459558   0.12043708 ...,  0.45562789  0.04766377\n",
      "  0.2594822 ]\n"
     ]
    }
   ],
   "source": [
    "print np.shape(predictions)\n",
    "print predictions"
   ]
  },
  {
   "cell_type": "code",
   "execution_count": 39,
   "metadata": {
    "collapsed": false
   },
   "outputs": [],
   "source": [
    "X_test_q = pd.read_csv('test.csv')\n",
    "output =pd.DataFrame()\n",
    "output[\"QuoteNumber\"] = X_test_q[\"QuoteNumber\"]\n",
    "output[\"QuoteConversion_Flag\"] = predictions\n",
    "output.to_csv(\"pred_test_6.csv\", index=False)"
   ]
  },
  {
   "cell_type": "code",
   "execution_count": 20,
   "metadata": {
    "collapsed": false
   },
   "outputs": [
    {
     "name": "stderr",
     "output_type": "stream",
     "text": [
      "/Users/hugobowne-anderson/repos/scikit-learn/sklearn/cross_validation.py:42: DeprecationWarning: This module has been deprecated in favor of the model_selection module into which all the refactored classes and functions are moved. Also note that the interface of the new CV iterators are different from that of this module. This module will be removed in 0.20.\n",
      "  \"This module will be removed in 0.20.\", DeprecationWarning)\n",
      "/Users/hugobowne-anderson/repos/scikit-learn/sklearn/grid_search.py:43: DeprecationWarning: This module has been deprecated in favor of the model_selection module into which all the refactored classes and functions are moved. This module will be removed in 0.20.\n",
      "  DeprecationWarning)\n"
     ]
    }
   ],
   "source": [
    "from sklearn.cross_validation import KFold, train_test_split\n",
    "from sklearn.metrics import confusion_matrix, mean_squared_error\n",
    "from sklearn.grid_search import GridSearchCV"
   ]
  },
  {
   "cell_type": "code",
   "execution_count": 27,
   "metadata": {
    "collapsed": false
   },
   "outputs": [
    {
     "name": "stdout",
     "output_type": "stream",
     "text": [
      "0.100004890254\n",
      "0.0794442980374\n",
      "Parameter optimization\n"
     ]
    }
   ],
   "source": [
    "#taking lead from here: https://github.com/dmlc/xgboost/blob/master/demo/guide-python/sklearn_examples.py\n",
    "rng = np.random.RandomState(31337)\n",
    "kf = KFold(y_train.shape[0], n_folds=2, shuffle=True, random_state=rng)\n",
    "for train_index, test_index in kf:\n",
    "    model_xgb = xgb.DMatrix(np.array(X_train[train_index]), label=np.array(y_train[train_index]))\n",
    "    bst = xgb.train({'max_depth':6 , 'n_estimators': 150 , 'objective':'reg:logistic'},dtrain=model_xgb)\n",
    "    predictions = bst.predict(xgb.DMatrix(X_train[test_index]))\n",
    "    actuals = y_train[test_index]\n",
    "    print(mean_squared_error(actuals, predictions))\n",
    "\n",
    "print(\"Parameter optimization\")"
   ]
  },
  {
   "cell_type": "code",
   "execution_count": 37,
   "metadata": {
    "collapsed": false
   },
   "outputs": [
    {
     "name": "stdout",
     "output_type": "stream",
     "text": [
      "Fitting 3 folds for each of 15 candidates, totalling 45 fits\n",
      "0.644338929872\n",
      "{'n_estimators': 50, 'max_depth': 10}\n"
     ]
    },
    {
     "name": "stderr",
     "output_type": "stream",
     "text": [
      "[Parallel(n_jobs=1)]: Done  45 out of  45 | elapsed: 897.3min finished\n"
     ]
    }
   ],
   "source": [
    "xgb_model = xgb.XGBRegressor()\n",
    "clf = GridSearchCV(xgb_model,\n",
    "                   {'max_depth': [2,4,6,8,10],\n",
    "                    'n_estimators': [50,100,200]}, verbose=1)\n",
    "clf.fit(X_train,y_train)\n",
    "print(clf.best_score_)\n",
    "print(clf.best_params_)"
   ]
  },
  {
   "cell_type": "code",
   "execution_count": null,
   "metadata": {
    "collapsed": true
   },
   "outputs": [],
   "source": []
  }
 ],
 "metadata": {
  "kernelspec": {
   "display_name": "Python 2",
   "language": "python",
   "name": "python2"
  },
  "language_info": {
   "codemirror_mode": {
    "name": "ipython",
    "version": 2
   },
   "file_extension": ".py",
   "mimetype": "text/x-python",
   "name": "python",
   "nbconvert_exporter": "python",
   "pygments_lexer": "ipython2",
   "version": "2.7.10"
  }
 },
 "nbformat": 4,
 "nbformat_minor": 0
}
