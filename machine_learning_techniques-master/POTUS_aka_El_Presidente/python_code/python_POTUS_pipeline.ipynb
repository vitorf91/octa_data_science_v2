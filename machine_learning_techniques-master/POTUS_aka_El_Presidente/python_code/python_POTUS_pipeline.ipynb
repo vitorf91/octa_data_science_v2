{
 "cells": [
  {
   "cell_type": "markdown",
   "metadata": {},
   "source": [
    "<h1>PIPELINING WITH POTUS DATA AND MACHINE LEARNING</h1>"
   ]
  },
  {
   "cell_type": "markdown",
   "metadata": {},
   "source": [
    "<h2>IMPORT SOME LIBRARIES AND READ IN DATA</h2>"
   ]
  },
  {
   "cell_type": "code",
   "execution_count": 1,
   "metadata": {
    "collapsed": false
   },
   "outputs": [
    {
     "data": {
      "text/html": [
       "<div style=\"max-height:1000px;max-width:1500px;overflow:auto;\">\n",
       "<table border=\"1\" class=\"dataframe\">\n",
       "  <thead>\n",
       "    <tr style=\"text-align: right;\">\n",
       "      <th></th>\n",
       "      <th>Total population</th>\n",
       "      <th>Median age</th>\n",
       "      <th>% BachelorsDeg or higher</th>\n",
       "      <th>Unemployment rate</th>\n",
       "      <th>Per capita income</th>\n",
       "      <th>Total households</th>\n",
       "      <th>Average household size</th>\n",
       "      <th>% Owner occupied housing</th>\n",
       "      <th>% Renter occupied housing</th>\n",
       "      <th>% Vacant housing</th>\n",
       "      <th>Median home value</th>\n",
       "      <th>Population growth</th>\n",
       "      <th>House hold growth</th>\n",
       "      <th>Per capita income growth</th>\n",
       "      <th>Winner</th>\n",
       "      <th>Win_bin</th>\n",
       "    </tr>\n",
       "  </thead>\n",
       "  <tbody>\n",
       "    <tr>\n",
       "      <th>0</th>\n",
       "      <td>   9278</td>\n",
       "      <td> 37.9</td>\n",
       "      <td> 12.6</td>\n",
       "      <td> 21.3</td>\n",
       "      <td> 13992</td>\n",
       "      <td>   3802</td>\n",
       "      <td> 2.42</td>\n",
       "      <td> 51.9</td>\n",
       "      <td> 16.6</td>\n",
       "      <td> 31.6</td>\n",
       "      <td>  63959</td>\n",
       "      <td>-0.69</td>\n",
       "      <td>-0.49</td>\n",
       "      <td> 0.71</td>\n",
       "      <td> Barack Obama</td>\n",
       "      <td> True</td>\n",
       "    </tr>\n",
       "    <tr>\n",
       "      <th>1</th>\n",
       "      <td>  18594</td>\n",
       "      <td> 36.3</td>\n",
       "      <td>  9.7</td>\n",
       "      <td> 14.3</td>\n",
       "      <td> 14622</td>\n",
       "      <td>   6764</td>\n",
       "      <td> 2.55</td>\n",
       "      <td> 63.7</td>\n",
       "      <td> 16.2</td>\n",
       "      <td> 20.1</td>\n",
       "      <td>  74330</td>\n",
       "      <td>-0.13</td>\n",
       "      <td> 0.03</td>\n",
       "      <td> 0.85</td>\n",
       "      <td> Barack Obama</td>\n",
       "      <td> True</td>\n",
       "    </tr>\n",
       "    <tr>\n",
       "      <th>2</th>\n",
       "      <td> 662628</td>\n",
       "      <td> 37.9</td>\n",
       "      <td> 27.9</td>\n",
       "      <td> 12.1</td>\n",
       "      <td> 23909</td>\n",
       "      <td> 267862</td>\n",
       "      <td> 2.41</td>\n",
       "      <td> 57.0</td>\n",
       "      <td> 28.8</td>\n",
       "      <td> 14.2</td>\n",
       "      <td> 112687</td>\n",
       "      <td>-0.09</td>\n",
       "      <td> 0.00</td>\n",
       "      <td> 0.55</td>\n",
       "      <td> Barack Obama</td>\n",
       "      <td> True</td>\n",
       "    </tr>\n",
       "    <tr>\n",
       "      <th>3</th>\n",
       "      <td>  21292</td>\n",
       "      <td> 38.9</td>\n",
       "      <td> 14.1</td>\n",
       "      <td> 15.7</td>\n",
       "      <td> 16829</td>\n",
       "      <td>   8547</td>\n",
       "      <td> 2.47</td>\n",
       "      <td> 63.5</td>\n",
       "      <td> 17.1</td>\n",
       "      <td> 19.4</td>\n",
       "      <td>  73643</td>\n",
       "      <td>-0.59</td>\n",
       "      <td>-0.43</td>\n",
       "      <td> 0.57</td>\n",
       "      <td> Barack Obama</td>\n",
       "      <td> True</td>\n",
       "    </tr>\n",
       "    <tr>\n",
       "      <th>4</th>\n",
       "      <td>  13252</td>\n",
       "      <td> 34.5</td>\n",
       "      <td> 15.0</td>\n",
       "      <td> 15.8</td>\n",
       "      <td> 13012</td>\n",
       "      <td>   5222</td>\n",
       "      <td> 2.47</td>\n",
       "      <td> 53.7</td>\n",
       "      <td> 20.7</td>\n",
       "      <td> 25.6</td>\n",
       "      <td>  56642</td>\n",
       "      <td>-1.16</td>\n",
       "      <td>-1.03</td>\n",
       "      <td> 0.69</td>\n",
       "      <td> Barack Obama</td>\n",
       "      <td> True</td>\n",
       "    </tr>\n",
       "  </tbody>\n",
       "</table>\n",
       "</div>"
      ],
      "text/plain": [
       "   Total population  Median age  % BachelorsDeg or higher  Unemployment rate  \\\n",
       "0              9278        37.9                      12.6               21.3   \n",
       "1             18594        36.3                       9.7               14.3   \n",
       "2            662628        37.9                      27.9               12.1   \n",
       "3             21292        38.9                      14.1               15.7   \n",
       "4             13252        34.5                      15.0               15.8   \n",
       "\n",
       "   Per capita income  Total households  Average household size  \\\n",
       "0              13992              3802                    2.42   \n",
       "1              14622              6764                    2.55   \n",
       "2              23909            267862                    2.41   \n",
       "3              16829              8547                    2.47   \n",
       "4              13012              5222                    2.47   \n",
       "\n",
       "   % Owner occupied housing  % Renter occupied housing  % Vacant housing  \\\n",
       "0                      51.9                       16.6              31.6   \n",
       "1                      63.7                       16.2              20.1   \n",
       "2                      57.0                       28.8              14.2   \n",
       "3                      63.5                       17.1              19.4   \n",
       "4                      53.7                       20.7              25.6   \n",
       "\n",
       "   Median home value  Population growth  House hold growth  \\\n",
       "0              63959              -0.69              -0.49   \n",
       "1              74330              -0.13               0.03   \n",
       "2             112687              -0.09               0.00   \n",
       "3              73643              -0.59              -0.43   \n",
       "4              56642              -1.16              -1.03   \n",
       "\n",
       "   Per capita income growth        Winner Win_bin  \n",
       "0                      0.71  Barack Obama    True  \n",
       "1                      0.85  Barack Obama    True  \n",
       "2                      0.55  Barack Obama    True  \n",
       "3                      0.57  Barack Obama    True  \n",
       "4                      0.69  Barack Obama    True  "
      ]
     },
     "execution_count": 1,
     "metadata": {},
     "output_type": "execute_result"
    }
   ],
   "source": [
    "import numpy as np\n",
    "import pandas as pd\n",
    "import matplotlib.pyplot as plt\n",
    "%matplotlib inline\n",
    "pd.set_option('display.mpl_style', 'default') # Make the graphs a bit prettier\n",
    "##check out tutorial here:\n",
    "##http://nbviewer.ipython.org/github/jvns/pandas-cookbook/blob/v0.1/cookbook/Chapter%201%20-%20Reading%20from%20a%20CSV.ipynb\n",
    "df = pd.read_csv('../train.csv')\n",
    "df1 = df.drop('Winner', 1)\n",
    "df['Win_bin'] = (df['Winner'] == 'Barack Obama') ##new column: logical wrt winner\n",
    "df.head()"
   ]
  },
  {
   "cell_type": "markdown",
   "metadata": {},
   "source": [
    "<h2>SPLIT DATA INTO TRAINING AND TEST SETS</h2>"
   ]
  },
  {
   "cell_type": "code",
   "execution_count": 2,
   "metadata": {
    "collapsed": false
   },
   "outputs": [
    {
     "name": "stdout",
     "output_type": "stream",
     "text": [
      "X_train shape: (1091, 14)\n",
      "y_train shape: (1091,)\n",
      "X_test shape: (122, 14)\n",
      "y_test shape: (122,)\n"
     ]
    }
   ],
   "source": [
    "from sklearn.cross_validation import train_test_split\n",
    "X_train, X_test, y_train, y_test = train_test_split(df1, df['Winner'], test_size = 0.1, \n",
    "                                                    random_state=0)\n",
    "print(\"X_train shape: %s\" % repr(X_train.shape))\n",
    "print(\"y_train shape: %s\" % repr(y_train.shape))\n",
    "print(\"X_test shape: %s\" % repr(X_test.shape))\n",
    "print(\"y_test shape: %s\" % repr(y_test.shape))"
   ]
  },
  {
   "cell_type": "markdown",
   "metadata": {},
   "source": [
    "<h2>OPENING THE PIPELINE</h2>"
   ]
  },
  {
   "cell_type": "code",
   "execution_count": 3,
   "metadata": {
    "collapsed": false
   },
   "outputs": [],
   "source": [
    "#see here for intuition:\n",
    "#http://scikit-learn.org/stable/tutorial/statistical_inference/putting_together.html\n",
    "from sklearn import linear_model, decomposition, datasets, preprocessing\n",
    "from sklearn.pipeline import Pipeline\n",
    "from sklearn.grid_search import GridSearchCV\n",
    "from sklearn.svm import LinearSVC\n",
    "#build a scaler component to pipeline:\n",
    "scaler = preprocessing.StandardScaler().fit(X_train)\n",
    "#see here for 'scaler in pipeline' details: \n",
    "#http://scikit-learn.org/stable/modules/preprocessing.html\n",
    "#X_train_scaled = scaler.transform(X_train)\n",
    "#Instantiate a model:\n",
    "logistic = linear_model.LogisticRegression()\n",
    "#this is the pipe!:\n",
    "svm = LinearSVC() # Instantiate the model\n",
    "tuned_parameters = 10.**np.arange(-3,5)\n",
    "pipe = Pipeline(steps=[('scale', scaler), ('svm', svm)])"
   ]
  },
  {
   "cell_type": "code",
   "execution_count": 4,
   "metadata": {
    "collapsed": false
   },
   "outputs": [
    {
     "name": "stdout",
     "output_type": "stream",
     "text": [
      "Pipeline(steps=[('scale', StandardScaler(copy=True, with_mean=True, with_std=True)), ('svm', LinearSVC(C=1.0, class_weight=None, dual=True, fit_intercept=True,\n",
      "     intercept_scaling=1, loss='l2', multi_class='ovr', penalty='l2',\n",
      "     random_state=None, tol=0.0001, verbose=0))])\n"
     ]
    }
   ],
   "source": [
    "estimator = GridSearchCV(pipe,\n",
    "                         dict(\n",
    "                              svm__C=tuned_parameters))\n",
    "estimator.fit(X_train , y_train);\n",
    "print(estimator.best_estimator_)"
   ]
  },
  {
   "cell_type": "code",
   "execution_count": 13,
   "metadata": {
    "collapsed": false
   },
   "outputs": [
    {
     "data": {
      "image/png": "[encoded data removed]",
      "text/plain": [
       "<matplotlib.figure.Figure at 0x10a30d490>"
      ]
     },
     "metadata": {},
     "output_type": "display_data"
    }
   ],
   "source": [
    "plt.plot([c.mean_validation_score for c in estimator.grid_scores_], label=\"validation error\")\n",
    "plt.xticks(np.arange(len(tuned_parameters)), tuned_parameters); plt.xlabel(\"C\"); plt.ylabel(\"Accuracy\");plt.legend(loc='best');"
   ]
  },
  {
   "cell_type": "code",
   "execution_count": 10,
   "metadata": {
    "collapsed": false
   },
   "outputs": [
    {
     "name": "stdout",
     "output_type": "stream",
     "text": [
      "mean: 0.83410, std: 0.00447, params: {'svm__C': 0.001}\n",
      "mean: 0.83868, std: 0.00546, params: {'svm__C': 0.01}\n",
      "mean: 0.84051, std: 0.00431, params: {'svm__C': 0.10000000000000001}\n",
      "mean: 0.84235, std: 0.00448, params: {'svm__C': 1.0}\n",
      "mean: 0.83960, std: 0.00714, params: {'svm__C': 10.0}\n",
      "mean: 0.78277, std: 0.04901, params: {'svm__C': 100.0}\n",
      "mean: 0.72411, std: 0.04093, params: {'svm__C': 1000.0}\n",
      "mean: 0.79652, std: 0.02038, params: {'svm__C': 10000.0}\n"
     ]
    }
   ],
   "source": []
  },
  {
   "cell_type": "markdown",
   "metadata": {},
   "source": [
    "<h2>MAKE PREDICTIONS ON TEST SET</h2>"
   ]
  },
  {
   "cell_type": "code",
   "execution_count": 45,
   "metadata": {
    "collapsed": false
   },
   "outputs": [
    {
     "name": "stdout",
     "output_type": "stream",
     "text": [
      "accuracy of best SVM = 0.901639344262\n"
     ]
    }
   ],
   "source": [
    "predictions = estimator.best_estimator_.predict(X_test)\n",
    "#linear SVM that performed the best above\n",
    "#print(predictions)\n",
    "#how accurate was this?\n",
    "#do this tomorrow\n",
    "acc = float(sum(np.equal(predictions , y_test)))/len(predictions)\n",
    "print('accuracy of best SVM = %s' % acc)"
   ]
  },
  {
   "cell_type": "code",
   "execution_count": null,
   "metadata": {
    "collapsed": true
   },
   "outputs": [],
   "source": []
  }
 ],
 "metadata": {
  "kernelspec": {
   "display_name": "Python 2",
   "language": "python",
   "name": "python2"
  },
  "language_info": {
   "codemirror_mode": {
    "name": "ipython",
    "version": 2
   },
   "file_extension": ".py",
   "mimetype": "text/x-python",
   "name": "python",
   "nbconvert_exporter": "python",
   "pygments_lexer": "ipython2",
   "version": "2.7.10"
  }
 },
 "nbformat": 4,
 "nbformat_minor": 0
}
