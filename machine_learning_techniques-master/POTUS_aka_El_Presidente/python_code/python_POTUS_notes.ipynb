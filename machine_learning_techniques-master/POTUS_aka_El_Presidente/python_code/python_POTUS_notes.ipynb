{
 "cells": [
  {
   "cell_type": "markdown",
   "metadata": {},
   "source": [
    "<h1>MUCKING AROUND WITH POTUS DATA AND MACHINE LEARNING</h1>"
   ]
  },
  {
   "cell_type": "markdown",
   "metadata": {},
   "source": [
    "<h2>IMPORT SOME LIBRARIES AND READ IN DATA</h2>"
   ]
  },
  {
   "cell_type": "code",
   "execution_count": 2,
   "metadata": {
    "collapsed": false
   },
   "outputs": [
    {
     "data": {
      "text/html": [
       "<div style=\"max-height:1000px;max-width:1500px;overflow:auto;\">\n",
       "<table border=\"1\" class=\"dataframe\">\n",
       "  <thead>\n",
       "    <tr style=\"text-align: right;\">\n",
       "      <th></th>\n",
       "      <th>Total population</th>\n",
       "      <th>Median age</th>\n",
       "      <th>% BachelorsDeg or higher</th>\n",
       "      <th>Unemployment rate</th>\n",
       "      <th>Per capita income</th>\n",
       "      <th>Total households</th>\n",
       "      <th>Average household size</th>\n",
       "      <th>% Owner occupied housing</th>\n",
       "      <th>% Renter occupied housing</th>\n",
       "      <th>% Vacant housing</th>\n",
       "      <th>Median home value</th>\n",
       "      <th>Population growth</th>\n",
       "      <th>House hold growth</th>\n",
       "      <th>Per capita income growth</th>\n",
       "      <th>Winner</th>\n",
       "      <th>Win_bin</th>\n",
       "    </tr>\n",
       "  </thead>\n",
       "  <tbody>\n",
       "    <tr>\n",
       "      <th>0</th>\n",
       "      <td>   9278</td>\n",
       "      <td> 37.9</td>\n",
       "      <td> 12.6</td>\n",
       "      <td> 21.3</td>\n",
       "      <td> 13992</td>\n",
       "      <td>   3802</td>\n",
       "      <td> 2.42</td>\n",
       "      <td> 51.9</td>\n",
       "      <td> 16.6</td>\n",
       "      <td> 31.6</td>\n",
       "      <td>  63959</td>\n",
       "      <td>-0.69</td>\n",
       "      <td>-0.49</td>\n",
       "      <td> 0.71</td>\n",
       "      <td> Barack Obama</td>\n",
       "      <td> True</td>\n",
       "    </tr>\n",
       "    <tr>\n",
       "      <th>1</th>\n",
       "      <td>  18594</td>\n",
       "      <td> 36.3</td>\n",
       "      <td>  9.7</td>\n",
       "      <td> 14.3</td>\n",
       "      <td> 14622</td>\n",
       "      <td>   6764</td>\n",
       "      <td> 2.55</td>\n",
       "      <td> 63.7</td>\n",
       "      <td> 16.2</td>\n",
       "      <td> 20.1</td>\n",
       "      <td>  74330</td>\n",
       "      <td>-0.13</td>\n",
       "      <td> 0.03</td>\n",
       "      <td> 0.85</td>\n",
       "      <td> Barack Obama</td>\n",
       "      <td> True</td>\n",
       "    </tr>\n",
       "    <tr>\n",
       "      <th>2</th>\n",
       "      <td> 662628</td>\n",
       "      <td> 37.9</td>\n",
       "      <td> 27.9</td>\n",
       "      <td> 12.1</td>\n",
       "      <td> 23909</td>\n",
       "      <td> 267862</td>\n",
       "      <td> 2.41</td>\n",
       "      <td> 57.0</td>\n",
       "      <td> 28.8</td>\n",
       "      <td> 14.2</td>\n",
       "      <td> 112687</td>\n",
       "      <td>-0.09</td>\n",
       "      <td> 0.00</td>\n",
       "      <td> 0.55</td>\n",
       "      <td> Barack Obama</td>\n",
       "      <td> True</td>\n",
       "    </tr>\n",
       "    <tr>\n",
       "      <th>3</th>\n",
       "      <td>  21292</td>\n",
       "      <td> 38.9</td>\n",
       "      <td> 14.1</td>\n",
       "      <td> 15.7</td>\n",
       "      <td> 16829</td>\n",
       "      <td>   8547</td>\n",
       "      <td> 2.47</td>\n",
       "      <td> 63.5</td>\n",
       "      <td> 17.1</td>\n",
       "      <td> 19.4</td>\n",
       "      <td>  73643</td>\n",
       "      <td>-0.59</td>\n",
       "      <td>-0.43</td>\n",
       "      <td> 0.57</td>\n",
       "      <td> Barack Obama</td>\n",
       "      <td> True</td>\n",
       "    </tr>\n",
       "    <tr>\n",
       "      <th>4</th>\n",
       "      <td>  13252</td>\n",
       "      <td> 34.5</td>\n",
       "      <td> 15.0</td>\n",
       "      <td> 15.8</td>\n",
       "      <td> 13012</td>\n",
       "      <td>   5222</td>\n",
       "      <td> 2.47</td>\n",
       "      <td> 53.7</td>\n",
       "      <td> 20.7</td>\n",
       "      <td> 25.6</td>\n",
       "      <td>  56642</td>\n",
       "      <td>-1.16</td>\n",
       "      <td>-1.03</td>\n",
       "      <td> 0.69</td>\n",
       "      <td> Barack Obama</td>\n",
       "      <td> True</td>\n",
       "    </tr>\n",
       "  </tbody>\n",
       "</table>\n",
       "</div>"
      ],
      "text/plain": [
       "   Total population  Median age  % BachelorsDeg or higher  Unemployment rate  \\\n",
       "0              9278        37.9                      12.6               21.3   \n",
       "1             18594        36.3                       9.7               14.3   \n",
       "2            662628        37.9                      27.9               12.1   \n",
       "3             21292        38.9                      14.1               15.7   \n",
       "4             13252        34.5                      15.0               15.8   \n",
       "\n",
       "   Per capita income  Total households  Average household size  \\\n",
       "0              13992              3802                    2.42   \n",
       "1              14622              6764                    2.55   \n",
       "2              23909            267862                    2.41   \n",
       "3              16829              8547                    2.47   \n",
       "4              13012              5222                    2.47   \n",
       "\n",
       "   % Owner occupied housing  % Renter occupied housing  % Vacant housing  \\\n",
       "0                      51.9                       16.6              31.6   \n",
       "1                      63.7                       16.2              20.1   \n",
       "2                      57.0                       28.8              14.2   \n",
       "3                      63.5                       17.1              19.4   \n",
       "4                      53.7                       20.7              25.6   \n",
       "\n",
       "   Median home value  Population growth  House hold growth  \\\n",
       "0              63959              -0.69              -0.49   \n",
       "1              74330              -0.13               0.03   \n",
       "2             112687              -0.09               0.00   \n",
       "3              73643              -0.59              -0.43   \n",
       "4              56642              -1.16              -1.03   \n",
       "\n",
       "   Per capita income growth        Winner Win_bin  \n",
       "0                      0.71  Barack Obama    True  \n",
       "1                      0.85  Barack Obama    True  \n",
       "2                      0.55  Barack Obama    True  \n",
       "3                      0.57  Barack Obama    True  \n",
       "4                      0.69  Barack Obama    True  "
      ]
     },
     "execution_count": 2,
     "metadata": {},
     "output_type": "execute_result"
    }
   ],
   "source": [
    "import numpy as np\n",
    "import pandas as pd\n",
    "import matplotlib.pyplot as plt\n",
    "%matplotlib inline\n",
    "pd.set_option('display.mpl_style', 'default') # Make the graphs a bit prettier\n",
    "##check out tutorial here:\n",
    "##http://nbviewer.ipython.org/github/jvns/pandas-cookbook/blob/v0.1/cookbook/Chapter%201%20-%20Reading%20from%20a%20CSV.ipynb\n",
    "df = pd.read_csv('../train.csv')\n",
    "df1 = df.drop('Winner', 1)\n",
    "df['Win_bin'] = (df['Winner'] == 'Barack Obama') ##new column: logical wrt winner\n",
    "df.head()"
   ]
  },
  {
   "cell_type": "markdown",
   "metadata": {},
   "source": [
    "<h2>VISUALIZE THE DATA (1ST AND 2ND PRINCIPAL COMPONENTS)</h2>"
   ]
  },
  {
   "cell_type": "code",
   "execution_count": 3,
   "metadata": {
    "collapsed": false
   },
   "outputs": [
    {
     "name": "stdout",
     "output_type": "stream",
     "text": [
      "(1213, 2)\n"
     ]
    },
    {
     "data": {
      "image/png": "[encoded data removed]",
      "text/plain": [
       "<matplotlib.figure.Figure at 0x109c92750>"
      ]
     },
     "metadata": {},
     "output_type": "display_data"
    }
   ],
   "source": [
    "##using (parts of) andreas mueller's intro. to scikit-learn as a pseudo-template for analyzing \n",
    "##the POTUS data:\n",
    "##https://github.com/amueller/sklearn_tutorial/blob/master/presentation.ipynb\n",
    "from sklearn.decomposition import PCA #import principal component analysis\n",
    "pca = PCA(n_components=2) #Instantiate the model & set parameters\n",
    "pca.fit(df1); #Fit the model\n",
    "df_pca = pca.transform(df1)#Apply the model. For embeddings / decompositions, this is transform.\n",
    "print(df_pca.shape)\n",
    "plt.scatter(df_pca[:, 0], df_pca[:, 1] , c = df['Win_bin'] , s = 50 , alpha=0.4);"
   ]
  },
  {
   "cell_type": "markdown",
   "metadata": {},
   "source": [
    "<h2>SPLIT DATA INTO TRAINING AND TEST SETS</h2>"
   ]
  },
  {
   "cell_type": "code",
   "execution_count": 4,
   "metadata": {
    "collapsed": false
   },
   "outputs": [
    {
     "name": "stdout",
     "output_type": "stream",
     "text": [
      "X_train shape: (909, 14)\n",
      "y_train shape: (909,)\n",
      "X_test shape: (304, 14)\n",
      "y_test shape: (304,)\n"
     ]
    }
   ],
   "source": [
    "from sklearn.cross_validation import train_test_split\n",
    "X_train, X_test, y_train, y_test = train_test_split(df1, df['Win_bin'], random_state=0)\n",
    "print(\"X_train shape: %s\" % repr(X_train.shape))\n",
    "print(\"y_train shape: %s\" % repr(y_train.shape))\n",
    "print(\"X_test shape: %s\" % repr(X_test.shape))\n",
    "print(\"y_test shape: %s\" % repr(y_test.shape))"
   ]
  },
  {
   "cell_type": "markdown",
   "metadata": {},
   "source": [
    "<h2>LET'S TRY A LINEAR SVM</h2>"
   ]
  },
  {
   "cell_type": "code",
   "execution_count": 5,
   "metadata": {
    "collapsed": false
   },
   "outputs": [
    {
     "name": "stdout",
     "output_type": "stream",
     "text": [
      "0.771177117712\n",
      "0.815789473684\n"
     ]
    }
   ],
   "source": [
    "from sklearn.svm import LinearSVC\n",
    "svm = LinearSVC() # Instantiate the model.\n",
    "svm.fit(X_train, y_train);#Fit the model.\n",
    "svm.predict(X_train)# apply the model to the hold-out set\n",
    "print(svm.score(X_train, y_train))\n",
    "print(svm.score(X_test, y_test))"
   ]
  },
  {
   "cell_type": "markdown",
   "metadata": {},
   "source": [
    "<h2>NOW LET'S TRY A SVM WITH A GAUSSIAN KERNEL</h2>"
   ]
  },
  {
   "cell_type": "code",
   "execution_count": 6,
   "metadata": {
    "collapsed": false
   },
   "outputs": [
    {
     "name": "stdout",
     "output_type": "stream",
     "text": [
      "1.0\n",
      "0.815789473684\n"
     ]
    }
   ],
   "source": [
    "from sklearn.svm import SVC\n",
    "svm1 = SVC(kernel='rbf')# Instantiate the model (SVM w/ Gaussian kernel)\n",
    "svm1.fit(X_train, y_train);#Fit the model.\n",
    "svm1.predict(X_train)# apply the model to the hold-out set\n",
    "print(svm1.score(X_train, y_train))\n",
    "print(svm1.score(X_test, y_test))"
   ]
  },
  {
   "cell_type": "markdown",
   "metadata": {},
   "source": [
    "<h2>IT'S TIME TO TRY A RANDOM FOREST</h2>"
   ]
  },
  {
   "cell_type": "code",
   "execution_count": 7,
   "metadata": {
    "collapsed": false
   },
   "outputs": [
    {
     "name": "stdout",
     "output_type": "stream",
     "text": [
      "0.985698569857\n",
      "0.851973684211\n"
     ]
    }
   ],
   "source": [
    "from sklearn.ensemble import RandomForestClassifier\n",
    "#a random forest builds many randomized decision trees and averages their results.\n",
    "rf = RandomForestClassifier() #Instantiate the model.\n",
    "rf.fit(X_train , y_train); #fit the model\n",
    "print(rf.score(X_train , y_train)) #evaluate the model on the training set\n",
    "print( rf.score(X_test , y_test)) #evaluate the model on the hold-out set"
   ]
  },
  {
   "cell_type": "markdown",
   "metadata": {},
   "source": [
    "<h2>NOW FOR CROSS-VALIDATION</h2>"
   ]
  },
  {
   "cell_type": "code",
   "execution_count": 8,
   "metadata": {
    "collapsed": false
   },
   "outputs": [
    {
     "name": "stdout",
     "output_type": "stream",
     "text": [
      "the set of scores on the five CV sets are:  [ 0.80327869  0.84065934  0.81318681  0.79005525  0.87292818]\n",
      "the mean score is 0.824021653557\n",
      "the SD of the scores in 0.0295636319691\n"
     ]
    }
   ],
   "source": [
    "from sklearn.cross_validation import cross_val_score\n",
    "scores = cross_val_score( rf , X_train , y_train , cv = 5)\n",
    "print( \"the set of scores on the five CV sets are:  %s\" % (str(scores)))\n",
    "print( \"the mean score is %s\" % np.mean(scores))\n",
    "print( \"the SD of the scores in %s\" % np.std(scores))"
   ]
  },
  {
   "cell_type": "markdown",
   "metadata": {},
   "source": [
    "Will more trees improve model performance?"
   ]
  },
  {
   "cell_type": "code",
   "execution_count": 9,
   "metadata": {
    "collapsed": false
   },
   "outputs": [
    {
     "name": "stdout",
     "output_type": "stream",
     "text": [
      "the set of scores on the five CV sets are:  [ 0.81967213  0.81318681  0.81868132  0.79558011  0.86740331]\n",
      "the mean score is 0.822904737686\n",
      "the SD of the scores in 0.0238725101164\n"
     ]
    }
   ],
   "source": [
    "rf2 = RandomForestClassifier(n_estimators=50)\n",
    "scores = cross_val_score( rf2 , X_train , y_train , cv = 5)\n",
    "print( \"the set of scores on the five CV sets are:  %s\" % (str(scores)))\n",
    "print( \"the mean score is %s\" % np.mean(scores))\n",
    "print( \"the SD of the scores in %s\" % np.std(scores))"
   ]
  },
  {
   "cell_type": "markdown",
   "metadata": {},
   "source": [
    "It doesn't really look like it."
   ]
  },
  {
   "cell_type": "markdown",
   "metadata": {},
   "source": [
    "<h2>LET'S NOW MUCK AROUND WITH TUNING HYPERPARAMETERS IN THE SVM CASE </h2>"
   ]
  },
  {
   "cell_type": "code",
   "execution_count": 30,
   "metadata": {
    "collapsed": false
   },
   "outputs": [
    {
     "name": "stdout",
     "output_type": "stream",
     "text": [
      "Fitting 3 folds for each of 8 candidates, totalling 24 fits\n",
      "[CV] C=0.001 .........................................................\n",
      "[CV] ................................ C=0.001, score=0.796053 -   0.0s\n",
      "[CV] C=0.001 .........................................................\n",
      "[CV] ................................ C=0.001, score=0.772277 -   0.0s\n",
      "[CV] C=0.001 .........................................................\n",
      "[CV] ................................ C=0.001, score=0.807947 -   0.0s\n",
      "[CV] C=0.01 ..........................................................\n",
      "[CV] ................................. C=0.01, score=0.779605 -   0.0s\n",
      "[CV] C=0.01 ..........................................................\n",
      "[CV] ................................. C=0.01, score=0.795380 -   0.0s\n",
      "[CV] C=0.01 ..........................................................\n",
      "[CV] ................................. C=0.01, score=0.804636 -   0.0s\n",
      "[CV] C=0.1 ...........................................................\n",
      "[CV] .................................. C=0.1, score=0.786184 -   0.0s\n",
      "[CV] C=0.1 ...........................................................\n",
      "[CV] .................................. C=0.1, score=0.755776 -   0.0s\n",
      "[CV] C=0.1 ...........................................................\n",
      "[CV] .................................. C=0.1, score=0.778146 -   0.0s\n",
      "[CV] C=1.0 ...........................................................\n",
      "[CV] .................................. C=1.0, score=0.746711 -   0.0s\n",
      "[CV] C=1.0 ...........................................................\n",
      "[CV] .................................. C=1.0, score=0.237624 -   0.0s\n",
      "[CV] C=1.0 ...........................................................\n",
      "[CV] .................................. C=1.0, score=0.261589 -   0.0s\n",
      "[CV] C=10.0 ..........................................................\n",
      "[CV] ................................. C=10.0, score=0.792763 -   0.0s\n",
      "[CV] C=10.0 ..........................................................\n",
      "[CV] ................................. C=10.0, score=0.735974 -   0.0s\n",
      "[CV] C=10.0 ..........................................................\n",
      "[CV] ................................. C=10.0, score=0.824503 -   0.0s\n",
      "[CV] C=100.0 .........................................................\n",
      "[CV] ................................ C=100.0, score=0.776316 -   0.0s\n",
      "[CV] C=100.0 .........................................................\n",
      "[CV] ................................ C=100.0, score=0.788779 -   0.0s\n",
      "[CV] C=100.0 .........................................................\n",
      "[CV] ................................ C=100.0, score=0.781457 -   0.0s\n",
      "[CV] C=1000.0 ........................................................\n",
      "[CV] ............................... C=1000.0, score=0.792763 -   0.0s\n",
      "[CV] C=1000.0 ........................................................\n",
      "[CV] ............................... C=1000.0, score=0.772277 -   0.1s\n",
      "[CV] C=1000.0 ........................................................\n",
      "[CV] ............................... C=1000.0, score=0.771523 -   0.1s\n",
      "[CV] C=10000.0 .......................................................\n",
      "[CV] .............................. C=10000.0, score=0.792763 -   0.1s\n",
      "[CV] C=10000.0 .......................................................\n",
      "[CV] .............................. C=10000.0, score=0.732673 -   0.0s"
     ]
    },
    {
     "name": "stderr",
     "output_type": "stream",
     "text": [
      "[Parallel(n_jobs=1)]: Done   1 jobs       | elapsed:    0.0s\n",
      "[Parallel(n_jobs=1)]: Done  24 out of  24 | elapsed:    1.1s finished\n"
     ]
    },
    {
     "name": "stdout",
     "output_type": "stream",
     "text": [
      "\n",
      "[CV] C=10000.0 .......................................................\n",
      "[CV] .............................. C=10000.0, score=0.771523 -   0.0s\n",
      "{'C': 0.01}\n",
      "0.793179317932\n"
     ]
    }
   ],
   "source": [
    "from sklearn.grid_search import GridSearchCV\n",
    "from sklearn.metrics import classification_report\n",
    "#also see here: http://scikit-learn.org/stable/auto_examples/grid_search_digits.html\n",
    "svm = LinearSVC() # Instantiate the model\n",
    "tuned_parameters = {'C':10.**np.arange(-3,5)}\n",
    "grid_search = GridSearchCV( svm , param_grid = tuned_parameters , cv = 3 ,verbose = 3 )\n",
    "grid_search.fit(X_train, y_train);\n",
    "print(grid_search.best_params_)\n",
    "print(grid_search.best_score_)"
   ]
  },
  {
   "cell_type": "code",
   "execution_count": 33,
   "metadata": {
    "collapsed": false
   },
   "outputs": [
    {
     "data": {
      "text/plain": [
       "<matplotlib.legend.Legend at 0x10b348ad0>"
      ]
     },
     "execution_count": 33,
     "metadata": {},
     "output_type": "execute_result"
    },
    {
     "data": {
      "image/png": "[encoded data removed]",
      "text/plain": [
       "<matplotlib.figure.Figure at 0x10b167b10>"
      ]
     },
     "metadata": {},
     "output_type": "display_data"
    }
   ],
   "source": [
    "plt.plot([c.mean_validation_score for c in grid_search.grid_scores_], label=\"validation error\")\n",
    "plt.xticks(np.arange(6), tuned_parameters['C']); plt.xlabel(\"C\"); plt.ylabel(\"Accuracy\");plt.legend(loc='best');\n",
    "#see this thread concerning mean_training_score:\n",
    "#http://stackoverflow.com/questions/23389334/how-to-calculate-the-mean-training-score-using-gridsearchcv-in-scikit-learns"
   ]
  },
  {
   "cell_type": "markdown",
   "metadata": {},
   "source": [
    "<h2> A SLIGHTLY DIFFERENT APPROACH </h2>"
   ]
  },
  {
   "cell_type": "code",
   "execution_count": 10,
   "metadata": {
    "collapsed": false
   },
   "outputs": [
    {
     "name": "stdout",
     "output_type": "stream",
     "text": [
      "# Tuning hyper-parameters for precision\n",
      "()\n",
      "Best parameters set found on development set:\n",
      "()\n",
      "LinearSVC(C=10, class_weight=None, dual=True, fit_intercept=True,\n",
      "     intercept_scaling=1, loss='l2', multi_class='ovr', penalty='l2',\n",
      "     random_state=None, tol=0.0001, verbose=0)\n",
      "()\n",
      "Grid scores on development set:\n",
      "()\n",
      "0.395 (+/-0.142) for {'C': 10}\n",
      "0.305 (+/-0.103) for {'C': 20}\n",
      "0.298 (+/-0.138) for {'C': 30}\n",
      "()\n",
      "Detailed classification report:\n",
      "()\n",
      "The model is trained on the full development set.\n",
      "The scores are computed on the full evaluation set.\n",
      "()\n",
      "             precision    recall  f1-score   support\n",
      "\n",
      "      False       0.82      1.00      0.90       248\n",
      "       True       0.75      0.05      0.10        56\n",
      "\n",
      "avg / total       0.81      0.82      0.75       304\n",
      "\n",
      "()\n",
      "# Tuning hyper-parameters for recall\n",
      "()\n",
      "Best parameters set found on development set:\n",
      "()\n",
      "LinearSVC(C=20, class_weight=None, dual=True, fit_intercept=True,\n",
      "     intercept_scaling=1, loss='l2', multi_class='ovr', penalty='l2',\n",
      "     random_state=None, tol=0.0001, verbose=0)\n",
      "()\n",
      "Grid scores on development set:\n",
      "()\n",
      "0.279 (+/-0.196) for {'C': 10}\n",
      "0.294 (+/-0.086) for {'C': 20}\n",
      "0.169 (+/-0.062) for {'C': 30}\n",
      "()\n",
      "Detailed classification report:\n",
      "()\n",
      "The model is trained on the full development set.\n",
      "The scores are computed on the full evaluation set.\n",
      "()\n",
      "             precision    recall  f1-score   support\n",
      "\n",
      "      False       0.88      0.80      0.84       248\n",
      "       True       0.36      0.50      0.42        56\n",
      "\n",
      "avg / total       0.78      0.74      0.76       304\n",
      "\n",
      "()\n"
     ]
    },
    {
     "name": "stderr",
     "output_type": "stream",
     "text": [
      "/Users/hugobowne-anderson/anaconda/lib/python2.7/site-packages/sklearn/metrics/metrics.py:1771: UndefinedMetricWarning: Precision is ill-defined and being set to 0.0 due to no predicted samples.\n",
      "  'precision', 'predicted', average, warn_for)\n"
     ]
    }
   ],
   "source": [
    "###another (slightly different) approach: from\n",
    "###http://scikit-learn.org/stable/auto_examples/grid_search_digits.html\n",
    "tuned_parameters = {'C':10*np.arange(1,4)}\n",
    "scores = ['precision', 'recall']\n",
    "for score in scores:\n",
    "    print(\"# Tuning hyper-parameters for %s\" % score)\n",
    "    print()\n",
    "\n",
    "    clf = GridSearchCV( svm, tuned_parameters, cv=5, scoring=score)\n",
    "    clf.fit(X_train, y_train)\n",
    "\n",
    "    print(\"Best parameters set found on development set:\")\n",
    "    print()\n",
    "    print(clf.best_estimator_)\n",
    "    print()\n",
    "    print(\"Grid scores on development set:\")\n",
    "    print()\n",
    "    for params, mean_score, scores in clf.grid_scores_:\n",
    "        print(\"%0.3f (+/-%0.03f) for %r\"\n",
    "              % (mean_score, scores.std() / 2, params))\n",
    "    print()\n",
    "\n",
    "    print(\"Detailed classification report:\")\n",
    "    print()\n",
    "    print(\"The model is trained on the full development set.\")\n",
    "    print(\"The scores are computed on the full evaluation set.\")\n",
    "    print()\n",
    "    y_true, y_pred = y_test, clf.predict(X_test)\n",
    "    print(classification_report(y_true, y_pred))\n",
    "    print()\n"
   ]
  },
  {
   "cell_type": "markdown",
   "metadata": {},
   "source": [
    "<h2>NOW WE'RE GOING TO TRY A BUNCH OF SVMs (LINEAR, POLYNOMIAL & GAUSSIAN KERNELS) AND PERFORM\n",
    "A GRID SEARCH OVER THE HYPERPARAMETERS (TUNING THEM), SELECTING FOR PRECISION</h2>"
   ]
  },
  {
   "cell_type": "code",
   "execution_count": null,
   "metadata": {
    "collapsed": false
   },
   "outputs": [],
   "source": [
    "from sklearn.grid_search import GridSearchCV\n",
    "from sklearn.metrics import classification_report\n",
    "from sklearn.svm import SVC\n",
    "from sklearn import svm, metrics, preprocessing\n",
    "import csv\n",
    "import time\n",
    "# Set the parameters by cross-validation\n",
    "\n",
    "start_time = time.time()\n",
    "\n",
    "tuned_parameters = [{'kernel': ['rbf'], 'gamma': [1e-3, 1e-4],\n",
    "                     'C': [1, 10]},\n",
    "                    {'kernel': ['linear'], 'C': [1, 10]},{'C': [1, 10, 100, 1000], 'gamma': [0.001, 0.0001], 'kernel': ['poly'], 'degree': [2]},\n",
    "                    {'C': [1, 10, 100, 1000], 'gamma': [0.001, 0.0001], 'kernel': ['poly'], 'degree': [3]},\n",
    "                    {'C': [1, 10, 100, 1000], 'gamma': [0.001, 0.0001], 'kernel': ['poly'], 'degree': [4]}]\n",
    "\n",
    "\n",
    "scores = ['precision'] # you can alter this by adding, for example, `recall'\n",
    "\n",
    "for score in scores:\n",
    "    print(\"# Tuning hyper-parameters for %s\" % score)\n",
    "    print()\n",
    "\n",
    "    clf = GridSearchCV(SVC(C=1), tuned_parameters)\n",
    "    clf.fit(X_train, y_train)\n",
    "\n",
    "    print(\"Best parameters set found on development set:\")\n",
    "    print()\n",
    "    print(clf.best_estimator_)\n",
    "    print()\n",
    "    print(\"Grid scores on development set:\")\n",
    "    print()\n",
    "    for params, mean_score, scores in clf.grid_scores_:\n",
    "        print(\"%0.3f (+/-%0.03f) for %s\"\n",
    "              % (mean_score, scores.std() / 2, params))\n",
    "    print()\n",
    "    \n",
    "print(time.time()- start_time)"
   ]
  }
 ],
 "metadata": {
  "kernelspec": {
   "display_name": "Python 2",
   "language": "python",
   "name": "python2"
  },
  "language_info": {
   "codemirror_mode": {
    "name": "ipython",
    "version": 2
   },
   "file_extension": ".py",
   "mimetype": "text/x-python",
   "name": "python",
   "nbconvert_exporter": "python",
   "pygments_lexer": "ipython2",
   "version": "2.7.10"
  }
 },
 "nbformat": 4,
 "nbformat_minor": 0
}
