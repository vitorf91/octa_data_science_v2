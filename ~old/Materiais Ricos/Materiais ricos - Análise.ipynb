{
 "cells": [
  {
   "cell_type": "markdown",
   "metadata": {},
   "source": [
    "# Análise dos materiais ricos - 2017"
   ]
  },
  {
   "cell_type": "markdown",
   "metadata": {},
   "source": [
    "O intuito desta análise é entender, a partir do modelo e tipo de material, qual a sua performance em relação à quantidade de download para melhor planejamento de quantidade de materiais necessárias para alcance das métricas do ano de 2018.\n",
    "\n",
    "A conclusão ideal é que chegamos em:\n",
    "- Materiais do tipo planilha geram **x** downloads e **y%** vem de forma orgânica e **z%**vem de forma paga.\n",
    "- Para chegar em **x** leads, é necessário **y** materiais do tipo **z**"
   ]
  },
  {
   "cell_type": "code",
   "execution_count": 1,
   "metadata": {},
   "outputs": [],
   "source": [
    "#!pip install tqdm"
   ]
  },
  {
   "cell_type": "code",
   "execution_count": 2,
   "metadata": {},
   "outputs": [],
   "source": [
    "import requests\n",
    "import urllib3\n",
    "import numpy as np\n",
    "import pandas as pd\n",
    "import json\n",
    "import datetime\n",
    "import collections\n",
    "from tqdm import tqdm"
   ]
  },
  {
   "cell_type": "code",
   "execution_count": 3,
   "metadata": {},
   "outputs": [],
   "source": [
    "materiais = pd.read_csv('data/material_v2-2.csv', sep=';')"
   ]
  },
  {
   "cell_type": "code",
   "execution_count": 4,
   "metadata": {},
   "outputs": [
    {
     "data": {
      "text/html": [
       "<div>\n",
       "<style>\n",
       "    .dataframe thead tr:only-child th {\n",
       "        text-align: right;\n",
       "    }\n",
       "\n",
       "    .dataframe thead th {\n",
       "        text-align: left;\n",
       "    }\n",
       "\n",
       "    .dataframe tbody tr th {\n",
       "        vertical-align: top;\n",
       "    }\n",
       "</style>\n",
       "<table border=\"1\" class=\"dataframe\">\n",
       "  <thead>\n",
       "    <tr style=\"text-align: right;\">\n",
       "      <th></th>\n",
       "      <th>month+year first conv date</th>\n",
       "      <th>day first conv date</th>\n",
       "      <th>Week first conv date</th>\n",
       "      <th>month first conv date</th>\n",
       "      <th>year first conv date</th>\n",
       "      <th>first conversion date</th>\n",
       "      <th>origem</th>\n",
       "      <th>email domain analysis</th>\n",
       "      <th>Conversões</th>\n",
       "      <th>Eventos (Últimos 100)</th>\n",
       "    </tr>\n",
       "  </thead>\n",
       "  <tbody>\n",
       "    <tr>\n",
       "      <th>0</th>\n",
       "      <td>01/01/2017</td>\n",
       "      <td>1</td>\n",
       "      <td>1</td>\n",
       "      <td>1</td>\n",
       "      <td>2017</td>\n",
       "      <td>01/01/2017</td>\n",
       "      <td>Desconhecido</td>\n",
       "      <td>0</td>\n",
       "      <td>3</td>\n",
       "      <td>IntegracaoExact / checklist-de-atendimento-ao-...</td>\n",
       "    </tr>\n",
       "    <tr>\n",
       "      <th>1</th>\n",
       "      <td>01/01/2017</td>\n",
       "      <td>2</td>\n",
       "      <td>1</td>\n",
       "      <td>1</td>\n",
       "      <td>2017</td>\n",
       "      <td>02/01/2017</td>\n",
       "      <td>Desconhecido</td>\n",
       "      <td>0</td>\n",
       "      <td>4</td>\n",
       "      <td>Criação de Conta - Dados Pessoais / Criação de...</td>\n",
       "    </tr>\n",
       "    <tr>\n",
       "      <th>2</th>\n",
       "      <td>01/01/2017</td>\n",
       "      <td>2</td>\n",
       "      <td>1</td>\n",
       "      <td>1</td>\n",
       "      <td>2017</td>\n",
       "      <td>02/01/2017</td>\n",
       "      <td>Desconhecido</td>\n",
       "      <td>0</td>\n",
       "      <td>4</td>\n",
       "      <td>Criação de Conta - Sucesso / Criação de Conta ...</td>\n",
       "    </tr>\n",
       "    <tr>\n",
       "      <th>3</th>\n",
       "      <td>01/01/2017</td>\n",
       "      <td>2</td>\n",
       "      <td>1</td>\n",
       "      <td>1</td>\n",
       "      <td>2017</td>\n",
       "      <td>02/01/2017</td>\n",
       "      <td>Desconhecido</td>\n",
       "      <td>0</td>\n",
       "      <td>4</td>\n",
       "      <td>Criação de Conta - Sucesso / Criação de Conta ...</td>\n",
       "    </tr>\n",
       "    <tr>\n",
       "      <th>4</th>\n",
       "      <td>01/01/2017</td>\n",
       "      <td>2</td>\n",
       "      <td>1</td>\n",
       "      <td>1</td>\n",
       "      <td>2017</td>\n",
       "      <td>02/01/2017</td>\n",
       "      <td>Desconhecido</td>\n",
       "      <td>1</td>\n",
       "      <td>4</td>\n",
       "      <td>Criação de Conta - Sucesso / Criação de Conta ...</td>\n",
       "    </tr>\n",
       "  </tbody>\n",
       "</table>\n",
       "</div>"
      ],
      "text/plain": [
       "  month+year first conv date  day first conv date  Week first conv date  \\\n",
       "0                 01/01/2017                    1                     1   \n",
       "1                 01/01/2017                    2                     1   \n",
       "2                 01/01/2017                    2                     1   \n",
       "3                 01/01/2017                    2                     1   \n",
       "4                 01/01/2017                    2                     1   \n",
       "\n",
       "   month first conv date  year first conv date first conversion date  \\\n",
       "0                      1                  2017            01/01/2017   \n",
       "1                      1                  2017            02/01/2017   \n",
       "2                      1                  2017            02/01/2017   \n",
       "3                      1                  2017            02/01/2017   \n",
       "4                      1                  2017            02/01/2017   \n",
       "\n",
       "         origem  email domain analysis  Conversões  \\\n",
       "0  Desconhecido                      0           3   \n",
       "1  Desconhecido                      0           4   \n",
       "2  Desconhecido                      0           4   \n",
       "3  Desconhecido                      0           4   \n",
       "4  Desconhecido                      1           4   \n",
       "\n",
       "                               Eventos (Últimos 100)  \n",
       "0  IntegracaoExact / checklist-de-atendimento-ao-...  \n",
       "1  Criação de Conta - Dados Pessoais / Criação de...  \n",
       "2  Criação de Conta - Sucesso / Criação de Conta ...  \n",
       "3  Criação de Conta - Sucesso / Criação de Conta ...  \n",
       "4  Criação de Conta - Sucesso / Criação de Conta ...  "
      ]
     },
     "execution_count": 4,
     "metadata": {},
     "output_type": "execute_result"
    }
   ],
   "source": [
    "materiais.head()"
   ]
  },
  {
   "cell_type": "markdown",
   "metadata": {},
   "source": [
    "Afim de padronizar o nome das colunas, iremos renomeá-las para melhor operação da análise"
   ]
  },
  {
   "cell_type": "code",
   "execution_count": 5,
   "metadata": {},
   "outputs": [],
   "source": [
    "materiais = materiais.rename(index=str, columns={'month+year first conv date':'month_year_conv', 'day first conv date':'day_conv',\\\n",
    "                                     'Week first conv date': 'week_conv', 'month first conv date': 'month_conv', \\\n",
    "                                     'year first conv date': 'year_conv', 'first conversion date': 'date_conv', \\\n",
    "                                     'origem': 'source', 'email domain analysis': 'domain', 'Conversões': 'conversions', \\\n",
    "                                     'Eventos (Últimos 100)': 'events'})"
   ]
  },
  {
   "cell_type": "code",
   "execution_count": 6,
   "metadata": {},
   "outputs": [
    {
     "data": {
      "text/html": [
       "<div>\n",
       "<style>\n",
       "    .dataframe thead tr:only-child th {\n",
       "        text-align: right;\n",
       "    }\n",
       "\n",
       "    .dataframe thead th {\n",
       "        text-align: left;\n",
       "    }\n",
       "\n",
       "    .dataframe tbody tr th {\n",
       "        vertical-align: top;\n",
       "    }\n",
       "</style>\n",
       "<table border=\"1\" class=\"dataframe\">\n",
       "  <thead>\n",
       "    <tr style=\"text-align: right;\">\n",
       "      <th></th>\n",
       "      <th>month_year_conv</th>\n",
       "      <th>day_conv</th>\n",
       "      <th>week_conv</th>\n",
       "      <th>month_conv</th>\n",
       "      <th>year_conv</th>\n",
       "      <th>date_conv</th>\n",
       "      <th>source</th>\n",
       "      <th>domain</th>\n",
       "      <th>conversions</th>\n",
       "      <th>events</th>\n",
       "    </tr>\n",
       "  </thead>\n",
       "  <tbody>\n",
       "    <tr>\n",
       "      <th>0</th>\n",
       "      <td>01/01/2017</td>\n",
       "      <td>1</td>\n",
       "      <td>1</td>\n",
       "      <td>1</td>\n",
       "      <td>2017</td>\n",
       "      <td>01/01/2017</td>\n",
       "      <td>Desconhecido</td>\n",
       "      <td>0</td>\n",
       "      <td>3</td>\n",
       "      <td>IntegracaoExact / checklist-de-atendimento-ao-...</td>\n",
       "    </tr>\n",
       "    <tr>\n",
       "      <th>1</th>\n",
       "      <td>01/01/2017</td>\n",
       "      <td>2</td>\n",
       "      <td>1</td>\n",
       "      <td>1</td>\n",
       "      <td>2017</td>\n",
       "      <td>02/01/2017</td>\n",
       "      <td>Desconhecido</td>\n",
       "      <td>0</td>\n",
       "      <td>4</td>\n",
       "      <td>Criação de Conta - Dados Pessoais / Criação de...</td>\n",
       "    </tr>\n",
       "    <tr>\n",
       "      <th>2</th>\n",
       "      <td>01/01/2017</td>\n",
       "      <td>2</td>\n",
       "      <td>1</td>\n",
       "      <td>1</td>\n",
       "      <td>2017</td>\n",
       "      <td>02/01/2017</td>\n",
       "      <td>Desconhecido</td>\n",
       "      <td>0</td>\n",
       "      <td>4</td>\n",
       "      <td>Criação de Conta - Sucesso / Criação de Conta ...</td>\n",
       "    </tr>\n",
       "    <tr>\n",
       "      <th>3</th>\n",
       "      <td>01/01/2017</td>\n",
       "      <td>2</td>\n",
       "      <td>1</td>\n",
       "      <td>1</td>\n",
       "      <td>2017</td>\n",
       "      <td>02/01/2017</td>\n",
       "      <td>Desconhecido</td>\n",
       "      <td>0</td>\n",
       "      <td>4</td>\n",
       "      <td>Criação de Conta - Sucesso / Criação de Conta ...</td>\n",
       "    </tr>\n",
       "    <tr>\n",
       "      <th>4</th>\n",
       "      <td>01/01/2017</td>\n",
       "      <td>2</td>\n",
       "      <td>1</td>\n",
       "      <td>1</td>\n",
       "      <td>2017</td>\n",
       "      <td>02/01/2017</td>\n",
       "      <td>Desconhecido</td>\n",
       "      <td>1</td>\n",
       "      <td>4</td>\n",
       "      <td>Criação de Conta - Sucesso / Criação de Conta ...</td>\n",
       "    </tr>\n",
       "  </tbody>\n",
       "</table>\n",
       "</div>"
      ],
      "text/plain": [
       "  month_year_conv  day_conv  week_conv  month_conv  year_conv   date_conv  \\\n",
       "0      01/01/2017         1          1           1       2017  01/01/2017   \n",
       "1      01/01/2017         2          1           1       2017  02/01/2017   \n",
       "2      01/01/2017         2          1           1       2017  02/01/2017   \n",
       "3      01/01/2017         2          1           1       2017  02/01/2017   \n",
       "4      01/01/2017         2          1           1       2017  02/01/2017   \n",
       "\n",
       "         source  domain  conversions  \\\n",
       "0  Desconhecido       0            3   \n",
       "1  Desconhecido       0            4   \n",
       "2  Desconhecido       0            4   \n",
       "3  Desconhecido       0            4   \n",
       "4  Desconhecido       1            4   \n",
       "\n",
       "                                              events  \n",
       "0  IntegracaoExact / checklist-de-atendimento-ao-...  \n",
       "1  Criação de Conta - Dados Pessoais / Criação de...  \n",
       "2  Criação de Conta - Sucesso / Criação de Conta ...  \n",
       "3  Criação de Conta - Sucesso / Criação de Conta ...  \n",
       "4  Criação de Conta - Sucesso / Criação de Conta ...  "
      ]
     },
     "execution_count": 6,
     "metadata": {},
     "output_type": "execute_result"
    }
   ],
   "source": [
    "materiais.head()"
   ]
  },
  {
   "cell_type": "markdown",
   "metadata": {},
   "source": [
    "Agora, iremos quebrar a coluna 'events' para ter todos os eventos quebrados de forma unificada."
   ]
  },
  {
   "cell_type": "code",
   "execution_count": 7,
   "metadata": {},
   "outputs": [],
   "source": [
    "split_materiais = materiais['events'].str.split(' / ', expand=True)"
   ]
  },
  {
   "cell_type": "code",
   "execution_count": 8,
   "metadata": {
    "collapsed": true
   },
   "outputs": [],
   "source": [
    "materiais_final = materiais.join(split_materiais)"
   ]
  },
  {
   "cell_type": "code",
   "execution_count": 9,
   "metadata": {},
   "outputs": [
    {
     "data": {
      "text/html": [
       "<div>\n",
       "<style>\n",
       "    .dataframe thead tr:only-child th {\n",
       "        text-align: right;\n",
       "    }\n",
       "\n",
       "    .dataframe thead th {\n",
       "        text-align: left;\n",
       "    }\n",
       "\n",
       "    .dataframe tbody tr th {\n",
       "        vertical-align: top;\n",
       "    }\n",
       "</style>\n",
       "<table border=\"1\" class=\"dataframe\">\n",
       "  <thead>\n",
       "    <tr style=\"text-align: right;\">\n",
       "      <th></th>\n",
       "      <th>month_year_conv</th>\n",
       "      <th>day_conv</th>\n",
       "      <th>week_conv</th>\n",
       "      <th>month_conv</th>\n",
       "      <th>year_conv</th>\n",
       "      <th>date_conv</th>\n",
       "      <th>source</th>\n",
       "      <th>domain</th>\n",
       "      <th>conversions</th>\n",
       "      <th>events</th>\n",
       "      <th>...</th>\n",
       "      <th>90</th>\n",
       "      <th>91</th>\n",
       "      <th>92</th>\n",
       "      <th>93</th>\n",
       "      <th>94</th>\n",
       "      <th>95</th>\n",
       "      <th>96</th>\n",
       "      <th>97</th>\n",
       "      <th>98</th>\n",
       "      <th>99</th>\n",
       "    </tr>\n",
       "  </thead>\n",
       "  <tbody>\n",
       "    <tr>\n",
       "      <th>0</th>\n",
       "      <td>01/01/2017</td>\n",
       "      <td>1</td>\n",
       "      <td>1</td>\n",
       "      <td>1</td>\n",
       "      <td>2017</td>\n",
       "      <td>01/01/2017</td>\n",
       "      <td>Desconhecido</td>\n",
       "      <td>0</td>\n",
       "      <td>3</td>\n",
       "      <td>IntegracaoExact / checklist-de-atendimento-ao-...</td>\n",
       "      <td>...</td>\n",
       "      <td>None</td>\n",
       "      <td>None</td>\n",
       "      <td>None</td>\n",
       "      <td>None</td>\n",
       "      <td>None</td>\n",
       "      <td>None</td>\n",
       "      <td>None</td>\n",
       "      <td>None</td>\n",
       "      <td>None</td>\n",
       "      <td>None</td>\n",
       "    </tr>\n",
       "    <tr>\n",
       "      <th>1</th>\n",
       "      <td>01/01/2017</td>\n",
       "      <td>2</td>\n",
       "      <td>1</td>\n",
       "      <td>1</td>\n",
       "      <td>2017</td>\n",
       "      <td>02/01/2017</td>\n",
       "      <td>Desconhecido</td>\n",
       "      <td>0</td>\n",
       "      <td>4</td>\n",
       "      <td>Criação de Conta - Dados Pessoais / Criação de...</td>\n",
       "      <td>...</td>\n",
       "      <td>None</td>\n",
       "      <td>None</td>\n",
       "      <td>None</td>\n",
       "      <td>None</td>\n",
       "      <td>None</td>\n",
       "      <td>None</td>\n",
       "      <td>None</td>\n",
       "      <td>None</td>\n",
       "      <td>None</td>\n",
       "      <td>None</td>\n",
       "    </tr>\n",
       "    <tr>\n",
       "      <th>2</th>\n",
       "      <td>01/01/2017</td>\n",
       "      <td>2</td>\n",
       "      <td>1</td>\n",
       "      <td>1</td>\n",
       "      <td>2017</td>\n",
       "      <td>02/01/2017</td>\n",
       "      <td>Desconhecido</td>\n",
       "      <td>0</td>\n",
       "      <td>4</td>\n",
       "      <td>Criação de Conta - Sucesso / Criação de Conta ...</td>\n",
       "      <td>...</td>\n",
       "      <td>None</td>\n",
       "      <td>None</td>\n",
       "      <td>None</td>\n",
       "      <td>None</td>\n",
       "      <td>None</td>\n",
       "      <td>None</td>\n",
       "      <td>None</td>\n",
       "      <td>None</td>\n",
       "      <td>None</td>\n",
       "      <td>None</td>\n",
       "    </tr>\n",
       "    <tr>\n",
       "      <th>3</th>\n",
       "      <td>01/01/2017</td>\n",
       "      <td>2</td>\n",
       "      <td>1</td>\n",
       "      <td>1</td>\n",
       "      <td>2017</td>\n",
       "      <td>02/01/2017</td>\n",
       "      <td>Desconhecido</td>\n",
       "      <td>0</td>\n",
       "      <td>4</td>\n",
       "      <td>Criação de Conta - Sucesso / Criação de Conta ...</td>\n",
       "      <td>...</td>\n",
       "      <td>None</td>\n",
       "      <td>None</td>\n",
       "      <td>None</td>\n",
       "      <td>None</td>\n",
       "      <td>None</td>\n",
       "      <td>None</td>\n",
       "      <td>None</td>\n",
       "      <td>None</td>\n",
       "      <td>None</td>\n",
       "      <td>None</td>\n",
       "    </tr>\n",
       "    <tr>\n",
       "      <th>4</th>\n",
       "      <td>01/01/2017</td>\n",
       "      <td>2</td>\n",
       "      <td>1</td>\n",
       "      <td>1</td>\n",
       "      <td>2017</td>\n",
       "      <td>02/01/2017</td>\n",
       "      <td>Desconhecido</td>\n",
       "      <td>1</td>\n",
       "      <td>4</td>\n",
       "      <td>Criação de Conta - Sucesso / Criação de Conta ...</td>\n",
       "      <td>...</td>\n",
       "      <td>None</td>\n",
       "      <td>None</td>\n",
       "      <td>None</td>\n",
       "      <td>None</td>\n",
       "      <td>None</td>\n",
       "      <td>None</td>\n",
       "      <td>None</td>\n",
       "      <td>None</td>\n",
       "      <td>None</td>\n",
       "      <td>None</td>\n",
       "    </tr>\n",
       "  </tbody>\n",
       "</table>\n",
       "<p>5 rows × 110 columns</p>\n",
       "</div>"
      ],
      "text/plain": [
       "  month_year_conv  day_conv  week_conv  month_conv  year_conv   date_conv  \\\n",
       "0      01/01/2017         1          1           1       2017  01/01/2017   \n",
       "1      01/01/2017         2          1           1       2017  02/01/2017   \n",
       "2      01/01/2017         2          1           1       2017  02/01/2017   \n",
       "3      01/01/2017         2          1           1       2017  02/01/2017   \n",
       "4      01/01/2017         2          1           1       2017  02/01/2017   \n",
       "\n",
       "         source  domain  conversions  \\\n",
       "0  Desconhecido       0            3   \n",
       "1  Desconhecido       0            4   \n",
       "2  Desconhecido       0            4   \n",
       "3  Desconhecido       0            4   \n",
       "4  Desconhecido       1            4   \n",
       "\n",
       "                                              events  ...     90    91    92  \\\n",
       "0  IntegracaoExact / checklist-de-atendimento-ao-...  ...   None  None  None   \n",
       "1  Criação de Conta - Dados Pessoais / Criação de...  ...   None  None  None   \n",
       "2  Criação de Conta - Sucesso / Criação de Conta ...  ...   None  None  None   \n",
       "3  Criação de Conta - Sucesso / Criação de Conta ...  ...   None  None  None   \n",
       "4  Criação de Conta - Sucesso / Criação de Conta ...  ...   None  None  None   \n",
       "\n",
       "     93    94    95    96    97    98    99  \n",
       "0  None  None  None  None  None  None  None  \n",
       "1  None  None  None  None  None  None  None  \n",
       "2  None  None  None  None  None  None  None  \n",
       "3  None  None  None  None  None  None  None  \n",
       "4  None  None  None  None  None  None  None  \n",
       "\n",
       "[5 rows x 110 columns]"
      ]
     },
     "execution_count": 9,
     "metadata": {},
     "output_type": "execute_result"
    }
   ],
   "source": [
    "materiais_final.head()"
   ]
  },
  {
   "cell_type": "code",
   "execution_count": 10,
   "metadata": {},
   "outputs": [],
   "source": [
    "materiais_final.drop(labels=['events'], inplace=True, axis=1)"
   ]
  },
  {
   "cell_type": "code",
   "execution_count": 11,
   "metadata": {},
   "outputs": [
    {
     "data": {
      "text/plain": [
       "Index(['month_year_conv',        'day_conv',       'week_conv',\n",
       "            'month_conv',       'year_conv',       'date_conv',\n",
       "                'source',          'domain',     'conversions',\n",
       "                       0,\n",
       "       ...\n",
       "                      90,                91,                92,\n",
       "                      93,                94,                95,\n",
       "                      96,                97,                98,\n",
       "                      99],\n",
       "      dtype='object', length=109)"
      ]
     },
     "execution_count": 11,
     "metadata": {},
     "output_type": "execute_result"
    }
   ],
   "source": [
    "materiais_final.columns"
   ]
  },
  {
   "cell_type": "code",
   "execution_count": 83,
   "metadata": {
    "collapsed": true
   },
   "outputs": [],
   "source": [
    "df = materiais_final[['source', 0]]"
   ]
  },
  {
   "cell_type": "code",
   "execution_count": 84,
   "metadata": {},
   "outputs": [
    {
     "data": {
      "text/html": [
       "<div>\n",
       "<style>\n",
       "    .dataframe thead tr:only-child th {\n",
       "        text-align: right;\n",
       "    }\n",
       "\n",
       "    .dataframe thead th {\n",
       "        text-align: left;\n",
       "    }\n",
       "\n",
       "    .dataframe tbody tr th {\n",
       "        vertical-align: top;\n",
       "    }\n",
       "</style>\n",
       "<table border=\"1\" class=\"dataframe\">\n",
       "  <thead>\n",
       "    <tr style=\"text-align: right;\">\n",
       "      <th></th>\n",
       "      <th>source</th>\n",
       "      <th>0</th>\n",
       "    </tr>\n",
       "  </thead>\n",
       "  <tbody>\n",
       "    <tr>\n",
       "      <th>0</th>\n",
       "      <td>Desconhecido</td>\n",
       "      <td>IntegracaoExact</td>\n",
       "    </tr>\n",
       "    <tr>\n",
       "      <th>1</th>\n",
       "      <td>Desconhecido</td>\n",
       "      <td>Criação de Conta - Dados Pessoais</td>\n",
       "    </tr>\n",
       "    <tr>\n",
       "      <th>2</th>\n",
       "      <td>Desconhecido</td>\n",
       "      <td>Criação de Conta - Sucesso</td>\n",
       "    </tr>\n",
       "    <tr>\n",
       "      <th>3</th>\n",
       "      <td>Desconhecido</td>\n",
       "      <td>Criação de Conta - Sucesso</td>\n",
       "    </tr>\n",
       "    <tr>\n",
       "      <th>4</th>\n",
       "      <td>Desconhecido</td>\n",
       "      <td>Criação de Conta - Sucesso</td>\n",
       "    </tr>\n",
       "  </tbody>\n",
       "</table>\n",
       "</div>"
      ],
      "text/plain": [
       "         source                                  0\n",
       "0  Desconhecido                    IntegracaoExact\n",
       "1  Desconhecido  Criação de Conta - Dados Pessoais\n",
       "2  Desconhecido         Criação de Conta - Sucesso\n",
       "3  Desconhecido         Criação de Conta - Sucesso\n",
       "4  Desconhecido         Criação de Conta - Sucesso"
      ]
     },
     "execution_count": 84,
     "metadata": {},
     "output_type": "execute_result"
    }
   ],
   "source": [
    "df.head()"
   ]
  },
  {
   "cell_type": "markdown",
   "metadata": {},
   "source": [
    "Criação de um dataset com todos os eventos de todos os leads, excluindo valores NaNs"
   ]
  },
  {
   "cell_type": "code",
   "execution_count": 118,
   "metadata": {},
   "outputs": [
    {
     "name": "stderr",
     "output_type": "stream",
     "text": [
      "100%|██████████| 100/100 [00:02<00:00, 33.66it/s]\n"
     ]
    }
   ],
   "source": [
    "#iteração para puxar todas as colunas para uma coluna específica\n",
    "events = pd.DataFrame(data=None, dtype='object')\n",
    "\n",
    "for x in tqdm(range(0,100)):\n",
    "    df = materiais_final[['source', x]]\n",
    "    df = df.rename(index=str, columns={x:'event'})\n",
    "    events = pd.concat([events, df])"
   ]
  },
  {
   "cell_type": "code",
   "execution_count": 119,
   "metadata": {},
   "outputs": [],
   "source": [
    "#dropar todos os eventos nulos\n",
    "events.dropna(axis=0, inplace=True)"
   ]
  },
  {
   "cell_type": "markdown",
   "metadata": {},
   "source": [
    "criar uma coluna unificando source e event para ter um controle de onde vieram os eventos e fazer a filtragem"
   ]
  },
  {
   "cell_type": "code",
   "execution_count": 120,
   "metadata": {},
   "outputs": [],
   "source": [
    "events['source_event'] = events['source'] + ' | ' + events['event']"
   ]
  },
  {
   "cell_type": "code",
   "execution_count": 121,
   "metadata": {},
   "outputs": [],
   "source": [
    "events['count'] = events['source_event'].map(events['source_event'].value_counts())"
   ]
  },
  {
   "cell_type": "code",
   "execution_count": 122,
   "metadata": {},
   "outputs": [],
   "source": [
    "events.drop(labels=['source', 'event'], inplace=True, axis=1)"
   ]
  },
  {
   "cell_type": "code",
   "execution_count": 137,
   "metadata": {},
   "outputs": [],
   "source": [
    "events['source'] = events['source_event'].str.split('|').str[0]\n",
    "events['event'] = events['source_event'].str.split('|').str[1]"
   ]
  },
  {
   "cell_type": "code",
   "execution_count": 139,
   "metadata": {},
   "outputs": [],
   "source": [
    "events.drop(labels=['source_event'], inplace=True, axis=1)"
   ]
  },
  {
   "cell_type": "markdown",
   "metadata": {},
   "source": [
    "#### dataset final"
   ]
  },
  {
   "cell_type": "code",
   "execution_count": 141,
   "metadata": {},
   "outputs": [
    {
     "data": {
      "text/html": [
       "<div>\n",
       "<style>\n",
       "    .dataframe thead tr:only-child th {\n",
       "        text-align: right;\n",
       "    }\n",
       "\n",
       "    .dataframe thead th {\n",
       "        text-align: left;\n",
       "    }\n",
       "\n",
       "    .dataframe tbody tr th {\n",
       "        vertical-align: top;\n",
       "    }\n",
       "</style>\n",
       "<table border=\"1\" class=\"dataframe\">\n",
       "  <thead>\n",
       "    <tr style=\"text-align: right;\">\n",
       "      <th></th>\n",
       "      <th>count</th>\n",
       "      <th>event</th>\n",
       "      <th>source</th>\n",
       "    </tr>\n",
       "  </thead>\n",
       "  <tbody>\n",
       "    <tr>\n",
       "      <th>0</th>\n",
       "      <td>1834</td>\n",
       "      <td>IntegracaoExact</td>\n",
       "      <td>Desconhecido</td>\n",
       "    </tr>\n",
       "    <tr>\n",
       "      <th>1</th>\n",
       "      <td>291</td>\n",
       "      <td>Criação de Conta - Dados Pessoais</td>\n",
       "      <td>Desconhecido</td>\n",
       "    </tr>\n",
       "    <tr>\n",
       "      <th>2</th>\n",
       "      <td>263</td>\n",
       "      <td>Criação de Conta - Sucesso</td>\n",
       "      <td>Desconhecido</td>\n",
       "    </tr>\n",
       "    <tr>\n",
       "      <th>3</th>\n",
       "      <td>263</td>\n",
       "      <td>Criação de Conta - Sucesso</td>\n",
       "      <td>Desconhecido</td>\n",
       "    </tr>\n",
       "    <tr>\n",
       "      <th>4</th>\n",
       "      <td>263</td>\n",
       "      <td>Criação de Conta - Sucesso</td>\n",
       "      <td>Desconhecido</td>\n",
       "    </tr>\n",
       "  </tbody>\n",
       "</table>\n",
       "</div>"
      ],
      "text/plain": [
       "   count                               event         source\n",
       "0   1834                     IntegracaoExact  Desconhecido \n",
       "1    291   Criação de Conta - Dados Pessoais  Desconhecido \n",
       "2    263          Criação de Conta - Sucesso  Desconhecido \n",
       "3    263          Criação de Conta - Sucesso  Desconhecido \n",
       "4    263          Criação de Conta - Sucesso  Desconhecido "
      ]
     },
     "execution_count": 141,
     "metadata": {},
     "output_type": "execute_result"
    }
   ],
   "source": [
    "events.head()"
   ]
  },
  {
   "cell_type": "code",
   "execution_count": 142,
   "metadata": {
    "collapsed": true
   },
   "outputs": [],
   "source": [
    "events.to_excel('events.xlsx')"
   ]
  }
 ],
 "metadata": {
  "kernelspec": {
   "display_name": "Python 3",
   "language": "python",
   "name": "python3"
  },
  "language_info": {
   "codemirror_mode": {
    "name": "ipython",
    "version": 3
   },
   "file_extension": ".py",
   "mimetype": "text/x-python",
   "name": "python",
   "nbconvert_exporter": "python",
   "pygments_lexer": "ipython3",
   "version": "3.6.2"
  }
 },
 "nbformat": 4,
 "nbformat_minor": 2
}
