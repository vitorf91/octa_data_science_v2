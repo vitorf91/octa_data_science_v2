{
 "cells": [
  {
   "cell_type": "markdown",
   "metadata": {},
   "source": [
    "# Meeting Pattern\n",
    "\n",
    "O objetivo deste projeto é identificar qual o padrão dos leads para que haja conexão e agendamento, ou seja, geração de oportunidade.\n",
    "\n",
    "Abordaremos desta maneira devido ao objetivo de melhorar a taxa de conversão entre um lead gerado e qualificado por marketing até a oportunidade gerada. Além disso, o volume é muito maior quando se comparado com o número de clientes, dando uma possibilidade de um estudo ainda mais consistente."
   ]
  },
  {
   "cell_type": "markdown",
   "metadata": {},
   "source": [
    "## Libs"
   ]
  },
  {
   "cell_type": "code",
   "execution_count": 1,
   "metadata": {},
   "outputs": [],
   "source": [
    "import requests\n",
    "import urllib3\n",
    "import numpy as np\n",
    "import pandas as pd\n",
    "import json\n",
    "import datetime\n",
    "import tqdm\n",
    "import collections"
   ]
  },
  {
   "cell_type": "markdown",
   "metadata": {},
   "source": [
    "## Bases"
   ]
  },
  {
   "cell_type": "code",
   "execution_count": 2,
   "metadata": {
    "collapsed": true
   },
   "outputs": [],
   "source": [
    "rd = pd.read_csv('data/rdstation.csv', low_memory=False)"
   ]
  },
  {
   "cell_type": "code",
   "execution_count": 3,
   "metadata": {
    "collapsed": true
   },
   "outputs": [],
   "source": [
    "events = pd.read_csv('data/conversoes.csv', sep=\"\\t\")"
   ]
  },
  {
   "cell_type": "code",
   "execution_count": 4,
   "metadata": {
    "collapsed": true
   },
   "outputs": [],
   "source": [
    "exact = pd.read_csv('data/exact.csv', sep=';', encoding='utf-8')"
   ]
  },
  {
   "cell_type": "markdown",
   "metadata": {},
   "source": [
    "### Tratamento das bases\n",
    "\n",
    "1) RD Station"
   ]
  },
  {
   "cell_type": "code",
   "execution_count": 5,
   "metadata": {
    "collapsed": true
   },
   "outputs": [],
   "source": [
    "#Dropar todas as colunas que não possuem nenhuma informação\n",
    "rd = rd.dropna(axis=1, how='all')\n",
    "\n",
    "#selecionar todas as colunas que possuem + 300 eventos registrados\n",
    "rd = rd[rd.columns[rd.count()>300]]\n",
    "\n",
    "#dropar as colunas que não utilizamos para analisar os dados\n",
    "rd.drop(labels=['Celular', 'Cidade', 'Estado', 'Pais', 'Mercado', 'Produto', 'Dadoscoletados', 'Origem.1', 'Company', \\\n",
    "                    'Id', 'Trialstart', 'Trialend', 'Import token', 'Submit-om', 'Possui-sistema-de-atendimento', \\\n",
    "                    'Newsletter', 'Form url', 'Siteempresa','Created at', 'Page title', 'Conversion page', 'Istest', 'Tags', \\\n",
    "                    'Octadesksubdomain', 'Octadeskemail', 'Istrial', 'Hascreatedaccount', 'Traffic Source', \\\n",
    "                    'Sh0uldn07ch4ng3', 'Custom fields[274]', 'Custom fields[14137]', \\\n",
    "                    'Custom fields[28126]', 'Custom fields[28308]', 'Custom fields[266]', \\\n",
    "                    'Custom fields[270]', 'Custom fields[44611]', 'Custom fields[44612]', \\\n",
    "                    'Custom fields[265]', 'Custom fields[268]', 'Qual seu maior problema?', \\\n",
    "                    'Custom fields[148136]', 'Vertical', 'Já utiliza sistema de atendimento?', \\\n",
    "                    'Custom fields[98378]', 'Custom fields[15144]', 'Custom fields[16314]', \\\n",
    "                    'Dores', 'Motivodescarte', 'Etapadescarte', 'Prevendedor', 'Emailprevendedor',\\\n",
    "                    'Qualificacaofiltro1','Qualificacaofiltro2', 'Qualificacaofeedbackvisita', 'Etapaatual','Vendedor'], axis=1, inplace=True)\n",
    "\n",
    "#Splitar a Origem e criar duas colunas\n",
    "#medium\n",
    "rd['rd_medium'] = rd['Origem'].str.split('|').str[0]\n",
    "rd['rd_medium'] = rd['rd_medium'].str.strip()\n",
    "\n",
    "#source\n",
    "rd['rd_source'] = rd['Origem'].str.split('|').str[1]\n",
    "rd['rd_source'] = rd['rd_source'].str.strip()\n",
    "\n",
    "#drop Origem\n",
    "rd.drop(labels=['Origem'], axis=1, inplace=True)\n"
   ]
  },
  {
   "cell_type": "code",
   "execution_count": 6,
   "metadata": {
    "collapsed": true
   },
   "outputs": [],
   "source": [
    "#Normalizar a data de conversão\n",
    "rd['conv_date'] = pd.DatetimeIndex(rd['Data da Conversão']).normalize()\n",
    "conv_date = rd['conv_date']\n",
    "rd.drop(labels=['conv_date', 'Data da Conversão'], axis=1,inplace = True)\n",
    "rd.insert(0, 'conv_date', conv_date)"
   ]
  },
  {
   "cell_type": "code",
   "execution_count": 7,
   "metadata": {
    "collapsed": true
   },
   "outputs": [],
   "source": [
    "#renomear as colunas\n",
    "rd = rd.rename(index=str, columns={'Identificador': 'event', 'Nome': 'name', \\\n",
    "                                  'Telefone': 'phone', 'Utm campaign': 'utm_campaign', \\\n",
    "                                  'Utm medium': 'utm_medium', 'Utm source':'utm_source', \\\n",
    "                                  'Email lead': 'email', 'Website': 'site', \\\n",
    "                                  'Qual é o seu cargo?': 'job_title', 'Departamento': 'department',\n",
    "                                  'Numero-de-funcionarios': 'n_employees', 'Gerenciamento': 'management',\n",
    "                                  'Utm content': 'utm_content', 'Utm term': 'utm_term',\n",
    "                                  'Número de funcionários': 'n_employees 2', 'Empresa': 'company_name'})"
   ]
  },
  {
   "cell_type": "code",
   "execution_count": 8,
   "metadata": {
    "collapsed": true
   },
   "outputs": [],
   "source": [
    "#Juntar as colunas de número de funcionários\n",
    "rd['n_employees'] = rd[['n_employees', 'n_employees 2']].apply(lambda x: ','.join(x.dropna().astype(str)),axis=1)\n",
    "rd.drop('n_employees 2', axis=1, inplace = True)\n",
    "\n",
    "#Juntar as colunas de cargo\n",
    "rd['job_title'] = rd[['Cargo', 'job_title']].apply(lambda x: ','.join(x.dropna().astype(str)),axis=1)\n",
    "rd.drop('Cargo', axis=1, inplace = True)\n"
   ]
  },
  {
   "cell_type": "code",
   "execution_count": 9,
   "metadata": {
    "collapsed": true
   },
   "outputs": [],
   "source": [
    "#employee\n",
    "rd['n_employees'].replace('1 a 10', 'de 1 a 10', inplace=True)\n",
    "rd['n_employees'].replace('11 a 30', 'de 11 a 30', inplace=True)\n",
    "rd['n_employees'].replace('de 11 a 30 ', 'de 11 a 30', inplace=True)\n",
    "rd['n_employees'].replace('de 6 a 10', 'de 1 a 10', inplace=True)\n",
    "rd['n_employees'].replace('de 6 a 10 ', 'de 1 a 10', inplace=True)\n",
    "rd['n_employees'].replace('6 a 10', 'de 1 a 10', inplace=True)\n",
    "rd['n_employees'].replace('1 a 5', 'de 1 a 10', inplace=True)\n",
    "rd['n_employees'].replace('de 1 a 5', 'de 1 a 10', inplace=True)\n",
    "rd['n_employees'].replace('31 a 50', 'de 31 a 50', inplace=True)\n",
    "rd['n_employees'].replace('51 a 100', 'de 51 a 100', inplace=True)\n",
    "rd['n_employees'].replace('acima de 1001', 'acima de 100', inplace=True)\n",
    "rd['n_employees'].replace('251 a 500', 'acima de 100', inplace=True)\n",
    "rd['n_employees'].replace('de 251 a 500', 'acima de 100', inplace=True)\n",
    "rd['n_employees'].replace('de 101 a 250', 'acima de 100', inplace=True)\n",
    "rd['n_employees'].replace('500 a 1000', 'acima de 100', inplace=True)\n",
    "rd['n_employees'].replace('101 a 250', 'acima de 100', inplace=True)\n",
    "rd['n_employees'].replace('de 501 a 1000', 'acima de 100', inplace=True)\n",
    "rd['n_employees'].replace('1-5', 'de 1 a 10', inplace=True)\n",
    "rd['n_employees'].replace('6-10', 'de 1 a 10', inplace=True)\n",
    "rd['n_employees'].replace('11-20', 'de 11 a 30', inplace=True)\n",
    "rd['n_employees'].replace('Mais de 20', 'de 11 a 30', inplace=True)\n",
    "rd['n_employees'].replace('undefined', np.nan, inplace=True)"
   ]
  },
  {
   "cell_type": "code",
   "execution_count": 10,
   "metadata": {
    "collapsed": true
   },
   "outputs": [],
   "source": [
    "#outros cargos\n",
    "rd['job_title'].replace('CONSULTOR', 'Outros Cargos', inplace=True)\n",
    "rd['job_title'].replace('Consultor', 'Outros Cargos', inplace=True)\n",
    "rd['job_title'].replace('Assistente Comercial', 'Outros Cargos', inplace=True)\n",
    "rd['job_title'].replace('Administração', 'Outros Cargos', inplace=True)\n",
    "rd['job_title'].replace('Representante', 'Outros Cargos', inplace=True)\n",
    "rd['job_title'].replace('Consultor Empresarial', 'Outros Cargos', inplace=True)\n",
    "rd['job_title'].replace('Representante Comercial', 'Outros Cargos', inplace=True)\n",
    "rd['job_title'].replace('Outros cargos', 'Outros Cargos', inplace=True)\n",
    "rd['job_title'].replace('Outro', 'Outros Cargos', inplace=True)\n",
    "rd['job_title'].replace('undefined', 'Outros Cargos', inplace=True)\n",
    "\n",
    "\n",
    "#coordenador\n",
    "rd['job_title'].replace('Supervisor(a) / Coordenador(a)', 'Supervisor', inplace=True)\n",
    "rd.loc[rd['job_title'].str.contains('supervisor'), 'job_title'] = 'Supervisor'\n",
    "rd.loc[rd['job_title'].str.contains('Supervisor'), 'job_title'] = 'Supervisor'\n",
    "rd.loc[rd['job_title'].str.contains('SUPERVISOR'), 'job_title'] = 'Supervisor'\n",
    "\n",
    "#socio\n",
    "rd['job_title'].replace('Empresário / CEO', 'Sócio / CEO', inplace=True)\n",
    "rd['job_title'].replace('Executivo', 'Sócio / CEO', inplace=True)\n",
    "rd['job_title'].replace('propietario', 'Sócio / CEO', inplace=True)\n",
    "rd['job_title'].replace('Presidência', 'Sócio / CEO', inplace=True)\n",
    "rd['job_title'].replace('CEO', 'Sócio / CEO', inplace=True)\n",
    "rd.loc[rd['job_title'].str.contains('ceo'), 'job_title'] = 'Sócio / CEO'\n",
    "rd.loc[rd['job_title'].str.contains('Ceo'), 'job_title'] = 'Sócio / CEO'\n",
    "rd.loc[rd['job_title'].str.contains('CEO'), 'job_title'] = 'Sócio / CEO'\n",
    "rd.loc[rd['job_title'].str.contains('Sócio'), 'job_title'] = 'Sócio / CEO'\n",
    "rd.loc[rd['job_title'].str.contains('sócio'), 'job_title'] = 'Sócio / CEO'\n",
    "rd.loc[rd['job_title'].str.contains('SÓCIO'), 'job_title'] = 'Sócio / CEO'\n",
    "rd.loc[rd['job_title'].str.contains('Socio'), 'job_title'] = 'Sócio / CEO'\n",
    "rd.loc[rd['job_title'].str.contains('socio'), 'job_title'] = 'Sócio / CEO'\n",
    "rd.loc[rd['job_title'].str.contains('SOCIO'), 'job_title'] = 'Sócio / CEO'\n",
    "rd.loc[rd['job_title'].str.contains('SÛcio'), 'job_title'] = 'Sócio / CEO'\n",
    "rd.loc[rd['job_title'].str.contains('Dono'), 'job_title'] = 'Sócio / CEO'\n",
    "rd.loc[rd['job_title'].str.contains('Owner'), 'job_title'] = 'Sócio / CEO'\n",
    "rd.loc[rd['job_title'].str.contains('Founder'), 'job_title'] = 'Sócio / CEO'\n",
    "rd.loc[rd['job_title'].str.contains('founder'), 'job_title'] = 'Sócio / CEO'\n",
    "rd.loc[rd['job_title'].str.contains('Proprietário'), 'job_title'] = 'Sócio / CEO'\n",
    "rd.loc[rd['job_title'].str.contains('Propietário'), 'job_title'] = 'Sócio / CEO'\n",
    "rd.loc[rd['job_title'].str.contains('Presidente'), 'job_title'] = 'Sócio / CEO'\n",
    "rd.loc[rd['job_title'].str.contains('presidente'), 'job_title'] = 'Sócio / CEO'\n",
    "\n",
    "#Diretor\n",
    "rd['job_title'].replace('Diretor Comercial', 'Diretor', inplace=True)\n",
    "rd.loc[rd['job_title'].str.contains('Diretor'), 'job_title'] = 'Diretor'\n",
    "rd.loc[rd['job_title'].str.contains('DIRETOR'), 'job_title'] = 'Diretor'\n",
    "rd.loc[rd['job_title'].str.contains('diretor'), 'job_title'] = 'Diretor'\n",
    "\n",
    "#gerente\n",
    "rd['job_title'].replace('Gerente de Vendas', 'Gerente', inplace=True)\n",
    "rd['job_title'].replace('Gestor de Vendas', 'Gerente', inplace=True)\n",
    "rd['job_title'].replace('Gestor de Marketing', 'Gerente', inplace=True)\n",
    "rd.loc[rd['job_title'].str.contains('Gerente'), 'job_title'] = 'Gerente'\n",
    "rd.loc[rd['job_title'].str.contains('gerente'), 'job_title'] = 'Gerente'\n",
    "rd.loc[rd['job_title'].str.contains('GERENTE'), 'job_title'] = 'Gerente'\n",
    "rd.loc[rd['job_title'].str.contains('Responsável'), 'job_title'] = 'Gerente'\n",
    "rd.loc[rd['job_title'].str.contains('GESTOR'), 'job_title'] = 'Gerente'\n",
    "rd.loc[rd['job_title'].str.contains('gestor'), 'job_title'] = 'Gerente'\n",
    "rd.loc[rd['job_title'].str.contains('Gestor'), 'job_title'] = 'Gerente'\n",
    "\n",
    "\n",
    "#vendedor / atendente\n",
    "rd['job_title'].replace('vendedor', 'Vendedor / atendente', inplace=True)\n",
    "rd['job_title'].replace('Atendente', 'Vendedor / atendente', inplace=True)\n",
    "rd['job_title'].replace('Vendedor Externo', 'Vendedor / atendente', inplace=True)\n",
    "rd['job_title'].replace('Vendedor Interno', 'Vendedor / atendente', inplace=True)\n",
    "\n",
    "#analista\n",
    "rd.loc[rd['job_title'].str.contains('Analista'), 'job_title'] = 'Analista'\n",
    "rd.loc[rd['job_title'].str.contains('analista'), 'job_title'] = 'Analista'\n",
    "rd.loc[rd['job_title'].str.contains('ANALISTA'), 'job_title'] = 'Analista'\n",
    "\n",
    "#Coordenador\n",
    "rd.loc[rd['job_title'].str.contains('Coordenador'), 'job_title'] = 'Coordenador'\n",
    "rd.loc[rd['job_title'].str.contains('coordenador'), 'job_title'] = 'Coordenador'\n",
    "rd.loc[rd['job_title'].str.contains('COORDENADOR'), 'job_title'] = 'Coordenador'"
   ]
  },
  {
   "cell_type": "code",
   "execution_count": 11,
   "metadata": {
    "collapsed": true
   },
   "outputs": [],
   "source": [
    "#Somar Todos os valores abaixo de 15 para Outros Cargos\n",
    "g = rd.groupby('job_title')\n",
    "g.filter(lambda x: len(x) <= 15)\n",
    "rd.loc[g['job_title'].transform(lambda x: len(x) <= 15).astype(bool), 'job_title'] = 'Outros Cargos'"
   ]
  },
  {
   "cell_type": "code",
   "execution_count": 12,
   "metadata": {
    "collapsed": true
   },
   "outputs": [],
   "source": [
    "#remover '/' dos eventos\n",
    "rd.event.replace(regex=True,inplace=True,to_replace=r'/',value=r'')"
   ]
  },
  {
   "cell_type": "code",
   "execution_count": 13,
   "metadata": {
    "collapsed": true
   },
   "outputs": [],
   "source": [
    "#Substituir medium de Social para Facebook ou LinkedIn\n",
    "rd.rd_medium.replace('Social', rd.rd_source, inplace=True)\n",
    "\n",
    "#Substituir Desconhecido para utm_medium\n",
    "rd.rd_medium.replace('Desconhecido', rd.utm_medium, inplace=True)"
   ]
  },
  {
   "cell_type": "code",
   "execution_count": 14,
   "metadata": {
    "collapsed": true
   },
   "outputs": [],
   "source": [
    "#substituir valores de utm_medium para o padrão RD\n",
    "rd.rd_medium.replace('social', rd.utm_source, inplace=True)"
   ]
  },
  {
   "cell_type": "code",
   "execution_count": 15,
   "metadata": {
    "collapsed": true
   },
   "outputs": [],
   "source": [
    "#substituir valores para grupos maiores\n",
    "rd.rd_medium.replace('cpc', 'Busca Paga', inplace=True)\n",
    "rd.rd_medium.replace('organic', 'Busca Orgânica', inplace=True)\n",
    "rd.rd_medium.replace('email', 'Email', inplace=True)\n",
    "rd.rd_medium.replace('cpc', 'Busca Paga', inplace=True)\n",
    "rd.rd_medium.replace('facebook', 'Facebook', inplace=True)\n",
    "rd.rd_medium.replace('referral', 'Referência', inplace=True)\n",
    "rd.rd_medium.replace('linkedin', 'LinkedIn', inplace=True)\n",
    "rd.rd_medium.replace('Facebook Ads', 'Facebook', inplace=True)\n",
    "rd.rd_medium.replace('n/a', 'Desconhecido', inplace=True)\n",
    "rd.rd_medium.replace('none', 'Desconhecido', inplace=True)\n",
    "rd.rd_medium.replace('banner-blog', 'Desconhecido', inplace=True)\n",
    "rd.rd_medium.replace('blog', 'Desconhecido', inplace=True)\n",
    "rd.rd_medium.replace('Instagram', 'Desconhecido', inplace=True)\n",
    "rd.rd_medium.replace('link-site', 'Desconhecido', inplace=True)\n",
    "rd.rd_medium.replace('button-site', 'Desconhecido', inplace=True)\n",
    "rd.rd_medium.replace('Twitter', 'Desconhecido', inplace=True)\n",
    "rd.rd_medium.replace('Pinterest', 'Desconhecido', inplace=True)\n",
    "rd.rd_medium.replace('Partner', 'Email', inplace=True)\n",
    "rd.rd_medium.replace('link-blog', 'Email', inplace=True)\n",
    "rd.rd_medium.replace('Blogger', 'Email', inplace=True)"
   ]
  },
  {
   "cell_type": "code",
   "execution_count": 16,
   "metadata": {
    "collapsed": true
   },
   "outputs": [],
   "source": [
    "rd.rd_medium.fillna('Desconhecido', inplace=True)"
   ]
  },
  {
   "cell_type": "markdown",
   "metadata": {},
   "source": [
    "1) a) Eventos"
   ]
  },
  {
   "cell_type": "code",
   "execution_count": 17,
   "metadata": {
    "collapsed": true
   },
   "outputs": [],
   "source": [
    "events = pd.read_excel('events 2.xlsx')"
   ]
  },
  {
   "cell_type": "code",
   "execution_count": 18,
   "metadata": {
    "collapsed": true
   },
   "outputs": [],
   "source": [
    "#dropar a coluna ID\n",
    "events.drop('ID', axis=1, inplace=True)"
   ]
  },
  {
   "cell_type": "code",
   "execution_count": 19,
   "metadata": {
    "collapsed": true
   },
   "outputs": [],
   "source": [
    "#criar uma coluna na base RD com a classificação dos materiais\n",
    "rd = rd.merge(events, how='left', on=\"event\")"
   ]
  },
  {
   "cell_type": "markdown",
   "metadata": {},
   "source": [
    "2) Exact Sales"
   ]
  },
  {
   "cell_type": "code",
   "execution_count": 20,
   "metadata": {
    "collapsed": true
   },
   "outputs": [],
   "source": [
    "#Dropar todas as colunas que não possuem nenhuma informação\n",
    "exact = exact.dropna(axis=1, how='all')\n",
    "\n",
    "#Dropar as colunas que não necessitam para a análise\n",
    "exact.drop(labels=['Nome da Empresa', 'Dt. Venda', 'Dt. Última Atualização',\\\n",
    "       'Mercado', 'Produto', 'Site', 'Data Descarte', 'LinkMarketing', 'Motivo descarte',\\\n",
    "       'País', 'Estado', 'Cidade', 'Telefone 1', 'Telefone 2', 'Observação',\\\n",
    "       'utm_campaign', 'utm_source', 'utm_medium',\\\n",
    "       'Dores Lead', 'Produtos Sugeridos', 'Produtos Vendidos','Cargo Contato 1',\\\n",
    "       'Telefone 1 Contato 1', 'Telefone 2 Contato 1', 'Nome Contato 2',\\\n",
    "       'E-mail Contato 2', 'Cargo Contato 2', 'Telefone 1 Contato 2',\\\n",
    "       'Telefone 2 Contato 2', 'Nome Contato 3', 'E-mail Contato 3','Nome Contato 1',\\\n",
    "       'Cargo Contato 3', 'Telefone 1 Contato 3', 'E-mail Pré-vendedor', \\\n",
    "        'Telefone 2 Contato 3', 'Dt. Último Resgate'], axis=1, inplace=True)"
   ]
  },
  {
   "cell_type": "code",
   "execution_count": 21,
   "metadata": {
    "collapsed": true
   },
   "outputs": [],
   "source": [
    "## Ajuste das datas para padrão d/m/Y\n",
    "\n",
    "#create date\n",
    "exact['Data de Criação'] = pd.to_datetime(exact['Data de Criação'], format='%d/%m/%Y')\n",
    "\n",
    "#booking date\n",
    "exact['Dt. Agend. reunião'] = exact['Dt. Agend. reunião'].str.split(' ').str[0]\n",
    "exact['Dt. Agend. reunião'] = pd.to_datetime(exact['Dt. Agend. reunião'], format='%d/%m/%Y')\n",
    "\n",
    "#meeting date\n",
    "exact['Dt. Reunião'] = exact['Dt. Reunião'].str.split(' ').str[0]\n",
    "exact['Dt. Reunião'] = pd.to_datetime(exact['Dt. Reunião'], format='%d/%m/%Y')\n",
    "\n",
    "#feedback date\n",
    "exact['Dt. Preenc. Feedback'] = exact['Dt. Preenc. Feedback'].str.split(' ').str[0]\n",
    "exact['Dt. Preenc. Feedback'] = pd.to_datetime(exact['Dt. Preenc. Feedback'], format='%d/%m/%Y')\n",
    "\n",
    "#filter 1 date\n",
    "exact['Dt. Filtro 1'] = exact['Dt. Filtro 1'].str.split(' ').str[0]\n",
    "exact['Dt. Filtro 1'] = pd.to_datetime(exact['Dt. Filtro 1'], format='%d/%m/%Y')\n",
    "\n",
    "#filter 2 date\n",
    "exact['Dt. Filtro 2'] = exact['Dt. Filtro 2'].str.split(' ').str[0]\n",
    "exact['Dt. Filtro 2'] = pd.to_datetime(exact['Dt. Filtro 2'], format='%d/%m/%Y')"
   ]
  },
  {
   "cell_type": "code",
   "execution_count": 22,
   "metadata": {
    "collapsed": true
   },
   "outputs": [],
   "source": [
    "#Renomear as colunas\n",
    "#renomear as colunas\n",
    "exact = exact.rename(index=str, columns={'Data de Criação':'qualified_date', 'Origem': 'type',\\\n",
    "                                        'Sub-Origem': 'sub_type', 'Etapa Atual': 'stage', \\\n",
    "                                        'Pontuação': 'score', 'Dt. Agend. reunião': 'scheduling_date',\\\n",
    "                                        'Dt. Reunião': 'meeting_date', 'Qualificação Feedback': 'feedback_score',\\\n",
    "                                        'Dt. Preenc. Feedback': 'feedback_date', 'Etapa Descarte': 'lost_stage',\\\n",
    "                                        'Data Descarte': 'lost_date', \\\n",
    "                                        'Nome do Vendedor': 'salesperson', 'Nome Pré-Vendedor':'sdr',\\\n",
    "                                        'E-mail Contato 1': 'email', 'Qualificação Filtro 1': 'filter1_score',\\\n",
    "                                        'Qualificação Filtro 2': 'filter2_score', 'Dt. Filtro 1' : 'filter1_date',\\\n",
    "                                        'Dt. Filtro 2': 'filter2_date'})"
   ]
  },
  {
   "cell_type": "code",
   "execution_count": 23,
   "metadata": {
    "collapsed": true
   },
   "outputs": [],
   "source": [
    "##replaces de salespearson e sdr\n",
    "exact.salesperson.replace('Artur Mendes', 'artur', inplace=True)\n",
    "exact.salesperson.replace('Juliana Brito', 'juliana', inplace=True)\n",
    "exact.salesperson.replace('Daniela Degaspare', 'outros', inplace=True)\n",
    "exact.salesperson.replace('Rodrigo Ricco', 'outros', inplace=True)\n",
    "\n",
    "#sdr\n",
    "exact.sdr.replace('Israel Rodrigues', 'israel', inplace=True)\n",
    "exact.sdr.replace('Artur Pré-Venda', 'artur', inplace=True)\n",
    "exact.sdr.replace('Juliana Pré-Vendas', 'juliana', inplace=True)\n",
    "exact.sdr.replace('Alessandra Dias', 'outros', inplace=True)\n",
    "exact.sdr.replace('Flavia Lima', 'flavia', inplace=True)\n",
    "exact.sdr.replace('Daniela Pré-Vendas', 'outros', inplace=True)"
   ]
  },
  {
   "cell_type": "code",
   "execution_count": 24,
   "metadata": {
    "collapsed": true
   },
   "outputs": [],
   "source": [
    "##normalizar as datas\n",
    "exact['qualified_date'] = pd.DatetimeIndex(exact['qualified_date']).normalize()\n",
    "exact['scheduling_date'] = pd.DatetimeIndex(exact['scheduling_date']).normalize()\n",
    "exact['meeting_date'] = pd.DatetimeIndex(exact['meeting_date']).normalize()\n",
    "exact['feedback_date'] = pd.DatetimeIndex(exact['feedback_date']).normalize()\n",
    "exact['filter1_date'] = pd.DatetimeIndex(exact['filter1_date']).normalize()\n",
    "exact['filter2_date'] = pd.DatetimeIndex(exact['filter2_date']).normalize()"
   ]
  },
  {
   "cell_type": "code",
   "execution_count": 25,
   "metadata": {
    "collapsed": true
   },
   "outputs": [],
   "source": [
    "##Score em números para facilitar o dataset\n",
    "\n",
    "#feedbackscore\n",
    "exact.feedback_score.replace('Muito Quente', 4, inplace=True)\n",
    "exact.feedback_score.replace('Quente', 3, inplace=True)\n",
    "exact.feedback_score.replace('Morna', 2, inplace=True)\n",
    "exact.feedback_score.replace('Fria', 1, inplace=True)\n",
    "exact.feedback_score.replace('Congelada', 0, inplace=True)\n",
    "\n",
    "#filter1\n",
    "exact.filter1_score.replace('Muito Quente', 4, inplace=True)\n",
    "exact.filter1_score.replace('Quente', 3, inplace=True)\n",
    "exact.filter1_score.replace('Morna', 2, inplace=True)\n",
    "exact.filter1_score.replace('Fria', 1, inplace=True)\n",
    "exact.filter1_score.replace('Congelada', 0, inplace=True)\n",
    "\n",
    "#filter2\n",
    "exact.filter2_score.replace('Muito Quente', 4, inplace=True)\n",
    "exact.filter2_score.replace('Quente', 3, inplace=True)\n",
    "exact.filter2_score.replace('Morna', 2, inplace=True)\n",
    "exact.filter2_score.replace('Fria', 1, inplace=True)\n",
    "exact.filter2_score.replace('Congelada', 0, inplace=True)"
   ]
  },
  {
   "cell_type": "code",
   "execution_count": 26,
   "metadata": {
    "collapsed": true
   },
   "outputs": [],
   "source": [
    "#Criar colunas para identificar até qual etapa de vendas o lead foi\n",
    "\n",
    "#entry, filter_one, filter_two, meeting, sales\n",
    "exact['entry'] = 1\n",
    "exact['filter_one'] = np.where(np.logical_or(np.isnan(exact.filter1_score),np.isnat(exact.filter1_date)), 0,1 )\n",
    "exact['filter_two'] = np.where(np.logical_or(np.isnan(exact.filter2_score),np.isnat(exact.filter2_date)), 0,1 )\n",
    "exact['meeting'] = np.where((np.isnan(exact.feedback_score)) & (np.isnat(exact.meeting_date)) & \\\n",
    "                            (np.isnat(exact.feedback_date)),0,1)"
   ]
  },
  {
   "cell_type": "code",
   "execution_count": 27,
   "metadata": {
    "collapsed": true
   },
   "outputs": [],
   "source": [
    "#dropar os estágios\n",
    "exact.drop(labels=['stage', 'lost_stage'], axis=1, inplace=True)"
   ]
  },
  {
   "cell_type": "code",
   "execution_count": 28,
   "metadata": {
    "collapsed": true
   },
   "outputs": [],
   "source": [
    "#tempo entre etapas até o agendamento\n",
    "exact['time_to_filter1'] = ((exact.filter1_date - exact.qualified_date) / np.timedelta64(1, 'D'))\n",
    "exact.time_to_filter1 = exact.time_to_filter1.fillna(0)\n",
    "exact['time_to_filter2'] = ((exact.filter2_date - exact.filter1_date) / np.timedelta64(1, 'D'))\n",
    "exact.time_to_filter2 = exact.time_to_filter2.fillna(0)\n",
    "exact['time_to_meeting'] = ((exact.meeting_date - exact.filter2_date) / np.timedelta64(1, 'D'))\n",
    "exact.time_to_meeting = exact.time_to_meeting.fillna(0)\n",
    "exact['time_qualified_to_meeting'] = ((exact.meeting_date - exact.qualified_date) / np.timedelta64(1, 'D'))\n",
    "exact.time_qualified_to_meeting = exact.time_qualified_to_meeting.fillna(0)"
   ]
  },
  {
   "cell_type": "code",
   "execution_count": 29,
   "metadata": {
    "collapsed": true
   },
   "outputs": [],
   "source": [
    "#dropar as datas\n",
    "exact.drop(labels=['scheduling_date', 'meeting_date', 'feedback_date', 'filter1_date', 'filter2_date'], axis=1, inplace=True)"
   ]
  },
  {
   "cell_type": "code",
   "execution_count": 30,
   "metadata": {
    "collapsed": true
   },
   "outputs": [],
   "source": [
    "#Organizar as colunas na melhor ordem de trabalho\n",
    "exact = exact[['email', 'qualified_date', 'type', 'sub_type', 'sdr', \\\n",
    "              'salesperson', 'score', 'filter1_score', 'filter2_score', \\\n",
    "              'feedback_score', 'entry', 'filter_one','time_to_filter1',\\\n",
    "               'filter_two','time_to_filter2', 'meeting', 'time_to_meeting', 'time_qualified_to_meeting']]"
   ]
  },
  {
   "cell_type": "code",
   "execution_count": 31,
   "metadata": {
    "collapsed": true
   },
   "outputs": [],
   "source": [
    "#dropar linhas que não possuem emails\n",
    "exact.dropna(subset=['email'], inplace=True)"
   ]
  },
  {
   "cell_type": "markdown",
   "metadata": {},
   "source": [
    "3) Dataset"
   ]
  },
  {
   "cell_type": "code",
   "execution_count": 32,
   "metadata": {
    "scrolled": true
   },
   "outputs": [],
   "source": [
    "#hard time: criar coluna de tofu, mofu e bofu antes de virar MQL\n",
    "\n",
    "#etapa 1: subir uma coluna com a data de envio do lead para o time de vendas\n",
    "#etapa 2: criar uma tabela separada da 'rd' com os e-mails únicos\n",
    "#etapa 3: conseguir filtrar, para cada lead, a data de corte para contagem das conversões\n",
    "\n",
    "#etapa 1\n",
    "exact_create_date = exact[['email', 'qualified_date', 'type']]\n",
    "\n",
    "es_qualified_date = exact_create_date.drop_duplicates('email', keep='first').set_index('email')['qualified_date']\n",
    "rd['qualified_date'] = rd['email'].map(es_qualified_date)\n",
    "\n",
    "es_type = exact_create_date.drop_duplicates('email', keep='first').set_index('email')['type']\n",
    "rd['type'] = rd['email'].map(es_type)\n",
    "\n",
    "\n",
    "#etapa 1a) criar dummies\n",
    "rd = pd.get_dummies(rd, columns=['funnel'], drop_first=False)\n",
    "\n",
    "#etapa 2\n",
    "rd2 = rd.copy()\n",
    "\n",
    "# filtrar conversões acima da data de qualificação\n",
    "rd2['qualified-conv-date'] = ((rd2.qualified_date - rd2.conv_date) / np.timedelta64(1, 'D'))\n",
    "rd2['qualified-conv-date'] = rd2['qualified-conv-date'].fillna(0)\n",
    "\n",
    "#base\n",
    "rd2 = rd2[rd2['qualified-conv-date'] >= 0]\n",
    "rd2 = rd2[rd2['event'] != 'IntegracaoExact']\n",
    "\n",
    "#somar conversões por etapa do funil\n",
    "rd2['freq_tofu'] = rd2.groupby('email')['funnel_ToFu'].transform('sum')\n",
    "rd2['freq_mofu'] = rd2.groupby('email')['funnel_MoFu'].transform('sum')\n",
    "rd2['freq_bofu'] = rd2.groupby('email')['funnel_BoFu'].transform('sum')\n",
    "\n",
    "#drop nas colunas que não interessam (mantendo as colunas que interessam)\n",
    "rd2 = rd2[['email', 'freq_tofu', 'freq_mofu', 'freq_bofu']]\n",
    "\n",
    "#incluir os dados na tabela rd\n",
    "rd_tofu = rd2.drop_duplicates('email', keep='first').set_index('email')['freq_tofu']\n",
    "rd['freq_tofu'] = rd['email'].map(rd_tofu)\n",
    "\n",
    "rd_mofu = rd2.drop_duplicates('email', keep='first').set_index('email')['freq_mofu']\n",
    "rd['freq_mofu'] = rd['email'].map(rd_mofu)\n",
    "\n",
    "rd_bofu = rd2.drop_duplicates('email', keep='first').set_index('email')['freq_bofu']\n",
    "rd['freq_bofu'] = rd['email'].map(rd_bofu)\n",
    "\n",
    "#excluindo eventos de integraçãoExact\n",
    "rd = rd[rd['event'] != 'IntegracaoExact']\n",
    "rd['qualified-conv-date'] = ((rd.qualified_date - rd.conv_date) / np.timedelta64(1, 'D'))\n",
    "rd['qualified-conv-date'] = rd['qualified-conv-date'].fillna(0)"
   ]
  },
  {
   "cell_type": "code",
   "execution_count": 33,
   "metadata": {},
   "outputs": [
    {
     "name": "stderr",
     "output_type": "stream",
     "text": [
      "C:\\Users\\Vitor.Souza\\Documents\\anaconda3\\lib\\site-packages\\ipykernel_launcher.py:7: SettingWithCopyWarning: \n",
      "A value is trying to be set on a copy of a slice from a DataFrame\n",
      "\n",
      "See the caveats in the documentation: http://pandas.pydata.org/pandas-docs/stable/indexing.html#indexing-view-versus-copy\n",
      "  import sys\n",
      "C:\\Users\\Vitor.Souza\\Documents\\anaconda3\\lib\\site-packages\\ipykernel_launcher.py:13: SettingWithCopyWarning: \n",
      "A value is trying to be set on a copy of a slice from a DataFrame\n",
      "\n",
      "See the caveats in the documentation: http://pandas.pydata.org/pandas-docs/stable/indexing.html#indexing-view-versus-copy\n",
      "  del sys.path[0]\n",
      "C:\\Users\\Vitor.Souza\\Documents\\anaconda3\\lib\\site-packages\\ipykernel_launcher.py:19: SettingWithCopyWarning: \n",
      "A value is trying to be set on a copy of a slice from a DataFrame\n",
      "\n",
      "See the caveats in the documentation: http://pandas.pydata.org/pandas-docs/stable/indexing.html#indexing-view-versus-copy\n",
      "C:\\Users\\Vitor.Souza\\Documents\\anaconda3\\lib\\site-packages\\ipykernel_launcher.py:25: SettingWithCopyWarning: \n",
      "A value is trying to be set on a copy of a slice from a DataFrame\n",
      "\n",
      "See the caveats in the documentation: http://pandas.pydata.org/pandas-docs/stable/indexing.html#indexing-view-versus-copy\n",
      "C:\\Users\\Vitor.Souza\\Documents\\anaconda3\\lib\\site-packages\\ipykernel_launcher.py:31: SettingWithCopyWarning: \n",
      "A value is trying to be set on a copy of a slice from a DataFrame\n",
      "\n",
      "See the caveats in the documentation: http://pandas.pydata.org/pandas-docs/stable/indexing.html#indexing-view-versus-copy\n",
      "C:\\Users\\Vitor.Souza\\Documents\\anaconda3\\lib\\site-packages\\ipykernel_launcher.py:37: SettingWithCopyWarning: \n",
      "A value is trying to be set on a copy of a slice from a DataFrame\n",
      "\n",
      "See the caveats in the documentation: http://pandas.pydata.org/pandas-docs/stable/indexing.html#indexing-view-versus-copy\n",
      "C:\\Users\\Vitor.Souza\\Documents\\anaconda3\\lib\\site-packages\\ipykernel_launcher.py:43: SettingWithCopyWarning: \n",
      "A value is trying to be set on a copy of a slice from a DataFrame\n",
      "\n",
      "See the caveats in the documentation: http://pandas.pydata.org/pandas-docs/stable/indexing.html#indexing-view-versus-copy\n",
      "C:\\Users\\Vitor.Souza\\Documents\\anaconda3\\lib\\site-packages\\ipykernel_launcher.py:49: SettingWithCopyWarning: \n",
      "A value is trying to be set on a copy of a slice from a DataFrame\n",
      "\n",
      "See the caveats in the documentation: http://pandas.pydata.org/pandas-docs/stable/indexing.html#indexing-view-versus-copy\n",
      "C:\\Users\\Vitor.Souza\\Documents\\anaconda3\\lib\\site-packages\\ipykernel_launcher.py:55: SettingWithCopyWarning: \n",
      "A value is trying to be set on a copy of a slice from a DataFrame\n",
      "\n",
      "See the caveats in the documentation: http://pandas.pydata.org/pandas-docs/stable/indexing.html#indexing-view-versus-copy\n",
      "C:\\Users\\Vitor.Souza\\Documents\\anaconda3\\lib\\site-packages\\ipykernel_launcher.py:61: SettingWithCopyWarning: \n",
      "A value is trying to be set on a copy of a slice from a DataFrame\n",
      "\n",
      "See the caveats in the documentation: http://pandas.pydata.org/pandas-docs/stable/indexing.html#indexing-view-versus-copy\n"
     ]
    }
   ],
   "source": [
    "#colunas de management, job_title e outras classificações que podem vir em outras conversões\n",
    "rd3 = rd.copy()\n",
    "rd3 = rd3.sort_values(by=['conv_date'], ascending=True)\n",
    "\n",
    "#site\n",
    "rd_site = rd3[['email', 'site']]\n",
    "rd_site.dropna(axis=0, how='any', inplace=True)\n",
    "rd_site = rd_site.drop_duplicates('email', keep='first').set_index('email')['site']\n",
    "rd['site'] = rd['email'].map(rd_site)\n",
    "\n",
    "#utm_campaign\n",
    "rd_utm_campaign = rd3[['email', 'utm_campaign']]\n",
    "rd_utm_campaign.dropna(axis=0, how='any', inplace=True)\n",
    "rd_utm_campaign = rd_utm_campaign.drop_duplicates('email', keep='first').set_index('email')['utm_campaign']\n",
    "rd['utm_campaign'] = rd['email'].map(rd_utm_campaign)\n",
    "\n",
    "#utm_medium\n",
    "rd_utm_medium = rd3[['email', 'utm_medium']]\n",
    "rd_utm_medium.dropna(axis=0, how='any', inplace=True)\n",
    "rd_utm_medium = rd_utm_medium.drop_duplicates('email', keep='first').set_index('email')['utm_medium']\n",
    "rd['utm_medium'] = rd['email'].map(rd_utm_medium)\n",
    "\n",
    "#utm_source\n",
    "rd_utm_source = rd3[['email', 'utm_source']]\n",
    "rd_utm_source.dropna(axis=0, how='any', inplace=True)\n",
    "rd_utm_source = rd_utm_source.drop_duplicates('email', keep='first').set_index('email')['utm_source']\n",
    "rd['utm_source'] = rd['email'].map(rd_utm_source)\n",
    "\n",
    "#rd_medium\n",
    "rd_rd_medium = rd3[['email', 'rd_medium']]\n",
    "rd_rd_medium.dropna(axis=0, how='any', inplace=True)\n",
    "rd_rd_medium = rd_rd_medium.drop_duplicates('email', keep='first').set_index('email')['rd_medium']\n",
    "rd['rd_medium'] = rd['email'].map(rd_rd_medium)\n",
    "\n",
    "#rd_source\n",
    "rd_rd_source = rd3[['email', 'rd_source']]\n",
    "rd_rd_source.dropna(axis=0, how='any', inplace=True)\n",
    "rd_rd_source = rd_rd_source.drop_duplicates('email', keep='first').set_index('email')['rd_source']\n",
    "rd['rd_source'] = rd['email'].map(rd_rd_source)\n",
    "\n",
    "#department\n",
    "rd_department = rd3[['email', 'department']]\n",
    "rd_department.dropna(axis=0, how='any', inplace=True)\n",
    "rd_department = rd_department.drop_duplicates('email', keep='first').set_index('email')['department']\n",
    "rd['department'] = rd['email'].map(rd_department)\n",
    "\n",
    "#n_employees\n",
    "rd_n_employees = rd3[['email', 'n_employees']]\n",
    "rd_n_employees.dropna(axis=0, how='any', inplace=True)\n",
    "rd_n_employees = rd_n_employees.drop_duplicates('email', keep='first').set_index('email')['n_employees']\n",
    "rd['n_employees'] = rd['email'].map(rd_n_employees)\n",
    "\n",
    "#management\n",
    "rd_management = rd3[['email', 'management']]\n",
    "rd_management.dropna(axis=0, how='any', inplace=True)\n",
    "rd_management = rd_management.drop_duplicates('email', keep='first').set_index('email')['management']\n",
    "rd['management'] = rd['email'].map(rd_management)\n",
    "\n",
    "#job_title\n",
    "rd_job_title = rd3[['email', 'job_title']]\n",
    "rd_job_title.dropna(axis=0, how='any', inplace=True)\n",
    "rd_job_title = rd_job_title.drop_duplicates('email', keep='first').set_index('email')['job_title']\n",
    "rd['job_title'] = rd['email'].map(rd_job_title)"
   ]
  },
  {
   "cell_type": "code",
   "execution_count": 34,
   "metadata": {},
   "outputs": [],
   "source": [
    "#validação do email (corporativo ou não)\n",
    "\n",
    "#load da base\n",
    "free_domain = pd.read_csv('data/free_domain_list.csv', sep=',')\n",
    "\n",
    "#criar coluna categórica (0 para free e 1 para diferente da free)\n",
    "free_domain['domain_type'] = 0"
   ]
  },
  {
   "cell_type": "code",
   "execution_count": 35,
   "metadata": {},
   "outputs": [],
   "source": [
    "#criar uma coluna com domain\n",
    "rd['email_domain'] = rd['email'].str.split('@').str[1]\n",
    "rd['email_domain'] = rd['email_domain'].str.strip()"
   ]
  },
  {
   "cell_type": "code",
   "execution_count": 36,
   "metadata": {
    "collapsed": true
   },
   "outputs": [],
   "source": [
    "#puxar os dados da tabela free_domain\n",
    "rd_free_domain = free_domain.drop_duplicates('domain', keep='first').set_index('domain')['domain_type']\n",
    "rd['email_domain_type'] = rd['email_domain'].map(rd_free_domain)"
   ]
  },
  {
   "cell_type": "code",
   "execution_count": 37,
   "metadata": {},
   "outputs": [],
   "source": [
    "#preencher com 1 os valores vazios\n",
    "rd.email_domain_type.fillna(1, inplace=True)"
   ]
  },
  {
   "cell_type": "code",
   "execution_count": 38,
   "metadata": {
    "collapsed": true
   },
   "outputs": [],
   "source": [
    "#finalizando o dataset\n",
    "final = rd.copy()\n",
    "final = final.sort_values(by=['conv_date'], ascending=True)"
   ]
  },
  {
   "cell_type": "code",
   "execution_count": 39,
   "metadata": {
    "collapsed": true
   },
   "outputs": [],
   "source": [
    "#dropar colnunas que não entrarão na análise\n",
    "final.drop(labels=['company_name', 'name', 'phone', 'utm_campaign', 'utm_medium', \\\n",
    "                  'utm_source', 'utm_content', 'utm_term', 'rd_source', 'funnel_BoFu', \\\n",
    "                  'funnel_MoFu', 'funnel_ToFu', 'funnel_outros', 'site'], axis=1, inplace=True)"
   ]
  },
  {
   "cell_type": "code",
   "execution_count": 40,
   "metadata": {
    "collapsed": true
   },
   "outputs": [],
   "source": [
    "#etapa 5: criar uma tabela com e-mails únicos\n",
    "df = final.drop_duplicates(subset='email', keep='first').reset_index()\n",
    "df.drop(labels=['index'], axis=1, inplace=True)"
   ]
  },
  {
   "cell_type": "markdown",
   "metadata": {},
   "source": [
    "### Tratar missing"
   ]
  },
  {
   "cell_type": "code",
   "execution_count": 41,
   "metadata": {},
   "outputs": [
    {
     "name": "stdout",
     "output_type": "stream",
     "text": [
      "department\n",
      "78.241335\n",
      "management\n",
      "87.195122\n",
      "qualified_date\n",
      "84.682743\n",
      "type\n",
      "84.682743\n"
     ]
    }
   ],
   "source": [
    "#iteração para entender quais classes possuem uma porcentagem grande de NaN. Usamos como corte, 10% da base.\n",
    "for i in range(0,len(df.columns)):\n",
    "    name = df.columns[i]\n",
    "    percentage = ((df[df.columns[i]].isnull().sum() / (df[df.columns[i]].count() + df[df.columns[i]].isnull().sum()) ) * 100)\n",
    "    if percentage > 10:\n",
    "        print(name)\n",
    "        print('%f' % ((df[df.columns[i]].isnull().sum() / (df[df.columns[i]].count() + df[df.columns[i]].isnull().sum()) ) * 100))"
   ]
  },
  {
   "cell_type": "code",
   "execution_count": null,
   "metadata": {},
   "outputs": [],
   "source": [
    "#função para preencher dados com knn\n",
    "%run knn_impute.py"
   ]
  },
  {
   "cell_type": "code",
   "execution_count": null,
   "metadata": {
    "scrolled": false
   },
   "outputs": [
    {
     "name": "stderr",
     "output_type": "stream",
     "text": [
      "C:\\Users\\Vitor.Souza\\Documents\\anaconda3\\lib\\site-packages\\pandas\\core\\generic.py:3660: SettingWithCopyWarning: \n",
      "A value is trying to be set on a copy of a slice from a DataFrame\n",
      "\n",
      "See the caveats in the documentation: http://pandas.pydata.org/pandas-docs/stable/indexing.html#indexing-view-versus-copy\n",
      "  self._update_inplace(new_data)\n"
     ]
    }
   ],
   "source": [
    "#tratar management e department pq são campos que ainda são recentes e potenciais ajustes podem melhorar o modelo\n",
    "knn_impute(target=df['department'], attributes=df.drop(['department', 'management', 'qualified_date', 'type'], 1),\n",
    "                                    aggregation_method=\"mode\", k_neighbors=5, numeric_distance='euclidean',\n",
    "                                    categorical_distance='hamming', missing_neighbors_threshold=0.8)"
   ]
  },
  {
   "cell_type": "code",
   "execution_count": null,
   "metadata": {
    "collapsed": true
   },
   "outputs": [],
   "source": [
    "#tratar management e department pq são campos que ainda são recentes e potenciais ajustes podem melhorar o modelo\n",
    "knn_impute(target=df['management'], attributes=df.drop(['department', 'management', 'qualified_date', 'type'], 1),\n",
    "                                    aggregation_method=\"mode\", k_neighbors=5, numeric_distance='euclidean',\n",
    "                                    categorical_distance='hamming', missing_neighbors_threshold=0.8)"
   ]
  }
 ],
 "metadata": {
  "kernelspec": {
   "display_name": "Python 3",
   "language": "python",
   "name": "python3"
  },
  "language_info": {
   "codemirror_mode": {
    "name": "ipython",
    "version": 3
   },
   "file_extension": ".py",
   "mimetype": "text/x-python",
   "name": "python",
   "nbconvert_exporter": "python",
   "pygments_lexer": "ipython3",
   "version": "3.6.2"
  }
 },
 "nbformat": 4,
 "nbformat_minor": 2
}
